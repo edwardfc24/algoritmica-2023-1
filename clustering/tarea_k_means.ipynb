{
 "cells": [
  {
   "cell_type": "code",
   "execution_count": 1,
   "metadata": {},
   "outputs": [],
   "source": [
    "from sklearn.cluster import KMeans\n",
    "\n",
    "import pandas as pd\n",
    "import matplotlib.pyplot as plt"
   ]
  },
  {
   "cell_type": "code",
   "execution_count": 2,
   "metadata": {},
   "outputs": [],
   "source": [
    "df = pd.read_csv('wholesale_customers.csv')"
   ]
  },
  {
   "cell_type": "code",
   "execution_count": 3,
   "metadata": {},
   "outputs": [
    {
     "data": {
      "text/html": [
       "<div>\n",
       "<style scoped>\n",
       "    .dataframe tbody tr th:only-of-type {\n",
       "        vertical-align: middle;\n",
       "    }\n",
       "\n",
       "    .dataframe tbody tr th {\n",
       "        vertical-align: top;\n",
       "    }\n",
       "\n",
       "    .dataframe thead th {\n",
       "        text-align: right;\n",
       "    }\n",
       "</style>\n",
       "<table border=\"1\" class=\"dataframe\">\n",
       "  <thead>\n",
       "    <tr style=\"text-align: right;\">\n",
       "      <th></th>\n",
       "      <th>Channel</th>\n",
       "      <th>Region</th>\n",
       "      <th>Fresh</th>\n",
       "      <th>Milk</th>\n",
       "      <th>Grocery</th>\n",
       "      <th>Frozen</th>\n",
       "      <th>Detergents_Paper</th>\n",
       "      <th>Delicassen</th>\n",
       "    </tr>\n",
       "  </thead>\n",
       "  <tbody>\n",
       "    <tr>\n",
       "      <th>0</th>\n",
       "      <td>2</td>\n",
       "      <td>3</td>\n",
       "      <td>12669</td>\n",
       "      <td>9656</td>\n",
       "      <td>7561</td>\n",
       "      <td>214</td>\n",
       "      <td>2674</td>\n",
       "      <td>1338</td>\n",
       "    </tr>\n",
       "    <tr>\n",
       "      <th>1</th>\n",
       "      <td>2</td>\n",
       "      <td>3</td>\n",
       "      <td>7057</td>\n",
       "      <td>9810</td>\n",
       "      <td>9568</td>\n",
       "      <td>1762</td>\n",
       "      <td>3293</td>\n",
       "      <td>1776</td>\n",
       "    </tr>\n",
       "    <tr>\n",
       "      <th>2</th>\n",
       "      <td>2</td>\n",
       "      <td>3</td>\n",
       "      <td>6353</td>\n",
       "      <td>8808</td>\n",
       "      <td>7684</td>\n",
       "      <td>2405</td>\n",
       "      <td>3516</td>\n",
       "      <td>7844</td>\n",
       "    </tr>\n",
       "    <tr>\n",
       "      <th>3</th>\n",
       "      <td>1</td>\n",
       "      <td>3</td>\n",
       "      <td>13265</td>\n",
       "      <td>1196</td>\n",
       "      <td>4221</td>\n",
       "      <td>6404</td>\n",
       "      <td>507</td>\n",
       "      <td>1788</td>\n",
       "    </tr>\n",
       "    <tr>\n",
       "      <th>4</th>\n",
       "      <td>2</td>\n",
       "      <td>3</td>\n",
       "      <td>22615</td>\n",
       "      <td>5410</td>\n",
       "      <td>7198</td>\n",
       "      <td>3915</td>\n",
       "      <td>1777</td>\n",
       "      <td>5185</td>\n",
       "    </tr>\n",
       "  </tbody>\n",
       "</table>\n",
       "</div>"
      ],
      "text/plain": [
       "   Channel  Region  Fresh  Milk  Grocery  Frozen  Detergents_Paper  Delicassen\n",
       "0        2       3  12669  9656     7561     214              2674        1338\n",
       "1        2       3   7057  9810     9568    1762              3293        1776\n",
       "2        2       3   6353  8808     7684    2405              3516        7844\n",
       "3        1       3  13265  1196     4221    6404               507        1788\n",
       "4        2       3  22615  5410     7198    3915              1777        5185"
      ]
     },
     "execution_count": 3,
     "metadata": {},
     "output_type": "execute_result"
    }
   ],
   "source": [
    "df.head()"
   ]
  },
  {
   "cell_type": "code",
   "execution_count": 4,
   "metadata": {},
   "outputs": [],
   "source": [
    "without_region = df.drop([\"Region\"], axis='columns')"
   ]
  },
  {
   "cell_type": "code",
   "execution_count": 33,
   "metadata": {},
   "outputs": [
    {
     "name": "stderr",
     "output_type": "stream",
     "text": [
      "c:\\Users\\Julian\\Desktop\\Algoritmica Avanzada\\clasificadores\\clasificador_env\\Lib\\site-packages\\sklearn\\cluster\\_kmeans.py:870: FutureWarning: The default value of `n_init` will change from 10 to 'auto' in 1.4. Set the value of `n_init` explicitly to suppress the warning\n",
      "  warnings.warn(\n"
     ]
    },
    {
     "data": {
      "text/html": [
       "<style>#sk-container-id-3 {color: black;background-color: white;}#sk-container-id-3 pre{padding: 0;}#sk-container-id-3 div.sk-toggleable {background-color: white;}#sk-container-id-3 label.sk-toggleable__label {cursor: pointer;display: block;width: 100%;margin-bottom: 0;padding: 0.3em;box-sizing: border-box;text-align: center;}#sk-container-id-3 label.sk-toggleable__label-arrow:before {content: \"▸\";float: left;margin-right: 0.25em;color: #696969;}#sk-container-id-3 label.sk-toggleable__label-arrow:hover:before {color: black;}#sk-container-id-3 div.sk-estimator:hover label.sk-toggleable__label-arrow:before {color: black;}#sk-container-id-3 div.sk-toggleable__content {max-height: 0;max-width: 0;overflow: hidden;text-align: left;background-color: #f0f8ff;}#sk-container-id-3 div.sk-toggleable__content pre {margin: 0.2em;color: black;border-radius: 0.25em;background-color: #f0f8ff;}#sk-container-id-3 input.sk-toggleable__control:checked~div.sk-toggleable__content {max-height: 200px;max-width: 100%;overflow: auto;}#sk-container-id-3 input.sk-toggleable__control:checked~label.sk-toggleable__label-arrow:before {content: \"▾\";}#sk-container-id-3 div.sk-estimator input.sk-toggleable__control:checked~label.sk-toggleable__label {background-color: #d4ebff;}#sk-container-id-3 div.sk-label input.sk-toggleable__control:checked~label.sk-toggleable__label {background-color: #d4ebff;}#sk-container-id-3 input.sk-hidden--visually {border: 0;clip: rect(1px 1px 1px 1px);clip: rect(1px, 1px, 1px, 1px);height: 1px;margin: -1px;overflow: hidden;padding: 0;position: absolute;width: 1px;}#sk-container-id-3 div.sk-estimator {font-family: monospace;background-color: #f0f8ff;border: 1px dotted black;border-radius: 0.25em;box-sizing: border-box;margin-bottom: 0.5em;}#sk-container-id-3 div.sk-estimator:hover {background-color: #d4ebff;}#sk-container-id-3 div.sk-parallel-item::after {content: \"\";width: 100%;border-bottom: 1px solid gray;flex-grow: 1;}#sk-container-id-3 div.sk-label:hover label.sk-toggleable__label {background-color: #d4ebff;}#sk-container-id-3 div.sk-serial::before {content: \"\";position: absolute;border-left: 1px solid gray;box-sizing: border-box;top: 0;bottom: 0;left: 50%;z-index: 0;}#sk-container-id-3 div.sk-serial {display: flex;flex-direction: column;align-items: center;background-color: white;padding-right: 0.2em;padding-left: 0.2em;position: relative;}#sk-container-id-3 div.sk-item {position: relative;z-index: 1;}#sk-container-id-3 div.sk-parallel {display: flex;align-items: stretch;justify-content: center;background-color: white;position: relative;}#sk-container-id-3 div.sk-item::before, #sk-container-id-3 div.sk-parallel-item::before {content: \"\";position: absolute;border-left: 1px solid gray;box-sizing: border-box;top: 0;bottom: 0;left: 50%;z-index: -1;}#sk-container-id-3 div.sk-parallel-item {display: flex;flex-direction: column;z-index: 1;position: relative;background-color: white;}#sk-container-id-3 div.sk-parallel-item:first-child::after {align-self: flex-end;width: 50%;}#sk-container-id-3 div.sk-parallel-item:last-child::after {align-self: flex-start;width: 50%;}#sk-container-id-3 div.sk-parallel-item:only-child::after {width: 0;}#sk-container-id-3 div.sk-dashed-wrapped {border: 1px dashed gray;margin: 0 0.4em 0.5em 0.4em;box-sizing: border-box;padding-bottom: 0.4em;background-color: white;}#sk-container-id-3 div.sk-label label {font-family: monospace;font-weight: bold;display: inline-block;line-height: 1.2em;}#sk-container-id-3 div.sk-label-container {text-align: center;}#sk-container-id-3 div.sk-container {/* jupyter's `normalize.less` sets `[hidden] { display: none; }` but bootstrap.min.css set `[hidden] { display: none !important; }` so we also need the `!important` here to be able to override the default hidden behavior on the sphinx rendered scikit-learn.org. See: https://github.com/scikit-learn/scikit-learn/issues/21755 */display: inline-block !important;position: relative;}#sk-container-id-3 div.sk-text-repr-fallback {display: none;}</style><div id=\"sk-container-id-3\" class=\"sk-top-container\"><div class=\"sk-text-repr-fallback\"><pre>KMeans()</pre><b>In a Jupyter environment, please rerun this cell to show the HTML representation or trust the notebook. <br />On GitHub, the HTML representation is unable to render, please try loading this page with nbviewer.org.</b></div><div class=\"sk-container\" hidden><div class=\"sk-item\"><div class=\"sk-estimator sk-toggleable\"><input class=\"sk-toggleable__control sk-hidden--visually\" id=\"sk-estimator-id-3\" type=\"checkbox\" checked><label for=\"sk-estimator-id-3\" class=\"sk-toggleable__label sk-toggleable__label-arrow\">KMeans</label><div class=\"sk-toggleable__content\"><pre>KMeans()</pre></div></div></div></div></div>"
      ],
      "text/plain": [
       "KMeans()"
      ]
     },
     "execution_count": 33,
     "metadata": {},
     "output_type": "execute_result"
    }
   ],
   "source": [
    "k_means_model = KMeans()\n",
    "k_means_model.fit(without_region)"
   ]
  },
  {
   "cell_type": "code",
   "execution_count": 34,
   "metadata": {},
   "outputs": [
    {
     "data": {
      "text/plain": [
       "array([0, 1, 1, 0, 0, 7, 0, 1, 7, 1, 1, 0, 5, 0, 5, 7, 1, 7, 0, 7, 0, 7,\n",
       "       5, 4, 0, 0, 7, 0, 4, 5, 0, 7, 0, 5, 7, 1, 5, 1, 1, 6, 0, 0, 1, 4,\n",
       "       1, 4, 4, 2, 1, 4, 7, 7, 5, 1, 5, 7, 4, 1, 0, 1, 7, 2, 7, 1, 7, 4,\n",
       "       7, 0, 7, 7, 0, 0, 7, 0, 1, 0, 7, 4, 7, 7, 7, 1, 1, 0, 0, 2, 2, 5,\n",
       "       7, 5, 0, 0, 4, 0, 1, 7, 7, 7, 7, 7, 1, 1, 1, 6, 0, 0, 1, 1, 1, 4,\n",
       "       0, 1, 0, 0, 0, 0, 0, 7, 0, 7, 0, 7, 0, 1, 5, 6, 0, 0, 7, 5, 7, 7,\n",
       "       0, 7, 7, 7, 1, 1, 0, 7, 0, 5, 5, 7, 0, 4, 7, 7, 7, 5, 0, 7, 0, 7,\n",
       "       7, 1, 1, 0, 1, 1, 1, 0, 0, 4, 1, 4, 1, 7, 7, 7, 1, 4, 7, 1, 7, 1,\n",
       "       5, 0, 0, 7, 0, 6, 1, 3, 7, 7, 7, 1, 1, 1, 0, 0, 7, 1, 7, 0, 5, 1,\n",
       "       0, 7, 4, 4, 5, 7, 7, 4, 7, 7, 7, 1, 0, 4, 7, 1, 1, 1, 4, 0, 1, 7,\n",
       "       0, 1, 7, 7, 7, 0, 0, 7, 7, 7, 0, 7, 5, 7, 0, 7, 7, 0, 7, 5, 0, 0,\n",
       "       0, 0, 1, 1, 7, 0, 0, 7, 7, 4, 7, 5, 1, 5, 0, 7, 6, 6, 7, 7, 0, 7,\n",
       "       1, 1, 1, 0, 1, 0, 7, 7, 7, 5, 7, 7, 5, 7, 0, 0, 7, 0, 5, 5, 6, 5,\n",
       "       7, 0, 0, 5, 7, 7, 7, 1, 0, 7, 0, 7, 1, 7, 0, 4, 1, 1, 4, 1, 4, 0,\n",
       "       7, 1, 7, 5, 1, 7, 0, 1, 7, 7, 0, 4, 7, 7, 0, 0, 5, 3, 7, 7, 0, 7,\n",
       "       7, 4, 0, 2, 0, 5, 0, 7, 7, 7, 1, 1, 7, 4, 7, 7, 1, 5, 7, 4, 7, 4,\n",
       "       7, 1, 0, 7, 0, 1, 1, 7, 0, 7, 7, 7, 7, 1, 7, 7, 0, 7, 5, 0, 7, 0,\n",
       "       7, 7, 1, 5, 7, 1, 5, 0, 5, 7, 1, 0, 7, 0, 7, 7, 7, 7, 7, 0, 0, 7,\n",
       "       1, 0, 0, 7, 7, 5, 5, 5, 0, 7, 5, 1, 7, 7, 7, 7, 1, 7, 7, 1, 1, 1,\n",
       "       1, 7, 1, 0, 5, 0, 0, 0, 1, 5, 7, 7, 1, 7, 0, 7, 0, 5, 5, 4, 7, 7])"
      ]
     },
     "execution_count": 34,
     "metadata": {},
     "output_type": "execute_result"
    }
   ],
   "source": [
    "k_means_model.labels_"
   ]
  },
  {
   "cell_type": "code",
   "execution_count": 35,
   "metadata": {},
   "outputs": [
    {
     "data": {
      "text/plain": [
       "array([[1.20909091e+00, 1.64405364e+04, 3.01106364e+03, 4.39723636e+03,\n",
       "        3.52591818e+03, 1.01701818e+03, 1.45185455e+03],\n",
       "       [1.79310345e+00, 4.44322989e+03, 8.71658621e+03, 1.26166897e+04,\n",
       "        1.45617241e+03, 5.39133333e+03, 1.51242529e+03],\n",
       "       [2.00000000e+00, 2.56030000e+04, 4.34606000e+04, 6.14722000e+04,\n",
       "        2.63600000e+03, 2.99742000e+04, 2.70880000e+03],\n",
       "       [1.00000000e+00, 3.47820000e+04, 3.03670000e+04, 1.68980000e+04,\n",
       "        4.87015000e+04, 7.55500000e+02, 2.67760000e+04],\n",
       "       [2.00000000e+00, 6.68306667e+03, 1.74680333e+04, 2.66589333e+04,\n",
       "        1.98630000e+03, 1.18729000e+04, 2.53120000e+03],\n",
       "       [1.13636364e+00, 3.28375227e+04, 4.95102273e+03, 5.58209091e+03,\n",
       "        4.23672727e+03, 9.55227273e+02, 1.95629545e+03],\n",
       "       [1.00000000e+00, 6.84097143e+04, 7.29885714e+03, 8.16100000e+03,\n",
       "        1.13484286e+04, 1.40942857e+03, 3.06100000e+03],\n",
       "       [1.05806452e+00, 4.92465161e+03, 2.51472258e+03, 3.05516129e+03,\n",
       "        2.58764516e+03, 8.22412903e+02, 8.33045161e+02]])"
      ]
     },
     "execution_count": 35,
     "metadata": {},
     "output_type": "execute_result"
    }
   ],
   "source": [
    "k_means_model.cluster_centers_"
   ]
  },
  {
   "cell_type": "code",
   "execution_count": 36,
   "metadata": {},
   "outputs": [
    {
     "data": {
      "image/png": "[encoded data removed]",
      "text/plain": [
       "<Figure size 640x480 with 1 Axes>"
      ]
     },
     "metadata": {},
     "output_type": "display_data"
    }
   ],
   "source": [
    "plt.scatter(without_region.to_numpy()[:,0], without_region.to_numpy()[:,1], marker='.')\n",
    "plt.scatter(k_means_model.cluster_centers_[:,0], k_means_model.cluster_centers_[:,1], marker='v', c='r', s=50)\n",
    "plt.show()"
   ]
  },
  {
   "cell_type": "code",
   "execution_count": 37,
   "metadata": {},
   "outputs": [],
   "source": [
    "centers = range(1, 9)"
   ]
  },
  {
   "cell_type": "code",
   "execution_count": 38,
   "metadata": {},
   "outputs": [],
   "source": [
    "clusters = [KMeans(n_clusters=posibility) for posibility in centers]"
   ]
  },
  {
   "cell_type": "code",
   "execution_count": 39,
   "metadata": {},
   "outputs": [
    {
     "name": "stderr",
     "output_type": "stream",
     "text": [
      "c:\\Users\\Julian\\Desktop\\Algoritmica Avanzada\\clasificadores\\clasificador_env\\Lib\\site-packages\\sklearn\\cluster\\_kmeans.py:870: FutureWarning: The default value of `n_init` will change from 10 to 'auto' in 1.4. Set the value of `n_init` explicitly to suppress the warning\n",
      "  warnings.warn(\n",
      "c:\\Users\\Julian\\Desktop\\Algoritmica Avanzada\\clasificadores\\clasificador_env\\Lib\\site-packages\\sklearn\\cluster\\_kmeans.py:870: FutureWarning: The default value of `n_init` will change from 10 to 'auto' in 1.4. Set the value of `n_init` explicitly to suppress the warning\n",
      "  warnings.warn(\n",
      "c:\\Users\\Julian\\Desktop\\Algoritmica Avanzada\\clasificadores\\clasificador_env\\Lib\\site-packages\\sklearn\\cluster\\_kmeans.py:870: FutureWarning: The default value of `n_init` will change from 10 to 'auto' in 1.4. Set the value of `n_init` explicitly to suppress the warning\n",
      "  warnings.warn(\n",
      "c:\\Users\\Julian\\Desktop\\Algoritmica Avanzada\\clasificadores\\clasificador_env\\Lib\\site-packages\\sklearn\\cluster\\_kmeans.py:870: FutureWarning: The default value of `n_init` will change from 10 to 'auto' in 1.4. Set the value of `n_init` explicitly to suppress the warning\n",
      "  warnings.warn(\n",
      "c:\\Users\\Julian\\Desktop\\Algoritmica Avanzada\\clasificadores\\clasificador_env\\Lib\\site-packages\\sklearn\\cluster\\_kmeans.py:870: FutureWarning: The default value of `n_init` will change from 10 to 'auto' in 1.4. Set the value of `n_init` explicitly to suppress the warning\n",
      "  warnings.warn(\n",
      "c:\\Users\\Julian\\Desktop\\Algoritmica Avanzada\\clasificadores\\clasificador_env\\Lib\\site-packages\\sklearn\\cluster\\_kmeans.py:870: FutureWarning: The default value of `n_init` will change from 10 to 'auto' in 1.4. Set the value of `n_init` explicitly to suppress the warning\n",
      "  warnings.warn(\n",
      "c:\\Users\\Julian\\Desktop\\Algoritmica Avanzada\\clasificadores\\clasificador_env\\Lib\\site-packages\\sklearn\\cluster\\_kmeans.py:870: FutureWarning: The default value of `n_init` will change from 10 to 'auto' in 1.4. Set the value of `n_init` explicitly to suppress the warning\n",
      "  warnings.warn(\n",
      "c:\\Users\\Julian\\Desktop\\Algoritmica Avanzada\\clasificadores\\clasificador_env\\Lib\\site-packages\\sklearn\\cluster\\_kmeans.py:870: FutureWarning: The default value of `n_init` will change from 10 to 'auto' in 1.4. Set the value of `n_init` explicitly to suppress the warning\n",
      "  warnings.warn(\n"
     ]
    }
   ],
   "source": [
    "scores = [clusters[index].fit(without_region).score(without_region) for index in range(len(clusters))]"
   ]
  },
  {
   "cell_type": "code",
   "execution_count": 40,
   "metadata": {},
   "outputs": [
    {
     "data": {
      "image/png": "[encoded data removed]",
      "text/plain": [
       "<Figure size 640x480 with 1 Axes>"
      ]
     },
     "metadata": {},
     "output_type": "display_data"
    }
   ],
   "source": [
    "plt.plot(centers, scores)\n",
    "plt.xlabel('Número de grupos (clusters)')\n",
    "plt.ylabel('Calificación')\n",
    "plt.show()"
   ]
  },
  {
   "cell_type": "code",
   "execution_count": 41,
   "metadata": {},
   "outputs": [
    {
     "name": "stderr",
     "output_type": "stream",
     "text": [
      "c:\\Users\\Julian\\Desktop\\Algoritmica Avanzada\\clasificadores\\clasificador_env\\Lib\\site-packages\\sklearn\\cluster\\_kmeans.py:870: FutureWarning: The default value of `n_init` will change from 10 to 'auto' in 1.4. Set the value of `n_init` explicitly to suppress the warning\n",
      "  warnings.warn(\n"
     ]
    },
    {
     "data": {
      "text/html": [
       "<style>#sk-container-id-4 {color: black;background-color: white;}#sk-container-id-4 pre{padding: 0;}#sk-container-id-4 div.sk-toggleable {background-color: white;}#sk-container-id-4 label.sk-toggleable__label {cursor: pointer;display: block;width: 100%;margin-bottom: 0;padding: 0.3em;box-sizing: border-box;text-align: center;}#sk-container-id-4 label.sk-toggleable__label-arrow:before {content: \"▸\";float: left;margin-right: 0.25em;color: #696969;}#sk-container-id-4 label.sk-toggleable__label-arrow:hover:before {color: black;}#sk-container-id-4 div.sk-estimator:hover label.sk-toggleable__label-arrow:before {color: black;}#sk-container-id-4 div.sk-toggleable__content {max-height: 0;max-width: 0;overflow: hidden;text-align: left;background-color: #f0f8ff;}#sk-container-id-4 div.sk-toggleable__content pre {margin: 0.2em;color: black;border-radius: 0.25em;background-color: #f0f8ff;}#sk-container-id-4 input.sk-toggleable__control:checked~div.sk-toggleable__content {max-height: 200px;max-width: 100%;overflow: auto;}#sk-container-id-4 input.sk-toggleable__control:checked~label.sk-toggleable__label-arrow:before {content: \"▾\";}#sk-container-id-4 div.sk-estimator input.sk-toggleable__control:checked~label.sk-toggleable__label {background-color: #d4ebff;}#sk-container-id-4 div.sk-label input.sk-toggleable__control:checked~label.sk-toggleable__label {background-color: #d4ebff;}#sk-container-id-4 input.sk-hidden--visually {border: 0;clip: rect(1px 1px 1px 1px);clip: rect(1px, 1px, 1px, 1px);height: 1px;margin: -1px;overflow: hidden;padding: 0;position: absolute;width: 1px;}#sk-container-id-4 div.sk-estimator {font-family: monospace;background-color: #f0f8ff;border: 1px dotted black;border-radius: 0.25em;box-sizing: border-box;margin-bottom: 0.5em;}#sk-container-id-4 div.sk-estimator:hover {background-color: #d4ebff;}#sk-container-id-4 div.sk-parallel-item::after {content: \"\";width: 100%;border-bottom: 1px solid gray;flex-grow: 1;}#sk-container-id-4 div.sk-label:hover label.sk-toggleable__label {background-color: #d4ebff;}#sk-container-id-4 div.sk-serial::before {content: \"\";position: absolute;border-left: 1px solid gray;box-sizing: border-box;top: 0;bottom: 0;left: 50%;z-index: 0;}#sk-container-id-4 div.sk-serial {display: flex;flex-direction: column;align-items: center;background-color: white;padding-right: 0.2em;padding-left: 0.2em;position: relative;}#sk-container-id-4 div.sk-item {position: relative;z-index: 1;}#sk-container-id-4 div.sk-parallel {display: flex;align-items: stretch;justify-content: center;background-color: white;position: relative;}#sk-container-id-4 div.sk-item::before, #sk-container-id-4 div.sk-parallel-item::before {content: \"\";position: absolute;border-left: 1px solid gray;box-sizing: border-box;top: 0;bottom: 0;left: 50%;z-index: -1;}#sk-container-id-4 div.sk-parallel-item {display: flex;flex-direction: column;z-index: 1;position: relative;background-color: white;}#sk-container-id-4 div.sk-parallel-item:first-child::after {align-self: flex-end;width: 50%;}#sk-container-id-4 div.sk-parallel-item:last-child::after {align-self: flex-start;width: 50%;}#sk-container-id-4 div.sk-parallel-item:only-child::after {width: 0;}#sk-container-id-4 div.sk-dashed-wrapped {border: 1px dashed gray;margin: 0 0.4em 0.5em 0.4em;box-sizing: border-box;padding-bottom: 0.4em;background-color: white;}#sk-container-id-4 div.sk-label label {font-family: monospace;font-weight: bold;display: inline-block;line-height: 1.2em;}#sk-container-id-4 div.sk-label-container {text-align: center;}#sk-container-id-4 div.sk-container {/* jupyter's `normalize.less` sets `[hidden] { display: none; }` but bootstrap.min.css set `[hidden] { display: none !important; }` so we also need the `!important` here to be able to override the default hidden behavior on the sphinx rendered scikit-learn.org. See: https://github.com/scikit-learn/scikit-learn/issues/21755 */display: inline-block !important;position: relative;}#sk-container-id-4 div.sk-text-repr-fallback {display: none;}</style><div id=\"sk-container-id-4\" class=\"sk-top-container\"><div class=\"sk-text-repr-fallback\"><pre>KMeans(n_clusters=5)</pre><b>In a Jupyter environment, please rerun this cell to show the HTML representation or trust the notebook. <br />On GitHub, the HTML representation is unable to render, please try loading this page with nbviewer.org.</b></div><div class=\"sk-container\" hidden><div class=\"sk-item\"><div class=\"sk-estimator sk-toggleable\"><input class=\"sk-toggleable__control sk-hidden--visually\" id=\"sk-estimator-id-4\" type=\"checkbox\" checked><label for=\"sk-estimator-id-4\" class=\"sk-toggleable__label sk-toggleable__label-arrow\">KMeans</label><div class=\"sk-toggleable__content\"><pre>KMeans(n_clusters=5)</pre></div></div></div></div></div>"
      ],
      "text/plain": [
       "KMeans(n_clusters=5)"
      ]
     },
     "execution_count": 41,
     "metadata": {},
     "output_type": "execute_result"
    }
   ],
   "source": [
    "improved_k_means = KMeans(n_clusters=5)\n",
    "improved_k_means.fit(without_region)"
   ]
  },
  {
   "cell_type": "code",
   "execution_count": 42,
   "metadata": {},
   "outputs": [
    {
     "data": {
      "image/png": "[encoded data removed]",
      "text/plain": [
       "<Figure size 640x480 with 1 Axes>"
      ]
     },
     "metadata": {},
     "output_type": "display_data"
    }
   ],
   "source": [
    "plt.scatter(without_region.to_numpy()[:,0], without_region.to_numpy()[:,1], marker='.')\n",
    "plt.scatter(improved_k_means.cluster_centers_[:,0], improved_k_means.cluster_centers_[:,1], marker='v', c='r', s=50)\n",
    "plt.show()"
   ]
  },
  {
   "cell_type": "code",
   "execution_count": 43,
   "metadata": {},
   "outputs": [],
   "source": [
    "df_labels = pd.DataFrame(improved_k_means.labels_)"
   ]
  },
  {
   "cell_type": "code",
   "execution_count": 44,
   "metadata": {},
   "outputs": [
    {
     "data": {
      "text/plain": [
       "array([1, 0, 2, 3, 4])"
      ]
     },
     "execution_count": 44,
     "metadata": {},
     "output_type": "execute_result"
    }
   ],
   "source": [
    "df_labels[0].unique()"
   ]
  },
  {
   "cell_type": "code",
   "execution_count": 45,
   "metadata": {},
   "outputs": [
    {
     "data": {
      "text/plain": [
       "array([[1.20000000e+00, 2.13414857e+04, 3.86504762e+03, 5.11819048e+03,\n",
       "        4.12620952e+03, 1.12550476e+03, 1.68967619e+03],\n",
       "       [1.18061674e+00, 6.02850220e+03, 3.35902643e+03, 4.20682819e+03,\n",
       "        2.43584141e+03, 1.27952863e+03, 1.00477093e+03],\n",
       "       [1.91025641e+00, 5.07665385e+03, 1.22885256e+04, 1.88145256e+04,\n",
       "        1.60500000e+03, 8.25439744e+03, 1.83051282e+03],\n",
       "       [1.08695652e+00, 4.93307391e+04, 6.82326087e+03, 6.33852174e+03,\n",
       "        9.66608696e+03, 9.50913043e+02, 4.55769565e+03],\n",
       "       [2.00000000e+00, 2.00312857e+04, 3.80840000e+04, 5.61261429e+04,\n",
       "        2.56457143e+03, 2.76445714e+04, 2.54814286e+03]])"
      ]
     },
     "execution_count": 45,
     "metadata": {},
     "output_type": "execute_result"
    }
   ],
   "source": [
    "improved_k_means.cluster_centers_"
   ]
  },
  {
   "cell_type": "code",
   "execution_count": 46,
   "metadata": {},
   "outputs": [],
   "source": [
    "customers_groups = [\n",
    "    'Comprador Compulsivo',\n",
    "    'Comprador Precavido',\n",
    "    'Comprador Normal',\n",
    "    'Comprador Medio'\n",
    "]"
   ]
  },
  {
   "cell_type": "code",
   "execution_count": 47,
   "metadata": {},
   "outputs": [],
   "source": [
    "predicted = improved_k_means.predict(without_region)"
   ]
  },
  {
   "cell_type": "code",
   "execution_count": 48,
   "metadata": {},
   "outputs": [
    {
     "name": "stdout",
     "output_type": "stream",
     "text": [
      "El cliente #0 pertenece al grupo: Comprador Precavido\n",
      "El cliente #1 pertenece al grupo: Comprador Precavido\n",
      "El cliente #2 pertenece al grupo: Comprador Precavido\n",
      "El cliente #3 pertenece al grupo: Comprador Precavido\n",
      "El cliente #4 pertenece al grupo: Comprador Compulsivo\n",
      "El cliente #5 pertenece al grupo: Comprador Precavido\n",
      "El cliente #6 pertenece al grupo: Comprador Precavido\n",
      "El cliente #7 pertenece al grupo: Comprador Precavido\n",
      "El cliente #8 pertenece al grupo: Comprador Precavido\n",
      "El cliente #9 pertenece al grupo: Comprador Normal\n",
      "El cliente #10 pertenece al grupo: Comprador Normal\n",
      "El cliente #11 pertenece al grupo: Comprador Precavido\n",
      "El cliente #12 pertenece al grupo: Comprador Compulsivo\n",
      "El cliente #13 pertenece al grupo: Comprador Compulsivo\n",
      "El cliente #14 pertenece al grupo: Comprador Compulsivo\n",
      "El cliente #15 pertenece al grupo: Comprador Precavido\n",
      "El cliente #16 pertenece al grupo: Comprador Normal\n",
      "El cliente #17 pertenece al grupo: Comprador Precavido\n",
      "El cliente #18 pertenece al grupo: Comprador Compulsivo\n",
      "El cliente #19 pertenece al grupo: Comprador Precavido\n",
      "El cliente #20 pertenece al grupo: Comprador Compulsivo\n",
      "El cliente #21 pertenece al grupo: Comprador Precavido\n",
      "El cliente #22 pertenece al grupo: Comprador Compulsivo\n",
      "El cliente #23 pertenece al grupo: Comprador Normal\n",
      "El cliente #24 pertenece al grupo: Comprador Compulsivo\n",
      "El cliente #25 pertenece al grupo: Comprador Compulsivo\n",
      "El cliente #26 pertenece al grupo: Comprador Precavido\n",
      "El cliente #27 pertenece al grupo: Comprador Compulsivo\n",
      "El cliente #28 pertenece al grupo: Comprador Normal\n",
      "El cliente #29 pertenece al grupo: Comprador Medio\n",
      "El cliente #30 pertenece al grupo: Comprador Compulsivo\n",
      "El cliente #31 pertenece al grupo: Comprador Precavido\n",
      "El cliente #32 pertenece al grupo: Comprador Compulsivo\n",
      "El cliente #33 pertenece al grupo: Comprador Compulsivo\n",
      "El cliente #34 pertenece al grupo: Comprador Precavido\n",
      "El cliente #35 pertenece al grupo: Comprador Precavido\n",
      "El cliente #36 pertenece al grupo: Comprador Compulsivo\n",
      "El cliente #37 pertenece al grupo: Comprador Normal\n",
      "El cliente #38 pertenece al grupo: Comprador Normal\n",
      "El cliente #39 pertenece al grupo: Comprador Medio\n",
      "El cliente #40 pertenece al grupo: Comprador Compulsivo\n",
      "El cliente #41 pertenece al grupo: Comprador Compulsivo\n",
      "El cliente #42 pertenece al grupo: Comprador Normal\n",
      "El cliente #43 pertenece al grupo: Comprador Normal\n",
      "El cliente #44 pertenece al grupo: Comprador Precavido\n",
      "El cliente #45 pertenece al grupo: Comprador Normal\n",
      "El cliente #46 pertenece al grupo: Comprador Normal\n"
     ]
    },
    {
     "ename": "IndexError",
     "evalue": "list index out of range",
     "output_type": "error",
     "traceback": [
      "\u001b[1;31m---------------------------------------------------------------------------\u001b[0m",
      "\u001b[1;31mIndexError\u001b[0m                                Traceback (most recent call last)",
      "Cell \u001b[1;32mIn[48], line 3\u001b[0m\n\u001b[0;32m      1\u001b[0m index \u001b[39m=\u001b[39m \u001b[39m0\u001b[39m\n\u001b[0;32m      2\u001b[0m \u001b[39mfor\u001b[39;00m customer \u001b[39min\u001b[39;00m predicted:\n\u001b[1;32m----> 3\u001b[0m     \u001b[39mprint\u001b[39m(\u001b[39mf\u001b[39m\u001b[39m'\u001b[39m\u001b[39mEl cliente #\u001b[39m\u001b[39m{\u001b[39;00mindex\u001b[39m}\u001b[39;00m\u001b[39m pertenece al grupo: \u001b[39m\u001b[39m{\u001b[39;00mcustomers_groups[customer]\u001b[39m}\u001b[39;00m\u001b[39m'\u001b[39m)\n\u001b[0;32m      4\u001b[0m     index \u001b[39m+\u001b[39m\u001b[39m=\u001b[39m \u001b[39m1\u001b[39m\n",
      "\u001b[1;31mIndexError\u001b[0m: list index out of range"
     ]
    }
   ],
   "source": [
    "index = 0\n",
    "for customer in predicted:\n",
    "    print(f'El cliente #{index} pertenece al grupo: {customers_groups[customer]}')\n",
    "    index += 1"
   ]
  },
  {
   "cell_type": "code",
   "execution_count": 6,
   "metadata": {},
   "outputs": [],
   "source": [
    "clusters = [KMeans(n_clusters=centers) for centers in centers]"
   ]
  },
  {
   "cell_type": "code",
   "execution_count": 9,
   "metadata": {},
   "outputs": [
    {
     "name": "stderr",
     "output_type": "stream",
     "text": [
      "c:\\Users\\Julian\\Desktop\\Algoritmica Avanzada\\clasificadores\\clasificador_env\\Lib\\site-packages\\sklearn\\cluster\\_kmeans.py:870: FutureWarning: The default value of `n_init` will change from 10 to 'auto' in 1.4. Set the value of `n_init` explicitly to suppress the warning\n",
      "  warnings.warn(\n",
      "c:\\Users\\Julian\\Desktop\\Algoritmica Avanzada\\clasificadores\\clasificador_env\\Lib\\site-packages\\sklearn\\cluster\\_kmeans.py:870: FutureWarning: The default value of `n_init` will change from 10 to 'auto' in 1.4. Set the value of `n_init` explicitly to suppress the warning\n",
      "  warnings.warn(\n",
      "c:\\Users\\Julian\\Desktop\\Algoritmica Avanzada\\clasificadores\\clasificador_env\\Lib\\site-packages\\sklearn\\cluster\\_kmeans.py:870: FutureWarning: The default value of `n_init` will change from 10 to 'auto' in 1.4. Set the value of `n_init` explicitly to suppress the warning\n",
      "  warnings.warn(\n",
      "c:\\Users\\Julian\\Desktop\\Algoritmica Avanzada\\clasificadores\\clasificador_env\\Lib\\site-packages\\sklearn\\cluster\\_kmeans.py:870: FutureWarning: The default value of `n_init` will change from 10 to 'auto' in 1.4. Set the value of `n_init` explicitly to suppress the warning\n",
      "  warnings.warn(\n",
      "c:\\Users\\Julian\\Desktop\\Algoritmica Avanzada\\clasificadores\\clasificador_env\\Lib\\site-packages\\sklearn\\cluster\\_kmeans.py:870: FutureWarning: The default value of `n_init` will change from 10 to 'auto' in 1.4. Set the value of `n_init` explicitly to suppress the warning\n",
      "  warnings.warn(\n",
      "c:\\Users\\Julian\\Desktop\\Algoritmica Avanzada\\clasificadores\\clasificador_env\\Lib\\site-packages\\sklearn\\cluster\\_kmeans.py:870: FutureWarning: The default value of `n_init` will change from 10 to 'auto' in 1.4. Set the value of `n_init` explicitly to suppress the warning\n",
      "  warnings.warn(\n",
      "c:\\Users\\Julian\\Desktop\\Algoritmica Avanzada\\clasificadores\\clasificador_env\\Lib\\site-packages\\sklearn\\cluster\\_kmeans.py:870: FutureWarning: The default value of `n_init` will change from 10 to 'auto' in 1.4. Set the value of `n_init` explicitly to suppress the warning\n",
      "  warnings.warn(\n",
      "c:\\Users\\Julian\\Desktop\\Algoritmica Avanzada\\clasificadores\\clasificador_env\\Lib\\site-packages\\sklearn\\cluster\\_kmeans.py:870: FutureWarning: The default value of `n_init` will change from 10 to 'auto' in 1.4. Set the value of `n_init` explicitly to suppress the warning\n",
      "  warnings.warn(\n"
     ]
    }
   ],
   "source": [
    "scores = [model.fit(without_region).score(without_region) for model in clusters]"
   ]
  },
  {
   "cell_type": "code",
   "execution_count": 10,
   "metadata": {},
   "outputs": [
    {
     "data": {
      "image/png": "[encoded data removed]",
      "text/plain": [
       "<Figure size 640x480 with 1 Axes>"
      ]
     },
     "metadata": {},
     "output_type": "display_data"
    }
   ],
   "source": [
    "plt.plot(centers, scores)\n",
    "plt.xlabel('Grupos/Centroides')\n",
    "plt.ylabel('Score')\n",
    "plt.show()"
   ]
  },
  {
   "cell_type": "code",
   "execution_count": 21,
   "metadata": {},
   "outputs": [
    {
     "name": "stderr",
     "output_type": "stream",
     "text": [
      "c:\\Users\\Julian\\Desktop\\Algoritmica Avanzada\\clasificadores\\clasificador_env\\Lib\\site-packages\\sklearn\\cluster\\_kmeans.py:870: FutureWarning: The default value of `n_init` will change from 10 to 'auto' in 1.4. Set the value of `n_init` explicitly to suppress the warning\n",
      "  warnings.warn(\n"
     ]
    },
    {
     "data": {
      "text/html": [
       "<style>#sk-container-id-2 {color: black;background-color: white;}#sk-container-id-2 pre{padding: 0;}#sk-container-id-2 div.sk-toggleable {background-color: white;}#sk-container-id-2 label.sk-toggleable__label {cursor: pointer;display: block;width: 100%;margin-bottom: 0;padding: 0.3em;box-sizing: border-box;text-align: center;}#sk-container-id-2 label.sk-toggleable__label-arrow:before {content: \"▸\";float: left;margin-right: 0.25em;color: #696969;}#sk-container-id-2 label.sk-toggleable__label-arrow:hover:before {color: black;}#sk-container-id-2 div.sk-estimator:hover label.sk-toggleable__label-arrow:before {color: black;}#sk-container-id-2 div.sk-toggleable__content {max-height: 0;max-width: 0;overflow: hidden;text-align: left;background-color: #f0f8ff;}#sk-container-id-2 div.sk-toggleable__content pre {margin: 0.2em;color: black;border-radius: 0.25em;background-color: #f0f8ff;}#sk-container-id-2 input.sk-toggleable__control:checked~div.sk-toggleable__content {max-height: 200px;max-width: 100%;overflow: auto;}#sk-container-id-2 input.sk-toggleable__control:checked~label.sk-toggleable__label-arrow:before {content: \"▾\";}#sk-container-id-2 div.sk-estimator input.sk-toggleable__control:checked~label.sk-toggleable__label {background-color: #d4ebff;}#sk-container-id-2 div.sk-label input.sk-toggleable__control:checked~label.sk-toggleable__label {background-color: #d4ebff;}#sk-container-id-2 input.sk-hidden--visually {border: 0;clip: rect(1px 1px 1px 1px);clip: rect(1px, 1px, 1px, 1px);height: 1px;margin: -1px;overflow: hidden;padding: 0;position: absolute;width: 1px;}#sk-container-id-2 div.sk-estimator {font-family: monospace;background-color: #f0f8ff;border: 1px dotted black;border-radius: 0.25em;box-sizing: border-box;margin-bottom: 0.5em;}#sk-container-id-2 div.sk-estimator:hover {background-color: #d4ebff;}#sk-container-id-2 div.sk-parallel-item::after {content: \"\";width: 100%;border-bottom: 1px solid gray;flex-grow: 1;}#sk-container-id-2 div.sk-label:hover label.sk-toggleable__label {background-color: #d4ebff;}#sk-container-id-2 div.sk-serial::before {content: \"\";position: absolute;border-left: 1px solid gray;box-sizing: border-box;top: 0;bottom: 0;left: 50%;z-index: 0;}#sk-container-id-2 div.sk-serial {display: flex;flex-direction: column;align-items: center;background-color: white;padding-right: 0.2em;padding-left: 0.2em;position: relative;}#sk-container-id-2 div.sk-item {position: relative;z-index: 1;}#sk-container-id-2 div.sk-parallel {display: flex;align-items: stretch;justify-content: center;background-color: white;position: relative;}#sk-container-id-2 div.sk-item::before, #sk-container-id-2 div.sk-parallel-item::before {content: \"\";position: absolute;border-left: 1px solid gray;box-sizing: border-box;top: 0;bottom: 0;left: 50%;z-index: -1;}#sk-container-id-2 div.sk-parallel-item {display: flex;flex-direction: column;z-index: 1;position: relative;background-color: white;}#sk-container-id-2 div.sk-parallel-item:first-child::after {align-self: flex-end;width: 50%;}#sk-container-id-2 div.sk-parallel-item:last-child::after {align-self: flex-start;width: 50%;}#sk-container-id-2 div.sk-parallel-item:only-child::after {width: 0;}#sk-container-id-2 div.sk-dashed-wrapped {border: 1px dashed gray;margin: 0 0.4em 0.5em 0.4em;box-sizing: border-box;padding-bottom: 0.4em;background-color: white;}#sk-container-id-2 div.sk-label label {font-family: monospace;font-weight: bold;display: inline-block;line-height: 1.2em;}#sk-container-id-2 div.sk-label-container {text-align: center;}#sk-container-id-2 div.sk-container {/* jupyter's `normalize.less` sets `[hidden] { display: none; }` but bootstrap.min.css set `[hidden] { display: none !important; }` so we also need the `!important` here to be able to override the default hidden behavior on the sphinx rendered scikit-learn.org. See: https://github.com/scikit-learn/scikit-learn/issues/21755 */display: inline-block !important;position: relative;}#sk-container-id-2 div.sk-text-repr-fallback {display: none;}</style><div id=\"sk-container-id-2\" class=\"sk-top-container\"><div class=\"sk-text-repr-fallback\"><pre>KMeans(n_clusters=4)</pre><b>In a Jupyter environment, please rerun this cell to show the HTML representation or trust the notebook. <br />On GitHub, the HTML representation is unable to render, please try loading this page with nbviewer.org.</b></div><div class=\"sk-container\" hidden><div class=\"sk-item\"><div class=\"sk-estimator sk-toggleable\"><input class=\"sk-toggleable__control sk-hidden--visually\" id=\"sk-estimator-id-2\" type=\"checkbox\" checked><label for=\"sk-estimator-id-2\" class=\"sk-toggleable__label sk-toggleable__label-arrow\">KMeans</label><div class=\"sk-toggleable__content\"><pre>KMeans(n_clusters=4)</pre></div></div></div></div></div>"
      ],
      "text/plain": [
       "KMeans(n_clusters=4)"
      ]
     },
     "execution_count": 21,
     "metadata": {},
     "output_type": "execute_result"
    }
   ],
   "source": [
    "k_means = KMeans(n_clusters=4)\n",
    "k_means.fit(without_region)"
   ]
  },
  {
   "cell_type": "code",
   "execution_count": 22,
   "metadata": {},
   "outputs": [
    {
     "data": {
      "text/plain": [
       "array([3, 0, 3, 3, 1, 3, 3, 3, 3, 0, 0, 3, 1, 0, 1, 3, 0, 3, 3, 3, 3, 3,\n",
       "       1, 2, 1, 3, 3, 3, 0, 1, 3, 3, 3, 1, 3, 0, 1, 0, 0, 1, 1, 3, 0, 0,\n",
       "       3, 0, 0, 2, 3, 0, 3, 3, 1, 0, 1, 3, 0, 0, 3, 3, 3, 2, 3, 0, 3, 2,\n",
       "       3, 3, 3, 3, 3, 0, 3, 3, 3, 3, 3, 0, 3, 3, 3, 0, 0, 3, 3, 2, 2, 1,\n",
       "       3, 1, 3, 3, 2, 3, 0, 3, 3, 3, 3, 3, 0, 0, 3, 1, 3, 3, 0, 0, 3, 0,\n",
       "       3, 0, 3, 3, 3, 3, 3, 3, 3, 3, 3, 3, 3, 3, 1, 1, 3, 3, 3, 1, 3, 3,\n",
       "       3, 3, 3, 3, 3, 3, 3, 3, 3, 1, 1, 3, 3, 0, 3, 3, 3, 1, 3, 3, 3, 3,\n",
       "       3, 0, 0, 3, 0, 0, 0, 3, 3, 0, 3, 0, 0, 3, 3, 3, 0, 0, 3, 0, 3, 0,\n",
       "       1, 3, 3, 3, 3, 1, 0, 2, 3, 3, 3, 0, 0, 0, 3, 3, 3, 0, 3, 3, 1, 0,\n",
       "       3, 3, 0, 0, 1, 3, 3, 0, 3, 3, 3, 0, 3, 2, 3, 3, 0, 0, 0, 3, 0, 3,\n",
       "       3, 0, 3, 3, 3, 3, 3, 3, 3, 3, 3, 3, 1, 3, 3, 3, 3, 3, 3, 1, 1, 1,\n",
       "       3, 3, 0, 0, 3, 3, 3, 3, 3, 2, 3, 1, 3, 1, 3, 3, 1, 1, 3, 3, 3, 3,\n",
       "       0, 0, 0, 3, 0, 3, 3, 3, 3, 1, 3, 3, 1, 3, 3, 3, 3, 3, 1, 1, 1, 1,\n",
       "       3, 3, 3, 1, 3, 3, 3, 0, 3, 3, 3, 3, 3, 3, 3, 0, 0, 0, 0, 0, 0, 3,\n",
       "       3, 0, 3, 1, 0, 3, 3, 0, 3, 3, 3, 0, 3, 3, 3, 3, 1, 1, 3, 3, 3, 3,\n",
       "       3, 0, 3, 2, 3, 1, 3, 3, 3, 3, 0, 0, 3, 0, 3, 3, 0, 1, 3, 0, 3, 0,\n",
       "       3, 0, 3, 3, 3, 0, 3, 3, 3, 3, 3, 3, 3, 3, 3, 3, 3, 3, 1, 3, 3, 3,\n",
       "       3, 3, 0, 1, 3, 3, 1, 3, 1, 3, 0, 3, 3, 3, 3, 3, 3, 3, 3, 1, 3, 3,\n",
       "       0, 3, 3, 3, 3, 1, 1, 1, 3, 3, 1, 0, 3, 3, 3, 3, 0, 3, 3, 3, 0, 0,\n",
       "       0, 3, 0, 3, 1, 3, 3, 3, 0, 1, 3, 3, 0, 3, 3, 3, 3, 1, 1, 0, 3, 3])"
      ]
     },
     "execution_count": 22,
     "metadata": {},
     "output_type": "execute_result"
    }
   ],
   "source": [
    "k_means.labels_"
   ]
  },
  {
   "cell_type": "code",
   "execution_count": 23,
   "metadata": {},
   "outputs": [],
   "source": [
    "customers_groups = [\n",
    "    'Comprador Compulsivo',\n",
    "    'Comprador Precavido',\n",
    "    'Comprador Normal',\n",
    "    'Comprador Medio'\n",
    "]"
   ]
  },
  {
   "cell_type": "code",
   "execution_count": 28,
   "metadata": {},
   "outputs": [
    {
     "name": "stdout",
     "output_type": "stream",
     "text": [
      "Un comprador del canal 1 con las siguientes compras: productos frescos 1000, productos de leche 8000, productos de abarrotes 4000, productos congelados 1000, productos de detergente y papel 2000, productos de delicatessen 1900 pertenece al grupo de Comprador Medio\n"
     ]
    },
    {
     "name": "stderr",
     "output_type": "stream",
     "text": [
      "c:\\Users\\Julian\\Desktop\\Algoritmica Avanzada\\clasificadores\\clasificador_env\\Lib\\site-packages\\sklearn\\base.py:439: UserWarning: X does not have valid feature names, but KMeans was fitted with feature names\n",
      "  warnings.warn(\n"
     ]
    }
   ],
   "source": [
    "channel = 1\n",
    "fresh_products = 1000\n",
    "milk_products = 8000\n",
    "grocery_products = 4000\n",
    "frozen_products = 1000\n",
    "detergents_paper_products = 2000\n",
    "delicassen_products = 1900\n",
    "predicted = k_means.predict([[channel, fresh_products, milk_products, grocery_products, frozen_products, detergents_paper_products, delicassen_products]])\n",
    "print(f'Un comprador del canal {channel} con las siguientes compras: productos frescos {fresh_products}, productos de leche {milk_products}, productos de abarrotes {grocery_products}, productos congelados {frozen_products}, productos de detergente y papel {detergents_paper_products}, productos de delicatessen {delicassen_products} pertenece al grupo de {customers_groups[predicted[0]]}')"
   ]
  }
 ],
 "metadata": {
  "kernelspec": {
   "display_name": "clasificador_env",
   "language": "python",
   "name": "python3"
  },
  "language_info": {
   "codemirror_mode": {
    "name": "ipython",
    "version": 3
   },
   "file_extension": ".py",
   "mimetype": "text/x-python",
   "name": "python",
   "nbconvert_exporter": "python",
   "pygments_lexer": "ipython3",
   "version": "3.11.2"
  },
  "orig_nbformat": 4
 },
 "nbformat": 4,
 "nbformat_minor": 2
}
