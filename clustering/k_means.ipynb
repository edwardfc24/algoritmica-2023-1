{
 "cells": [
  {
   "cell_type": "code",
   "execution_count": 1,
   "metadata": {},
   "outputs": [],
   "source": [
    "from sklearn.cluster import KMeans\n",
    "from sklearn.datasets import make_blobs\n",
    "\n",
    "import pandas as pd\n",
    "import matplotlib.pyplot as plt"
   ]
  },
  {
   "attachments": {},
   "cell_type": "markdown",
   "metadata": {},
   "source": [
    "### Vamos a crear un dataser con la función make_blobs"
   ]
  },
  {
   "cell_type": "code",
   "execution_count": 2,
   "metadata": {},
   "outputs": [],
   "source": [
    "x, y = make_blobs(n_samples=400, random_state=0)"
   ]
  },
  {
   "cell_type": "code",
   "execution_count": 5,
   "metadata": {},
   "outputs": [],
   "source": [
    "df = pd.DataFrame(x)"
   ]
  },
  {
   "cell_type": "code",
   "execution_count": 6,
   "metadata": {},
   "outputs": [
    {
     "data": {
      "text/html": [
       "<div>\n",
       "<style scoped>\n",
       "    .dataframe tbody tr th:only-of-type {\n",
       "        vertical-align: middle;\n",
       "    }\n",
       "\n",
       "    .dataframe tbody tr th {\n",
       "        vertical-align: top;\n",
       "    }\n",
       "\n",
       "    .dataframe thead th {\n",
       "        text-align: right;\n",
       "    }\n",
       "</style>\n",
       "<table border=\"1\" class=\"dataframe\">\n",
       "  <thead>\n",
       "    <tr style=\"text-align: right;\">\n",
       "      <th></th>\n",
       "      <th>0</th>\n",
       "      <th>1</th>\n",
       "    </tr>\n",
       "  </thead>\n",
       "  <tbody>\n",
       "    <tr>\n",
       "      <th>count</th>\n",
       "      <td>400.000000</td>\n",
       "      <td>400.000000</td>\n",
       "    </tr>\n",
       "    <tr>\n",
       "      <th>mean</th>\n",
       "      <td>0.407203</td>\n",
       "      <td>2.650954</td>\n",
       "    </tr>\n",
       "    <tr>\n",
       "      <th>std</th>\n",
       "      <td>1.784549</td>\n",
       "      <td>1.732440</td>\n",
       "    </tr>\n",
       "    <tr>\n",
       "      <th>min</th>\n",
       "      <td>-3.891078</td>\n",
       "      <td>-1.842014</td>\n",
       "    </tr>\n",
       "    <tr>\n",
       "      <th>25%</th>\n",
       "      <td>-1.052689</td>\n",
       "      <td>1.251689</td>\n",
       "    </tr>\n",
       "    <tr>\n",
       "      <th>50%</th>\n",
       "      <td>0.551884</td>\n",
       "      <td>2.749155</td>\n",
       "    </tr>\n",
       "    <tr>\n",
       "      <th>75%</th>\n",
       "      <td>1.767472</td>\n",
       "      <td>4.009604</td>\n",
       "    </tr>\n",
       "    <tr>\n",
       "      <th>max</th>\n",
       "      <td>4.751492</td>\n",
       "      <td>6.254563</td>\n",
       "    </tr>\n",
       "  </tbody>\n",
       "</table>\n",
       "</div>"
      ],
      "text/plain": [
       "                0           1\n",
       "count  400.000000  400.000000\n",
       "mean     0.407203    2.650954\n",
       "std      1.784549    1.732440\n",
       "min     -3.891078   -1.842014\n",
       "25%     -1.052689    1.251689\n",
       "50%      0.551884    2.749155\n",
       "75%      1.767472    4.009604\n",
       "max      4.751492    6.254563"
      ]
     },
     "execution_count": 6,
     "metadata": {},
     "output_type": "execute_result"
    }
   ],
   "source": [
    "df.describe()"
   ]
  },
  {
   "attachments": {},
   "cell_type": "markdown",
   "metadata": {},
   "source": [
    "### Vamos a trabajar con KMeans"
   ]
  },
  {
   "cell_type": "code",
   "execution_count": 7,
   "metadata": {},
   "outputs": [],
   "source": [
    "k_means_model = KMeans()"
   ]
  },
  {
   "cell_type": "code",
   "execution_count": 8,
   "metadata": {},
   "outputs": [
    {
     "data": {
      "text/plain": [
       "KMeans()"
      ]
     },
     "execution_count": 8,
     "metadata": {},
     "output_type": "execute_result"
    }
   ],
   "source": [
    "k_means_model.fit(df)"
   ]
  },
  {
   "attachments": {},
   "cell_type": "markdown",
   "metadata": {},
   "source": [
    "### Conozcamos los valores que arroja KMeans"
   ]
  },
  {
   "cell_type": "code",
   "execution_count": 9,
   "metadata": {},
   "outputs": [
    {
     "data": {
      "text/plain": [
       "array([7, 7, 6, 0, 5, 4, 4, 3, 3, 1, 5, 7, 6, 7, 5, 5, 4, 1, 5, 4, 3, 7,\n",
       "       5, 3, 3, 1, 3, 1, 5, 0, 4, 6, 5, 4, 7, 4, 0, 6, 1, 3, 2, 4, 4, 6,\n",
       "       5, 5, 6, 2, 0, 7, 7, 5, 1, 6, 1, 5, 3, 6, 7, 4, 6, 6, 2, 4, 7, 3,\n",
       "       1, 2, 5, 6, 4, 4, 7, 7, 0, 6, 1, 0, 1, 6, 4, 3, 1, 2, 4, 5, 3, 6,\n",
       "       4, 0, 5, 6, 2, 7, 6, 0, 6, 7, 7, 6, 1, 2, 4, 7, 4, 5, 4, 4, 7, 2,\n",
       "       1, 2, 3, 7, 6, 6, 5, 6, 7, 6, 1, 0, 4, 4, 5, 2, 1, 4, 1, 1, 3, 0,\n",
       "       1, 2, 6, 3, 4, 5, 3, 2, 6, 1, 3, 0, 4, 3, 1, 1, 6, 1, 6, 3, 3, 5,\n",
       "       7, 3, 1, 6, 2, 3, 3, 1, 2, 2, 7, 4, 2, 3, 3, 4, 1, 2, 0, 4, 5, 7,\n",
       "       5, 2, 3, 3, 1, 1, 0, 6, 2, 0, 5, 3, 4, 3, 3, 1, 4, 0, 0, 3, 0, 1,\n",
       "       2, 5, 4, 7, 5, 3, 3, 0, 4, 4, 2, 5, 0, 7, 0, 3, 4, 5, 7, 2, 1, 1,\n",
       "       4, 6, 0, 7, 5, 6, 0, 0, 3, 5, 4, 3, 4, 1, 0, 7, 6, 2, 4, 4, 3, 5,\n",
       "       6, 4, 1, 1, 1, 5, 1, 3, 0, 1, 5, 7, 1, 6, 1, 7, 0, 4, 1, 2, 7, 6,\n",
       "       0, 0, 5, 5, 5, 0, 5, 6, 7, 5, 2, 0, 1, 4, 3, 1, 4, 3, 3, 3, 1, 5,\n",
       "       5, 5, 1, 4, 5, 4, 1, 5, 1, 5, 5, 1, 3, 3, 0, 7, 4, 0, 0, 2, 3, 4,\n",
       "       0, 5, 2, 5, 1, 6, 4, 2, 6, 1, 6, 7, 0, 2, 7, 7, 7, 7, 1, 7, 2, 6,\n",
       "       7, 5, 6, 0, 4, 1, 5, 4, 3, 4, 5, 0, 6, 3, 0, 1, 4, 7, 0, 5, 2, 1,\n",
       "       1, 1, 0, 2, 1, 7, 3, 4, 0, 1, 0, 4, 2, 4, 7, 3, 6, 0, 2, 7, 0, 7,\n",
       "       6, 2, 3, 3, 2, 5, 5, 0, 4, 3, 7, 7, 3, 7, 0, 6, 4, 0, 0, 5, 4, 2,\n",
       "       5, 6, 5, 4])"
      ]
     },
     "execution_count": 9,
     "metadata": {},
     "output_type": "execute_result"
    }
   ],
   "source": [
    "# Veamos como funcional el atributo labels\n",
    "k_means_model.labels_"
   ]
  },
  {
   "attachments": {},
   "cell_type": "markdown",
   "metadata": {},
   "source": [
    "### Para tenerlo un poco más claro, graficaremos la data y los grupos encontrados\n",
    "Para esto usaremos los puntos centrales de estos grupos llamados centroides"
   ]
  },
  {
   "cell_type": "code",
   "execution_count": 10,
   "metadata": {},
   "outputs": [
    {
     "data": {
      "text/plain": [
       "array([[ 1.8264087 ,  4.66579934],\n",
       "       [ 1.61277133,  0.10063608],\n",
       "       [-0.76119664,  1.34453832],\n",
       "       [-1.48975289,  3.7803622 ],\n",
       "       [ 2.75663575,  1.38935298],\n",
       "       [ 0.19294109,  4.73329066],\n",
       "       [ 0.64716817,  2.86084137],\n",
       "       [-2.41401559,  2.4110514 ]])"
      ]
     },
     "execution_count": 10,
     "metadata": {},
     "output_type": "execute_result"
    }
   ],
   "source": [
    "k_means_model.cluster_centers_"
   ]
  },
  {
   "cell_type": "code",
   "execution_count": 13,
   "metadata": {},
   "outputs": [
    {
     "data": {
      "image/png": "[encoded data removed]",
      "text/plain": [
       "<Figure size 432x288 with 1 Axes>"
      ]
     },
     "metadata": {
      "needs_background": "light"
     },
     "output_type": "display_data"
    }
   ],
   "source": [
    "# df.to_numpy() Este método nos permite convertir un objeto a un arreglo numpy\n",
    "plt.scatter(df.to_numpy()[:, 0], df.to_numpy()[:, 1], marker='.')\n",
    "plt.scatter(k_means_model.cluster_centers_[:, 0], k_means_model.cluster_centers_[:, 1], marker='v', c='r', s=50)\n",
    "plt.show()"
   ]
  },
  {
   "attachments": {},
   "cell_type": "markdown",
   "metadata": {},
   "source": [
    "## La curva del Codo (Elbow)"
   ]
  },
  {
   "cell_type": "code",
   "execution_count": 20,
   "metadata": {},
   "outputs": [],
   "source": [
    "centers = range(1, 9)\n"
   ]
  },
  {
   "cell_type": "code",
   "execution_count": 21,
   "metadata": {},
   "outputs": [],
   "source": [
    "\"\"\"\n",
    "clusters = []\n",
    "for posibility in posibilities:\n",
    "    clusters.append(KMeans(n_clusters=posibility))\n",
    "\"\"\"\n",
    "clusters = [KMeans(n_clusters=center) for center in centers]"
   ]
  },
  {
   "cell_type": "code",
   "execution_count": 22,
   "metadata": {},
   "outputs": [],
   "source": [
    "scores = [clusters[index].fit(df).score(df) for index in range(len(clusters))]"
   ]
  },
  {
   "attachments": {},
   "cell_type": "markdown",
   "metadata": {},
   "source": [
    "### Graficamos la curva de Elbow"
   ]
  },
  {
   "cell_type": "code",
   "execution_count": 23,
   "metadata": {},
   "outputs": [
    {
     "data": {
      "image/png": "[encoded data removed]",
      "text/plain": [
       "<Figure size 432x288 with 1 Axes>"
      ]
     },
     "metadata": {
      "needs_background": "light"
     },
     "output_type": "display_data"
    }
   ],
   "source": [
    "plt.plot(centers, scores)\n",
    "plt.xlabel('Número de grupos (clusters)')\n",
    "plt.ylabel('Calificación')\n",
    "plt.show()"
   ]
  },
  {
   "attachments": {},
   "cell_type": "markdown",
   "metadata": {},
   "source": [
    "### Ahora que conocemos el número correcto de grupos, entrenamos el modelo"
   ]
  },
  {
   "cell_type": "code",
   "execution_count": 24,
   "metadata": {},
   "outputs": [
    {
     "data": {
      "text/plain": [
       "KMeans(n_clusters=3)"
      ]
     },
     "execution_count": 24,
     "metadata": {},
     "output_type": "execute_result"
    }
   ],
   "source": [
    "improved_k_means = KMeans(n_clusters=3)\n",
    "improved_k_means.fit(df)"
   ]
  },
  {
   "cell_type": "code",
   "execution_count": 25,
   "metadata": {},
   "outputs": [
    {
     "data": {
      "image/png": "[encoded data removed]",
      "text/plain": [
       "<Figure size 432x288 with 1 Axes>"
      ]
     },
     "metadata": {
      "needs_background": "light"
     },
     "output_type": "display_data"
    }
   ],
   "source": [
    "plt.scatter(df.to_numpy()[:, 0], df.to_numpy()[:, 1], marker='.')\n",
    "plt.scatter(improved_k_means.cluster_centers_[:, 0], improved_k_means.cluster_centers_[:, 1], marker='v', c='r', s=50)\n",
    "plt.show()"
   ]
  },
  {
   "cell_type": "code",
   "execution_count": 26,
   "metadata": {},
   "outputs": [
    {
     "data": {
      "text/plain": [
       "array([2, 2, 0, 0, 0, 1, 1, 2, 2, 1, 0, 2, 0, 2, 0, 0, 1, 1, 0, 1, 2, 2,\n",
       "       0, 2, 2, 1, 2, 1, 0, 0, 1, 2, 0, 1, 2, 1, 0, 0, 1, 2, 1, 1, 1, 2,\n",
       "       0, 0, 1, 1, 0, 2, 2, 0, 1, 0, 1, 0, 2, 0, 2, 1, 0, 1, 2, 1, 2, 2,\n",
       "       2, 2, 0, 0, 1, 1, 2, 2, 0, 2, 1, 0, 1, 0, 0, 2, 1, 2, 1, 0, 2, 1,\n",
       "       1, 0, 0, 1, 2, 2, 0, 0, 0, 2, 2, 0, 1, 1, 1, 2, 1, 0, 1, 1, 2, 1,\n",
       "       1, 2, 2, 2, 1, 2, 0, 2, 2, 1, 1, 0, 1, 1, 0, 2, 1, 1, 1, 1, 2, 0,\n",
       "       1, 2, 0, 2, 1, 0, 2, 2, 2, 1, 2, 0, 1, 0, 1, 1, 0, 1, 0, 2, 2, 0,\n",
       "       2, 2, 1, 0, 2, 2, 2, 1, 2, 1, 2, 1, 2, 2, 2, 1, 1, 2, 0, 1, 0, 2,\n",
       "       0, 2, 0, 2, 1, 1, 0, 0, 1, 0, 0, 2, 1, 2, 2, 1, 1, 0, 0, 2, 0, 1,\n",
       "       2, 0, 1, 2, 0, 2, 0, 0, 1, 1, 2, 0, 0, 2, 0, 2, 1, 0, 2, 2, 1, 1,\n",
       "       1, 2, 0, 2, 0, 1, 0, 0, 2, 0, 1, 0, 1, 1, 0, 2, 0, 2, 1, 0, 2, 0,\n",
       "       1, 1, 1, 1, 1, 0, 1, 2, 0, 1, 0, 2, 1, 0, 1, 2, 0, 1, 1, 1, 2, 0,\n",
       "       0, 0, 0, 0, 0, 0, 0, 2, 2, 0, 2, 0, 1, 1, 2, 1, 1, 2, 2, 2, 1, 0,\n",
       "       0, 0, 1, 1, 0, 0, 1, 0, 1, 0, 0, 1, 2, 2, 0, 2, 1, 0, 0, 2, 2, 1,\n",
       "       0, 0, 2, 0, 1, 0, 1, 2, 2, 1, 1, 2, 0, 2, 2, 2, 2, 2, 1, 2, 2, 1,\n",
       "       2, 2, 1, 0, 1, 1, 0, 1, 2, 1, 0, 0, 0, 2, 0, 1, 1, 2, 0, 0, 2, 1,\n",
       "       1, 1, 0, 2, 1, 2, 2, 1, 0, 1, 0, 1, 1, 1, 2, 2, 0, 0, 1, 2, 0, 2,\n",
       "       2, 1, 2, 2, 2, 0, 0, 0, 1, 2, 2, 2, 2, 2, 0, 0, 1, 0, 0, 0, 1, 1,\n",
       "       0, 0, 0, 0])"
      ]
     },
     "execution_count": 26,
     "metadata": {},
     "output_type": "execute_result"
    }
   ],
   "source": [
    "y"
   ]
  },
  {
   "cell_type": "code",
   "execution_count": 27,
   "metadata": {},
   "outputs": [
    {
     "data": {
      "text/plain": [
       "array([0, 0, 2, 2, 2, 1, 1, 0, 0, 1, 2, 0, 2, 0, 2, 2, 1, 1, 2, 1, 0, 0,\n",
       "       2, 0, 0, 1, 0, 1, 2, 2, 1, 2, 2, 1, 0, 1, 2, 2, 1, 0, 0, 1, 1, 2,\n",
       "       2, 2, 2, 1, 2, 0, 0, 2, 1, 0, 1, 2, 0, 2, 0, 1, 0, 1, 0, 1, 0, 0,\n",
       "       1, 0, 2, 0, 1, 1, 0, 0, 2, 0, 1, 2, 1, 2, 1, 2, 1, 0, 1, 2, 0, 1,\n",
       "       1, 2, 2, 2, 0, 0, 2, 2, 2, 0, 0, 2, 1, 0, 1, 0, 1, 2, 1, 1, 0, 1,\n",
       "       1, 0, 0, 0, 2, 2, 2, 0, 0, 1, 1, 2, 1, 1, 2, 0, 1, 2, 1, 1, 0, 2,\n",
       "       1, 0, 0, 0, 1, 2, 2, 0, 2, 1, 0, 2, 1, 2, 1, 1, 2, 1, 2, 0, 0, 2,\n",
       "       0, 0, 1, 2, 0, 2, 0, 1, 0, 1, 0, 1, 0, 0, 0, 1, 1, 0, 2, 1, 2, 0,\n",
       "       2, 1, 0, 0, 1, 1, 2, 2, 0, 2, 2, 0, 1, 0, 0, 1, 1, 2, 2, 0, 2, 1,\n",
       "       0, 2, 1, 0, 2, 0, 2, 2, 1, 1, 0, 2, 2, 0, 2, 0, 1, 2, 0, 0, 1, 1,\n",
       "       1, 0, 2, 0, 2, 1, 2, 2, 0, 2, 1, 2, 1, 1, 2, 0, 2, 0, 1, 1, 0, 2,\n",
       "       2, 1, 1, 1, 1, 2, 1, 0, 2, 1, 2, 0, 1, 2, 1, 0, 2, 1, 1, 1, 0, 2,\n",
       "       2, 2, 2, 2, 2, 2, 2, 2, 0, 2, 0, 2, 1, 1, 0, 1, 1, 0, 0, 0, 1, 2,\n",
       "       2, 2, 1, 1, 2, 1, 1, 2, 1, 2, 2, 1, 0, 0, 2, 0, 1, 2, 2, 0, 2, 1,\n",
       "       2, 2, 0, 2, 1, 2, 1, 1, 0, 1, 1, 0, 2, 0, 0, 0, 0, 0, 1, 0, 0, 1,\n",
       "       0, 2, 1, 2, 1, 1, 2, 1, 0, 1, 2, 2, 2, 0, 2, 1, 1, 0, 2, 2, 0, 1,\n",
       "       1, 1, 2, 0, 1, 0, 0, 1, 2, 1, 2, 1, 1, 1, 0, 0, 1, 2, 1, 0, 2, 0,\n",
       "       0, 0, 0, 0, 0, 2, 2, 2, 1, 0, 0, 0, 0, 0, 2, 2, 1, 2, 2, 2, 1, 1,\n",
       "       2, 2, 2, 1])"
      ]
     },
     "execution_count": 27,
     "metadata": {},
     "output_type": "execute_result"
    }
   ],
   "source": [
    "improved_k_means.labels_"
   ]
  },
  {
   "attachments": {},
   "cell_type": "markdown",
   "metadata": {},
   "source": [
    "## Debemos dejar la información los más legible posible"
   ]
  },
  {
   "cell_type": "code",
   "execution_count": 28,
   "metadata": {},
   "outputs": [],
   "source": [
    "df_labels = pd.DataFrame(improved_k_means.labels_)"
   ]
  },
  {
   "cell_type": "code",
   "execution_count": 31,
   "metadata": {},
   "outputs": [
    {
     "data": {
      "text/plain": [
       "array([0, 2, 1])"
      ]
     },
     "execution_count": 31,
     "metadata": {},
     "output_type": "execute_result"
    }
   ],
   "source": [
    "df_labels[0].unique()"
   ]
  },
  {
   "cell_type": "code",
   "execution_count": 35,
   "metadata": {},
   "outputs": [
    {
     "data": {
      "text/plain": [
       "array([[-1.67037977,  2.67947776],\n",
       "       [ 1.97866944,  0.82312532],\n",
       "       [ 0.84299197,  4.3602611 ]])"
      ]
     },
     "execution_count": 35,
     "metadata": {},
     "output_type": "execute_result"
    }
   ],
   "source": [
    "improved_k_means.cluster_centers_"
   ]
  },
  {
   "cell_type": "code",
   "execution_count": 36,
   "metadata": {},
   "outputs": [],
   "source": [
    "labels = ['Clientes fidelizados','En proceso de fidelización', 'Clientes VIP']"
   ]
  },
  {
   "cell_type": "code",
   "execution_count": 37,
   "metadata": {},
   "outputs": [],
   "source": [
    "predicted = improved_k_means.predict(df)"
   ]
  },
  {
   "cell_type": "code",
   "execution_count": 38,
   "metadata": {},
   "outputs": [
    {
     "name": "stdout",
     "output_type": "stream",
     "text": [
      "El cliente #0 pertenece al grupo: Clientes fidelizados\n",
      "El cliente #1 pertenece al grupo: Clientes fidelizados\n",
      "El cliente #2 pertenece al grupo: Clientes VIP\n",
      "El cliente #3 pertenece al grupo: Clientes VIP\n",
      "El cliente #4 pertenece al grupo: Clientes VIP\n",
      "El cliente #5 pertenece al grupo: En proceso de fidelización\n",
      "El cliente #6 pertenece al grupo: En proceso de fidelización\n",
      "El cliente #7 pertenece al grupo: Clientes fidelizados\n",
      "El cliente #8 pertenece al grupo: Clientes fidelizados\n",
      "El cliente #9 pertenece al grupo: En proceso de fidelización\n",
      "El cliente #10 pertenece al grupo: Clientes VIP\n",
      "El cliente #11 pertenece al grupo: Clientes fidelizados\n",
      "El cliente #12 pertenece al grupo: Clientes VIP\n",
      "El cliente #13 pertenece al grupo: Clientes fidelizados\n",
      "El cliente #14 pertenece al grupo: Clientes VIP\n",
      "El cliente #15 pertenece al grupo: Clientes VIP\n",
      "El cliente #16 pertenece al grupo: En proceso de fidelización\n",
      "El cliente #17 pertenece al grupo: En proceso de fidelización\n",
      "El cliente #18 pertenece al grupo: Clientes VIP\n",
      "El cliente #19 pertenece al grupo: En proceso de fidelización\n",
      "El cliente #20 pertenece al grupo: Clientes fidelizados\n",
      "El cliente #21 pertenece al grupo: Clientes fidelizados\n",
      "El cliente #22 pertenece al grupo: Clientes VIP\n",
      "El cliente #23 pertenece al grupo: Clientes fidelizados\n",
      "El cliente #24 pertenece al grupo: Clientes fidelizados\n",
      "El cliente #25 pertenece al grupo: En proceso de fidelización\n",
      "El cliente #26 pertenece al grupo: Clientes fidelizados\n",
      "El cliente #27 pertenece al grupo: En proceso de fidelización\n",
      "El cliente #28 pertenece al grupo: Clientes VIP\n",
      "El cliente #29 pertenece al grupo: Clientes VIP\n",
      "El cliente #30 pertenece al grupo: En proceso de fidelización\n",
      "El cliente #31 pertenece al grupo: Clientes VIP\n",
      "El cliente #32 pertenece al grupo: Clientes VIP\n",
      "El cliente #33 pertenece al grupo: En proceso de fidelización\n",
      "El cliente #34 pertenece al grupo: Clientes fidelizados\n",
      "El cliente #35 pertenece al grupo: En proceso de fidelización\n",
      "El cliente #36 pertenece al grupo: Clientes VIP\n",
      "El cliente #37 pertenece al grupo: Clientes VIP\n",
      "El cliente #38 pertenece al grupo: En proceso de fidelización\n",
      "El cliente #39 pertenece al grupo: Clientes fidelizados\n",
      "El cliente #40 pertenece al grupo: Clientes fidelizados\n",
      "El cliente #41 pertenece al grupo: En proceso de fidelización\n",
      "El cliente #42 pertenece al grupo: En proceso de fidelización\n",
      "El cliente #43 pertenece al grupo: Clientes VIP\n",
      "El cliente #44 pertenece al grupo: Clientes VIP\n",
      "El cliente #45 pertenece al grupo: Clientes VIP\n",
      "El cliente #46 pertenece al grupo: Clientes VIP\n",
      "El cliente #47 pertenece al grupo: En proceso de fidelización\n",
      "El cliente #48 pertenece al grupo: Clientes VIP\n",
      "El cliente #49 pertenece al grupo: Clientes fidelizados\n",
      "El cliente #50 pertenece al grupo: Clientes fidelizados\n",
      "El cliente #51 pertenece al grupo: Clientes VIP\n",
      "El cliente #52 pertenece al grupo: En proceso de fidelización\n",
      "El cliente #53 pertenece al grupo: Clientes fidelizados\n",
      "El cliente #54 pertenece al grupo: En proceso de fidelización\n",
      "El cliente #55 pertenece al grupo: Clientes VIP\n",
      "El cliente #56 pertenece al grupo: Clientes fidelizados\n",
      "El cliente #57 pertenece al grupo: Clientes VIP\n",
      "El cliente #58 pertenece al grupo: Clientes fidelizados\n",
      "El cliente #59 pertenece al grupo: En proceso de fidelización\n",
      "El cliente #60 pertenece al grupo: Clientes fidelizados\n",
      "El cliente #61 pertenece al grupo: En proceso de fidelización\n",
      "El cliente #62 pertenece al grupo: Clientes fidelizados\n",
      "El cliente #63 pertenece al grupo: En proceso de fidelización\n",
      "El cliente #64 pertenece al grupo: Clientes fidelizados\n",
      "El cliente #65 pertenece al grupo: Clientes fidelizados\n",
      "El cliente #66 pertenece al grupo: En proceso de fidelización\n",
      "El cliente #67 pertenece al grupo: Clientes fidelizados\n",
      "El cliente #68 pertenece al grupo: Clientes VIP\n",
      "El cliente #69 pertenece al grupo: Clientes fidelizados\n",
      "El cliente #70 pertenece al grupo: En proceso de fidelización\n",
      "El cliente #71 pertenece al grupo: En proceso de fidelización\n",
      "El cliente #72 pertenece al grupo: Clientes fidelizados\n",
      "El cliente #73 pertenece al grupo: Clientes fidelizados\n",
      "El cliente #74 pertenece al grupo: Clientes VIP\n",
      "El cliente #75 pertenece al grupo: Clientes fidelizados\n",
      "El cliente #76 pertenece al grupo: En proceso de fidelización\n",
      "El cliente #77 pertenece al grupo: Clientes VIP\n",
      "El cliente #78 pertenece al grupo: En proceso de fidelización\n",
      "El cliente #79 pertenece al grupo: Clientes VIP\n",
      "El cliente #80 pertenece al grupo: En proceso de fidelización\n",
      "El cliente #81 pertenece al grupo: Clientes VIP\n",
      "El cliente #82 pertenece al grupo: En proceso de fidelización\n",
      "El cliente #83 pertenece al grupo: Clientes fidelizados\n",
      "El cliente #84 pertenece al grupo: En proceso de fidelización\n",
      "El cliente #85 pertenece al grupo: Clientes VIP\n",
      "El cliente #86 pertenece al grupo: Clientes fidelizados\n",
      "El cliente #87 pertenece al grupo: En proceso de fidelización\n",
      "El cliente #88 pertenece al grupo: En proceso de fidelización\n",
      "El cliente #89 pertenece al grupo: Clientes VIP\n",
      "El cliente #90 pertenece al grupo: Clientes VIP\n",
      "El cliente #91 pertenece al grupo: Clientes VIP\n",
      "El cliente #92 pertenece al grupo: Clientes fidelizados\n",
      "El cliente #93 pertenece al grupo: Clientes fidelizados\n",
      "El cliente #94 pertenece al grupo: Clientes VIP\n",
      "El cliente #95 pertenece al grupo: Clientes VIP\n",
      "El cliente #96 pertenece al grupo: Clientes VIP\n",
      "El cliente #97 pertenece al grupo: Clientes fidelizados\n",
      "El cliente #98 pertenece al grupo: Clientes fidelizados\n",
      "El cliente #99 pertenece al grupo: Clientes VIP\n",
      "El cliente #100 pertenece al grupo: En proceso de fidelización\n",
      "El cliente #101 pertenece al grupo: Clientes fidelizados\n",
      "El cliente #102 pertenece al grupo: En proceso de fidelización\n",
      "El cliente #103 pertenece al grupo: Clientes fidelizados\n",
      "El cliente #104 pertenece al grupo: En proceso de fidelización\n",
      "El cliente #105 pertenece al grupo: Clientes VIP\n",
      "El cliente #106 pertenece al grupo: En proceso de fidelización\n",
      "El cliente #107 pertenece al grupo: En proceso de fidelización\n",
      "El cliente #108 pertenece al grupo: Clientes fidelizados\n",
      "El cliente #109 pertenece al grupo: En proceso de fidelización\n",
      "El cliente #110 pertenece al grupo: En proceso de fidelización\n",
      "El cliente #111 pertenece al grupo: Clientes fidelizados\n",
      "El cliente #112 pertenece al grupo: Clientes fidelizados\n",
      "El cliente #113 pertenece al grupo: Clientes fidelizados\n",
      "El cliente #114 pertenece al grupo: Clientes VIP\n",
      "El cliente #115 pertenece al grupo: Clientes VIP\n",
      "El cliente #116 pertenece al grupo: Clientes VIP\n",
      "El cliente #117 pertenece al grupo: Clientes fidelizados\n",
      "El cliente #118 pertenece al grupo: Clientes fidelizados\n",
      "El cliente #119 pertenece al grupo: En proceso de fidelización\n",
      "El cliente #120 pertenece al grupo: En proceso de fidelización\n",
      "El cliente #121 pertenece al grupo: Clientes VIP\n",
      "El cliente #122 pertenece al grupo: En proceso de fidelización\n",
      "El cliente #123 pertenece al grupo: En proceso de fidelización\n",
      "El cliente #124 pertenece al grupo: Clientes VIP\n",
      "El cliente #125 pertenece al grupo: Clientes fidelizados\n",
      "El cliente #126 pertenece al grupo: En proceso de fidelización\n",
      "El cliente #127 pertenece al grupo: Clientes VIP\n",
      "El cliente #128 pertenece al grupo: En proceso de fidelización\n",
      "El cliente #129 pertenece al grupo: En proceso de fidelización\n",
      "El cliente #130 pertenece al grupo: Clientes fidelizados\n",
      "El cliente #131 pertenece al grupo: Clientes VIP\n",
      "El cliente #132 pertenece al grupo: En proceso de fidelización\n",
      "El cliente #133 pertenece al grupo: Clientes fidelizados\n",
      "El cliente #134 pertenece al grupo: Clientes fidelizados\n",
      "El cliente #135 pertenece al grupo: Clientes fidelizados\n",
      "El cliente #136 pertenece al grupo: En proceso de fidelización\n",
      "El cliente #137 pertenece al grupo: Clientes VIP\n",
      "El cliente #138 pertenece al grupo: Clientes VIP\n",
      "El cliente #139 pertenece al grupo: Clientes fidelizados\n",
      "El cliente #140 pertenece al grupo: Clientes VIP\n",
      "El cliente #141 pertenece al grupo: En proceso de fidelización\n",
      "El cliente #142 pertenece al grupo: Clientes fidelizados\n",
      "El cliente #143 pertenece al grupo: Clientes VIP\n",
      "El cliente #144 pertenece al grupo: En proceso de fidelización\n",
      "El cliente #145 pertenece al grupo: Clientes VIP\n",
      "El cliente #146 pertenece al grupo: En proceso de fidelización\n",
      "El cliente #147 pertenece al grupo: En proceso de fidelización\n",
      "El cliente #148 pertenece al grupo: Clientes VIP\n",
      "El cliente #149 pertenece al grupo: En proceso de fidelización\n",
      "El cliente #150 pertenece al grupo: Clientes VIP\n",
      "El cliente #151 pertenece al grupo: Clientes fidelizados\n",
      "El cliente #152 pertenece al grupo: Clientes fidelizados\n",
      "El cliente #153 pertenece al grupo: Clientes VIP\n",
      "El cliente #154 pertenece al grupo: Clientes fidelizados\n",
      "El cliente #155 pertenece al grupo: Clientes fidelizados\n",
      "El cliente #156 pertenece al grupo: En proceso de fidelización\n",
      "El cliente #157 pertenece al grupo: Clientes VIP\n",
      "El cliente #158 pertenece al grupo: Clientes fidelizados\n",
      "El cliente #159 pertenece al grupo: Clientes VIP\n",
      "El cliente #160 pertenece al grupo: Clientes fidelizados\n",
      "El cliente #161 pertenece al grupo: En proceso de fidelización\n",
      "El cliente #162 pertenece al grupo: Clientes fidelizados\n",
      "El cliente #163 pertenece al grupo: En proceso de fidelización\n",
      "El cliente #164 pertenece al grupo: Clientes fidelizados\n",
      "El cliente #165 pertenece al grupo: En proceso de fidelización\n",
      "El cliente #166 pertenece al grupo: Clientes fidelizados\n",
      "El cliente #167 pertenece al grupo: Clientes fidelizados\n",
      "El cliente #168 pertenece al grupo: Clientes fidelizados\n",
      "El cliente #169 pertenece al grupo: En proceso de fidelización\n",
      "El cliente #170 pertenece al grupo: En proceso de fidelización\n",
      "El cliente #171 pertenece al grupo: Clientes fidelizados\n",
      "El cliente #172 pertenece al grupo: Clientes VIP\n",
      "El cliente #173 pertenece al grupo: En proceso de fidelización\n",
      "El cliente #174 pertenece al grupo: Clientes VIP\n",
      "El cliente #175 pertenece al grupo: Clientes fidelizados\n",
      "El cliente #176 pertenece al grupo: Clientes VIP\n",
      "El cliente #177 pertenece al grupo: En proceso de fidelización\n",
      "El cliente #178 pertenece al grupo: Clientes fidelizados\n",
      "El cliente #179 pertenece al grupo: Clientes fidelizados\n",
      "El cliente #180 pertenece al grupo: En proceso de fidelización\n",
      "El cliente #181 pertenece al grupo: En proceso de fidelización\n",
      "El cliente #182 pertenece al grupo: Clientes VIP\n",
      "El cliente #183 pertenece al grupo: Clientes VIP\n",
      "El cliente #184 pertenece al grupo: Clientes fidelizados\n",
      "El cliente #185 pertenece al grupo: Clientes VIP\n",
      "El cliente #186 pertenece al grupo: Clientes VIP\n",
      "El cliente #187 pertenece al grupo: Clientes fidelizados\n",
      "El cliente #188 pertenece al grupo: En proceso de fidelización\n",
      "El cliente #189 pertenece al grupo: Clientes fidelizados\n",
      "El cliente #190 pertenece al grupo: Clientes fidelizados\n",
      "El cliente #191 pertenece al grupo: En proceso de fidelización\n",
      "El cliente #192 pertenece al grupo: En proceso de fidelización\n",
      "El cliente #193 pertenece al grupo: Clientes VIP\n",
      "El cliente #194 pertenece al grupo: Clientes VIP\n",
      "El cliente #195 pertenece al grupo: Clientes fidelizados\n",
      "El cliente #196 pertenece al grupo: Clientes VIP\n",
      "El cliente #197 pertenece al grupo: En proceso de fidelización\n",
      "El cliente #198 pertenece al grupo: Clientes fidelizados\n",
      "El cliente #199 pertenece al grupo: Clientes VIP\n",
      "El cliente #200 pertenece al grupo: En proceso de fidelización\n",
      "El cliente #201 pertenece al grupo: Clientes fidelizados\n",
      "El cliente #202 pertenece al grupo: Clientes VIP\n",
      "El cliente #203 pertenece al grupo: Clientes fidelizados\n",
      "El cliente #204 pertenece al grupo: Clientes VIP\n",
      "El cliente #205 pertenece al grupo: Clientes VIP\n",
      "El cliente #206 pertenece al grupo: En proceso de fidelización\n",
      "El cliente #207 pertenece al grupo: En proceso de fidelización\n",
      "El cliente #208 pertenece al grupo: Clientes fidelizados\n",
      "El cliente #209 pertenece al grupo: Clientes VIP\n",
      "El cliente #210 pertenece al grupo: Clientes VIP\n",
      "El cliente #211 pertenece al grupo: Clientes fidelizados\n",
      "El cliente #212 pertenece al grupo: Clientes VIP\n",
      "El cliente #213 pertenece al grupo: Clientes fidelizados\n",
      "El cliente #214 pertenece al grupo: En proceso de fidelización\n",
      "El cliente #215 pertenece al grupo: Clientes VIP\n",
      "El cliente #216 pertenece al grupo: Clientes fidelizados\n",
      "El cliente #217 pertenece al grupo: Clientes fidelizados\n",
      "El cliente #218 pertenece al grupo: En proceso de fidelización\n",
      "El cliente #219 pertenece al grupo: En proceso de fidelización\n",
      "El cliente #220 pertenece al grupo: En proceso de fidelización\n",
      "El cliente #221 pertenece al grupo: Clientes fidelizados\n",
      "El cliente #222 pertenece al grupo: Clientes VIP\n",
      "El cliente #223 pertenece al grupo: Clientes fidelizados\n",
      "El cliente #224 pertenece al grupo: Clientes VIP\n",
      "El cliente #225 pertenece al grupo: En proceso de fidelización\n",
      "El cliente #226 pertenece al grupo: Clientes VIP\n",
      "El cliente #227 pertenece al grupo: Clientes VIP\n",
      "El cliente #228 pertenece al grupo: Clientes fidelizados\n",
      "El cliente #229 pertenece al grupo: Clientes VIP\n",
      "El cliente #230 pertenece al grupo: En proceso de fidelización\n",
      "El cliente #231 pertenece al grupo: Clientes VIP\n",
      "El cliente #232 pertenece al grupo: En proceso de fidelización\n",
      "El cliente #233 pertenece al grupo: En proceso de fidelización\n",
      "El cliente #234 pertenece al grupo: Clientes VIP\n",
      "El cliente #235 pertenece al grupo: Clientes fidelizados\n",
      "El cliente #236 pertenece al grupo: Clientes VIP\n",
      "El cliente #237 pertenece al grupo: Clientes fidelizados\n",
      "El cliente #238 pertenece al grupo: En proceso de fidelización\n",
      "El cliente #239 pertenece al grupo: En proceso de fidelización\n",
      "El cliente #240 pertenece al grupo: Clientes fidelizados\n",
      "El cliente #241 pertenece al grupo: Clientes VIP\n",
      "El cliente #242 pertenece al grupo: Clientes VIP\n",
      "El cliente #243 pertenece al grupo: En proceso de fidelización\n",
      "El cliente #244 pertenece al grupo: En proceso de fidelización\n",
      "El cliente #245 pertenece al grupo: En proceso de fidelización\n",
      "El cliente #246 pertenece al grupo: En proceso de fidelización\n",
      "El cliente #247 pertenece al grupo: Clientes VIP\n",
      "El cliente #248 pertenece al grupo: En proceso de fidelización\n",
      "El cliente #249 pertenece al grupo: Clientes fidelizados\n",
      "El cliente #250 pertenece al grupo: Clientes VIP\n",
      "El cliente #251 pertenece al grupo: En proceso de fidelización\n",
      "El cliente #252 pertenece al grupo: Clientes VIP\n",
      "El cliente #253 pertenece al grupo: Clientes fidelizados\n",
      "El cliente #254 pertenece al grupo: En proceso de fidelización\n",
      "El cliente #255 pertenece al grupo: Clientes VIP\n",
      "El cliente #256 pertenece al grupo: En proceso de fidelización\n",
      "El cliente #257 pertenece al grupo: Clientes fidelizados\n",
      "El cliente #258 pertenece al grupo: Clientes VIP\n",
      "El cliente #259 pertenece al grupo: En proceso de fidelización\n",
      "El cliente #260 pertenece al grupo: En proceso de fidelización\n",
      "El cliente #261 pertenece al grupo: En proceso de fidelización\n",
      "El cliente #262 pertenece al grupo: Clientes fidelizados\n",
      "El cliente #263 pertenece al grupo: Clientes VIP\n",
      "El cliente #264 pertenece al grupo: Clientes VIP\n",
      "El cliente #265 pertenece al grupo: Clientes VIP\n",
      "El cliente #266 pertenece al grupo: Clientes VIP\n",
      "El cliente #267 pertenece al grupo: Clientes VIP\n",
      "El cliente #268 pertenece al grupo: Clientes VIP\n",
      "El cliente #269 pertenece al grupo: Clientes VIP\n",
      "El cliente #270 pertenece al grupo: Clientes VIP\n",
      "El cliente #271 pertenece al grupo: Clientes VIP\n",
      "El cliente #272 pertenece al grupo: Clientes fidelizados\n",
      "El cliente #273 pertenece al grupo: Clientes VIP\n",
      "El cliente #274 pertenece al grupo: Clientes fidelizados\n",
      "El cliente #275 pertenece al grupo: Clientes VIP\n",
      "El cliente #276 pertenece al grupo: En proceso de fidelización\n",
      "El cliente #277 pertenece al grupo: En proceso de fidelización\n",
      "El cliente #278 pertenece al grupo: Clientes fidelizados\n",
      "El cliente #279 pertenece al grupo: En proceso de fidelización\n",
      "El cliente #280 pertenece al grupo: En proceso de fidelización\n",
      "El cliente #281 pertenece al grupo: Clientes fidelizados\n",
      "El cliente #282 pertenece al grupo: Clientes fidelizados\n",
      "El cliente #283 pertenece al grupo: Clientes fidelizados\n",
      "El cliente #284 pertenece al grupo: En proceso de fidelización\n",
      "El cliente #285 pertenece al grupo: Clientes VIP\n",
      "El cliente #286 pertenece al grupo: Clientes VIP\n",
      "El cliente #287 pertenece al grupo: Clientes VIP\n",
      "El cliente #288 pertenece al grupo: En proceso de fidelización\n",
      "El cliente #289 pertenece al grupo: En proceso de fidelización\n",
      "El cliente #290 pertenece al grupo: Clientes VIP\n",
      "El cliente #291 pertenece al grupo: En proceso de fidelización\n",
      "El cliente #292 pertenece al grupo: En proceso de fidelización\n",
      "El cliente #293 pertenece al grupo: Clientes VIP\n",
      "El cliente #294 pertenece al grupo: En proceso de fidelización\n",
      "El cliente #295 pertenece al grupo: Clientes VIP\n",
      "El cliente #296 pertenece al grupo: Clientes VIP\n",
      "El cliente #297 pertenece al grupo: En proceso de fidelización\n",
      "El cliente #298 pertenece al grupo: Clientes fidelizados\n",
      "El cliente #299 pertenece al grupo: Clientes fidelizados\n",
      "El cliente #300 pertenece al grupo: Clientes VIP\n",
      "El cliente #301 pertenece al grupo: Clientes fidelizados\n",
      "El cliente #302 pertenece al grupo: En proceso de fidelización\n",
      "El cliente #303 pertenece al grupo: Clientes VIP\n",
      "El cliente #304 pertenece al grupo: Clientes VIP\n",
      "El cliente #305 pertenece al grupo: Clientes fidelizados\n",
      "El cliente #306 pertenece al grupo: Clientes VIP\n",
      "El cliente #307 pertenece al grupo: En proceso de fidelización\n",
      "El cliente #308 pertenece al grupo: Clientes VIP\n",
      "El cliente #309 pertenece al grupo: Clientes VIP\n",
      "El cliente #310 pertenece al grupo: Clientes fidelizados\n",
      "El cliente #311 pertenece al grupo: Clientes VIP\n",
      "El cliente #312 pertenece al grupo: En proceso de fidelización\n",
      "El cliente #313 pertenece al grupo: Clientes VIP\n",
      "El cliente #314 pertenece al grupo: En proceso de fidelización\n",
      "El cliente #315 pertenece al grupo: En proceso de fidelización\n",
      "El cliente #316 pertenece al grupo: Clientes fidelizados\n",
      "El cliente #317 pertenece al grupo: En proceso de fidelización\n",
      "El cliente #318 pertenece al grupo: En proceso de fidelización\n",
      "El cliente #319 pertenece al grupo: Clientes fidelizados\n",
      "El cliente #320 pertenece al grupo: Clientes VIP\n",
      "El cliente #321 pertenece al grupo: Clientes fidelizados\n",
      "El cliente #322 pertenece al grupo: Clientes fidelizados\n",
      "El cliente #323 pertenece al grupo: Clientes fidelizados\n",
      "El cliente #324 pertenece al grupo: Clientes fidelizados\n",
      "El cliente #325 pertenece al grupo: Clientes fidelizados\n",
      "El cliente #326 pertenece al grupo: En proceso de fidelización\n",
      "El cliente #327 pertenece al grupo: Clientes fidelizados\n",
      "El cliente #328 pertenece al grupo: Clientes fidelizados\n",
      "El cliente #329 pertenece al grupo: En proceso de fidelización\n",
      "El cliente #330 pertenece al grupo: Clientes fidelizados\n",
      "El cliente #331 pertenece al grupo: Clientes VIP\n",
      "El cliente #332 pertenece al grupo: En proceso de fidelización\n",
      "El cliente #333 pertenece al grupo: Clientes VIP\n",
      "El cliente #334 pertenece al grupo: En proceso de fidelización\n",
      "El cliente #335 pertenece al grupo: En proceso de fidelización\n",
      "El cliente #336 pertenece al grupo: Clientes VIP\n",
      "El cliente #337 pertenece al grupo: En proceso de fidelización\n",
      "El cliente #338 pertenece al grupo: Clientes fidelizados\n",
      "El cliente #339 pertenece al grupo: En proceso de fidelización\n",
      "El cliente #340 pertenece al grupo: Clientes VIP\n",
      "El cliente #341 pertenece al grupo: Clientes VIP\n",
      "El cliente #342 pertenece al grupo: Clientes VIP\n",
      "El cliente #343 pertenece al grupo: Clientes fidelizados\n",
      "El cliente #344 pertenece al grupo: Clientes VIP\n",
      "El cliente #345 pertenece al grupo: En proceso de fidelización\n",
      "El cliente #346 pertenece al grupo: En proceso de fidelización\n",
      "El cliente #347 pertenece al grupo: Clientes fidelizados\n",
      "El cliente #348 pertenece al grupo: Clientes VIP\n",
      "El cliente #349 pertenece al grupo: Clientes VIP\n",
      "El cliente #350 pertenece al grupo: Clientes fidelizados\n",
      "El cliente #351 pertenece al grupo: En proceso de fidelización\n",
      "El cliente #352 pertenece al grupo: En proceso de fidelización\n",
      "El cliente #353 pertenece al grupo: En proceso de fidelización\n",
      "El cliente #354 pertenece al grupo: Clientes VIP\n",
      "El cliente #355 pertenece al grupo: Clientes fidelizados\n",
      "El cliente #356 pertenece al grupo: En proceso de fidelización\n",
      "El cliente #357 pertenece al grupo: Clientes fidelizados\n",
      "El cliente #358 pertenece al grupo: Clientes fidelizados\n",
      "El cliente #359 pertenece al grupo: En proceso de fidelización\n",
      "El cliente #360 pertenece al grupo: Clientes VIP\n",
      "El cliente #361 pertenece al grupo: En proceso de fidelización\n",
      "El cliente #362 pertenece al grupo: Clientes VIP\n",
      "El cliente #363 pertenece al grupo: En proceso de fidelización\n",
      "El cliente #364 pertenece al grupo: En proceso de fidelización\n",
      "El cliente #365 pertenece al grupo: En proceso de fidelización\n",
      "El cliente #366 pertenece al grupo: Clientes fidelizados\n",
      "El cliente #367 pertenece al grupo: Clientes fidelizados\n",
      "El cliente #368 pertenece al grupo: En proceso de fidelización\n",
      "El cliente #369 pertenece al grupo: Clientes VIP\n",
      "El cliente #370 pertenece al grupo: En proceso de fidelización\n",
      "El cliente #371 pertenece al grupo: Clientes fidelizados\n",
      "El cliente #372 pertenece al grupo: Clientes VIP\n",
      "El cliente #373 pertenece al grupo: Clientes fidelizados\n",
      "El cliente #374 pertenece al grupo: Clientes fidelizados\n",
      "El cliente #375 pertenece al grupo: Clientes fidelizados\n",
      "El cliente #376 pertenece al grupo: Clientes fidelizados\n",
      "El cliente #377 pertenece al grupo: Clientes fidelizados\n",
      "El cliente #378 pertenece al grupo: Clientes fidelizados\n",
      "El cliente #379 pertenece al grupo: Clientes VIP\n",
      "El cliente #380 pertenece al grupo: Clientes VIP\n",
      "El cliente #381 pertenece al grupo: Clientes VIP\n",
      "El cliente #382 pertenece al grupo: En proceso de fidelización\n",
      "El cliente #383 pertenece al grupo: Clientes fidelizados\n",
      "El cliente #384 pertenece al grupo: Clientes fidelizados\n",
      "El cliente #385 pertenece al grupo: Clientes fidelizados\n",
      "El cliente #386 pertenece al grupo: Clientes fidelizados\n",
      "El cliente #387 pertenece al grupo: Clientes fidelizados\n",
      "El cliente #388 pertenece al grupo: Clientes VIP\n",
      "El cliente #389 pertenece al grupo: Clientes VIP\n",
      "El cliente #390 pertenece al grupo: En proceso de fidelización\n",
      "El cliente #391 pertenece al grupo: Clientes VIP\n",
      "El cliente #392 pertenece al grupo: Clientes VIP\n",
      "El cliente #393 pertenece al grupo: Clientes VIP\n",
      "El cliente #394 pertenece al grupo: En proceso de fidelización\n",
      "El cliente #395 pertenece al grupo: En proceso de fidelización\n",
      "El cliente #396 pertenece al grupo: Clientes VIP\n",
      "El cliente #397 pertenece al grupo: Clientes VIP\n",
      "El cliente #398 pertenece al grupo: Clientes VIP\n",
      "El cliente #399 pertenece al grupo: En proceso de fidelización\n"
     ]
    }
   ],
   "source": [
    "index = 0\n",
    "for customer in predicted:\n",
    "    print(f'El cliente #{index} pertenece al grupo: {labels[customer]}')\n",
    "    index += 1"
   ]
  }
 ],
 "metadata": {
  "kernelspec": {
   "display_name": "Python 3",
   "language": "python",
   "name": "python3"
  },
  "language_info": {
   "codemirror_mode": {
    "name": "ipython",
    "version": 3
   },
   "file_extension": ".py",
   "mimetype": "text/x-python",
   "name": "python",
   "nbconvert_exporter": "python",
   "pygments_lexer": "ipython3",
   "version": "3.8.5"
  },
  "orig_nbformat": 4
 },
 "nbformat": 4,
 "nbformat_minor": 2
}
