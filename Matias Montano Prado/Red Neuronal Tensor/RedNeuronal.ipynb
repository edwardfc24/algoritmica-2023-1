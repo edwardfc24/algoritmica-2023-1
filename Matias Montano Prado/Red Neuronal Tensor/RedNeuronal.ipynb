{
 "cells": [
  {
   "cell_type": "code",
   "execution_count": 30,
   "outputs": [],
   "source": [
    "#Fuente: https://www.youtube.com/watch?v=i8c_GRQ3H9E&t=270s\n",
    "#Dataset: https://www.kaggle.com/datasets/alphiree/cardiovascular-diseases-risk-prediction-dataset"
   ],
   "metadata": {
    "collapsed": false,
    "ExecuteTime": {
     "end_time": "2023-07-11T04:22:59.544507500Z",
     "start_time": "2023-07-11T04:22:59.531151700Z"
    }
   }
  },
  {
   "cell_type": "code",
   "execution_count": 49,
   "outputs": [],
   "source": [
    "import torch\n",
    "import torch.nn as nn\n",
    "import torch.nn.functional as F\n",
    "from torch.utils.data import random_split, TensorDataset\n",
    "import numpy as np\n",
    "import pandas as pd\n",
    "import matplotlib.pyplot as plt\n",
    "from sklearn.preprocessing import StandardScaler\n",
    "from sklearn.model_selection import train_test_split"
   ],
   "metadata": {
    "collapsed": false,
    "ExecuteTime": {
     "end_time": "2023-07-11T04:55:01.826833800Z",
     "start_time": "2023-07-11T04:55:01.814083500Z"
    }
   }
  },
  {
   "cell_type": "code",
   "execution_count": 50,
   "outputs": [
    {
     "data": {
      "text/plain": "  General_Health                  Checkup Exercise Heart_Disease Skin_Cancer  \\\n0           Poor  Within the past 2 years       No            No          No   \n1      Very Good     Within the past year       No           Yes          No   \n2      Very Good     Within the past year      Yes            No          No   \n3           Poor     Within the past year      Yes           Yes          No   \n4           Good     Within the past year       No            No          No   \n\n  Other_Cancer Depression Diabetes Arthritis     Sex Age_Category  \\\n0           No         No       No       Yes  Female        70-74   \n1           No         No      Yes        No  Female        70-74   \n2           No         No      Yes        No  Female        60-64   \n3           No         No      Yes        No    Male        75-79   \n4           No         No       No        No    Male          80+   \n\n   Height_(cm)  Weight_(kg)    BMI Smoking_History  Alcohol_Consumption  \\\n0        150.0        32.66  14.54             Yes                  0.0   \n1        165.0        77.11  28.29              No                  0.0   \n2        163.0        88.45  33.47              No                  4.0   \n3        180.0        93.44  28.73              No                  0.0   \n4        191.0        88.45  24.37             Yes                  0.0   \n\n   Fruit_Consumption  Green_Vegetables_Consumption  FriedPotato_Consumption  \n0               30.0                          16.0                     12.0  \n1               30.0                           0.0                      4.0  \n2               12.0                           3.0                     16.0  \n3               30.0                          30.0                      8.0  \n4                8.0                           4.0                      0.0  ",
      "text/html": "<div>\n<style scoped>\n    .dataframe tbody tr th:only-of-type {\n        vertical-align: middle;\n    }\n\n    .dataframe tbody tr th {\n        vertical-align: top;\n    }\n\n    .dataframe thead th {\n        text-align: right;\n    }\n</style>\n<table border=\"1\" class=\"dataframe\">\n  <thead>\n    <tr style=\"text-align: right;\">\n      <th></th>\n      <th>General_Health</th>\n      <th>Checkup</th>\n      <th>Exercise</th>\n      <th>Heart_Disease</th>\n      <th>Skin_Cancer</th>\n      <th>Other_Cancer</th>\n      <th>Depression</th>\n      <th>Diabetes</th>\n      <th>Arthritis</th>\n      <th>Sex</th>\n      <th>Age_Category</th>\n      <th>Height_(cm)</th>\n      <th>Weight_(kg)</th>\n      <th>BMI</th>\n      <th>Smoking_History</th>\n      <th>Alcohol_Consumption</th>\n      <th>Fruit_Consumption</th>\n      <th>Green_Vegetables_Consumption</th>\n      <th>FriedPotato_Consumption</th>\n    </tr>\n  </thead>\n  <tbody>\n    <tr>\n      <th>0</th>\n      <td>Poor</td>\n      <td>Within the past 2 years</td>\n      <td>No</td>\n      <td>No</td>\n      <td>No</td>\n      <td>No</td>\n      <td>No</td>\n      <td>No</td>\n      <td>Yes</td>\n      <td>Female</td>\n      <td>70-74</td>\n      <td>150.0</td>\n      <td>32.66</td>\n      <td>14.54</td>\n      <td>Yes</td>\n      <td>0.0</td>\n      <td>30.0</td>\n      <td>16.0</td>\n      <td>12.0</td>\n    </tr>\n    <tr>\n      <th>1</th>\n      <td>Very Good</td>\n      <td>Within the past year</td>\n      <td>No</td>\n      <td>Yes</td>\n      <td>No</td>\n      <td>No</td>\n      <td>No</td>\n      <td>Yes</td>\n      <td>No</td>\n      <td>Female</td>\n      <td>70-74</td>\n      <td>165.0</td>\n      <td>77.11</td>\n      <td>28.29</td>\n      <td>No</td>\n      <td>0.0</td>\n      <td>30.0</td>\n      <td>0.0</td>\n      <td>4.0</td>\n    </tr>\n    <tr>\n      <th>2</th>\n      <td>Very Good</td>\n      <td>Within the past year</td>\n      <td>Yes</td>\n      <td>No</td>\n      <td>No</td>\n      <td>No</td>\n      <td>No</td>\n      <td>Yes</td>\n      <td>No</td>\n      <td>Female</td>\n      <td>60-64</td>\n      <td>163.0</td>\n      <td>88.45</td>\n      <td>33.47</td>\n      <td>No</td>\n      <td>4.0</td>\n      <td>12.0</td>\n      <td>3.0</td>\n      <td>16.0</td>\n    </tr>\n    <tr>\n      <th>3</th>\n      <td>Poor</td>\n      <td>Within the past year</td>\n      <td>Yes</td>\n      <td>Yes</td>\n      <td>No</td>\n      <td>No</td>\n      <td>No</td>\n      <td>Yes</td>\n      <td>No</td>\n      <td>Male</td>\n      <td>75-79</td>\n      <td>180.0</td>\n      <td>93.44</td>\n      <td>28.73</td>\n      <td>No</td>\n      <td>0.0</td>\n      <td>30.0</td>\n      <td>30.0</td>\n      <td>8.0</td>\n    </tr>\n    <tr>\n      <th>4</th>\n      <td>Good</td>\n      <td>Within the past year</td>\n      <td>No</td>\n      <td>No</td>\n      <td>No</td>\n      <td>No</td>\n      <td>No</td>\n      <td>No</td>\n      <td>No</td>\n      <td>Male</td>\n      <td>80+</td>\n      <td>191.0</td>\n      <td>88.45</td>\n      <td>24.37</td>\n      <td>Yes</td>\n      <td>0.0</td>\n      <td>8.0</td>\n      <td>4.0</td>\n      <td>0.0</td>\n    </tr>\n  </tbody>\n</table>\n</div>"
     },
     "execution_count": 50,
     "metadata": {},
     "output_type": "execute_result"
    }
   ],
   "source": [
    "# Cargar los datos\n",
    "datos = pd.read_csv('CVD_cleaned.csv')\n",
    "datos.head()"
   ],
   "metadata": {
    "collapsed": false,
    "ExecuteTime": {
     "end_time": "2023-07-11T04:55:02.751474800Z",
     "start_time": "2023-07-11T04:55:02.227834600Z"
    }
   }
  },
  {
   "cell_type": "code",
   "execution_count": 51,
   "outputs": [
    {
     "data": {
      "text/plain": "   General_Health  Checkup  Exercise  Heart_Disease  Skin_Cancer  \\\n0               0        0         0              0            0   \n1               1        1         0              1            0   \n2               1        1         1              0            0   \n3               0        1         1              1            0   \n4               2        1         0              0            0   \n\n   Other_Cancer  Depression  Diabetes  Arthritis  Sex  Age_Category  \\\n0             0           0         0          0    0             0   \n1             0           0         1          1    0             0   \n2             0           0         1          1    0             1   \n3             0           0         1          1    1             2   \n4             0           0         0          1    1             3   \n\n   Height_(cm)  Weight_(kg)    BMI  Smoking_History  Alcohol_Consumption  \\\n0        150.0        32.66  14.54                0                  0.0   \n1        165.0        77.11  28.29                1                  0.0   \n2        163.0        88.45  33.47                1                  4.0   \n3        180.0        93.44  28.73                1                  0.0   \n4        191.0        88.45  24.37                0                  0.0   \n\n   Fruit_Consumption  Green_Vegetables_Consumption  FriedPotato_Consumption  \n0               30.0                          16.0                     12.0  \n1               30.0                           0.0                      4.0  \n2               12.0                           3.0                     16.0  \n3               30.0                          30.0                      8.0  \n4                8.0                           4.0                      0.0  ",
      "text/html": "<div>\n<style scoped>\n    .dataframe tbody tr th:only-of-type {\n        vertical-align: middle;\n    }\n\n    .dataframe tbody tr th {\n        vertical-align: top;\n    }\n\n    .dataframe thead th {\n        text-align: right;\n    }\n</style>\n<table border=\"1\" class=\"dataframe\">\n  <thead>\n    <tr style=\"text-align: right;\">\n      <th></th>\n      <th>General_Health</th>\n      <th>Checkup</th>\n      <th>Exercise</th>\n      <th>Heart_Disease</th>\n      <th>Skin_Cancer</th>\n      <th>Other_Cancer</th>\n      <th>Depression</th>\n      <th>Diabetes</th>\n      <th>Arthritis</th>\n      <th>Sex</th>\n      <th>Age_Category</th>\n      <th>Height_(cm)</th>\n      <th>Weight_(kg)</th>\n      <th>BMI</th>\n      <th>Smoking_History</th>\n      <th>Alcohol_Consumption</th>\n      <th>Fruit_Consumption</th>\n      <th>Green_Vegetables_Consumption</th>\n      <th>FriedPotato_Consumption</th>\n    </tr>\n  </thead>\n  <tbody>\n    <tr>\n      <th>0</th>\n      <td>0</td>\n      <td>0</td>\n      <td>0</td>\n      <td>0</td>\n      <td>0</td>\n      <td>0</td>\n      <td>0</td>\n      <td>0</td>\n      <td>0</td>\n      <td>0</td>\n      <td>0</td>\n      <td>150.0</td>\n      <td>32.66</td>\n      <td>14.54</td>\n      <td>0</td>\n      <td>0.0</td>\n      <td>30.0</td>\n      <td>16.0</td>\n      <td>12.0</td>\n    </tr>\n    <tr>\n      <th>1</th>\n      <td>1</td>\n      <td>1</td>\n      <td>0</td>\n      <td>1</td>\n      <td>0</td>\n      <td>0</td>\n      <td>0</td>\n      <td>1</td>\n      <td>1</td>\n      <td>0</td>\n      <td>0</td>\n      <td>165.0</td>\n      <td>77.11</td>\n      <td>28.29</td>\n      <td>1</td>\n      <td>0.0</td>\n      <td>30.0</td>\n      <td>0.0</td>\n      <td>4.0</td>\n    </tr>\n    <tr>\n      <th>2</th>\n      <td>1</td>\n      <td>1</td>\n      <td>1</td>\n      <td>0</td>\n      <td>0</td>\n      <td>0</td>\n      <td>0</td>\n      <td>1</td>\n      <td>1</td>\n      <td>0</td>\n      <td>1</td>\n      <td>163.0</td>\n      <td>88.45</td>\n      <td>33.47</td>\n      <td>1</td>\n      <td>4.0</td>\n      <td>12.0</td>\n      <td>3.0</td>\n      <td>16.0</td>\n    </tr>\n    <tr>\n      <th>3</th>\n      <td>0</td>\n      <td>1</td>\n      <td>1</td>\n      <td>1</td>\n      <td>0</td>\n      <td>0</td>\n      <td>0</td>\n      <td>1</td>\n      <td>1</td>\n      <td>1</td>\n      <td>2</td>\n      <td>180.0</td>\n      <td>93.44</td>\n      <td>28.73</td>\n      <td>1</td>\n      <td>0.0</td>\n      <td>30.0</td>\n      <td>30.0</td>\n      <td>8.0</td>\n    </tr>\n    <tr>\n      <th>4</th>\n      <td>2</td>\n      <td>1</td>\n      <td>0</td>\n      <td>0</td>\n      <td>0</td>\n      <td>0</td>\n      <td>0</td>\n      <td>0</td>\n      <td>1</td>\n      <td>1</td>\n      <td>3</td>\n      <td>191.0</td>\n      <td>88.45</td>\n      <td>24.37</td>\n      <td>0</td>\n      <td>0.0</td>\n      <td>8.0</td>\n      <td>4.0</td>\n      <td>0.0</td>\n    </tr>\n  </tbody>\n</table>\n</div>"
     },
     "execution_count": 51,
     "metadata": {},
     "output_type": "execute_result"
    }
   ],
   "source": [
    "# Limpiar Datos\n",
    "# Obtener las columnas no numéricas con valores únicos\n",
    "columnas_no_numericas = datos.select_dtypes(exclude=[np.number]).columns\n",
    "diccionario_mapeo = {}\n",
    "\n",
    "# Mapear las columnas no numéricas con valores únicos a enteros\n",
    "for columna in columnas_no_numericas:\n",
    "    valores_unicos = datos[columna].unique()\n",
    "    diccionario_mapeo[columna] = {valor: indice for indice, valor in enumerate(valores_unicos)}\n",
    "    datos[columna] = datos[columna].map(diccionario_mapeo[columna])\n",
    "\n",
    "# Imputar los valores faltantes con la media de cada columna numérica\n",
    "columnas_numericas = datos.select_dtypes(include=[np.number]).columns\n",
    "datos[columnas_numericas] = datos[columnas_numericas].fillna(datos[columnas_numericas].mean())\n",
    "datos.head()"
   ],
   "metadata": {
    "collapsed": false,
    "ExecuteTime": {
     "end_time": "2023-07-11T04:55:03.816850200Z",
     "start_time": "2023-07-11T04:55:03.366331Z"
    }
   }
  },
  {
   "cell_type": "code",
   "execution_count": 52,
   "outputs": [
    {
     "data": {
      "text/plain": "0    0\n1    1\n2    0\n3    1\n4    0\nName: Heart_Disease, dtype: int64"
     },
     "execution_count": 52,
     "metadata": {},
     "output_type": "execute_result"
    }
   ],
   "source": [
    "# Separamos la ultima columna para que sea variable destino\n",
    "datos_y = datos['Heart_Disease']\n",
    "datos_y.head()"
   ],
   "metadata": {
    "collapsed": false,
    "ExecuteTime": {
     "end_time": "2023-07-11T04:55:04.401898800Z",
     "start_time": "2023-07-11T04:55:04.382008500Z"
    }
   }
  },
  {
   "cell_type": "code",
   "execution_count": 53,
   "outputs": [
    {
     "data": {
      "text/plain": "   General_Health  Checkup  Exercise  Skin_Cancer  Other_Cancer  Depression  \\\n0               0        0         0            0             0           0   \n1               1        1         0            0             0           0   \n2               1        1         1            0             0           0   \n3               0        1         1            0             0           0   \n4               2        1         0            0             0           0   \n\n   Diabetes  Arthritis  Sex  Age_Category  Height_(cm)  Weight_(kg)    BMI  \\\n0         0          0    0             0        150.0        32.66  14.54   \n1         1          1    0             0        165.0        77.11  28.29   \n2         1          1    0             1        163.0        88.45  33.47   \n3         1          1    1             2        180.0        93.44  28.73   \n4         0          1    1             3        191.0        88.45  24.37   \n\n   Smoking_History  Alcohol_Consumption  Fruit_Consumption  \\\n0                0                  0.0               30.0   \n1                1                  0.0               30.0   \n2                1                  4.0               12.0   \n3                1                  0.0               30.0   \n4                0                  0.0                8.0   \n\n   Green_Vegetables_Consumption  FriedPotato_Consumption  \n0                          16.0                     12.0  \n1                           0.0                      4.0  \n2                           3.0                     16.0  \n3                          30.0                      8.0  \n4                           4.0                      0.0  ",
      "text/html": "<div>\n<style scoped>\n    .dataframe tbody tr th:only-of-type {\n        vertical-align: middle;\n    }\n\n    .dataframe tbody tr th {\n        vertical-align: top;\n    }\n\n    .dataframe thead th {\n        text-align: right;\n    }\n</style>\n<table border=\"1\" class=\"dataframe\">\n  <thead>\n    <tr style=\"text-align: right;\">\n      <th></th>\n      <th>General_Health</th>\n      <th>Checkup</th>\n      <th>Exercise</th>\n      <th>Skin_Cancer</th>\n      <th>Other_Cancer</th>\n      <th>Depression</th>\n      <th>Diabetes</th>\n      <th>Arthritis</th>\n      <th>Sex</th>\n      <th>Age_Category</th>\n      <th>Height_(cm)</th>\n      <th>Weight_(kg)</th>\n      <th>BMI</th>\n      <th>Smoking_History</th>\n      <th>Alcohol_Consumption</th>\n      <th>Fruit_Consumption</th>\n      <th>Green_Vegetables_Consumption</th>\n      <th>FriedPotato_Consumption</th>\n    </tr>\n  </thead>\n  <tbody>\n    <tr>\n      <th>0</th>\n      <td>0</td>\n      <td>0</td>\n      <td>0</td>\n      <td>0</td>\n      <td>0</td>\n      <td>0</td>\n      <td>0</td>\n      <td>0</td>\n      <td>0</td>\n      <td>0</td>\n      <td>150.0</td>\n      <td>32.66</td>\n      <td>14.54</td>\n      <td>0</td>\n      <td>0.0</td>\n      <td>30.0</td>\n      <td>16.0</td>\n      <td>12.0</td>\n    </tr>\n    <tr>\n      <th>1</th>\n      <td>1</td>\n      <td>1</td>\n      <td>0</td>\n      <td>0</td>\n      <td>0</td>\n      <td>0</td>\n      <td>1</td>\n      <td>1</td>\n      <td>0</td>\n      <td>0</td>\n      <td>165.0</td>\n      <td>77.11</td>\n      <td>28.29</td>\n      <td>1</td>\n      <td>0.0</td>\n      <td>30.0</td>\n      <td>0.0</td>\n      <td>4.0</td>\n    </tr>\n    <tr>\n      <th>2</th>\n      <td>1</td>\n      <td>1</td>\n      <td>1</td>\n      <td>0</td>\n      <td>0</td>\n      <td>0</td>\n      <td>1</td>\n      <td>1</td>\n      <td>0</td>\n      <td>1</td>\n      <td>163.0</td>\n      <td>88.45</td>\n      <td>33.47</td>\n      <td>1</td>\n      <td>4.0</td>\n      <td>12.0</td>\n      <td>3.0</td>\n      <td>16.0</td>\n    </tr>\n    <tr>\n      <th>3</th>\n      <td>0</td>\n      <td>1</td>\n      <td>1</td>\n      <td>0</td>\n      <td>0</td>\n      <td>0</td>\n      <td>1</td>\n      <td>1</td>\n      <td>1</td>\n      <td>2</td>\n      <td>180.0</td>\n      <td>93.44</td>\n      <td>28.73</td>\n      <td>1</td>\n      <td>0.0</td>\n      <td>30.0</td>\n      <td>30.0</td>\n      <td>8.0</td>\n    </tr>\n    <tr>\n      <th>4</th>\n      <td>2</td>\n      <td>1</td>\n      <td>0</td>\n      <td>0</td>\n      <td>0</td>\n      <td>0</td>\n      <td>0</td>\n      <td>1</td>\n      <td>1</td>\n      <td>3</td>\n      <td>191.0</td>\n      <td>88.45</td>\n      <td>24.37</td>\n      <td>0</td>\n      <td>0.0</td>\n      <td>8.0</td>\n      <td>4.0</td>\n      <td>0.0</td>\n    </tr>\n  </tbody>\n</table>\n</div>"
     },
     "execution_count": 53,
     "metadata": {},
     "output_type": "execute_result"
    }
   ],
   "source": [
    "# Eliminamos las columnas que no funcionarán\n",
    "datos_x = datos.drop(columns=['Heart_Disease'])\n",
    "datos_x.head()"
   ],
   "metadata": {
    "collapsed": false,
    "ExecuteTime": {
     "end_time": "2023-07-11T04:55:04.897143800Z",
     "start_time": "2023-07-11T04:55:04.863117700Z"
    }
   }
  },
  {
   "cell_type": "code",
   "execution_count": 54,
   "outputs": [
    {
     "name": "stdout",
     "output_type": "stream",
     "text": [
      "X Train: (247083, 18), X Test: (61771, 18), y_train: (247083,), y_test: (61771,)\n"
     ]
    }
   ],
   "source": [
    "#Dividir datos entre entrenamiento y test\n",
    "X_train, X_test, y_train, y_test = train_test_split(datos_x, datos_y, test_size=0.2, random_state=2)\n",
    "print(\n",
    "    \"X Train: {}, X Test: {}, y_train: {}, y_test: {}\".format(X_train.shape, X_test.shape, y_train.shape, y_test.shape))\n",
    "n_entradas = X_train.shape[1]\n",
    "#registro/columnas"
   ],
   "metadata": {
    "collapsed": false,
    "ExecuteTime": {
     "end_time": "2023-07-11T04:55:05.568736800Z",
     "start_time": "2023-07-11T04:55:05.492252900Z"
    }
   }
  },
  {
   "cell_type": "code",
   "execution_count": 55,
   "outputs": [],
   "source": [
    "#Ahora vamos a escalar los valores para que esten dentro de un rango mas corto.\n",
    "# Escalar los valores\n",
    "scaler = StandardScaler()\n",
    "X_train = scaler.fit_transform(X_train)\n",
    "X_test = scaler.transform(X_test)"
   ],
   "metadata": {
    "collapsed": false,
    "ExecuteTime": {
     "end_time": "2023-07-11T04:55:06.156944100Z",
     "start_time": "2023-07-11T04:55:06.066901800Z"
    }
   }
  },
  {
   "cell_type": "code",
   "execution_count": 56,
   "outputs": [],
   "source": [
    "#Para poder procesar los datos en la red neuronal necesitamos que todos los datos estén en tensores, asi que haremos las conversiones necesarias\n",
    "# Convertir los datos a tensores\n",
    "t_X_train = torch.from_numpy(X_train).float().to(\"cpu\")\n",
    "t_X_test = torch.from_numpy(X_test).float().to(\"cpu\")\n",
    "t_y_train = torch.from_numpy(y_train.values).long().to(\"cpu\")  # Cambiamos a long para clasificación\n",
    "t_y_test = torch.from_numpy(y_test.values).long().to(\"cpu\")  # Cambiamos a long para clasificación"
   ],
   "metadata": {
    "collapsed": false,
    "ExecuteTime": {
     "end_time": "2023-07-11T04:55:06.648260500Z",
     "start_time": "2023-07-11T04:55:06.633562800Z"
    }
   }
  },
  {
   "cell_type": "code",
   "execution_count": 57,
   "outputs": [],
   "source": [
    "#Ahora vamos a crear el modelo de la red neuronal\n",
    "class Modelo(nn.Module):\n",
    "    def __init__(self, n_entradas):\n",
    "        super(Modelo, self).__init__()\n",
    "        self.linear1 = nn.Linear(n_entradas, 15)\n",
    "        self.linear2 = nn.Linear(15, 10)\n",
    "        self.linear3 = nn.Linear(10, 2)  # Cambiamos la salida a 2 para clasificación binaria\n",
    "\n",
    "    def forward(self, inputs):\n",
    "        pred_1 = torch.relu(self.linear1(inputs))\n",
    "        pred_2 = torch.relu(self.linear2(pred_1))\n",
    "        pred_final = F.softmax(self.linear3(pred_2), dim=1)  # Usamos softmax para clasificación\n",
    "        return pred_final"
   ],
   "metadata": {
    "collapsed": false,
    "ExecuteTime": {
     "end_time": "2023-07-11T04:55:07.342255700Z",
     "start_time": "2023-07-11T04:55:07.333618400Z"
    }
   }
  },
  {
   "cell_type": "code",
   "execution_count": 58,
   "outputs": [
    {
     "name": "stdout",
     "output_type": "stream",
     "text": [
      "Arquitectura del modelo: Modelo(\n",
      "  (linear1): Linear(in_features=18, out_features=15, bias=True)\n",
      "  (linear2): Linear(in_features=15, out_features=10, bias=True)\n",
      "  (linear3): Linear(in_features=10, out_features=2, bias=True)\n",
      ")\n",
      "Entrenando modelo...\n",
      "\n",
      "Epoch 100 \t Loss: 0.3944\n",
      "Accuracy: 92.01405190137767\n",
      "\n",
      "Epoch 200 \t Loss: 0.3944\n",
      "Accuracy: 92.01405190137767\n",
      "\n",
      "Epoch 300 \t Loss: 0.3944\n",
      "Accuracy: 92.01405190137767\n",
      "\n",
      "Epoch 400 \t Loss: 0.3944\n",
      "Accuracy: 92.01405190137767\n",
      "\n",
      "Epoch 500 \t Loss: 0.3944\n",
      "Accuracy: 92.01405190137767\n",
      "\n",
      "Epoch 600 \t Loss: 0.3944\n",
      "Accuracy: 92.01405190137767\n",
      "\n",
      "Epoch 700 \t Loss: 0.3944\n",
      "Accuracy: 92.01405190137767\n",
      "\n",
      "Epoch 800 \t Loss: 0.3944\n",
      "Accuracy: 92.01405190137767\n",
      "\n",
      "Epoch 900 \t Loss: 0.3944\n",
      "Accuracy: 92.01405190137767\n",
      "\n",
      "Epoch 1000 \t Loss: 0.3944\n",
      "Accuracy: 92.01405190137767\n",
      "Accuracy final: 92.0141\n"
     ]
    }
   ],
   "source": [
    "# Entrenamiento\n",
    "learning_rate = 0.01\n",
    "epochs = 1000\n",
    "estatus_print = 100\n",
    "\n",
    "model = Modelo(n_entradas=n_entradas)\n",
    "loss_fn = nn.CrossEntropyLoss()  # Cambiamos la función de pérdida para clasificación\n",
    "optimizer = torch.optim.Adam(model.parameters(), lr=learning_rate)\n",
    "print(\"Arquitectura del modelo: {}\".format(model))\n",
    "\n",
    "historico = pd.DataFrame()\n",
    "\n",
    "print(\"Entrenando modelo...\")\n",
    "for epoch in range(1, epochs + 1):\n",
    "    y_pred = model(t_X_train)\n",
    "    loss = loss_fn(input=y_pred, target=t_y_train)\n",
    "    loss.backward()\n",
    "    optimizer.step()\n",
    "    optimizer.zero_grad()\n",
    "\n",
    "    if epoch % estatus_print == 0:\n",
    "        print(f\"\\nEpoch {epoch} \\t Loss: {round(loss.item(), 4)}\")\n",
    "\n",
    "    with torch.no_grad():\n",
    "        y_pred = model(t_X_test)\n",
    "        _, predicted_labels = torch.max(y_pred, 1)  # Obtener las etiquetas predichas con mayor probabilidad\n",
    "        correct = (predicted_labels == t_y_test).sum().item()\n",
    "        accuracy = 100 * correct / float(len(t_y_test))\n",
    "\n",
    "        if epoch % estatus_print == 0:\n",
    "            print(\"Accuracy: {}\".format(accuracy))\n",
    "\n",
    "    df_tmp = pd.DataFrame(data={\n",
    "        'Epoch': epoch,\n",
    "        'Loss': round(loss.item(), 4),\n",
    "        'Accuracy': round(accuracy, 4)\n",
    "    }, index=[0])\n",
    "    historico = pd.concat(objs=[historico, df_tmp], ignore_index=True, sort=False)\n",
    "\n",
    "print(\"Accuracy final: {}\".format(round(accuracy, 4)))"
   ],
   "metadata": {
    "collapsed": false,
    "ExecuteTime": {
     "end_time": "2023-07-11T04:56:27.498314900Z",
     "start_time": "2023-07-11T04:55:07.906159200Z"
    }
   }
  },
  {
   "cell_type": "code",
   "execution_count": 59,
   "outputs": [
    {
     "data": {
      "text/plain": "<Figure size 1000x1000 with 1 Axes>",
      "image/png": "[encoded data removed]"
     },
     "metadata": {},
     "output_type": "display_data"
    }
   ],
   "source": [
    "plt.figure(figsize=(10, 10))\n",
    "plt.plot(historico['Epoch'], historico['Loss'], label='Loss')\n",
    "plt.title(\"Loss\", fontsize=25)\n",
    "plt.xlabel(\"Epoch\", fontsize=12)\n",
    "plt.ylabel(\"Loss\", fontsize=12)\n",
    "plt.grid()\n",
    "plt.show()"
   ],
   "metadata": {
    "collapsed": false,
    "ExecuteTime": {
     "end_time": "2023-07-11T04:56:36.466098600Z",
     "start_time": "2023-07-11T04:56:36.326448700Z"
    }
   }
  },
  {
   "cell_type": "code",
   "execution_count": 60,
   "outputs": [
    {
     "data": {
      "text/plain": "<Figure size 1000x1000 with 1 Axes>",
      "image/png": "[encoded data removed]"
     },
     "metadata": {},
     "output_type": "display_data"
    }
   ],
   "source": [
    "plt.figure(figsize=(10, 10))\n",
    "plt.plot(historico['Epoch'], historico['Accuracy'], label='Accuracy')\n",
    "plt.title(\"Accuracy\", fontsize=25)\n",
    "plt.xlabel(\"Epoch\", fontsize=12)\n",
    "plt.ylabel(\"Accuracy\", fontsize=12)\n",
    "plt.grid()\n",
    "plt.show()"
   ],
   "metadata": {
    "collapsed": false,
    "ExecuteTime": {
     "end_time": "2023-07-11T04:56:37.922607900Z",
     "start_time": "2023-07-11T04:56:37.800933100Z"
    }
   }
  }
 ],
 "metadata": {
  "kernelspec": {
   "display_name": "Python 3",
   "language": "python",
   "name": "python3"
  },
  "language_info": {
   "codemirror_mode": {
    "name": "ipython",
    "version": 2
   },
   "file_extension": ".py",
   "mimetype": "text/x-python",
   "name": "python",
   "nbconvert_exporter": "python",
   "pygments_lexer": "ipython2",
   "version": "2.7.6"
  }
 },
 "nbformat": 4,
 "nbformat_minor": 0
}
