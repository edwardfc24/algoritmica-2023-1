{
 "cells": [
  {
   "cell_type": "code",
   "execution_count": 1,
   "outputs": [],
   "source": [
    "# Importamos las librerías necesarias\n",
    "from sklearn.model_selection import train_test_split\n",
    "from sklearn import linear_model\n",
    "\n",
    "import pandas as pd\n",
    "import numpy as np\n",
    "import matplotlib.pyplot as plt"
   ],
   "metadata": {
    "collapsed": false,
    "ExecuteTime": {
     "end_time": "2023-05-13T00:32:50.256154100Z",
     "start_time": "2023-05-13T00:32:49.135790200Z"
    }
   }
  },
  {
   "cell_type": "code",
   "execution_count": 2,
   "outputs": [],
   "source": [
    "df = pd.read_csv('games.csv')"
   ],
   "metadata": {
    "collapsed": false,
    "ExecuteTime": {
     "end_time": "2023-05-13T00:32:50.349338500Z",
     "start_time": "2023-05-13T00:32:50.258148900Z"
    }
   }
  },
  {
   "cell_type": "code",
   "execution_count": 3,
   "outputs": [
    {
     "data": {
      "text/plain": "        app_id                                              title   \n48746  1976950                           Desktop Dungeons: Rewind  \\\n48747  2166910                                              呆呆大冒险   \n48748  1202930                                     Boom Boomerang   \n48749  1218360                       Luna : The Dimension Watcher   \n48750  2280000  SQUARE ENIX AI Tech Preview: THE PORTOPIA SERI...   \n48751  2302650                                   Cat Girl Creator   \n48752  1434540                                              Zoeti   \n48753  2248870                                   Little white man   \n48754  2380460             Walkabout Mini Golf: Temple at Zerzura   \n48755   596500                                     Chippy & Noppo   \n\n      date_release   win    mac  linux         rating  positive_ratio   \n48746   2023-04-18  True  False  False  Very Positive              84  \\\n48747   2023-02-22  True  False  False       Positive             100   \n48748   2020-08-31  True  False  False       Positive              81   \n48749   2020-06-04  True   True  False          Mixed              63   \n48750   2023-04-23  True  False  False  Very Negative              13   \n48751   2023-02-14  True   True  False          Mixed              53   \n48752   2023-04-20  True  False  False       Positive              93   \n48753   2022-12-23  True  False  False          Mixed              50   \n48754   2023-04-20  True  False  False       Positive              92   \n48755   2023-03-08  True  False  False       Positive              90   \n\n       user_reviews  price_final  price_original  discount  steam_deck  \n48746           259        16.99           19.99      15.0        True  \n48747            18         0.00            0.00       0.0        True  \n48748            11         0.00            0.00       0.0        True  \n48749            41         0.00            0.00       0.0        True  \n48750           341         0.00            0.00       0.0        True  \n48751            13         0.00            0.00       0.0        True  \n48752            32        17.99           19.99      10.0        True  \n48753            10         0.00            0.00       0.0        True  \n48754            13         3.99            3.99       0.0        True  \n48755            11        17.99           19.99      10.0        True  ",
      "text/html": "<div>\n<style scoped>\n    .dataframe tbody tr th:only-of-type {\n        vertical-align: middle;\n    }\n\n    .dataframe tbody tr th {\n        vertical-align: top;\n    }\n\n    .dataframe thead th {\n        text-align: right;\n    }\n</style>\n<table border=\"1\" class=\"dataframe\">\n  <thead>\n    <tr style=\"text-align: right;\">\n      <th></th>\n      <th>app_id</th>\n      <th>title</th>\n      <th>date_release</th>\n      <th>win</th>\n      <th>mac</th>\n      <th>linux</th>\n      <th>rating</th>\n      <th>positive_ratio</th>\n      <th>user_reviews</th>\n      <th>price_final</th>\n      <th>price_original</th>\n      <th>discount</th>\n      <th>steam_deck</th>\n    </tr>\n  </thead>\n  <tbody>\n    <tr>\n      <th>48746</th>\n      <td>1976950</td>\n      <td>Desktop Dungeons: Rewind</td>\n      <td>2023-04-18</td>\n      <td>True</td>\n      <td>False</td>\n      <td>False</td>\n      <td>Very Positive</td>\n      <td>84</td>\n      <td>259</td>\n      <td>16.99</td>\n      <td>19.99</td>\n      <td>15.0</td>\n      <td>True</td>\n    </tr>\n    <tr>\n      <th>48747</th>\n      <td>2166910</td>\n      <td>呆呆大冒险</td>\n      <td>2023-02-22</td>\n      <td>True</td>\n      <td>False</td>\n      <td>False</td>\n      <td>Positive</td>\n      <td>100</td>\n      <td>18</td>\n      <td>0.00</td>\n      <td>0.00</td>\n      <td>0.0</td>\n      <td>True</td>\n    </tr>\n    <tr>\n      <th>48748</th>\n      <td>1202930</td>\n      <td>Boom Boomerang</td>\n      <td>2020-08-31</td>\n      <td>True</td>\n      <td>False</td>\n      <td>False</td>\n      <td>Positive</td>\n      <td>81</td>\n      <td>11</td>\n      <td>0.00</td>\n      <td>0.00</td>\n      <td>0.0</td>\n      <td>True</td>\n    </tr>\n    <tr>\n      <th>48749</th>\n      <td>1218360</td>\n      <td>Luna : The Dimension Watcher</td>\n      <td>2020-06-04</td>\n      <td>True</td>\n      <td>True</td>\n      <td>False</td>\n      <td>Mixed</td>\n      <td>63</td>\n      <td>41</td>\n      <td>0.00</td>\n      <td>0.00</td>\n      <td>0.0</td>\n      <td>True</td>\n    </tr>\n    <tr>\n      <th>48750</th>\n      <td>2280000</td>\n      <td>SQUARE ENIX AI Tech Preview: THE PORTOPIA SERI...</td>\n      <td>2023-04-23</td>\n      <td>True</td>\n      <td>False</td>\n      <td>False</td>\n      <td>Very Negative</td>\n      <td>13</td>\n      <td>341</td>\n      <td>0.00</td>\n      <td>0.00</td>\n      <td>0.0</td>\n      <td>True</td>\n    </tr>\n    <tr>\n      <th>48751</th>\n      <td>2302650</td>\n      <td>Cat Girl Creator</td>\n      <td>2023-02-14</td>\n      <td>True</td>\n      <td>True</td>\n      <td>False</td>\n      <td>Mixed</td>\n      <td>53</td>\n      <td>13</td>\n      <td>0.00</td>\n      <td>0.00</td>\n      <td>0.0</td>\n      <td>True</td>\n    </tr>\n    <tr>\n      <th>48752</th>\n      <td>1434540</td>\n      <td>Zoeti</td>\n      <td>2023-04-20</td>\n      <td>True</td>\n      <td>False</td>\n      <td>False</td>\n      <td>Positive</td>\n      <td>93</td>\n      <td>32</td>\n      <td>17.99</td>\n      <td>19.99</td>\n      <td>10.0</td>\n      <td>True</td>\n    </tr>\n    <tr>\n      <th>48753</th>\n      <td>2248870</td>\n      <td>Little white man</td>\n      <td>2022-12-23</td>\n      <td>True</td>\n      <td>False</td>\n      <td>False</td>\n      <td>Mixed</td>\n      <td>50</td>\n      <td>10</td>\n      <td>0.00</td>\n      <td>0.00</td>\n      <td>0.0</td>\n      <td>True</td>\n    </tr>\n    <tr>\n      <th>48754</th>\n      <td>2380460</td>\n      <td>Walkabout Mini Golf: Temple at Zerzura</td>\n      <td>2023-04-20</td>\n      <td>True</td>\n      <td>False</td>\n      <td>False</td>\n      <td>Positive</td>\n      <td>92</td>\n      <td>13</td>\n      <td>3.99</td>\n      <td>3.99</td>\n      <td>0.0</td>\n      <td>True</td>\n    </tr>\n    <tr>\n      <th>48755</th>\n      <td>596500</td>\n      <td>Chippy &amp; Noppo</td>\n      <td>2023-03-08</td>\n      <td>True</td>\n      <td>False</td>\n      <td>False</td>\n      <td>Positive</td>\n      <td>90</td>\n      <td>11</td>\n      <td>17.99</td>\n      <td>19.99</td>\n      <td>10.0</td>\n      <td>True</td>\n    </tr>\n  </tbody>\n</table>\n</div>"
     },
     "execution_count": 3,
     "metadata": {},
     "output_type": "execute_result"
    }
   ],
   "source": [
    "df.tail(10)"
   ],
   "metadata": {
    "collapsed": false,
    "ExecuteTime": {
     "end_time": "2023-05-13T00:32:50.366953Z",
     "start_time": "2023-05-13T00:32:50.352297300Z"
    }
   }
  },
  {
   "cell_type": "code",
   "execution_count": 4,
   "outputs": [
    {
     "data": {
      "text/plain": "app_id              int64\ntitle              object\ndate_release       object\nwin                  bool\nmac                  bool\nlinux                bool\nrating             object\npositive_ratio      int64\nuser_reviews        int64\nprice_final       float64\nprice_original    float64\ndiscount          float64\nsteam_deck           bool\ndtype: object"
     },
     "execution_count": 4,
     "metadata": {},
     "output_type": "execute_result"
    }
   ],
   "source": [
    "df.dtypes"
   ],
   "metadata": {
    "collapsed": false,
    "ExecuteTime": {
     "end_time": "2023-05-13T00:32:50.380531800Z",
     "start_time": "2023-05-13T00:32:50.368947600Z"
    }
   }
  },
  {
   "cell_type": "code",
   "execution_count": 5,
   "outputs": [],
   "source": [
    "#elimina las columnas que no se van a utilizar\n",
    "df.drop(['title','date_release','rating','steam_deck'],axis=1,inplace=True)"
   ],
   "metadata": {
    "collapsed": false,
    "ExecuteTime": {
     "end_time": "2023-05-13T00:32:50.381527100Z",
     "start_time": "2023-05-13T00:32:50.374000900Z"
    }
   }
  },
  {
   "cell_type": "code",
   "execution_count": 6,
   "outputs": [
    {
     "data": {
      "text/plain": "<pandas.io.formats.style.Styler at 0x1c43a7494d0>",
      "text/html": "<style type=\"text/css\">\n#T_5957a_row0_col0, #T_5957a_row1_col1, #T_5957a_row2_col2, #T_5957a_row3_col3, #T_5957a_row4_col4, #T_5957a_row5_col5, #T_5957a_row6_col6, #T_5957a_row7_col7, #T_5957a_row8_col8 {\n  background-color: #023858;\n  color: #f1f1f1;\n}\n#T_5957a_row0_col1 {\n  background-color: #f4eef6;\n  color: #000000;\n}\n#T_5957a_row0_col2, #T_5957a_row0_col3, #T_5957a_row0_col5, #T_5957a_row0_col7, #T_5957a_row1_col4, #T_5957a_row2_col0, #T_5957a_row2_col7, #T_5957a_row3_col7, #T_5957a_row4_col1, #T_5957a_row6_col8, #T_5957a_row8_col6 {\n  background-color: #fff7fb;\n  color: #000000;\n}\n#T_5957a_row0_col4 {\n  background-color: #d3d4e7;\n  color: #000000;\n}\n#T_5957a_row0_col6, #T_5957a_row3_col8, #T_5957a_row5_col1 {\n  background-color: #f0eaf4;\n  color: #000000;\n}\n#T_5957a_row0_col8, #T_5957a_row1_col0, #T_5957a_row1_col8 {\n  background-color: #ebe6f2;\n  color: #000000;\n}\n#T_5957a_row1_col2, #T_5957a_row4_col2 {\n  background-color: #d9d8ea;\n  color: #000000;\n}\n#T_5957a_row1_col3 {\n  background-color: #e0dded;\n  color: #000000;\n}\n#T_5957a_row1_col5, #T_5957a_row5_col7 {\n  background-color: #f9f2f8;\n  color: #000000;\n}\n#T_5957a_row1_col6, #T_5957a_row3_col1, #T_5957a_row5_col3, #T_5957a_row5_col6, #T_5957a_row6_col2 {\n  background-color: #e7e3f0;\n  color: #000000;\n}\n#T_5957a_row1_col7 {\n  background-color: #f8f1f8;\n  color: #000000;\n}\n#T_5957a_row2_col1, #T_5957a_row3_col4 {\n  background-color: #e5e1ef;\n  color: #000000;\n}\n#T_5957a_row2_col3 {\n  background-color: #2081b9;\n  color: #f1f1f1;\n}\n#T_5957a_row2_col4, #T_5957a_row8_col0 {\n  background-color: #e4e1ef;\n  color: #000000;\n}\n#T_5957a_row2_col5, #T_5957a_row3_col5, #T_5957a_row4_col5, #T_5957a_row8_col7 {\n  background-color: #f7f0f7;\n  color: #000000;\n}\n#T_5957a_row2_col6, #T_5957a_row3_col6, #T_5957a_row4_col8, #T_5957a_row5_col8 {\n  background-color: #eee9f3;\n  color: #000000;\n}\n#T_5957a_row2_col8, #T_5957a_row8_col4 {\n  background-color: #f2ecf5;\n  color: #000000;\n}\n#T_5957a_row3_col0 {\n  background-color: #fcf4fa;\n  color: #000000;\n}\n#T_5957a_row3_col2 {\n  background-color: #1e80b8;\n  color: #f1f1f1;\n}\n#T_5957a_row4_col0 {\n  background-color: #c5cce3;\n  color: #000000;\n}\n#T_5957a_row4_col3 {\n  background-color: #dddbec;\n  color: #000000;\n}\n#T_5957a_row4_col6, #T_5957a_row5_col4, #T_5957a_row8_col3 {\n  background-color: #eee8f3;\n  color: #000000;\n}\n#T_5957a_row4_col7 {\n  background-color: #fdf5fa;\n  color: #000000;\n}\n#T_5957a_row5_col0, #T_5957a_row8_col2 {\n  background-color: #ede8f3;\n  color: #000000;\n}\n#T_5957a_row5_col2 {\n  background-color: #e3e0ee;\n  color: #000000;\n}\n#T_5957a_row6_col0 {\n  background-color: #eae6f1;\n  color: #000000;\n}\n#T_5957a_row6_col1, #T_5957a_row7_col1 {\n  background-color: #ece7f2;\n  color: #000000;\n}\n#T_5957a_row6_col3, #T_5957a_row7_col3 {\n  background-color: #ede7f2;\n  color: #000000;\n}\n#T_5957a_row6_col4 {\n  background-color: #f1ebf5;\n  color: #000000;\n}\n#T_5957a_row6_col5 {\n  background-color: #f5eef6;\n  color: #000000;\n}\n#T_5957a_row6_col7 {\n  background-color: #034267;\n  color: #f1f1f1;\n}\n#T_5957a_row7_col0 {\n  background-color: #e9e5f1;\n  color: #000000;\n}\n#T_5957a_row7_col2 {\n  background-color: #e8e4f0;\n  color: #000000;\n}\n#T_5957a_row7_col4 {\n  background-color: #f1ebf4;\n  color: #000000;\n}\n#T_5957a_row7_col5 {\n  background-color: #f5eff6;\n  color: #000000;\n}\n#T_5957a_row7_col6 {\n  background-color: #034165;\n  color: #f1f1f1;\n}\n#T_5957a_row7_col8 {\n  background-color: #e6e2ef;\n  color: #000000;\n}\n#T_5957a_row8_col1 {\n  background-color: #efe9f3;\n  color: #000000;\n}\n#T_5957a_row8_col5 {\n  background-color: #fbf3f9;\n  color: #000000;\n}\n</style>\n<table id=\"T_5957a\">\n  <thead>\n    <tr>\n      <th class=\"blank level0\" >&nbsp;</th>\n      <th id=\"T_5957a_level0_col0\" class=\"col_heading level0 col0\" >app_id</th>\n      <th id=\"T_5957a_level0_col1\" class=\"col_heading level0 col1\" >win</th>\n      <th id=\"T_5957a_level0_col2\" class=\"col_heading level0 col2\" >mac</th>\n      <th id=\"T_5957a_level0_col3\" class=\"col_heading level0 col3\" >linux</th>\n      <th id=\"T_5957a_level0_col4\" class=\"col_heading level0 col4\" >positive_ratio</th>\n      <th id=\"T_5957a_level0_col5\" class=\"col_heading level0 col5\" >user_reviews</th>\n      <th id=\"T_5957a_level0_col6\" class=\"col_heading level0 col6\" >price_final</th>\n      <th id=\"T_5957a_level0_col7\" class=\"col_heading level0 col7\" >price_original</th>\n      <th id=\"T_5957a_level0_col8\" class=\"col_heading level0 col8\" >discount</th>\n    </tr>\n  </thead>\n  <tbody>\n    <tr>\n      <th id=\"T_5957a_level0_row0\" class=\"row_heading level0 row0\" >app_id</th>\n      <td id=\"T_5957a_row0_col0\" class=\"data row0 col0\" >1.000000</td>\n      <td id=\"T_5957a_row0_col1\" class=\"data row0 col1\" >-0.023732</td>\n      <td id=\"T_5957a_row0_col2\" class=\"data row0 col2\" >-0.177454</td>\n      <td id=\"T_5957a_row0_col3\" class=\"data row0 col3\" >-0.151239</td>\n      <td id=\"T_5957a_row0_col4\" class=\"data row0 col4\" >0.155888</td>\n      <td id=\"T_5957a_row0_col5\" class=\"data row0 col5\" >-0.036499</td>\n      <td id=\"T_5957a_row0_col6\" class=\"data row0 col6\" >-0.020939</td>\n      <td id=\"T_5957a_row0_col7\" class=\"data row0 col7\" >-0.012846</td>\n      <td id=\"T_5957a_row0_col8\" class=\"data row0 col8\" >0.014311</td>\n    </tr>\n    <tr>\n      <th id=\"T_5957a_level0_row1\" class=\"row_heading level0 row1\" >win</th>\n      <td id=\"T_5957a_row1_col0\" class=\"data row1 col0\" >-0.023732</td>\n      <td id=\"T_5957a_row1_col1\" class=\"data row1 col1\" >1.000000</td>\n      <td id=\"T_5957a_row1_col2\" class=\"data row1 col2\" >0.073223</td>\n      <td id=\"T_5957a_row1_col3\" class=\"data row1 col3\" >0.057304</td>\n      <td id=\"T_5957a_row1_col4\" class=\"data row1 col4\" >-0.103214</td>\n      <td id=\"T_5957a_row1_col5\" class=\"data row1 col5\" >0.005394</td>\n      <td id=\"T_5957a_row1_col6\" class=\"data row1 col6\" >0.034773</td>\n      <td id=\"T_5957a_row1_col7\" class=\"data row1 col7\" >0.037978</td>\n      <td id=\"T_5957a_row1_col8\" class=\"data row1 col8\" >0.016984</td>\n    </tr>\n    <tr>\n      <th id=\"T_5957a_level0_row2\" class=\"row_heading level0 row2\" >mac</th>\n      <td id=\"T_5957a_row2_col0\" class=\"data row2 col0\" >-0.177454</td>\n      <td id=\"T_5957a_row2_col1\" class=\"data row2 col1\" >0.073223</td>\n      <td id=\"T_5957a_row2_col2\" class=\"data row2 col2\" >1.000000</td>\n      <td id=\"T_5957a_row2_col3\" class=\"data row2 col3\" >0.631572</td>\n      <td id=\"T_5957a_row2_col4\" class=\"data row2 col4\" >0.074308</td>\n      <td id=\"T_5957a_row2_col5\" class=\"data row2 col5\" >0.019241</td>\n      <td id=\"T_5957a_row2_col6\" class=\"data row2 col6\" >-0.005611</td>\n      <td id=\"T_5957a_row2_col7\" class=\"data row2 col7\" >-0.011133</td>\n      <td id=\"T_5957a_row2_col8\" class=\"data row2 col8\" >-0.036486</td>\n    </tr>\n    <tr>\n      <th id=\"T_5957a_level0_row3\" class=\"row_heading level0 row3\" >linux</th>\n      <td id=\"T_5957a_row3_col0\" class=\"data row3 col0\" >-0.151239</td>\n      <td id=\"T_5957a_row3_col1\" class=\"data row3 col1\" >0.057304</td>\n      <td id=\"T_5957a_row3_col2\" class=\"data row3 col2\" >0.631572</td>\n      <td id=\"T_5957a_row3_col3\" class=\"data row3 col3\" >1.000000</td>\n      <td id=\"T_5957a_row3_col4\" class=\"data row3 col4\" >0.069807</td>\n      <td id=\"T_5957a_row3_col5\" class=\"data row3 col5\" >0.020728</td>\n      <td id=\"T_5957a_row3_col6\" class=\"data row3 col6\" >-0.007876</td>\n      <td id=\"T_5957a_row3_col7\" class=\"data row3 col7\" >-0.010080</td>\n      <td id=\"T_5957a_row3_col8\" class=\"data row3 col8\" >-0.019996</td>\n    </tr>\n    <tr>\n      <th id=\"T_5957a_level0_row4\" class=\"row_heading level0 row4\" >positive_ratio</th>\n      <td id=\"T_5957a_row4_col0\" class=\"data row4 col0\" >0.155888</td>\n      <td id=\"T_5957a_row4_col1\" class=\"data row4 col1\" >-0.103214</td>\n      <td id=\"T_5957a_row4_col2\" class=\"data row4 col2\" >0.074308</td>\n      <td id=\"T_5957a_row4_col3\" class=\"data row4 col3\" >0.069807</td>\n      <td id=\"T_5957a_row4_col4\" class=\"data row4 col4\" >1.000000</td>\n      <td id=\"T_5957a_row4_col5\" class=\"data row4 col5\" >0.022174</td>\n      <td id=\"T_5957a_row4_col6\" class=\"data row4 col6\" >-0.002469</td>\n      <td id=\"T_5957a_row4_col7\" class=\"data row4 col7\" >0.001412</td>\n      <td id=\"T_5957a_row4_col8\" class=\"data row4 col8\" >-0.005655</td>\n    </tr>\n    <tr>\n      <th id=\"T_5957a_level0_row5\" class=\"row_heading level0 row5\" >user_reviews</th>\n      <td id=\"T_5957a_row5_col0\" class=\"data row5 col0\" >-0.036499</td>\n      <td id=\"T_5957a_row5_col1\" class=\"data row5 col1\" >0.005394</td>\n      <td id=\"T_5957a_row5_col2\" class=\"data row5 col2\" >0.019241</td>\n      <td id=\"T_5957a_row5_col3\" class=\"data row5 col3\" >0.020728</td>\n      <td id=\"T_5957a_row5_col4\" class=\"data row5 col4\" >0.022174</td>\n      <td id=\"T_5957a_row5_col5\" class=\"data row5 col5\" >1.000000</td>\n      <td id=\"T_5957a_row5_col6\" class=\"data row5 col6\" >0.033216</td>\n      <td id=\"T_5957a_row5_col7\" class=\"data row5 col7\" >0.029512</td>\n      <td id=\"T_5957a_row5_col8\" class=\"data row5 col8\" >-0.004406</td>\n    </tr>\n    <tr>\n      <th id=\"T_5957a_level0_row6\" class=\"row_heading level0 row6\" >price_final</th>\n      <td id=\"T_5957a_row6_col0\" class=\"data row6 col0\" >-0.020939</td>\n      <td id=\"T_5957a_row6_col1\" class=\"data row6 col1\" >0.034773</td>\n      <td id=\"T_5957a_row6_col2\" class=\"data row6 col2\" >-0.005611</td>\n      <td id=\"T_5957a_row6_col3\" class=\"data row6 col3\" >-0.007876</td>\n      <td id=\"T_5957a_row6_col4\" class=\"data row6 col4\" >-0.002469</td>\n      <td id=\"T_5957a_row6_col5\" class=\"data row6 col5\" >0.033216</td>\n      <td id=\"T_5957a_row6_col6\" class=\"data row6 col6\" >1.000000</td>\n      <td id=\"T_5957a_row6_col7\" class=\"data row6 col7\" >0.963527</td>\n      <td id=\"T_5957a_row6_col8\" class=\"data row6 col8\" >-0.132361</td>\n    </tr>\n    <tr>\n      <th id=\"T_5957a_level0_row7\" class=\"row_heading level0 row7\" >price_original</th>\n      <td id=\"T_5957a_row7_col0\" class=\"data row7 col0\" >-0.012846</td>\n      <td id=\"T_5957a_row7_col1\" class=\"data row7 col1\" >0.037978</td>\n      <td id=\"T_5957a_row7_col2\" class=\"data row7 col2\" >-0.011133</td>\n      <td id=\"T_5957a_row7_col3\" class=\"data row7 col3\" >-0.010080</td>\n      <td id=\"T_5957a_row7_col4\" class=\"data row7 col4\" >0.001412</td>\n      <td id=\"T_5957a_row7_col5\" class=\"data row7 col5\" >0.029512</td>\n      <td id=\"T_5957a_row7_col6\" class=\"data row7 col6\" >0.963527</td>\n      <td id=\"T_5957a_row7_col7\" class=\"data row7 col7\" >1.000000</td>\n      <td id=\"T_5957a_row7_col8\" class=\"data row7 col8\" >0.042259</td>\n    </tr>\n    <tr>\n      <th id=\"T_5957a_level0_row8\" class=\"row_heading level0 row8\" >discount</th>\n      <td id=\"T_5957a_row8_col0\" class=\"data row8 col0\" >0.014311</td>\n      <td id=\"T_5957a_row8_col1\" class=\"data row8 col1\" >0.016984</td>\n      <td id=\"T_5957a_row8_col2\" class=\"data row8 col2\" >-0.036486</td>\n      <td id=\"T_5957a_row8_col3\" class=\"data row8 col3\" >-0.019996</td>\n      <td id=\"T_5957a_row8_col4\" class=\"data row8 col4\" >-0.005655</td>\n      <td id=\"T_5957a_row8_col5\" class=\"data row8 col5\" >-0.004406</td>\n      <td id=\"T_5957a_row8_col6\" class=\"data row8 col6\" >-0.132361</td>\n      <td id=\"T_5957a_row8_col7\" class=\"data row8 col7\" >0.042259</td>\n      <td id=\"T_5957a_row8_col8\" class=\"data row8 col8\" >1.000000</td>\n    </tr>\n  </tbody>\n</table>\n"
     },
     "execution_count": 6,
     "metadata": {},
     "output_type": "execute_result"
    }
   ],
   "source": [
    "# Análisis de correlación\n",
    "corr = df.corr()\n",
    "corr.style.background_gradient()\n"
   ],
   "metadata": {
    "collapsed": false,
    "ExecuteTime": {
     "end_time": "2023-05-13T00:32:50.500920500Z",
     "start_time": "2023-05-13T00:32:50.381527100Z"
    }
   }
  },
  {
   "cell_type": "code",
   "execution_count": 7,
   "outputs": [],
   "source": [
    "# Inicializamos el Modelo\n",
    "linear = linear_model.LinearRegression()"
   ],
   "metadata": {
    "collapsed": false,
    "ExecuteTime": {
     "end_time": "2023-05-13T00:32:50.500920500Z",
     "start_time": "2023-05-13T00:32:50.454283500Z"
    }
   }
  },
  {
   "cell_type": "code",
   "execution_count": 8,
   "outputs": [],
   "source": [
    "# Definimos las variables independientes y dependientes\n",
    "data_x = df.drop(['app_id','win','mac','linux','positive_ratio','user_reviews','price_final','discount'], axis=1)\n",
    "data_y = df.price_final"
   ],
   "metadata": {
    "collapsed": false,
    "ExecuteTime": {
     "end_time": "2023-05-13T00:32:50.500920500Z",
     "start_time": "2023-05-13T00:32:50.457861900Z"
    }
   }
  },
  {
   "cell_type": "code",
   "execution_count": 9,
   "outputs": [],
   "source": [
    "# Dividimos los datos en entrenamiento y prueba\n",
    "train_x, test_x, train_y, test_y = train_test_split(data_x, data_y, test_size=0.1)"
   ],
   "metadata": {
    "collapsed": false,
    "ExecuteTime": {
     "end_time": "2023-05-13T00:32:50.500920500Z",
     "start_time": "2023-05-13T00:32:50.463282700Z"
    }
   }
  },
  {
   "cell_type": "code",
   "execution_count": 10,
   "outputs": [
    {
     "data": {
      "text/plain": "LinearRegression()",
      "text/html": "<style>#sk-container-id-1 {color: black;background-color: white;}#sk-container-id-1 pre{padding: 0;}#sk-container-id-1 div.sk-toggleable {background-color: white;}#sk-container-id-1 label.sk-toggleable__label {cursor: pointer;display: block;width: 100%;margin-bottom: 0;padding: 0.3em;box-sizing: border-box;text-align: center;}#sk-container-id-1 label.sk-toggleable__label-arrow:before {content: \"▸\";float: left;margin-right: 0.25em;color: #696969;}#sk-container-id-1 label.sk-toggleable__label-arrow:hover:before {color: black;}#sk-container-id-1 div.sk-estimator:hover label.sk-toggleable__label-arrow:before {color: black;}#sk-container-id-1 div.sk-toggleable__content {max-height: 0;max-width: 0;overflow: hidden;text-align: left;background-color: #f0f8ff;}#sk-container-id-1 div.sk-toggleable__content pre {margin: 0.2em;color: black;border-radius: 0.25em;background-color: #f0f8ff;}#sk-container-id-1 input.sk-toggleable__control:checked~div.sk-toggleable__content {max-height: 200px;max-width: 100%;overflow: auto;}#sk-container-id-1 input.sk-toggleable__control:checked~label.sk-toggleable__label-arrow:before {content: \"▾\";}#sk-container-id-1 div.sk-estimator input.sk-toggleable__control:checked~label.sk-toggleable__label {background-color: #d4ebff;}#sk-container-id-1 div.sk-label input.sk-toggleable__control:checked~label.sk-toggleable__label {background-color: #d4ebff;}#sk-container-id-1 input.sk-hidden--visually {border: 0;clip: rect(1px 1px 1px 1px);clip: rect(1px, 1px, 1px, 1px);height: 1px;margin: -1px;overflow: hidden;padding: 0;position: absolute;width: 1px;}#sk-container-id-1 div.sk-estimator {font-family: monospace;background-color: #f0f8ff;border: 1px dotted black;border-radius: 0.25em;box-sizing: border-box;margin-bottom: 0.5em;}#sk-container-id-1 div.sk-estimator:hover {background-color: #d4ebff;}#sk-container-id-1 div.sk-parallel-item::after {content: \"\";width: 100%;border-bottom: 1px solid gray;flex-grow: 1;}#sk-container-id-1 div.sk-label:hover label.sk-toggleable__label {background-color: #d4ebff;}#sk-container-id-1 div.sk-serial::before {content: \"\";position: absolute;border-left: 1px solid gray;box-sizing: border-box;top: 0;bottom: 0;left: 50%;z-index: 0;}#sk-container-id-1 div.sk-serial {display: flex;flex-direction: column;align-items: center;background-color: white;padding-right: 0.2em;padding-left: 0.2em;position: relative;}#sk-container-id-1 div.sk-item {position: relative;z-index: 1;}#sk-container-id-1 div.sk-parallel {display: flex;align-items: stretch;justify-content: center;background-color: white;position: relative;}#sk-container-id-1 div.sk-item::before, #sk-container-id-1 div.sk-parallel-item::before {content: \"\";position: absolute;border-left: 1px solid gray;box-sizing: border-box;top: 0;bottom: 0;left: 50%;z-index: -1;}#sk-container-id-1 div.sk-parallel-item {display: flex;flex-direction: column;z-index: 1;position: relative;background-color: white;}#sk-container-id-1 div.sk-parallel-item:first-child::after {align-self: flex-end;width: 50%;}#sk-container-id-1 div.sk-parallel-item:last-child::after {align-self: flex-start;width: 50%;}#sk-container-id-1 div.sk-parallel-item:only-child::after {width: 0;}#sk-container-id-1 div.sk-dashed-wrapped {border: 1px dashed gray;margin: 0 0.4em 0.5em 0.4em;box-sizing: border-box;padding-bottom: 0.4em;background-color: white;}#sk-container-id-1 div.sk-label label {font-family: monospace;font-weight: bold;display: inline-block;line-height: 1.2em;}#sk-container-id-1 div.sk-label-container {text-align: center;}#sk-container-id-1 div.sk-container {/* jupyter's `normalize.less` sets `[hidden] { display: none; }` but bootstrap.min.css set `[hidden] { display: none !important; }` so we also need the `!important` here to be able to override the default hidden behavior on the sphinx rendered scikit-learn.org. See: https://github.com/scikit-learn/scikit-learn/issues/21755 */display: inline-block !important;position: relative;}#sk-container-id-1 div.sk-text-repr-fallback {display: none;}</style><div id=\"sk-container-id-1\" class=\"sk-top-container\"><div class=\"sk-text-repr-fallback\"><pre>LinearRegression()</pre><b>In a Jupyter environment, please rerun this cell to show the HTML representation or trust the notebook. <br />On GitHub, the HTML representation is unable to render, please try loading this page with nbviewer.org.</b></div><div class=\"sk-container\" hidden><div class=\"sk-item\"><div class=\"sk-estimator sk-toggleable\"><input class=\"sk-toggleable__control sk-hidden--visually\" id=\"sk-estimator-id-1\" type=\"checkbox\" checked><label for=\"sk-estimator-id-1\" class=\"sk-toggleable__label sk-toggleable__label-arrow\">LinearRegression</label><div class=\"sk-toggleable__content\"><pre>LinearRegression()</pre></div></div></div></div></div>"
     },
     "execution_count": 10,
     "metadata": {},
     "output_type": "execute_result"
    }
   ],
   "source": [
    "# Entrenamos el modelo\n",
    "linear.fit(train_x, train_y)"
   ],
   "metadata": {
    "collapsed": false,
    "ExecuteTime": {
     "end_time": "2023-05-13T00:32:51.426721900Z",
     "start_time": "2023-05-13T00:32:51.398532300Z"
    }
   }
  },
  {
   "cell_type": "code",
   "execution_count": 11,
   "outputs": [
    {
     "name": "stdout",
     "output_type": "stream",
     "text": [
      "y = 0.94x + 0.02\n"
     ]
    }
   ],
   "source": [
    "print(f'y = {round( linear.coef_[0], 2)}x + {round(linear.intercept_, 2)}')"
   ],
   "metadata": {
    "collapsed": false,
    "ExecuteTime": {
     "end_time": "2023-05-13T00:32:52.538991300Z",
     "start_time": "2023-05-13T00:32:52.529588200Z"
    }
   }
  },
  {
   "cell_type": "code",
   "execution_count": 12,
   "outputs": [
    {
     "name": "stdout",
     "output_type": "stream",
     "text": [
      "Score: 92.67%\n"
     ]
    }
   ],
   "source": [
    "# Veamos la calificación\n",
    "print(f'Score: {round(linear.score(test_x, test_y), 4) * 100}%')"
   ],
   "metadata": {
    "collapsed": false,
    "ExecuteTime": {
     "end_time": "2023-05-13T00:32:53.173078800Z",
     "start_time": "2023-05-13T00:32:53.164812100Z"
    }
   }
  },
  {
   "cell_type": "code",
   "execution_count": 13,
   "outputs": [
    {
     "data": {
      "text/plain": "       price_original\n0               19.99\n1                9.99\n2                2.99\n3               14.99\n4               14.99\n...               ...\n48751            0.00\n48752           19.99\n48753            0.00\n48754            3.99\n48755           19.99\n\n[48756 rows x 1 columns]",
      "text/html": "<div>\n<style scoped>\n    .dataframe tbody tr th:only-of-type {\n        vertical-align: middle;\n    }\n\n    .dataframe tbody tr th {\n        vertical-align: top;\n    }\n\n    .dataframe thead th {\n        text-align: right;\n    }\n</style>\n<table border=\"1\" class=\"dataframe\">\n  <thead>\n    <tr style=\"text-align: right;\">\n      <th></th>\n      <th>price_original</th>\n    </tr>\n  </thead>\n  <tbody>\n    <tr>\n      <th>0</th>\n      <td>19.99</td>\n    </tr>\n    <tr>\n      <th>1</th>\n      <td>9.99</td>\n    </tr>\n    <tr>\n      <th>2</th>\n      <td>2.99</td>\n    </tr>\n    <tr>\n      <th>3</th>\n      <td>14.99</td>\n    </tr>\n    <tr>\n      <th>4</th>\n      <td>14.99</td>\n    </tr>\n    <tr>\n      <th>...</th>\n      <td>...</td>\n    </tr>\n    <tr>\n      <th>48751</th>\n      <td>0.00</td>\n    </tr>\n    <tr>\n      <th>48752</th>\n      <td>19.99</td>\n    </tr>\n    <tr>\n      <th>48753</th>\n      <td>0.00</td>\n    </tr>\n    <tr>\n      <th>48754</th>\n      <td>3.99</td>\n    </tr>\n    <tr>\n      <th>48755</th>\n      <td>19.99</td>\n    </tr>\n  </tbody>\n</table>\n<p>48756 rows × 1 columns</p>\n</div>"
     },
     "execution_count": 13,
     "metadata": {},
     "output_type": "execute_result"
    }
   ],
   "source": [
    "data_x"
   ],
   "metadata": {
    "collapsed": false,
    "ExecuteTime": {
     "end_time": "2023-05-13T00:32:54.330358400Z",
     "start_time": "2023-05-13T00:32:54.318960200Z"
    }
   }
  },
  {
   "cell_type": "code",
   "execution_count": 14,
   "outputs": [
    {
     "name": "stderr",
     "output_type": "stream",
     "text": [
      "C:\\Users\\eroni\\OneDrive\\Documentos\\entornoVirtua1\\Lib\\site-packages\\sklearn\\base.py:439: UserWarning: X does not have valid feature names, but LinearRegression was fitted with feature names\n",
      "  warnings.warn(\n"
     ]
    }
   ],
   "source": [
    "# En base a las marcas de las computadoras y al ratio, esto es lo que se gastan las personas\n",
    "priceOriginal= 54\n",
    "predicted = linear.predict([[priceOriginal]])#aqui van todas las tablas de data_x"
   ],
   "metadata": {
    "collapsed": false,
    "ExecuteTime": {
     "end_time": "2023-05-13T00:32:55.063953900Z",
     "start_time": "2023-05-13T00:32:55.044583300Z"
    }
   }
  },
  {
   "cell_type": "code",
   "execution_count": 15,
   "outputs": [
    {
     "name": "stdout",
     "output_type": "stream",
     "text": [
      "El precio original es de 54 y el precio que se pagará es de 50.75\n"
     ]
    }
   ],
   "source": [
    "print(f'El precio original es de {priceOriginal} y el precio que se pagará es de {round(predicted[0], 2)}')"
   ],
   "metadata": {
    "collapsed": false,
    "ExecuteTime": {
     "end_time": "2023-05-13T00:32:56.134110100Z",
     "start_time": "2023-05-13T00:32:56.119844800Z"
    }
   }
  },
  {
   "cell_type": "code",
   "execution_count": 16,
   "outputs": [
    {
     "data": {
      "text/plain": "<Figure size 640x480 with 1 Axes>",
      "image/png": "[encoded data removed]"
     },
     "metadata": {},
     "output_type": "display_data"
    }
   ],
   "source": [
    "#Visualiza los datos y la línea de regresión ajustada\n",
    "plt.scatter(train_x, train_y, color='blue')\n",
    "plt.plot(train_x, linear.predict(train_x), color='red', linewidth=2)\n",
    "plt.show()"
   ],
   "metadata": {
    "collapsed": false,
    "ExecuteTime": {
     "end_time": "2023-05-13T00:32:57.257236700Z",
     "start_time": "2023-05-13T00:32:57.040481200Z"
    }
   }
  },
  {
   "cell_type": "code",
   "execution_count": null,
   "outputs": [],
   "source": [],
   "metadata": {
    "collapsed": false
   }
  }
 ],
 "metadata": {
  "kernelspec": {
   "display_name": "Python 3",
   "language": "python",
   "name": "python3"
  },
  "language_info": {
   "codemirror_mode": {
    "name": "ipython",
    "version": 2
   },
   "file_extension": ".py",
   "mimetype": "text/x-python",
   "name": "python",
   "nbconvert_exporter": "python",
   "pygments_lexer": "ipython2",
   "version": "2.7.6"
  }
 },
 "nbformat": 4,
 "nbformat_minor": 0
}
