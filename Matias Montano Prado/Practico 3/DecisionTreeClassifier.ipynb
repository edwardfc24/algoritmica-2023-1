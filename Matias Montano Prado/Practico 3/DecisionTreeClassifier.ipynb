{
 "cells": [
  {
   "cell_type": "code",
   "execution_count": 26,
   "metadata": {
    "collapsed": true,
    "ExecuteTime": {
     "end_time": "2023-05-30T05:07:42.724858400Z",
     "start_time": "2023-05-30T05:07:42.703557800Z"
    }
   },
   "outputs": [],
   "source": [
    "from sklearn import tree\n",
    "from sklearn.model_selection import train_test_split\n",
    "\n",
    "import pandas as pd\n",
    "import numpy as np\n",
    "import seaborn as sb"
   ]
  },
  {
   "cell_type": "code",
   "execution_count": 27,
   "outputs": [],
   "source": [
    "# Cargar el dataset\n",
    "df = pd.read_csv('dataset.csv')"
   ],
   "metadata": {
    "collapsed": false,
    "ExecuteTime": {
     "end_time": "2023-05-30T05:07:43.115316100Z",
     "start_time": "2023-05-30T05:07:43.087391900Z"
    }
   }
  },
  {
   "cell_type": "code",
   "execution_count": 28,
   "outputs": [
    {
     "data": {
      "text/plain": "      Application mode  Application order  Course  Daytime/evening attendance   \n0                    8                  5       2                           1  \\\n1                    6                  1      11                           1   \n2                    1                  5       5                           1   \n3                    8                  2      15                           1   \n4                   12                  1       3                           0   \n...                ...                ...     ...                         ...   \n7437                 1                  1       5                           1   \n7438                15                  1       8                           1   \n7439                14                  1       5                           1   \n7440                14                  1       1                           1   \n7441                 1                  1       8                           1   \n\n      Previous qualification  Nacionality  Educational special needs   \n0                          1            1                          0  \\\n1                          1            1                          0   \n2                          1            1                          0   \n3                          1            1                          0   \n4                          1            1                          0   \n...                      ...          ...                        ...   \n7437                       1            1                          0   \n7438                      14            1                          0   \n7439                       1            1                          0   \n7440                       1            1                          0   \n7441                       1            1                          0   \n\n      Tuition fees up to date  Gender  Scholarship holder  ...   \n0                           1       1                   0  ...  \\\n1                           0       1                   0  ...   \n2                           0       1                   0  ...   \n3                           1       0                   0  ...   \n4                           1       0                   0  ...   \n...                       ...     ...                 ...  ...   \n7437                        1       1                   1  ...   \n7438                        1       1                   0  ...   \n7439                        1       1                   1  ...   \n7440                        1       1                   0  ...   \n7441                        1       0                   0  ...   \n\n      Curricular units 1st sem (without evaluations)   \n0                                                  0  \\\n1                                                  0   \n2                                                  0   \n3                                                  0   \n4                                                  0   \n...                                              ...   \n7437                                               0   \n7438                                               0   \n7439                                               0   \n7440                                               0   \n7441                                               1   \n\n      Curricular units 2nd sem (credited)   \n0                                       0  \\\n1                                       0   \n2                                       0   \n3                                       0   \n4                                       0   \n...                                   ...   \n7437                                    1   \n7438                                    0   \n7439                                    2   \n7440                                    2   \n7441                                    0   \n\n      Curricular units 2nd sem (enrolled)   \n0                                       0  \\\n1                                       6   \n2                                       6   \n3                                       6   \n4                                       6   \n...                                   ...   \n7437                                    6   \n7438                                    6   \n7439                                    6   \n7440                                    8   \n7441                                    5   \n\n      Curricular units 2nd sem (evaluations)   \n0                                          0  \\\n1                                          6   \n2                                          0   \n3                                         10   \n4                                          6   \n...                                      ...   \n7437                                       9   \n7438                                      11   \n7439                                       7   \n7440                                      10   \n7441                                       8   \n\n      Curricular units 2nd sem (approved)  Curricular units 2nd sem (grade)   \n0                                       0                          0.000000  \\\n1                                       6                         13.666667   \n2                                       0                          0.000000   \n3                                       5                         12.400000   \n4                                       6                         13.000000   \n...                                   ...                               ...   \n7437                                    5                         12.500000   \n7438                                    3                         13.333333   \n7439                                    5                         12.200000   \n7440                                    2                         13.000000   \n7441                                    5                         11.600000   \n\n      Curricular units 2nd sem (without evaluations)  Inflation rate   GDP   \n0                                                  0             1.4  1.74  \\\n1                                                  0            -0.3  0.79   \n2                                                  0             1.4  1.74   \n3                                                  0            -0.8 -3.12   \n4                                                  0            -0.3  0.79   \n...                                              ...             ...   ...   \n7437                                               0             1.4  1.74   \n7438                                               0            -0.3  0.79   \n7439                                               0            -0.3  0.79   \n7440                                               0             0.5  1.79   \n7441                                               0            -0.8 -3.12   \n\n        Target  \n0      Dropout  \n1     Graduate  \n2      Dropout  \n3     Graduate  \n4     Graduate  \n...        ...  \n7437  Graduate  \n7438   Dropout  \n7439  Enrolled  \n7440  Enrolled  \n7441  Graduate  \n\n[7442 rows x 25 columns]",
      "text/html": "<div>\n<style scoped>\n    .dataframe tbody tr th:only-of-type {\n        vertical-align: middle;\n    }\n\n    .dataframe tbody tr th {\n        vertical-align: top;\n    }\n\n    .dataframe thead th {\n        text-align: right;\n    }\n</style>\n<table border=\"1\" class=\"dataframe\">\n  <thead>\n    <tr style=\"text-align: right;\">\n      <th></th>\n      <th>Application mode</th>\n      <th>Application order</th>\n      <th>Course</th>\n      <th>Daytime/evening attendance</th>\n      <th>Previous qualification</th>\n      <th>Nacionality</th>\n      <th>Educational special needs</th>\n      <th>Tuition fees up to date</th>\n      <th>Gender</th>\n      <th>Scholarship holder</th>\n      <th>...</th>\n      <th>Curricular units 1st sem (without evaluations)</th>\n      <th>Curricular units 2nd sem (credited)</th>\n      <th>Curricular units 2nd sem (enrolled)</th>\n      <th>Curricular units 2nd sem (evaluations)</th>\n      <th>Curricular units 2nd sem (approved)</th>\n      <th>Curricular units 2nd sem (grade)</th>\n      <th>Curricular units 2nd sem (without evaluations)</th>\n      <th>Inflation rate</th>\n      <th>GDP</th>\n      <th>Target</th>\n    </tr>\n  </thead>\n  <tbody>\n    <tr>\n      <th>0</th>\n      <td>8</td>\n      <td>5</td>\n      <td>2</td>\n      <td>1</td>\n      <td>1</td>\n      <td>1</td>\n      <td>0</td>\n      <td>1</td>\n      <td>1</td>\n      <td>0</td>\n      <td>...</td>\n      <td>0</td>\n      <td>0</td>\n      <td>0</td>\n      <td>0</td>\n      <td>0</td>\n      <td>0.000000</td>\n      <td>0</td>\n      <td>1.4</td>\n      <td>1.74</td>\n      <td>Dropout</td>\n    </tr>\n    <tr>\n      <th>1</th>\n      <td>6</td>\n      <td>1</td>\n      <td>11</td>\n      <td>1</td>\n      <td>1</td>\n      <td>1</td>\n      <td>0</td>\n      <td>0</td>\n      <td>1</td>\n      <td>0</td>\n      <td>...</td>\n      <td>0</td>\n      <td>0</td>\n      <td>6</td>\n      <td>6</td>\n      <td>6</td>\n      <td>13.666667</td>\n      <td>0</td>\n      <td>-0.3</td>\n      <td>0.79</td>\n      <td>Graduate</td>\n    </tr>\n    <tr>\n      <th>2</th>\n      <td>1</td>\n      <td>5</td>\n      <td>5</td>\n      <td>1</td>\n      <td>1</td>\n      <td>1</td>\n      <td>0</td>\n      <td>0</td>\n      <td>1</td>\n      <td>0</td>\n      <td>...</td>\n      <td>0</td>\n      <td>0</td>\n      <td>6</td>\n      <td>0</td>\n      <td>0</td>\n      <td>0.000000</td>\n      <td>0</td>\n      <td>1.4</td>\n      <td>1.74</td>\n      <td>Dropout</td>\n    </tr>\n    <tr>\n      <th>3</th>\n      <td>8</td>\n      <td>2</td>\n      <td>15</td>\n      <td>1</td>\n      <td>1</td>\n      <td>1</td>\n      <td>0</td>\n      <td>1</td>\n      <td>0</td>\n      <td>0</td>\n      <td>...</td>\n      <td>0</td>\n      <td>0</td>\n      <td>6</td>\n      <td>10</td>\n      <td>5</td>\n      <td>12.400000</td>\n      <td>0</td>\n      <td>-0.8</td>\n      <td>-3.12</td>\n      <td>Graduate</td>\n    </tr>\n    <tr>\n      <th>4</th>\n      <td>12</td>\n      <td>1</td>\n      <td>3</td>\n      <td>0</td>\n      <td>1</td>\n      <td>1</td>\n      <td>0</td>\n      <td>1</td>\n      <td>0</td>\n      <td>0</td>\n      <td>...</td>\n      <td>0</td>\n      <td>0</td>\n      <td>6</td>\n      <td>6</td>\n      <td>6</td>\n      <td>13.000000</td>\n      <td>0</td>\n      <td>-0.3</td>\n      <td>0.79</td>\n      <td>Graduate</td>\n    </tr>\n    <tr>\n      <th>...</th>\n      <td>...</td>\n      <td>...</td>\n      <td>...</td>\n      <td>...</td>\n      <td>...</td>\n      <td>...</td>\n      <td>...</td>\n      <td>...</td>\n      <td>...</td>\n      <td>...</td>\n      <td>...</td>\n      <td>...</td>\n      <td>...</td>\n      <td>...</td>\n      <td>...</td>\n      <td>...</td>\n      <td>...</td>\n      <td>...</td>\n      <td>...</td>\n      <td>...</td>\n      <td>...</td>\n    </tr>\n    <tr>\n      <th>7437</th>\n      <td>1</td>\n      <td>1</td>\n      <td>5</td>\n      <td>1</td>\n      <td>1</td>\n      <td>1</td>\n      <td>0</td>\n      <td>1</td>\n      <td>1</td>\n      <td>1</td>\n      <td>...</td>\n      <td>0</td>\n      <td>1</td>\n      <td>6</td>\n      <td>9</td>\n      <td>5</td>\n      <td>12.500000</td>\n      <td>0</td>\n      <td>1.4</td>\n      <td>1.74</td>\n      <td>Graduate</td>\n    </tr>\n    <tr>\n      <th>7438</th>\n      <td>15</td>\n      <td>1</td>\n      <td>8</td>\n      <td>1</td>\n      <td>14</td>\n      <td>1</td>\n      <td>0</td>\n      <td>1</td>\n      <td>1</td>\n      <td>0</td>\n      <td>...</td>\n      <td>0</td>\n      <td>0</td>\n      <td>6</td>\n      <td>11</td>\n      <td>3</td>\n      <td>13.333333</td>\n      <td>0</td>\n      <td>-0.3</td>\n      <td>0.79</td>\n      <td>Dropout</td>\n    </tr>\n    <tr>\n      <th>7439</th>\n      <td>14</td>\n      <td>1</td>\n      <td>5</td>\n      <td>1</td>\n      <td>1</td>\n      <td>1</td>\n      <td>0</td>\n      <td>1</td>\n      <td>1</td>\n      <td>1</td>\n      <td>...</td>\n      <td>0</td>\n      <td>2</td>\n      <td>6</td>\n      <td>7</td>\n      <td>5</td>\n      <td>12.200000</td>\n      <td>0</td>\n      <td>-0.3</td>\n      <td>0.79</td>\n      <td>Enrolled</td>\n    </tr>\n    <tr>\n      <th>7440</th>\n      <td>14</td>\n      <td>1</td>\n      <td>1</td>\n      <td>1</td>\n      <td>1</td>\n      <td>1</td>\n      <td>0</td>\n      <td>1</td>\n      <td>1</td>\n      <td>0</td>\n      <td>...</td>\n      <td>0</td>\n      <td>2</td>\n      <td>8</td>\n      <td>10</td>\n      <td>2</td>\n      <td>13.000000</td>\n      <td>0</td>\n      <td>0.5</td>\n      <td>1.79</td>\n      <td>Enrolled</td>\n    </tr>\n    <tr>\n      <th>7441</th>\n      <td>1</td>\n      <td>1</td>\n      <td>8</td>\n      <td>1</td>\n      <td>1</td>\n      <td>1</td>\n      <td>0</td>\n      <td>1</td>\n      <td>0</td>\n      <td>0</td>\n      <td>...</td>\n      <td>1</td>\n      <td>0</td>\n      <td>5</td>\n      <td>8</td>\n      <td>5</td>\n      <td>11.600000</td>\n      <td>0</td>\n      <td>-0.8</td>\n      <td>-3.12</td>\n      <td>Graduate</td>\n    </tr>\n  </tbody>\n</table>\n<p>7442 rows × 25 columns</p>\n</div>"
     },
     "execution_count": 28,
     "metadata": {},
     "output_type": "execute_result"
    }
   ],
   "source": [
    "# Eliminar columnas que no son necesarias\n",
    "df.drop(['Marital status', 'Mother\\'s qualification', 'Father\\'s qualification', 'Mother\\'s occupation',\n",
    "         'Father\\'s occupation', 'Displaced', 'Debtor', 'Age at enrollment', 'International', 'Unemployment rate'],\n",
    "        axis=1)"
   ],
   "metadata": {
    "collapsed": false,
    "ExecuteTime": {
     "end_time": "2023-05-30T05:07:43.393830800Z",
     "start_time": "2023-05-30T05:07:43.362271900Z"
    }
   }
  },
  {
   "cell_type": "code",
   "execution_count": 29,
   "outputs": [],
   "source": [
    "# Mapear los valores de la columna\n",
    "df['Target'] = df['Target'].map({'Drop Out': 0, 'Graduate': 1, 'Enrolled': 2})"
   ],
   "metadata": {
    "collapsed": false,
    "ExecuteTime": {
     "end_time": "2023-05-30T05:07:43.749914200Z",
     "start_time": "2023-05-30T05:07:43.730966500Z"
    }
   }
  },
  {
   "cell_type": "code",
   "execution_count": 30,
   "outputs": [],
   "source": [
    "# Inicializar el modelo con decission tree\n",
    "decission_tree = tree.DecisionTreeClassifier()"
   ],
   "metadata": {
    "collapsed": false,
    "ExecuteTime": {
     "end_time": "2023-05-30T05:07:44.379192100Z",
     "start_time": "2023-05-30T05:07:44.359865100Z"
    }
   }
  },
  {
   "cell_type": "code",
   "execution_count": 31,
   "outputs": [],
   "source": [
    "# Preparar la data para entrenar el modelo\n",
    "data_x = df.drop(['Marital status', 'Mother\\'s qualification', 'Father\\'s qualification', 'Mother\\'s occupation',\n",
    "                  'Father\\'s occupation', 'Displaced', 'Debtor', 'Age at enrollment', 'International',\n",
    "                  'Unemployment rate', 'Curricular units 2nd sem (credited)'], axis='columns')\n",
    "data_y = df['Curricular units 2nd sem (credited)']"
   ],
   "metadata": {
    "collapsed": false,
    "ExecuteTime": {
     "end_time": "2023-05-30T05:07:44.816411300Z",
     "start_time": "2023-05-30T05:07:44.797989100Z"
    }
   }
  },
  {
   "cell_type": "code",
   "execution_count": 32,
   "outputs": [],
   "source": [
    "# Eliminar las filas con valores NaN\n",
    "data_x = data_x.dropna()\n",
    "data_y = data_y.dropna()"
   ],
   "metadata": {
    "collapsed": false,
    "ExecuteTime": {
     "end_time": "2023-05-30T05:07:45.233402900Z",
     "start_time": "2023-05-30T05:07:45.214454500Z"
    }
   }
  },
  {
   "cell_type": "code",
   "execution_count": 33,
   "outputs": [],
   "source": [
    "# Asegurarse de que las variables tengan el mismo número de muestras\n",
    "if len(data_x) != len(data_y):\n",
    "    # Realizar las modificaciones necesarias en data_x y data_y para que coincidan\n",
    "    # Por ejemplo, puedes eliminar las muestras adicionales de data_y\n",
    "    data_y = data_y[:len(data_x)]"
   ],
   "metadata": {
    "collapsed": false,
    "ExecuteTime": {
     "end_time": "2023-05-30T05:07:45.949765200Z",
     "start_time": "2023-05-30T05:07:45.934068100Z"
    }
   }
  },
  {
   "cell_type": "code",
   "execution_count": 34,
   "outputs": [],
   "source": [
    "train_x, test_x, train_y, test_y = train_test_split(data_x, data_y, test_size=0.1)"
   ],
   "metadata": {
    "collapsed": false,
    "ExecuteTime": {
     "end_time": "2023-05-30T05:07:46.370196300Z",
     "start_time": "2023-05-30T05:07:46.356790900Z"
    }
   }
  },
  {
   "cell_type": "code",
   "execution_count": 35,
   "outputs": [
    {
     "data": {
      "text/plain": "DecisionTreeClassifier()",
      "text/html": "<style>#sk-container-id-3 {color: black;background-color: white;}#sk-container-id-3 pre{padding: 0;}#sk-container-id-3 div.sk-toggleable {background-color: white;}#sk-container-id-3 label.sk-toggleable__label {cursor: pointer;display: block;width: 100%;margin-bottom: 0;padding: 0.3em;box-sizing: border-box;text-align: center;}#sk-container-id-3 label.sk-toggleable__label-arrow:before {content: \"▸\";float: left;margin-right: 0.25em;color: #696969;}#sk-container-id-3 label.sk-toggleable__label-arrow:hover:before {color: black;}#sk-container-id-3 div.sk-estimator:hover label.sk-toggleable__label-arrow:before {color: black;}#sk-container-id-3 div.sk-toggleable__content {max-height: 0;max-width: 0;overflow: hidden;text-align: left;background-color: #f0f8ff;}#sk-container-id-3 div.sk-toggleable__content pre {margin: 0.2em;color: black;border-radius: 0.25em;background-color: #f0f8ff;}#sk-container-id-3 input.sk-toggleable__control:checked~div.sk-toggleable__content {max-height: 200px;max-width: 100%;overflow: auto;}#sk-container-id-3 input.sk-toggleable__control:checked~label.sk-toggleable__label-arrow:before {content: \"▾\";}#sk-container-id-3 div.sk-estimator input.sk-toggleable__control:checked~label.sk-toggleable__label {background-color: #d4ebff;}#sk-container-id-3 div.sk-label input.sk-toggleable__control:checked~label.sk-toggleable__label {background-color: #d4ebff;}#sk-container-id-3 input.sk-hidden--visually {border: 0;clip: rect(1px 1px 1px 1px);clip: rect(1px, 1px, 1px, 1px);height: 1px;margin: -1px;overflow: hidden;padding: 0;position: absolute;width: 1px;}#sk-container-id-3 div.sk-estimator {font-family: monospace;background-color: #f0f8ff;border: 1px dotted black;border-radius: 0.25em;box-sizing: border-box;margin-bottom: 0.5em;}#sk-container-id-3 div.sk-estimator:hover {background-color: #d4ebff;}#sk-container-id-3 div.sk-parallel-item::after {content: \"\";width: 100%;border-bottom: 1px solid gray;flex-grow: 1;}#sk-container-id-3 div.sk-label:hover label.sk-toggleable__label {background-color: #d4ebff;}#sk-container-id-3 div.sk-serial::before {content: \"\";position: absolute;border-left: 1px solid gray;box-sizing: border-box;top: 0;bottom: 0;left: 50%;z-index: 0;}#sk-container-id-3 div.sk-serial {display: flex;flex-direction: column;align-items: center;background-color: white;padding-right: 0.2em;padding-left: 0.2em;position: relative;}#sk-container-id-3 div.sk-item {position: relative;z-index: 1;}#sk-container-id-3 div.sk-parallel {display: flex;align-items: stretch;justify-content: center;background-color: white;position: relative;}#sk-container-id-3 div.sk-item::before, #sk-container-id-3 div.sk-parallel-item::before {content: \"\";position: absolute;border-left: 1px solid gray;box-sizing: border-box;top: 0;bottom: 0;left: 50%;z-index: -1;}#sk-container-id-3 div.sk-parallel-item {display: flex;flex-direction: column;z-index: 1;position: relative;background-color: white;}#sk-container-id-3 div.sk-parallel-item:first-child::after {align-self: flex-end;width: 50%;}#sk-container-id-3 div.sk-parallel-item:last-child::after {align-self: flex-start;width: 50%;}#sk-container-id-3 div.sk-parallel-item:only-child::after {width: 0;}#sk-container-id-3 div.sk-dashed-wrapped {border: 1px dashed gray;margin: 0 0.4em 0.5em 0.4em;box-sizing: border-box;padding-bottom: 0.4em;background-color: white;}#sk-container-id-3 div.sk-label label {font-family: monospace;font-weight: bold;display: inline-block;line-height: 1.2em;}#sk-container-id-3 div.sk-label-container {text-align: center;}#sk-container-id-3 div.sk-container {/* jupyter's `normalize.less` sets `[hidden] { display: none; }` but bootstrap.min.css set `[hidden] { display: none !important; }` so we also need the `!important` here to be able to override the default hidden behavior on the sphinx rendered scikit-learn.org. See: https://github.com/scikit-learn/scikit-learn/issues/21755 */display: inline-block !important;position: relative;}#sk-container-id-3 div.sk-text-repr-fallback {display: none;}</style><div id=\"sk-container-id-3\" class=\"sk-top-container\"><div class=\"sk-text-repr-fallback\"><pre>DecisionTreeClassifier()</pre><b>In a Jupyter environment, please rerun this cell to show the HTML representation or trust the notebook. <br />On GitHub, the HTML representation is unable to render, please try loading this page with nbviewer.org.</b></div><div class=\"sk-container\" hidden><div class=\"sk-item\"><div class=\"sk-estimator sk-toggleable\"><input class=\"sk-toggleable__control sk-hidden--visually\" id=\"sk-estimator-id-3\" type=\"checkbox\" checked><label for=\"sk-estimator-id-3\" class=\"sk-toggleable__label sk-toggleable__label-arrow\">DecisionTreeClassifier</label><div class=\"sk-toggleable__content\"><pre>DecisionTreeClassifier()</pre></div></div></div></div></div>"
     },
     "execution_count": 35,
     "metadata": {},
     "output_type": "execute_result"
    }
   ],
   "source": [
    "# Entrenar el modelo\n",
    "decission_tree.fit(train_x, train_y)"
   ],
   "metadata": {
    "collapsed": false,
    "ExecuteTime": {
     "end_time": "2023-05-30T05:07:46.951030700Z",
     "start_time": "2023-05-30T05:07:46.902094800Z"
    }
   }
  },
  {
   "cell_type": "code",
   "execution_count": 36,
   "outputs": [
    {
     "name": "stdout",
     "output_type": "stream",
     "text": [
      "Score: 80.84%\n"
     ]
    }
   ],
   "source": [
    "# Medir la confianza de nuestro modelo\n",
    "print(f'Score: {round(decission_tree.score(test_x, test_y), 4) * 100}%')"
   ],
   "metadata": {
    "collapsed": false,
    "ExecuteTime": {
     "end_time": "2023-05-30T05:07:48.165771400Z",
     "start_time": "2023-05-30T05:07:48.147991Z"
    }
   }
  },
  {
   "cell_type": "code",
   "execution_count": null,
   "outputs": [],
   "source": [],
   "metadata": {
    "collapsed": false
   }
  }
 ],
 "metadata": {
  "kernelspec": {
   "display_name": "Python 3",
   "language": "python",
   "name": "python3"
  },
  "language_info": {
   "codemirror_mode": {
    "name": "ipython",
    "version": 2
   },
   "file_extension": ".py",
   "mimetype": "text/x-python",
   "name": "python",
   "nbconvert_exporter": "python",
   "pygments_lexer": "ipython2",
   "version": "2.7.6"
  }
 },
 "nbformat": 4,
 "nbformat_minor": 0
}
