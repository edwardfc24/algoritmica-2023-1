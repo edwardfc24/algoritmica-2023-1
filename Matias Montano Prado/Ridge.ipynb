{
 "cells": [
  {
   "cell_type": "code",
   "execution_count": 1,
   "metadata": {
    "collapsed": true,
    "ExecuteTime": {
     "end_time": "2023-05-13T00:32:35.289880600Z",
     "start_time": "2023-05-13T00:32:34.140647Z"
    }
   },
   "outputs": [],
   "source": [
    "#importamos librerias\n",
    "from sklearn.model_selection import train_test_split\n",
    "from sklearn import linear_model\n",
    "\n",
    "import pandas as pd\n",
    "import numpy as np\n",
    "import matplotlib.pyplot as plt"
   ]
  },
  {
   "cell_type": "code",
   "execution_count": 2,
   "outputs": [],
   "source": [
    "#se carga el dataset\n",
    "df = pd.read_csv('games.csv')"
   ],
   "metadata": {
    "collapsed": false,
    "ExecuteTime": {
     "end_time": "2023-05-13T00:32:35.380861500Z",
     "start_time": "2023-05-13T00:32:35.291874500Z"
    }
   }
  },
  {
   "cell_type": "code",
   "execution_count": 3,
   "outputs": [],
   "source": [
    "df.drop(['title','date_release','rating','steam_deck'],axis=1,inplace=True)"
   ],
   "metadata": {
    "collapsed": false,
    "ExecuteTime": {
     "end_time": "2023-05-13T00:32:35.388463300Z",
     "start_time": "2023-05-13T00:32:35.386466400Z"
    }
   }
  },
  {
   "cell_type": "code",
   "execution_count": 4,
   "outputs": [
    {
     "data": {
      "text/plain": "<pandas.io.formats.style.Styler at 0x18ff27fa950>",
      "text/html": "<style type=\"text/css\">\n#T_af5a6_row0_col0, #T_af5a6_row1_col1, #T_af5a6_row2_col2, #T_af5a6_row3_col3, #T_af5a6_row4_col4, #T_af5a6_row5_col5, #T_af5a6_row6_col6, #T_af5a6_row7_col7, #T_af5a6_row8_col8 {\n  background-color: #023858;\n  color: #f1f1f1;\n}\n#T_af5a6_row0_col1 {\n  background-color: #f4eef6;\n  color: #000000;\n}\n#T_af5a6_row0_col2, #T_af5a6_row0_col3, #T_af5a6_row0_col5, #T_af5a6_row0_col7, #T_af5a6_row1_col4, #T_af5a6_row2_col0, #T_af5a6_row2_col7, #T_af5a6_row3_col7, #T_af5a6_row4_col1, #T_af5a6_row6_col8, #T_af5a6_row8_col6 {\n  background-color: #fff7fb;\n  color: #000000;\n}\n#T_af5a6_row0_col4 {\n  background-color: #d3d4e7;\n  color: #000000;\n}\n#T_af5a6_row0_col6, #T_af5a6_row3_col8, #T_af5a6_row5_col1 {\n  background-color: #f0eaf4;\n  color: #000000;\n}\n#T_af5a6_row0_col8, #T_af5a6_row1_col0, #T_af5a6_row1_col8 {\n  background-color: #ebe6f2;\n  color: #000000;\n}\n#T_af5a6_row1_col2, #T_af5a6_row4_col2 {\n  background-color: #d9d8ea;\n  color: #000000;\n}\n#T_af5a6_row1_col3 {\n  background-color: #e0dded;\n  color: #000000;\n}\n#T_af5a6_row1_col5, #T_af5a6_row5_col7 {\n  background-color: #f9f2f8;\n  color: #000000;\n}\n#T_af5a6_row1_col6, #T_af5a6_row3_col1, #T_af5a6_row5_col3, #T_af5a6_row5_col6, #T_af5a6_row6_col2 {\n  background-color: #e7e3f0;\n  color: #000000;\n}\n#T_af5a6_row1_col7 {\n  background-color: #f8f1f8;\n  color: #000000;\n}\n#T_af5a6_row2_col1, #T_af5a6_row3_col4 {\n  background-color: #e5e1ef;\n  color: #000000;\n}\n#T_af5a6_row2_col3 {\n  background-color: #2081b9;\n  color: #f1f1f1;\n}\n#T_af5a6_row2_col4, #T_af5a6_row8_col0 {\n  background-color: #e4e1ef;\n  color: #000000;\n}\n#T_af5a6_row2_col5, #T_af5a6_row3_col5, #T_af5a6_row4_col5, #T_af5a6_row8_col7 {\n  background-color: #f7f0f7;\n  color: #000000;\n}\n#T_af5a6_row2_col6, #T_af5a6_row3_col6, #T_af5a6_row4_col8, #T_af5a6_row5_col8 {\n  background-color: #eee9f3;\n  color: #000000;\n}\n#T_af5a6_row2_col8, #T_af5a6_row8_col4 {\n  background-color: #f2ecf5;\n  color: #000000;\n}\n#T_af5a6_row3_col0 {\n  background-color: #fcf4fa;\n  color: #000000;\n}\n#T_af5a6_row3_col2 {\n  background-color: #1e80b8;\n  color: #f1f1f1;\n}\n#T_af5a6_row4_col0 {\n  background-color: #c5cce3;\n  color: #000000;\n}\n#T_af5a6_row4_col3 {\n  background-color: #dddbec;\n  color: #000000;\n}\n#T_af5a6_row4_col6, #T_af5a6_row5_col4, #T_af5a6_row8_col3 {\n  background-color: #eee8f3;\n  color: #000000;\n}\n#T_af5a6_row4_col7 {\n  background-color: #fdf5fa;\n  color: #000000;\n}\n#T_af5a6_row5_col0, #T_af5a6_row8_col2 {\n  background-color: #ede8f3;\n  color: #000000;\n}\n#T_af5a6_row5_col2 {\n  background-color: #e3e0ee;\n  color: #000000;\n}\n#T_af5a6_row6_col0 {\n  background-color: #eae6f1;\n  color: #000000;\n}\n#T_af5a6_row6_col1, #T_af5a6_row7_col1 {\n  background-color: #ece7f2;\n  color: #000000;\n}\n#T_af5a6_row6_col3, #T_af5a6_row7_col3 {\n  background-color: #ede7f2;\n  color: #000000;\n}\n#T_af5a6_row6_col4 {\n  background-color: #f1ebf5;\n  color: #000000;\n}\n#T_af5a6_row6_col5 {\n  background-color: #f5eef6;\n  color: #000000;\n}\n#T_af5a6_row6_col7 {\n  background-color: #034267;\n  color: #f1f1f1;\n}\n#T_af5a6_row7_col0 {\n  background-color: #e9e5f1;\n  color: #000000;\n}\n#T_af5a6_row7_col2 {\n  background-color: #e8e4f0;\n  color: #000000;\n}\n#T_af5a6_row7_col4 {\n  background-color: #f1ebf4;\n  color: #000000;\n}\n#T_af5a6_row7_col5 {\n  background-color: #f5eff6;\n  color: #000000;\n}\n#T_af5a6_row7_col6 {\n  background-color: #034165;\n  color: #f1f1f1;\n}\n#T_af5a6_row7_col8 {\n  background-color: #e6e2ef;\n  color: #000000;\n}\n#T_af5a6_row8_col1 {\n  background-color: #efe9f3;\n  color: #000000;\n}\n#T_af5a6_row8_col5 {\n  background-color: #fbf3f9;\n  color: #000000;\n}\n</style>\n<table id=\"T_af5a6\">\n  <thead>\n    <tr>\n      <th class=\"blank level0\" >&nbsp;</th>\n      <th id=\"T_af5a6_level0_col0\" class=\"col_heading level0 col0\" >app_id</th>\n      <th id=\"T_af5a6_level0_col1\" class=\"col_heading level0 col1\" >win</th>\n      <th id=\"T_af5a6_level0_col2\" class=\"col_heading level0 col2\" >mac</th>\n      <th id=\"T_af5a6_level0_col3\" class=\"col_heading level0 col3\" >linux</th>\n      <th id=\"T_af5a6_level0_col4\" class=\"col_heading level0 col4\" >positive_ratio</th>\n      <th id=\"T_af5a6_level0_col5\" class=\"col_heading level0 col5\" >user_reviews</th>\n      <th id=\"T_af5a6_level0_col6\" class=\"col_heading level0 col6\" >price_final</th>\n      <th id=\"T_af5a6_level0_col7\" class=\"col_heading level0 col7\" >price_original</th>\n      <th id=\"T_af5a6_level0_col8\" class=\"col_heading level0 col8\" >discount</th>\n    </tr>\n  </thead>\n  <tbody>\n    <tr>\n      <th id=\"T_af5a6_level0_row0\" class=\"row_heading level0 row0\" >app_id</th>\n      <td id=\"T_af5a6_row0_col0\" class=\"data row0 col0\" >1.000000</td>\n      <td id=\"T_af5a6_row0_col1\" class=\"data row0 col1\" >-0.023732</td>\n      <td id=\"T_af5a6_row0_col2\" class=\"data row0 col2\" >-0.177454</td>\n      <td id=\"T_af5a6_row0_col3\" class=\"data row0 col3\" >-0.151239</td>\n      <td id=\"T_af5a6_row0_col4\" class=\"data row0 col4\" >0.155888</td>\n      <td id=\"T_af5a6_row0_col5\" class=\"data row0 col5\" >-0.036499</td>\n      <td id=\"T_af5a6_row0_col6\" class=\"data row0 col6\" >-0.020939</td>\n      <td id=\"T_af5a6_row0_col7\" class=\"data row0 col7\" >-0.012846</td>\n      <td id=\"T_af5a6_row0_col8\" class=\"data row0 col8\" >0.014311</td>\n    </tr>\n    <tr>\n      <th id=\"T_af5a6_level0_row1\" class=\"row_heading level0 row1\" >win</th>\n      <td id=\"T_af5a6_row1_col0\" class=\"data row1 col0\" >-0.023732</td>\n      <td id=\"T_af5a6_row1_col1\" class=\"data row1 col1\" >1.000000</td>\n      <td id=\"T_af5a6_row1_col2\" class=\"data row1 col2\" >0.073223</td>\n      <td id=\"T_af5a6_row1_col3\" class=\"data row1 col3\" >0.057304</td>\n      <td id=\"T_af5a6_row1_col4\" class=\"data row1 col4\" >-0.103214</td>\n      <td id=\"T_af5a6_row1_col5\" class=\"data row1 col5\" >0.005394</td>\n      <td id=\"T_af5a6_row1_col6\" class=\"data row1 col6\" >0.034773</td>\n      <td id=\"T_af5a6_row1_col7\" class=\"data row1 col7\" >0.037978</td>\n      <td id=\"T_af5a6_row1_col8\" class=\"data row1 col8\" >0.016984</td>\n    </tr>\n    <tr>\n      <th id=\"T_af5a6_level0_row2\" class=\"row_heading level0 row2\" >mac</th>\n      <td id=\"T_af5a6_row2_col0\" class=\"data row2 col0\" >-0.177454</td>\n      <td id=\"T_af5a6_row2_col1\" class=\"data row2 col1\" >0.073223</td>\n      <td id=\"T_af5a6_row2_col2\" class=\"data row2 col2\" >1.000000</td>\n      <td id=\"T_af5a6_row2_col3\" class=\"data row2 col3\" >0.631572</td>\n      <td id=\"T_af5a6_row2_col4\" class=\"data row2 col4\" >0.074308</td>\n      <td id=\"T_af5a6_row2_col5\" class=\"data row2 col5\" >0.019241</td>\n      <td id=\"T_af5a6_row2_col6\" class=\"data row2 col6\" >-0.005611</td>\n      <td id=\"T_af5a6_row2_col7\" class=\"data row2 col7\" >-0.011133</td>\n      <td id=\"T_af5a6_row2_col8\" class=\"data row2 col8\" >-0.036486</td>\n    </tr>\n    <tr>\n      <th id=\"T_af5a6_level0_row3\" class=\"row_heading level0 row3\" >linux</th>\n      <td id=\"T_af5a6_row3_col0\" class=\"data row3 col0\" >-0.151239</td>\n      <td id=\"T_af5a6_row3_col1\" class=\"data row3 col1\" >0.057304</td>\n      <td id=\"T_af5a6_row3_col2\" class=\"data row3 col2\" >0.631572</td>\n      <td id=\"T_af5a6_row3_col3\" class=\"data row3 col3\" >1.000000</td>\n      <td id=\"T_af5a6_row3_col4\" class=\"data row3 col4\" >0.069807</td>\n      <td id=\"T_af5a6_row3_col5\" class=\"data row3 col5\" >0.020728</td>\n      <td id=\"T_af5a6_row3_col6\" class=\"data row3 col6\" >-0.007876</td>\n      <td id=\"T_af5a6_row3_col7\" class=\"data row3 col7\" >-0.010080</td>\n      <td id=\"T_af5a6_row3_col8\" class=\"data row3 col8\" >-0.019996</td>\n    </tr>\n    <tr>\n      <th id=\"T_af5a6_level0_row4\" class=\"row_heading level0 row4\" >positive_ratio</th>\n      <td id=\"T_af5a6_row4_col0\" class=\"data row4 col0\" >0.155888</td>\n      <td id=\"T_af5a6_row4_col1\" class=\"data row4 col1\" >-0.103214</td>\n      <td id=\"T_af5a6_row4_col2\" class=\"data row4 col2\" >0.074308</td>\n      <td id=\"T_af5a6_row4_col3\" class=\"data row4 col3\" >0.069807</td>\n      <td id=\"T_af5a6_row4_col4\" class=\"data row4 col4\" >1.000000</td>\n      <td id=\"T_af5a6_row4_col5\" class=\"data row4 col5\" >0.022174</td>\n      <td id=\"T_af5a6_row4_col6\" class=\"data row4 col6\" >-0.002469</td>\n      <td id=\"T_af5a6_row4_col7\" class=\"data row4 col7\" >0.001412</td>\n      <td id=\"T_af5a6_row4_col8\" class=\"data row4 col8\" >-0.005655</td>\n    </tr>\n    <tr>\n      <th id=\"T_af5a6_level0_row5\" class=\"row_heading level0 row5\" >user_reviews</th>\n      <td id=\"T_af5a6_row5_col0\" class=\"data row5 col0\" >-0.036499</td>\n      <td id=\"T_af5a6_row5_col1\" class=\"data row5 col1\" >0.005394</td>\n      <td id=\"T_af5a6_row5_col2\" class=\"data row5 col2\" >0.019241</td>\n      <td id=\"T_af5a6_row5_col3\" class=\"data row5 col3\" >0.020728</td>\n      <td id=\"T_af5a6_row5_col4\" class=\"data row5 col4\" >0.022174</td>\n      <td id=\"T_af5a6_row5_col5\" class=\"data row5 col5\" >1.000000</td>\n      <td id=\"T_af5a6_row5_col6\" class=\"data row5 col6\" >0.033216</td>\n      <td id=\"T_af5a6_row5_col7\" class=\"data row5 col7\" >0.029512</td>\n      <td id=\"T_af5a6_row5_col8\" class=\"data row5 col8\" >-0.004406</td>\n    </tr>\n    <tr>\n      <th id=\"T_af5a6_level0_row6\" class=\"row_heading level0 row6\" >price_final</th>\n      <td id=\"T_af5a6_row6_col0\" class=\"data row6 col0\" >-0.020939</td>\n      <td id=\"T_af5a6_row6_col1\" class=\"data row6 col1\" >0.034773</td>\n      <td id=\"T_af5a6_row6_col2\" class=\"data row6 col2\" >-0.005611</td>\n      <td id=\"T_af5a6_row6_col3\" class=\"data row6 col3\" >-0.007876</td>\n      <td id=\"T_af5a6_row6_col4\" class=\"data row6 col4\" >-0.002469</td>\n      <td id=\"T_af5a6_row6_col5\" class=\"data row6 col5\" >0.033216</td>\n      <td id=\"T_af5a6_row6_col6\" class=\"data row6 col6\" >1.000000</td>\n      <td id=\"T_af5a6_row6_col7\" class=\"data row6 col7\" >0.963527</td>\n      <td id=\"T_af5a6_row6_col8\" class=\"data row6 col8\" >-0.132361</td>\n    </tr>\n    <tr>\n      <th id=\"T_af5a6_level0_row7\" class=\"row_heading level0 row7\" >price_original</th>\n      <td id=\"T_af5a6_row7_col0\" class=\"data row7 col0\" >-0.012846</td>\n      <td id=\"T_af5a6_row7_col1\" class=\"data row7 col1\" >0.037978</td>\n      <td id=\"T_af5a6_row7_col2\" class=\"data row7 col2\" >-0.011133</td>\n      <td id=\"T_af5a6_row7_col3\" class=\"data row7 col3\" >-0.010080</td>\n      <td id=\"T_af5a6_row7_col4\" class=\"data row7 col4\" >0.001412</td>\n      <td id=\"T_af5a6_row7_col5\" class=\"data row7 col5\" >0.029512</td>\n      <td id=\"T_af5a6_row7_col6\" class=\"data row7 col6\" >0.963527</td>\n      <td id=\"T_af5a6_row7_col7\" class=\"data row7 col7\" >1.000000</td>\n      <td id=\"T_af5a6_row7_col8\" class=\"data row7 col8\" >0.042259</td>\n    </tr>\n    <tr>\n      <th id=\"T_af5a6_level0_row8\" class=\"row_heading level0 row8\" >discount</th>\n      <td id=\"T_af5a6_row8_col0\" class=\"data row8 col0\" >0.014311</td>\n      <td id=\"T_af5a6_row8_col1\" class=\"data row8 col1\" >0.016984</td>\n      <td id=\"T_af5a6_row8_col2\" class=\"data row8 col2\" >-0.036486</td>\n      <td id=\"T_af5a6_row8_col3\" class=\"data row8 col3\" >-0.019996</td>\n      <td id=\"T_af5a6_row8_col4\" class=\"data row8 col4\" >-0.005655</td>\n      <td id=\"T_af5a6_row8_col5\" class=\"data row8 col5\" >-0.004406</td>\n      <td id=\"T_af5a6_row8_col6\" class=\"data row8 col6\" >-0.132361</td>\n      <td id=\"T_af5a6_row8_col7\" class=\"data row8 col7\" >0.042259</td>\n      <td id=\"T_af5a6_row8_col8\" class=\"data row8 col8\" >1.000000</td>\n    </tr>\n  </tbody>\n</table>\n"
     },
     "execution_count": 4,
     "metadata": {},
     "output_type": "execute_result"
    }
   ],
   "source": [
    "# Análisis de correlación\n",
    "corr = df.corr()\n",
    "corr.style.background_gradient()"
   ],
   "metadata": {
    "collapsed": false,
    "ExecuteTime": {
     "end_time": "2023-05-13T00:32:35.461424200Z",
     "start_time": "2023-05-13T00:32:35.390458500Z"
    }
   }
  },
  {
   "cell_type": "code",
   "execution_count": 5,
   "outputs": [],
   "source": [
    "# Inicializamos el Modelo\n",
    "ridge = linear_model.Ridge()"
   ],
   "metadata": {
    "collapsed": false,
    "ExecuteTime": {
     "end_time": "2023-05-13T00:32:35.464683800Z",
     "start_time": "2023-05-13T00:32:35.462180800Z"
    }
   }
  },
  {
   "cell_type": "code",
   "execution_count": 6,
   "outputs": [],
   "source": [
    "# Preparamos la data\n",
    "data_x = df.drop(['app_id','win','mac','linux','positive_ratio','user_reviews','price_final','discount'], axis=1)\n",
    "data_y = df.price_final"
   ],
   "metadata": {
    "collapsed": false,
    "ExecuteTime": {
     "end_time": "2023-05-13T00:32:35.471251100Z",
     "start_time": "2023-05-13T00:32:35.465694700Z"
    }
   }
  },
  {
   "cell_type": "code",
   "execution_count": 7,
   "outputs": [],
   "source": [
    "#Aqui hacemos el split de los datos\n",
    "train_x, test_x, train_y, test_y = train_test_split(data_x, data_y, test_size=0.1)"
   ],
   "metadata": {
    "collapsed": false,
    "ExecuteTime": {
     "end_time": "2023-05-13T00:32:35.479893800Z",
     "start_time": "2023-05-13T00:32:35.472249700Z"
    }
   }
  },
  {
   "cell_type": "code",
   "execution_count": 8,
   "outputs": [
    {
     "data": {
      "text/plain": "Ridge()",
      "text/html": "<style>#sk-container-id-1 {color: black;background-color: white;}#sk-container-id-1 pre{padding: 0;}#sk-container-id-1 div.sk-toggleable {background-color: white;}#sk-container-id-1 label.sk-toggleable__label {cursor: pointer;display: block;width: 100%;margin-bottom: 0;padding: 0.3em;box-sizing: border-box;text-align: center;}#sk-container-id-1 label.sk-toggleable__label-arrow:before {content: \"▸\";float: left;margin-right: 0.25em;color: #696969;}#sk-container-id-1 label.sk-toggleable__label-arrow:hover:before {color: black;}#sk-container-id-1 div.sk-estimator:hover label.sk-toggleable__label-arrow:before {color: black;}#sk-container-id-1 div.sk-toggleable__content {max-height: 0;max-width: 0;overflow: hidden;text-align: left;background-color: #f0f8ff;}#sk-container-id-1 div.sk-toggleable__content pre {margin: 0.2em;color: black;border-radius: 0.25em;background-color: #f0f8ff;}#sk-container-id-1 input.sk-toggleable__control:checked~div.sk-toggleable__content {max-height: 200px;max-width: 100%;overflow: auto;}#sk-container-id-1 input.sk-toggleable__control:checked~label.sk-toggleable__label-arrow:before {content: \"▾\";}#sk-container-id-1 div.sk-estimator input.sk-toggleable__control:checked~label.sk-toggleable__label {background-color: #d4ebff;}#sk-container-id-1 div.sk-label input.sk-toggleable__control:checked~label.sk-toggleable__label {background-color: #d4ebff;}#sk-container-id-1 input.sk-hidden--visually {border: 0;clip: rect(1px 1px 1px 1px);clip: rect(1px, 1px, 1px, 1px);height: 1px;margin: -1px;overflow: hidden;padding: 0;position: absolute;width: 1px;}#sk-container-id-1 div.sk-estimator {font-family: monospace;background-color: #f0f8ff;border: 1px dotted black;border-radius: 0.25em;box-sizing: border-box;margin-bottom: 0.5em;}#sk-container-id-1 div.sk-estimator:hover {background-color: #d4ebff;}#sk-container-id-1 div.sk-parallel-item::after {content: \"\";width: 100%;border-bottom: 1px solid gray;flex-grow: 1;}#sk-container-id-1 div.sk-label:hover label.sk-toggleable__label {background-color: #d4ebff;}#sk-container-id-1 div.sk-serial::before {content: \"\";position: absolute;border-left: 1px solid gray;box-sizing: border-box;top: 0;bottom: 0;left: 50%;z-index: 0;}#sk-container-id-1 div.sk-serial {display: flex;flex-direction: column;align-items: center;background-color: white;padding-right: 0.2em;padding-left: 0.2em;position: relative;}#sk-container-id-1 div.sk-item {position: relative;z-index: 1;}#sk-container-id-1 div.sk-parallel {display: flex;align-items: stretch;justify-content: center;background-color: white;position: relative;}#sk-container-id-1 div.sk-item::before, #sk-container-id-1 div.sk-parallel-item::before {content: \"\";position: absolute;border-left: 1px solid gray;box-sizing: border-box;top: 0;bottom: 0;left: 50%;z-index: -1;}#sk-container-id-1 div.sk-parallel-item {display: flex;flex-direction: column;z-index: 1;position: relative;background-color: white;}#sk-container-id-1 div.sk-parallel-item:first-child::after {align-self: flex-end;width: 50%;}#sk-container-id-1 div.sk-parallel-item:last-child::after {align-self: flex-start;width: 50%;}#sk-container-id-1 div.sk-parallel-item:only-child::after {width: 0;}#sk-container-id-1 div.sk-dashed-wrapped {border: 1px dashed gray;margin: 0 0.4em 0.5em 0.4em;box-sizing: border-box;padding-bottom: 0.4em;background-color: white;}#sk-container-id-1 div.sk-label label {font-family: monospace;font-weight: bold;display: inline-block;line-height: 1.2em;}#sk-container-id-1 div.sk-label-container {text-align: center;}#sk-container-id-1 div.sk-container {/* jupyter's `normalize.less` sets `[hidden] { display: none; }` but bootstrap.min.css set `[hidden] { display: none !important; }` so we also need the `!important` here to be able to override the default hidden behavior on the sphinx rendered scikit-learn.org. See: https://github.com/scikit-learn/scikit-learn/issues/21755 */display: inline-block !important;position: relative;}#sk-container-id-1 div.sk-text-repr-fallback {display: none;}</style><div id=\"sk-container-id-1\" class=\"sk-top-container\"><div class=\"sk-text-repr-fallback\"><pre>Ridge()</pre><b>In a Jupyter environment, please rerun this cell to show the HTML representation or trust the notebook. <br />On GitHub, the HTML representation is unable to render, please try loading this page with nbviewer.org.</b></div><div class=\"sk-container\" hidden><div class=\"sk-item\"><div class=\"sk-estimator sk-toggleable\"><input class=\"sk-toggleable__control sk-hidden--visually\" id=\"sk-estimator-id-1\" type=\"checkbox\" checked><label for=\"sk-estimator-id-1\" class=\"sk-toggleable__label sk-toggleable__label-arrow\">Ridge</label><div class=\"sk-toggleable__content\"><pre>Ridge()</pre></div></div></div></div></div>"
     },
     "execution_count": 8,
     "metadata": {},
     "output_type": "execute_result"
    }
   ],
   "source": [
    "# Entrenamos el modelo\n",
    "ridge.fit(train_x, train_y)"
   ],
   "metadata": {
    "collapsed": false,
    "ExecuteTime": {
     "end_time": "2023-05-13T00:32:35.497947800Z",
     "start_time": "2023-05-13T00:32:35.480893700Z"
    }
   }
  },
  {
   "cell_type": "code",
   "execution_count": 9,
   "outputs": [
    {
     "name": "stdout",
     "output_type": "stream",
     "text": [
      "y = 0.94x + 0.01\n"
     ]
    }
   ],
   "source": [
    "print(f'y = {round( ridge.coef_[0], 2)}x + {round(ridge.intercept_, 2)}')"
   ],
   "metadata": {
    "collapsed": false,
    "ExecuteTime": {
     "end_time": "2023-05-13T00:32:35.507692800Z",
     "start_time": "2023-05-13T00:32:35.496949900Z"
    }
   }
  },
  {
   "cell_type": "code",
   "execution_count": 10,
   "outputs": [
    {
     "name": "stdout",
     "output_type": "stream",
     "text": [
      "Score: 90.35%\n"
     ]
    }
   ],
   "source": [
    "# Veamos la calificación\n",
    "print(f'Score: {round(ridge.score(test_x, test_y), 4) * 100}%')"
   ],
   "metadata": {
    "collapsed": false,
    "ExecuteTime": {
     "end_time": "2023-05-13T00:32:36.563783800Z",
     "start_time": "2023-05-13T00:32:36.556093900Z"
    }
   }
  },
  {
   "cell_type": "code",
   "execution_count": 11,
   "outputs": [
    {
     "name": "stderr",
     "output_type": "stream",
     "text": [
      "C:\\Users\\eroni\\OneDrive\\Documentos\\entornoVirtua1\\Lib\\site-packages\\sklearn\\base.py:439: UserWarning: X does not have valid feature names, but Ridge was fitted with feature names\n",
      "  warnings.warn(\n"
     ]
    }
   ],
   "source": [
    "# En base a las marcas de las computadoras y al ratio, esto es lo que se gastan las personas\n",
    "priceOriginal= 5\n",
    "predicted = ridge.predict([[priceOriginal]])#aqui van todas las tablas de data_x"
   ],
   "metadata": {
    "collapsed": false,
    "ExecuteTime": {
     "end_time": "2023-05-13T00:32:37.157241700Z",
     "start_time": "2023-05-13T00:32:37.147757Z"
    }
   }
  },
  {
   "cell_type": "code",
   "execution_count": 12,
   "outputs": [
    {
     "name": "stdout",
     "output_type": "stream",
     "text": [
      "El precio original es de 5 y el precio que se pagará es de 4.72\n"
     ]
    }
   ],
   "source": [
    "print(f'El precio original es de {priceOriginal} y el precio que se pagará es de {round(predicted[0], 2)}')"
   ],
   "metadata": {
    "collapsed": false,
    "ExecuteTime": {
     "end_time": "2023-05-13T00:32:38.073556700Z",
     "start_time": "2023-05-13T00:32:38.064229700Z"
    }
   }
  },
  {
   "cell_type": "code",
   "execution_count": 13,
   "outputs": [
    {
     "data": {
      "text/plain": "<Figure size 640x480 with 1 Axes>",
      "image/png": "[encoded data removed]"
     },
     "metadata": {},
     "output_type": "display_data"
    }
   ],
   "source": [
    "#Visualiza los datos y la línea de regresión ajustada\n",
    "plt.scatter(train_x, train_y, color='blue')\n",
    "plt.plot(train_x, ridge.predict(train_x), color='red', linewidth=2)\n",
    "plt.show()"
   ],
   "metadata": {
    "collapsed": false,
    "ExecuteTime": {
     "end_time": "2023-05-13T00:32:41.343299Z",
     "start_time": "2023-05-13T00:32:41.137222100Z"
    }
   }
  },
  {
   "cell_type": "code",
   "execution_count": null,
   "outputs": [],
   "source": [],
   "metadata": {
    "collapsed": false
   }
  }
 ],
 "metadata": {
  "kernelspec": {
   "display_name": "Python 3",
   "language": "python",
   "name": "python3"
  },
  "language_info": {
   "codemirror_mode": {
    "name": "ipython",
    "version": 2
   },
   "file_extension": ".py",
   "mimetype": "text/x-python",
   "name": "python",
   "nbconvert_exporter": "python",
   "pygments_lexer": "ipython2",
   "version": "2.7.6"
  }
 },
 "nbformat": 4,
 "nbformat_minor": 0
}
