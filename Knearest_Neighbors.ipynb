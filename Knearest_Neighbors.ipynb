{
 "cells": [
  {
   "cell_type": "code",
   "execution_count": 1,
   "metadata": {},
   "outputs": [],
   "source": [
    "from sklearn import *\n",
    "from sklearn import neighbors\n",
    "from sklearn.model_selection import train_test_split\n",
    "\n",
    "import pandas as pd\n",
    "import numpy as np\n",
    "import matplotlib.pyplot as plt"
   ]
  },
  {
   "cell_type": "code",
   "execution_count": 2,
   "metadata": {},
   "outputs": [],
   "source": [
    "df = pd.read_csv('pda-prouni-2017.csv')"
   ]
  },
  {
   "cell_type": "code",
   "execution_count": 3,
   "metadata": {},
   "outputs": [
    {
     "data": {
      "text/html": [
       "<div>\n",
       "<style scoped>\n",
       "    .dataframe tbody tr th:only-of-type {\n",
       "        vertical-align: middle;\n",
       "    }\n",
       "\n",
       "    .dataframe tbody tr th {\n",
       "        vertical-align: top;\n",
       "    }\n",
       "\n",
       "    .dataframe thead th {\n",
       "        text-align: right;\n",
       "    }\n",
       "</style>\n",
       "<table border=\"1\" class=\"dataframe\">\n",
       "  <thead>\n",
       "    <tr style=\"text-align: right;\">\n",
       "      <th></th>\n",
       "      <th>ANO_CONCESSAO_BOLSA</th>\n",
       "      <th>CODIGO_EMEC_IES_BOLSA</th>\n",
       "    </tr>\n",
       "  </thead>\n",
       "  <tbody>\n",
       "    <tr>\n",
       "      <th>count</th>\n",
       "      <td>236636.0</td>\n",
       "      <td>236636.000000</td>\n",
       "    </tr>\n",
       "    <tr>\n",
       "      <th>mean</th>\n",
       "      <td>2017.0</td>\n",
       "      <td>1726.602647</td>\n",
       "    </tr>\n",
       "    <tr>\n",
       "      <th>std</th>\n",
       "      <td>0.0</td>\n",
       "      <td>2922.718771</td>\n",
       "    </tr>\n",
       "    <tr>\n",
       "      <th>min</th>\n",
       "      <td>2017.0</td>\n",
       "      <td>10.000000</td>\n",
       "    </tr>\n",
       "    <tr>\n",
       "      <th>25%</th>\n",
       "      <td>2017.0</td>\n",
       "      <td>322.000000</td>\n",
       "    </tr>\n",
       "    <tr>\n",
       "      <th>50%</th>\n",
       "      <td>2017.0</td>\n",
       "      <td>823.000000</td>\n",
       "    </tr>\n",
       "    <tr>\n",
       "      <th>75%</th>\n",
       "      <td>2017.0</td>\n",
       "      <td>1772.000000</td>\n",
       "    </tr>\n",
       "    <tr>\n",
       "      <th>max</th>\n",
       "      <td>2017.0</td>\n",
       "      <td>21240.000000</td>\n",
       "    </tr>\n",
       "  </tbody>\n",
       "</table>\n",
       "</div>"
      ],
      "text/plain": [
       "       ANO_CONCESSAO_BOLSA  CODIGO_EMEC_IES_BOLSA\n",
       "count             236636.0          236636.000000\n",
       "mean                2017.0            1726.602647\n",
       "std                    0.0            2922.718771\n",
       "min                 2017.0              10.000000\n",
       "25%                 2017.0             322.000000\n",
       "50%                 2017.0             823.000000\n",
       "75%                 2017.0            1772.000000\n",
       "max                 2017.0           21240.000000"
      ]
     },
     "execution_count": 3,
     "metadata": {},
     "output_type": "execute_result"
    }
   ],
   "source": [
    "df.describe()"
   ]
  },
  {
   "cell_type": "code",
   "execution_count": 4,
   "metadata": {},
   "outputs": [
    {
     "name": "stdout",
     "output_type": "stream",
     "text": [
      "<class 'pandas.core.frame.DataFrame'>\n",
      "RangeIndex: 236636 entries, 0 to 236635\n",
      "Data columns (total 15 columns):\n",
      " #   Column                          Non-Null Count   Dtype \n",
      "---  ------                          --------------   ----- \n",
      " 0   ANO_CONCESSAO_BOLSA             236636 non-null  int64 \n",
      " 1   CODIGO_EMEC_IES_BOLSA           236636 non-null  int64 \n",
      " 2   NOME_IES_BOLSA                  236636 non-null  object\n",
      " 3   TIPO_BOLSA                      236636 non-null  object\n",
      " 4   MODALIDADE_ENSINO_BOLSA         236636 non-null  object\n",
      " 5   NOME_CURSO_BOLSA                236636 non-null  object\n",
      " 6   NOME_TURNO_CURSO_BOLSA          236636 non-null  object\n",
      " 7   CPF_BENEFICIARIO_BOLSA          236636 non-null  object\n",
      " 8   SEXO_BENEFICIARIO_BOLSA         236636 non-null  object\n",
      " 9   RACA_BENEFICIARIO_BOLSA         236636 non-null  object\n",
      " 10  DT_NASCIMENTO_BENEFICIARIO      236636 non-null  object\n",
      " 11  BENEFICIARIO_DEFICIENTE_FISICO  236636 non-null  object\n",
      " 12  REGIAO_BENEFICIARIO_BOLSA       236636 non-null  object\n",
      " 13  SIGLA_UF_BENEFICIARIO_BOLSA     236636 non-null  object\n",
      " 14  MUNICIPIO_BENEFICIARIO_BOLSA    236636 non-null  object\n",
      "dtypes: int64(2), object(13)\n",
      "memory usage: 27.1+ MB\n"
     ]
    }
   ],
   "source": [
    "df.info()"
   ]
  },
  {
   "cell_type": "code",
   "execution_count": 5,
   "metadata": {},
   "outputs": [
    {
     "data": {
      "text/html": [
       "<div>\n",
       "<style scoped>\n",
       "    .dataframe tbody tr th:only-of-type {\n",
       "        vertical-align: middle;\n",
       "    }\n",
       "\n",
       "    .dataframe tbody tr th {\n",
       "        vertical-align: top;\n",
       "    }\n",
       "\n",
       "    .dataframe thead th {\n",
       "        text-align: right;\n",
       "    }\n",
       "</style>\n",
       "<table border=\"1\" class=\"dataframe\">\n",
       "  <thead>\n",
       "    <tr style=\"text-align: right;\">\n",
       "      <th></th>\n",
       "      <th>ANO_CONCESSAO_BOLSA</th>\n",
       "      <th>CODIGO_EMEC_IES_BOLSA</th>\n",
       "      <th>NOME_IES_BOLSA</th>\n",
       "      <th>TIPO_BOLSA</th>\n",
       "      <th>MODALIDADE_ENSINO_BOLSA</th>\n",
       "      <th>NOME_CURSO_BOLSA</th>\n",
       "      <th>NOME_TURNO_CURSO_BOLSA</th>\n",
       "      <th>CPF_BENEFICIARIO_BOLSA</th>\n",
       "      <th>SEXO_BENEFICIARIO_BOLSA</th>\n",
       "      <th>RACA_BENEFICIARIO_BOLSA</th>\n",
       "      <th>DT_NASCIMENTO_BENEFICIARIO</th>\n",
       "      <th>BENEFICIARIO_DEFICIENTE_FISICO</th>\n",
       "      <th>REGIAO_BENEFICIARIO_BOLSA</th>\n",
       "      <th>SIGLA_UF_BENEFICIARIO_BOLSA</th>\n",
       "      <th>MUNICIPIO_BENEFICIARIO_BOLSA</th>\n",
       "    </tr>\n",
       "  </thead>\n",
       "  <tbody>\n",
       "    <tr>\n",
       "      <th>0</th>\n",
       "      <td>2017</td>\n",
       "      <td>10</td>\n",
       "      <td>PONTIFÍCIA UNIVERSIDADE CATÓLICA DO PARANÁ</td>\n",
       "      <td>BOLSA PARCIAL 50%</td>\n",
       "      <td>Presencial</td>\n",
       "      <td>Ciências Contábeis</td>\n",
       "      <td>Noturno</td>\n",
       "      <td>***72056999**</td>\n",
       "      <td>F</td>\n",
       "      <td>Branca</td>\n",
       "      <td>29/04/1992</td>\n",
       "      <td>N</td>\n",
       "      <td>Sul</td>\n",
       "      <td>PR</td>\n",
       "      <td>SAO JOSE DOS PINHAIS</td>\n",
       "    </tr>\n",
       "    <tr>\n",
       "      <th>1</th>\n",
       "      <td>2017</td>\n",
       "      <td>10</td>\n",
       "      <td>PONTIFÍCIA UNIVERSIDADE CATÓLICA DO PARANÁ</td>\n",
       "      <td>BOLSA PARCIAL 50%</td>\n",
       "      <td>Presencial</td>\n",
       "      <td>Ciências Contábeis</td>\n",
       "      <td>Noturno</td>\n",
       "      <td>***74440980**</td>\n",
       "      <td>M</td>\n",
       "      <td>Branca</td>\n",
       "      <td>24/01/1999</td>\n",
       "      <td>N</td>\n",
       "      <td>Sul</td>\n",
       "      <td>PR</td>\n",
       "      <td>TOLEDO</td>\n",
       "    </tr>\n",
       "    <tr>\n",
       "      <th>2</th>\n",
       "      <td>2017</td>\n",
       "      <td>10</td>\n",
       "      <td>PONTIFÍCIA UNIVERSIDADE CATÓLICA DO PARANÁ</td>\n",
       "      <td>BOLSA PARCIAL 50%</td>\n",
       "      <td>Presencial</td>\n",
       "      <td>Ciências Contábeis</td>\n",
       "      <td>Noturno</td>\n",
       "      <td>***78689980**</td>\n",
       "      <td>M</td>\n",
       "      <td>Branca</td>\n",
       "      <td>19/05/1994</td>\n",
       "      <td>N</td>\n",
       "      <td>Sul</td>\n",
       "      <td>PR</td>\n",
       "      <td>CURITIBA</td>\n",
       "    </tr>\n",
       "    <tr>\n",
       "      <th>3</th>\n",
       "      <td>2017</td>\n",
       "      <td>10</td>\n",
       "      <td>PONTIFÍCIA UNIVERSIDADE CATÓLICA DO PARANÁ</td>\n",
       "      <td>BOLSA PARCIAL 50%</td>\n",
       "      <td>Presencial</td>\n",
       "      <td>Ciências Contábeis</td>\n",
       "      <td>Noturno</td>\n",
       "      <td>***90299907**</td>\n",
       "      <td>M</td>\n",
       "      <td>Branca</td>\n",
       "      <td>31/01/1997</td>\n",
       "      <td>N</td>\n",
       "      <td>Sul</td>\n",
       "      <td>PR</td>\n",
       "      <td>TOLEDO</td>\n",
       "    </tr>\n",
       "    <tr>\n",
       "      <th>4</th>\n",
       "      <td>2017</td>\n",
       "      <td>10</td>\n",
       "      <td>PONTIFÍCIA UNIVERSIDADE CATÓLICA DO PARANÁ</td>\n",
       "      <td>BOLSA PARCIAL 50%</td>\n",
       "      <td>Presencial</td>\n",
       "      <td>Ciências Contábeis</td>\n",
       "      <td>Noturno</td>\n",
       "      <td>***90445902**</td>\n",
       "      <td>M</td>\n",
       "      <td>Branca</td>\n",
       "      <td>24/11/1994</td>\n",
       "      <td>N</td>\n",
       "      <td>Sul</td>\n",
       "      <td>PR</td>\n",
       "      <td>CURITIBA</td>\n",
       "    </tr>\n",
       "  </tbody>\n",
       "</table>\n",
       "</div>"
      ],
      "text/plain": [
       "   ANO_CONCESSAO_BOLSA  CODIGO_EMEC_IES_BOLSA  \\\n",
       "0                 2017                     10   \n",
       "1                 2017                     10   \n",
       "2                 2017                     10   \n",
       "3                 2017                     10   \n",
       "4                 2017                     10   \n",
       "\n",
       "                               NOME_IES_BOLSA         TIPO_BOLSA  \\\n",
       "0  PONTIFÍCIA UNIVERSIDADE CATÓLICA DO PARANÁ  BOLSA PARCIAL 50%   \n",
       "1  PONTIFÍCIA UNIVERSIDADE CATÓLICA DO PARANÁ  BOLSA PARCIAL 50%   \n",
       "2  PONTIFÍCIA UNIVERSIDADE CATÓLICA DO PARANÁ  BOLSA PARCIAL 50%   \n",
       "3  PONTIFÍCIA UNIVERSIDADE CATÓLICA DO PARANÁ  BOLSA PARCIAL 50%   \n",
       "4  PONTIFÍCIA UNIVERSIDADE CATÓLICA DO PARANÁ  BOLSA PARCIAL 50%   \n",
       "\n",
       "  MODALIDADE_ENSINO_BOLSA    NOME_CURSO_BOLSA NOME_TURNO_CURSO_BOLSA  \\\n",
       "0              Presencial  Ciências Contábeis                Noturno   \n",
       "1              Presencial  Ciências Contábeis                Noturno   \n",
       "2              Presencial  Ciências Contábeis                Noturno   \n",
       "3              Presencial  Ciências Contábeis                Noturno   \n",
       "4              Presencial  Ciências Contábeis                Noturno   \n",
       "\n",
       "  CPF_BENEFICIARIO_BOLSA SEXO_BENEFICIARIO_BOLSA RACA_BENEFICIARIO_BOLSA  \\\n",
       "0          ***72056999**                       F                  Branca   \n",
       "1          ***74440980**                       M                  Branca   \n",
       "2          ***78689980**                       M                  Branca   \n",
       "3          ***90299907**                       M                  Branca   \n",
       "4          ***90445902**                       M                  Branca   \n",
       "\n",
       "  DT_NASCIMENTO_BENEFICIARIO BENEFICIARIO_DEFICIENTE_FISICO  \\\n",
       "0                 29/04/1992                              N   \n",
       "1                 24/01/1999                              N   \n",
       "2                 19/05/1994                              N   \n",
       "3                 31/01/1997                              N   \n",
       "4                 24/11/1994                              N   \n",
       "\n",
       "  REGIAO_BENEFICIARIO_BOLSA SIGLA_UF_BENEFICIARIO_BOLSA  \\\n",
       "0                       Sul                          PR   \n",
       "1                       Sul                          PR   \n",
       "2                       Sul                          PR   \n",
       "3                       Sul                          PR   \n",
       "4                       Sul                          PR   \n",
       "\n",
       "  MUNICIPIO_BENEFICIARIO_BOLSA  \n",
       "0         SAO JOSE DOS PINHAIS  \n",
       "1                       TOLEDO  \n",
       "2                     CURITIBA  \n",
       "3                       TOLEDO  \n",
       "4                     CURITIBA  "
      ]
     },
     "execution_count": 5,
     "metadata": {},
     "output_type": "execute_result"
    }
   ],
   "source": [
    "df.head(5)"
   ]
  },
  {
   "cell_type": "code",
   "execution_count": 10,
   "metadata": {},
   "outputs": [
    {
     "data": {
      "text/plain": [
       "array(['PR', 'SP', 'RO', 'MG', 'SC', 'ES', 'PE', 'RS', 'RJ', 'BA', 'PA',\n",
       "       'MA', 'MT', 'SE', 'DF', 'GO', 'CE', 'MS', 'AC', 'RR', 'TO', 'AM',\n",
       "       'AL', 'PB', 'RN', 'PI', 'AP'], dtype=object)"
      ]
     },
     "execution_count": 10,
     "metadata": {},
     "output_type": "execute_result"
    }
   ],
   "source": [
    "df.SIGLA_UF_BENEFICIARIO_BOLSA.unique()"
   ]
  },
  {
   "cell_type": "code",
   "execution_count": 11,
   "metadata": {},
   "outputs": [],
   "source": [
    "df.TIPO_BOLSA = df.TIPO_BOLSA.map({'BOLSA PARCIAL 50%':1, 'BOLSA INTEGRAL':2})\n",
    "df.MODALIDADE_ENSINO_BOLSA = df.MODALIDADE_ENSINO_BOLSA.map({'Presencial':1 ,'EAD':2})\n",
    "df.NOME_TURNO_CURSO_BOLSA = df.NOME_TURNO_CURSO_BOLSA.map({'Noturno':1, 'Matutino':2, 'Vespertino':3, 'Curso a distância': 4,'Integral':5})\n",
    "df.SEXO_BENEFICIARIO_BOLSA = df.SEXO_BENEFICIARIO_BOLSA.map({'F':1, 'M':2})\n",
    "df.RACA_BENEFICIARIO_BOLSA = df.RACA_BENEFICIARIO_BOLSA.map({'Branca':1, 'Parda':2, 'Preta':3, 'Amarela':4, 'Indígena':5, 'Não Informada':6})\n",
    "df.BENEFICIARIO_DEFICIENTE_FISICO = df.BENEFICIARIO_DEFICIENTE_FISICO.map({'N':1, 'S':2})\n",
    "df.REGIAO_BENEFICIARIO_BOLSA = df.REGIAO_BENEFICIARIO_BOLSA.map({'Sul':1, 'Sudeste':2, 'Norte':3, 'Nordeste':4, 'Centro-Oeste':5})"
   ]
  },
  {
   "cell_type": "code",
   "execution_count": 12,
   "metadata": {},
   "outputs": [
    {
     "name": "stdout",
     "output_type": "stream",
     "text": [
      "<class 'pandas.core.frame.DataFrame'>\n",
      "RangeIndex: 236636 entries, 0 to 236635\n",
      "Data columns (total 15 columns):\n",
      " #   Column                          Non-Null Count   Dtype \n",
      "---  ------                          --------------   ----- \n",
      " 0   ANO_CONCESSAO_BOLSA             236636 non-null  int64 \n",
      " 1   CODIGO_EMEC_IES_BOLSA           236636 non-null  int64 \n",
      " 2   NOME_IES_BOLSA                  236636 non-null  object\n",
      " 3   TIPO_BOLSA                      236636 non-null  int64 \n",
      " 4   MODALIDADE_ENSINO_BOLSA         236636 non-null  int64 \n",
      " 5   NOME_CURSO_BOLSA                236636 non-null  object\n",
      " 6   NOME_TURNO_CURSO_BOLSA          236636 non-null  int64 \n",
      " 7   CPF_BENEFICIARIO_BOLSA          236636 non-null  object\n",
      " 8   SEXO_BENEFICIARIO_BOLSA         236636 non-null  int64 \n",
      " 9   RACA_BENEFICIARIO_BOLSA         236636 non-null  int64 \n",
      " 10  DT_NASCIMENTO_BENEFICIARIO      236636 non-null  object\n",
      " 11  BENEFICIARIO_DEFICIENTE_FISICO  236636 non-null  int64 \n",
      " 12  REGIAO_BENEFICIARIO_BOLSA       236636 non-null  int64 \n",
      " 13  SIGLA_UF_BENEFICIARIO_BOLSA     236636 non-null  object\n",
      " 14  MUNICIPIO_BENEFICIARIO_BOLSA    236636 non-null  object\n",
      "dtypes: int64(9), object(6)\n",
      "memory usage: 27.1+ MB\n"
     ]
    }
   ],
   "source": [
    "df.info()"
   ]
  },
  {
   "cell_type": "code",
   "execution_count": 13,
   "metadata": {},
   "outputs": [],
   "source": [
    "df.drop(['NOME_IES_BOLSA','NOME_CURSO_BOLSA','CPF_BENEFICIARIO_BOLSA','DT_NASCIMENTO_BENEFICIARIO','SIGLA_UF_BENEFICIARIO_BOLSA','MUNICIPIO_BENEFICIARIO_BOLSA','ANO_CONCESSAO_BOLSA', 'CODIGO_EMEC_IES_BOLSA' ], axis=1, inplace=True)"
   ]
  },
  {
   "cell_type": "code",
   "execution_count": 14,
   "metadata": {},
   "outputs": [
    {
     "data": {
      "text/html": [
       "<div>\n",
       "<style scoped>\n",
       "    .dataframe tbody tr th:only-of-type {\n",
       "        vertical-align: middle;\n",
       "    }\n",
       "\n",
       "    .dataframe tbody tr th {\n",
       "        vertical-align: top;\n",
       "    }\n",
       "\n",
       "    .dataframe thead th {\n",
       "        text-align: right;\n",
       "    }\n",
       "</style>\n",
       "<table border=\"1\" class=\"dataframe\">\n",
       "  <thead>\n",
       "    <tr style=\"text-align: right;\">\n",
       "      <th></th>\n",
       "      <th>TIPO_BOLSA</th>\n",
       "      <th>MODALIDADE_ENSINO_BOLSA</th>\n",
       "      <th>NOME_TURNO_CURSO_BOLSA</th>\n",
       "      <th>SEXO_BENEFICIARIO_BOLSA</th>\n",
       "      <th>RACA_BENEFICIARIO_BOLSA</th>\n",
       "      <th>BENEFICIARIO_DEFICIENTE_FISICO</th>\n",
       "      <th>REGIAO_BENEFICIARIO_BOLSA</th>\n",
       "    </tr>\n",
       "  </thead>\n",
       "  <tbody>\n",
       "    <tr>\n",
       "      <th>count</th>\n",
       "      <td>236636.000000</td>\n",
       "      <td>236636.000000</td>\n",
       "      <td>236636.000000</td>\n",
       "      <td>236636.000000</td>\n",
       "      <td>236636.000000</td>\n",
       "      <td>236636.000000</td>\n",
       "      <td>236636.000000</td>\n",
       "    </tr>\n",
       "    <tr>\n",
       "      <th>mean</th>\n",
       "      <td>1.655188</td>\n",
       "      <td>1.220757</td>\n",
       "      <td>1.986722</td>\n",
       "      <td>1.454960</td>\n",
       "      <td>1.767161</td>\n",
       "      <td>1.007450</td>\n",
       "      <td>2.552883</td>\n",
       "    </tr>\n",
       "    <tr>\n",
       "      <th>std</th>\n",
       "      <td>0.475308</td>\n",
       "      <td>0.414758</td>\n",
       "      <td>1.298056</td>\n",
       "      <td>0.497968</td>\n",
       "      <td>0.742126</td>\n",
       "      <td>0.085993</td>\n",
       "      <td>1.249062</td>\n",
       "    </tr>\n",
       "    <tr>\n",
       "      <th>min</th>\n",
       "      <td>1.000000</td>\n",
       "      <td>1.000000</td>\n",
       "      <td>1.000000</td>\n",
       "      <td>1.000000</td>\n",
       "      <td>1.000000</td>\n",
       "      <td>1.000000</td>\n",
       "      <td>1.000000</td>\n",
       "    </tr>\n",
       "    <tr>\n",
       "      <th>25%</th>\n",
       "      <td>1.000000</td>\n",
       "      <td>1.000000</td>\n",
       "      <td>1.000000</td>\n",
       "      <td>1.000000</td>\n",
       "      <td>1.000000</td>\n",
       "      <td>1.000000</td>\n",
       "      <td>2.000000</td>\n",
       "    </tr>\n",
       "    <tr>\n",
       "      <th>50%</th>\n",
       "      <td>2.000000</td>\n",
       "      <td>1.000000</td>\n",
       "      <td>1.000000</td>\n",
       "      <td>1.000000</td>\n",
       "      <td>2.000000</td>\n",
       "      <td>1.000000</td>\n",
       "      <td>2.000000</td>\n",
       "    </tr>\n",
       "    <tr>\n",
       "      <th>75%</th>\n",
       "      <td>2.000000</td>\n",
       "      <td>1.000000</td>\n",
       "      <td>3.000000</td>\n",
       "      <td>2.000000</td>\n",
       "      <td>2.000000</td>\n",
       "      <td>1.000000</td>\n",
       "      <td>4.000000</td>\n",
       "    </tr>\n",
       "    <tr>\n",
       "      <th>max</th>\n",
       "      <td>2.000000</td>\n",
       "      <td>2.000000</td>\n",
       "      <td>5.000000</td>\n",
       "      <td>2.000000</td>\n",
       "      <td>6.000000</td>\n",
       "      <td>2.000000</td>\n",
       "      <td>5.000000</td>\n",
       "    </tr>\n",
       "  </tbody>\n",
       "</table>\n",
       "</div>"
      ],
      "text/plain": [
       "          TIPO_BOLSA  MODALIDADE_ENSINO_BOLSA  NOME_TURNO_CURSO_BOLSA  \\\n",
       "count  236636.000000            236636.000000           236636.000000   \n",
       "mean        1.655188                 1.220757                1.986722   \n",
       "std         0.475308                 0.414758                1.298056   \n",
       "min         1.000000                 1.000000                1.000000   \n",
       "25%         1.000000                 1.000000                1.000000   \n",
       "50%         2.000000                 1.000000                1.000000   \n",
       "75%         2.000000                 1.000000                3.000000   \n",
       "max         2.000000                 2.000000                5.000000   \n",
       "\n",
       "       SEXO_BENEFICIARIO_BOLSA  RACA_BENEFICIARIO_BOLSA  \\\n",
       "count            236636.000000            236636.000000   \n",
       "mean                  1.454960                 1.767161   \n",
       "std                   0.497968                 0.742126   \n",
       "min                   1.000000                 1.000000   \n",
       "25%                   1.000000                 1.000000   \n",
       "50%                   1.000000                 2.000000   \n",
       "75%                   2.000000                 2.000000   \n",
       "max                   2.000000                 6.000000   \n",
       "\n",
       "       BENEFICIARIO_DEFICIENTE_FISICO  REGIAO_BENEFICIARIO_BOLSA  \n",
       "count                   236636.000000              236636.000000  \n",
       "mean                         1.007450                   2.552883  \n",
       "std                          0.085993                   1.249062  \n",
       "min                          1.000000                   1.000000  \n",
       "25%                          1.000000                   2.000000  \n",
       "50%                          1.000000                   2.000000  \n",
       "75%                          1.000000                   4.000000  \n",
       "max                          2.000000                   5.000000  "
      ]
     },
     "execution_count": 14,
     "metadata": {},
     "output_type": "execute_result"
    }
   ],
   "source": [
    "df.describe()"
   ]
  },
  {
   "cell_type": "code",
   "execution_count": 15,
   "metadata": {},
   "outputs": [],
   "source": [
    "k_neighbors = neighbors.KNeighborsClassifier()"
   ]
  },
  {
   "cell_type": "code",
   "execution_count": 16,
   "metadata": {},
   "outputs": [],
   "source": [
    "data_x = df.drop(['TIPO_BOLSA'], axis='columns')\n",
    "data_y = df.TIPO_BOLSA"
   ]
  },
  {
   "cell_type": "code",
   "execution_count": 17,
   "metadata": {},
   "outputs": [],
   "source": [
    "train_x, test_x, train_y, test_y = train_test_split(data_x, data_y, test_size=0.2)"
   ]
  },
  {
   "cell_type": "code",
   "execution_count": 18,
   "metadata": {},
   "outputs": [
    {
     "data": {
      "text/html": [
       "<style>#sk-container-id-1 {color: black;background-color: white;}#sk-container-id-1 pre{padding: 0;}#sk-container-id-1 div.sk-toggleable {background-color: white;}#sk-container-id-1 label.sk-toggleable__label {cursor: pointer;display: block;width: 100%;margin-bottom: 0;padding: 0.3em;box-sizing: border-box;text-align: center;}#sk-container-id-1 label.sk-toggleable__label-arrow:before {content: \"▸\";float: left;margin-right: 0.25em;color: #696969;}#sk-container-id-1 label.sk-toggleable__label-arrow:hover:before {color: black;}#sk-container-id-1 div.sk-estimator:hover label.sk-toggleable__label-arrow:before {color: black;}#sk-container-id-1 div.sk-toggleable__content {max-height: 0;max-width: 0;overflow: hidden;text-align: left;background-color: #f0f8ff;}#sk-container-id-1 div.sk-toggleable__content pre {margin: 0.2em;color: black;border-radius: 0.25em;background-color: #f0f8ff;}#sk-container-id-1 input.sk-toggleable__control:checked~div.sk-toggleable__content {max-height: 200px;max-width: 100%;overflow: auto;}#sk-container-id-1 input.sk-toggleable__control:checked~label.sk-toggleable__label-arrow:before {content: \"▾\";}#sk-container-id-1 div.sk-estimator input.sk-toggleable__control:checked~label.sk-toggleable__label {background-color: #d4ebff;}#sk-container-id-1 div.sk-label input.sk-toggleable__control:checked~label.sk-toggleable__label {background-color: #d4ebff;}#sk-container-id-1 input.sk-hidden--visually {border: 0;clip: rect(1px 1px 1px 1px);clip: rect(1px, 1px, 1px, 1px);height: 1px;margin: -1px;overflow: hidden;padding: 0;position: absolute;width: 1px;}#sk-container-id-1 div.sk-estimator {font-family: monospace;background-color: #f0f8ff;border: 1px dotted black;border-radius: 0.25em;box-sizing: border-box;margin-bottom: 0.5em;}#sk-container-id-1 div.sk-estimator:hover {background-color: #d4ebff;}#sk-container-id-1 div.sk-parallel-item::after {content: \"\";width: 100%;border-bottom: 1px solid gray;flex-grow: 1;}#sk-container-id-1 div.sk-label:hover label.sk-toggleable__label {background-color: #d4ebff;}#sk-container-id-1 div.sk-serial::before {content: \"\";position: absolute;border-left: 1px solid gray;box-sizing: border-box;top: 0;bottom: 0;left: 50%;z-index: 0;}#sk-container-id-1 div.sk-serial {display: flex;flex-direction: column;align-items: center;background-color: white;padding-right: 0.2em;padding-left: 0.2em;position: relative;}#sk-container-id-1 div.sk-item {position: relative;z-index: 1;}#sk-container-id-1 div.sk-parallel {display: flex;align-items: stretch;justify-content: center;background-color: white;position: relative;}#sk-container-id-1 div.sk-item::before, #sk-container-id-1 div.sk-parallel-item::before {content: \"\";position: absolute;border-left: 1px solid gray;box-sizing: border-box;top: 0;bottom: 0;left: 50%;z-index: -1;}#sk-container-id-1 div.sk-parallel-item {display: flex;flex-direction: column;z-index: 1;position: relative;background-color: white;}#sk-container-id-1 div.sk-parallel-item:first-child::after {align-self: flex-end;width: 50%;}#sk-container-id-1 div.sk-parallel-item:last-child::after {align-self: flex-start;width: 50%;}#sk-container-id-1 div.sk-parallel-item:only-child::after {width: 0;}#sk-container-id-1 div.sk-dashed-wrapped {border: 1px dashed gray;margin: 0 0.4em 0.5em 0.4em;box-sizing: border-box;padding-bottom: 0.4em;background-color: white;}#sk-container-id-1 div.sk-label label {font-family: monospace;font-weight: bold;display: inline-block;line-height: 1.2em;}#sk-container-id-1 div.sk-label-container {text-align: center;}#sk-container-id-1 div.sk-container {/* jupyter's `normalize.less` sets `[hidden] { display: none; }` but bootstrap.min.css set `[hidden] { display: none !important; }` so we also need the `!important` here to be able to override the default hidden behavior on the sphinx rendered scikit-learn.org. See: https://github.com/scikit-learn/scikit-learn/issues/21755 */display: inline-block !important;position: relative;}#sk-container-id-1 div.sk-text-repr-fallback {display: none;}</style><div id=\"sk-container-id-1\" class=\"sk-top-container\"><div class=\"sk-text-repr-fallback\"><pre>KNeighborsClassifier()</pre><b>In a Jupyter environment, please rerun this cell to show the HTML representation or trust the notebook. <br />On GitHub, the HTML representation is unable to render, please try loading this page with nbviewer.org.</b></div><div class=\"sk-container\" hidden><div class=\"sk-item\"><div class=\"sk-estimator sk-toggleable\"><input class=\"sk-toggleable__control sk-hidden--visually\" id=\"sk-estimator-id-1\" type=\"checkbox\" checked><label for=\"sk-estimator-id-1\" class=\"sk-toggleable__label sk-toggleable__label-arrow\">KNeighborsClassifier</label><div class=\"sk-toggleable__content\"><pre>KNeighborsClassifier()</pre></div></div></div></div></div>"
      ],
      "text/plain": [
       "KNeighborsClassifier()"
      ]
     },
     "execution_count": 18,
     "metadata": {},
     "output_type": "execute_result"
    }
   ],
   "source": [
    "k_neighbors.fit(train_x, train_y)"
   ]
  },
  {
   "cell_type": "code",
   "execution_count": 19,
   "metadata": {},
   "outputs": [
    {
     "name": "stdout",
     "output_type": "stream",
     "text": [
      "Score: 65.42999999999999%\n"
     ]
    }
   ],
   "source": [
    "print(f'Score: {round(k_neighbors.score(test_x, test_y), 4) * 100}%')"
   ]
  },
  {
   "cell_type": "code",
   "execution_count": 20,
   "metadata": {},
   "outputs": [],
   "source": [
    "Modalidad_clase= ['','Presencial', 'Virtual']\n",
    "Horario = ['','Noche', 'Mañana','Tarde', 'Curso a Distancia', 'Todo el dia']\n",
    "Genero = ['','Femenino', 'Masculino']\n",
    "Discapacidad = ['','No', 'Si']\n",
    "Tipo_beca = ['Parcial', 'Total']\n",
    "\n",
    "def predict_value(MODALIDADE_ENSINO_BOLSA,NOME_TURNO_CURSO_BOLSA,SEXO_BENEFICIARIO_BOLSA,BENEFICIARIO_DEFICIENTE_FISICO,model):\n",
    "    predicted = model.predict([[MODALIDADE_ENSINO_BOLSA,NOME_TURNO_CURSO_BOLSA,SEXO_BENEFICIARIO_BOLSA,BENEFICIARIO_DEFICIENTE_FISICO]])\n",
    "    print(f\"El estudiante de {Modalidad_clase[MODALIDADE_ENSINO_BOLSA]} que va en el horario de {Horario[NOME_TURNO_CURSO_BOLSA]}, de genero {Genero[SEXO_BENEFICIARIO_BOLSA]} y {[BENEFICIARIO_DEFICIENTE_FISICO]} tiene una discapacidad obtiene una beca {Tipo_beca[predicted[0]]}.\")"
   ]
  },
  {
   "cell_type": "code",
   "execution_count": 24,
   "metadata": {},
   "outputs": [
    {
     "name": "stderr",
     "output_type": "stream",
     "text": [
      "c:\\Gabriela-Otros\\Gabriela-Delgado\\2023\\Practico2doParcial\\lib\\site-packages\\sklearn\\base.py:439: UserWarning: X does not have valid feature names, but KNeighborsClassifier was fitted with feature names\n",
      "  warnings.warn(\n"
     ]
    },
    {
     "ename": "ValueError",
     "evalue": "X has 4 features, but KNeighborsClassifier is expecting 6 features as input.",
     "output_type": "error",
     "traceback": [
      "\u001b[1;31m---------------------------------------------------------------------------\u001b[0m",
      "\u001b[1;31mValueError\u001b[0m                                Traceback (most recent call last)",
      "Cell \u001b[1;32mIn[24], line 1\u001b[0m\n\u001b[1;32m----> 1\u001b[0m predict_value(\u001b[39m1\u001b[39;49m,\u001b[39m3\u001b[39;49m,\u001b[39m1\u001b[39;49m,\u001b[39m1\u001b[39;49m,k_neighbors)\n",
      "Cell \u001b[1;32mIn[20], line 8\u001b[0m, in \u001b[0;36mpredict_value\u001b[1;34m(MODALIDADE_ENSINO_BOLSA, NOME_TURNO_CURSO_BOLSA, SEXO_BENEFICIARIO_BOLSA, BENEFICIARIO_DEFICIENTE_FISICO, model)\u001b[0m\n\u001b[0;32m      7\u001b[0m \u001b[39mdef\u001b[39;00m \u001b[39mpredict_value\u001b[39m(MODALIDADE_ENSINO_BOLSA,NOME_TURNO_CURSO_BOLSA,SEXO_BENEFICIARIO_BOLSA,BENEFICIARIO_DEFICIENTE_FISICO,model):\n\u001b[1;32m----> 8\u001b[0m     predicted \u001b[39m=\u001b[39m model\u001b[39m.\u001b[39;49mpredict([[MODALIDADE_ENSINO_BOLSA,NOME_TURNO_CURSO_BOLSA,SEXO_BENEFICIARIO_BOLSA,BENEFICIARIO_DEFICIENTE_FISICO]])\n\u001b[0;32m      9\u001b[0m     \u001b[39mprint\u001b[39m(\u001b[39mf\u001b[39m\u001b[39m\"\u001b[39m\u001b[39mEl estudiante de \u001b[39m\u001b[39m{\u001b[39;00mModalidad_clase[MODALIDADE_ENSINO_BOLSA]\u001b[39m}\u001b[39;00m\u001b[39m que va en el horario de \u001b[39m\u001b[39m{\u001b[39;00mHorario[NOME_TURNO_CURSO_BOLSA]\u001b[39m}\u001b[39;00m\u001b[39m, de genero \u001b[39m\u001b[39m{\u001b[39;00mGenero[SEXO_BENEFICIARIO_BOLSA]\u001b[39m}\u001b[39;00m\u001b[39m y \u001b[39m\u001b[39m{\u001b[39;00m[BENEFICIARIO_DEFICIENTE_FISICO]\u001b[39m}\u001b[39;00m\u001b[39m tiene una discapacidad obtiene una beca \u001b[39m\u001b[39m{\u001b[39;00mTipo_beca[predicted[\u001b[39m0\u001b[39m]]\u001b[39m}\u001b[39;00m\u001b[39m.\u001b[39m\u001b[39m\"\u001b[39m)\n",
      "File \u001b[1;32mc:\\Gabriela-Otros\\Gabriela-Delgado\\2023\\Practico2doParcial\\lib\\site-packages\\sklearn\\neighbors\\_classification.py:234\u001b[0m, in \u001b[0;36mKNeighborsClassifier.predict\u001b[1;34m(self, X)\u001b[0m\n\u001b[0;32m    218\u001b[0m \u001b[39m\u001b[39m\u001b[39m\"\"\"Predict the class labels for the provided data.\u001b[39;00m\n\u001b[0;32m    219\u001b[0m \n\u001b[0;32m    220\u001b[0m \u001b[39mParameters\u001b[39;00m\n\u001b[1;32m   (...)\u001b[0m\n\u001b[0;32m    229\u001b[0m \u001b[39m    Class labels for each data sample.\u001b[39;00m\n\u001b[0;32m    230\u001b[0m \u001b[39m\"\"\"\u001b[39;00m\n\u001b[0;32m    231\u001b[0m \u001b[39mif\u001b[39;00m \u001b[39mself\u001b[39m\u001b[39m.\u001b[39mweights \u001b[39m==\u001b[39m \u001b[39m\"\u001b[39m\u001b[39muniform\u001b[39m\u001b[39m\"\u001b[39m:\n\u001b[0;32m    232\u001b[0m     \u001b[39m# In that case, we do not need the distances to perform\u001b[39;00m\n\u001b[0;32m    233\u001b[0m     \u001b[39m# the weighting so we do not compute them.\u001b[39;00m\n\u001b[1;32m--> 234\u001b[0m     neigh_ind \u001b[39m=\u001b[39m \u001b[39mself\u001b[39;49m\u001b[39m.\u001b[39;49mkneighbors(X, return_distance\u001b[39m=\u001b[39;49m\u001b[39mFalse\u001b[39;49;00m)\n\u001b[0;32m    235\u001b[0m     neigh_dist \u001b[39m=\u001b[39m \u001b[39mNone\u001b[39;00m\n\u001b[0;32m    236\u001b[0m \u001b[39melse\u001b[39;00m:\n",
      "File \u001b[1;32mc:\\Gabriela-Otros\\Gabriela-Delgado\\2023\\Practico2doParcial\\lib\\site-packages\\sklearn\\neighbors\\_base.py:806\u001b[0m, in \u001b[0;36mKNeighborsMixin.kneighbors\u001b[1;34m(self, X, n_neighbors, return_distance)\u001b[0m\n\u001b[0;32m    804\u001b[0m         X \u001b[39m=\u001b[39m _check_precomputed(X)\n\u001b[0;32m    805\u001b[0m     \u001b[39melse\u001b[39;00m:\n\u001b[1;32m--> 806\u001b[0m         X \u001b[39m=\u001b[39m \u001b[39mself\u001b[39;49m\u001b[39m.\u001b[39;49m_validate_data(X, accept_sparse\u001b[39m=\u001b[39;49m\u001b[39m\"\u001b[39;49m\u001b[39mcsr\u001b[39;49m\u001b[39m\"\u001b[39;49m, reset\u001b[39m=\u001b[39;49m\u001b[39mFalse\u001b[39;49;00m, order\u001b[39m=\u001b[39;49m\u001b[39m\"\u001b[39;49m\u001b[39mC\u001b[39;49m\u001b[39m\"\u001b[39;49m)\n\u001b[0;32m    808\u001b[0m n_samples_fit \u001b[39m=\u001b[39m \u001b[39mself\u001b[39m\u001b[39m.\u001b[39mn_samples_fit_\n\u001b[0;32m    809\u001b[0m \u001b[39mif\u001b[39;00m n_neighbors \u001b[39m>\u001b[39m n_samples_fit:\n",
      "File \u001b[1;32mc:\\Gabriela-Otros\\Gabriela-Delgado\\2023\\Practico2doParcial\\lib\\site-packages\\sklearn\\base.py:588\u001b[0m, in \u001b[0;36mBaseEstimator._validate_data\u001b[1;34m(self, X, y, reset, validate_separately, **check_params)\u001b[0m\n\u001b[0;32m    585\u001b[0m     out \u001b[39m=\u001b[39m X, y\n\u001b[0;32m    587\u001b[0m \u001b[39mif\u001b[39;00m \u001b[39mnot\u001b[39;00m no_val_X \u001b[39mand\u001b[39;00m check_params\u001b[39m.\u001b[39mget(\u001b[39m\"\u001b[39m\u001b[39mensure_2d\u001b[39m\u001b[39m\"\u001b[39m, \u001b[39mTrue\u001b[39;00m):\n\u001b[1;32m--> 588\u001b[0m     \u001b[39mself\u001b[39;49m\u001b[39m.\u001b[39;49m_check_n_features(X, reset\u001b[39m=\u001b[39;49mreset)\n\u001b[0;32m    590\u001b[0m \u001b[39mreturn\u001b[39;00m out\n",
      "File \u001b[1;32mc:\\Gabriela-Otros\\Gabriela-Delgado\\2023\\Practico2doParcial\\lib\\site-packages\\sklearn\\base.py:389\u001b[0m, in \u001b[0;36mBaseEstimator._check_n_features\u001b[1;34m(self, X, reset)\u001b[0m\n\u001b[0;32m    386\u001b[0m     \u001b[39mreturn\u001b[39;00m\n\u001b[0;32m    388\u001b[0m \u001b[39mif\u001b[39;00m n_features \u001b[39m!=\u001b[39m \u001b[39mself\u001b[39m\u001b[39m.\u001b[39mn_features_in_:\n\u001b[1;32m--> 389\u001b[0m     \u001b[39mraise\u001b[39;00m \u001b[39mValueError\u001b[39;00m(\n\u001b[0;32m    390\u001b[0m         \u001b[39mf\u001b[39m\u001b[39m\"\u001b[39m\u001b[39mX has \u001b[39m\u001b[39m{\u001b[39;00mn_features\u001b[39m}\u001b[39;00m\u001b[39m features, but \u001b[39m\u001b[39m{\u001b[39;00m\u001b[39mself\u001b[39m\u001b[39m.\u001b[39m\u001b[39m__class__\u001b[39m\u001b[39m.\u001b[39m\u001b[39m__name__\u001b[39m\u001b[39m}\u001b[39;00m\u001b[39m \u001b[39m\u001b[39m\"\u001b[39m\n\u001b[0;32m    391\u001b[0m         \u001b[39mf\u001b[39m\u001b[39m\"\u001b[39m\u001b[39mis expecting \u001b[39m\u001b[39m{\u001b[39;00m\u001b[39mself\u001b[39m\u001b[39m.\u001b[39mn_features_in_\u001b[39m}\u001b[39;00m\u001b[39m features as input.\u001b[39m\u001b[39m\"\u001b[39m\n\u001b[0;32m    392\u001b[0m     )\n",
      "\u001b[1;31mValueError\u001b[0m: X has 4 features, but KNeighborsClassifier is expecting 6 features as input."
     ]
    }
   ],
   "source": [
    "predict_value(1,3,1,1,k_neighbors)"
   ]
  }
 ],
 "metadata": {
  "kernelspec": {
   "display_name": "Practico2doParcial",
   "language": "python",
   "name": "python3"
  },
  "language_info": {
   "codemirror_mode": {
    "name": "ipython",
    "version": 3
   },
   "file_extension": ".py",
   "mimetype": "text/x-python",
   "name": "python",
   "nbconvert_exporter": "python",
   "pygments_lexer": "ipython3",
   "version": "3.10.11"
  },
  "orig_nbformat": 4
 },
 "nbformat": 4,
 "nbformat_minor": 2
}
