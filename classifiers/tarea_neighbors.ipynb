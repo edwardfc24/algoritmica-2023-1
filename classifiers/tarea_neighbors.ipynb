{
 "cells": [
  {
   "cell_type": "code",
   "execution_count": 1,
   "metadata": {},
   "outputs": [],
   "source": [
    "from sklearn import neighbors\n",
    "from sklearn.model_selection import train_test_split\n",
    "\n",
    "import pandas as pd\n",
    "import numpy as np"
   ]
  },
  {
   "cell_type": "code",
   "execution_count": 119,
   "metadata": {},
   "outputs": [],
   "source": [
    "df = pd.read_csv('students_tarea.csv')"
   ]
  },
  {
   "cell_type": "code",
   "execution_count": 120,
   "metadata": {},
   "outputs": [
    {
     "data": {
      "text/html": [
       "<div>\n",
       "<style scoped>\n",
       "    .dataframe tbody tr th:only-of-type {\n",
       "        vertical-align: middle;\n",
       "    }\n",
       "\n",
       "    .dataframe tbody tr th {\n",
       "        vertical-align: top;\n",
       "    }\n",
       "\n",
       "    .dataframe thead th {\n",
       "        text-align: right;\n",
       "    }\n",
       "</style>\n",
       "<table border=\"1\" class=\"dataframe\">\n",
       "  <thead>\n",
       "    <tr style=\"text-align: right;\">\n",
       "      <th></th>\n",
       "      <th>Unnamed: 0</th>\n",
       "      <th>Gender</th>\n",
       "      <th>EthnicGroup</th>\n",
       "      <th>ParentEduc</th>\n",
       "      <th>LunchType</th>\n",
       "      <th>TestPrep</th>\n",
       "      <th>MathScore</th>\n",
       "      <th>ReadingScore</th>\n",
       "      <th>WritingScore</th>\n",
       "    </tr>\n",
       "  </thead>\n",
       "  <tbody>\n",
       "    <tr>\n",
       "      <th>30636</th>\n",
       "      <td>995</td>\n",
       "      <td>male</td>\n",
       "      <td>group C</td>\n",
       "      <td>some high school</td>\n",
       "      <td>standard</td>\n",
       "      <td>none</td>\n",
       "      <td>56</td>\n",
       "      <td>47</td>\n",
       "      <td>51</td>\n",
       "    </tr>\n",
       "    <tr>\n",
       "      <th>30637</th>\n",
       "      <td>996</td>\n",
       "      <td>male</td>\n",
       "      <td>group E</td>\n",
       "      <td>associate's degree</td>\n",
       "      <td>free/reduced</td>\n",
       "      <td>none</td>\n",
       "      <td>74</td>\n",
       "      <td>75</td>\n",
       "      <td>72</td>\n",
       "    </tr>\n",
       "    <tr>\n",
       "      <th>30638</th>\n",
       "      <td>997</td>\n",
       "      <td>male</td>\n",
       "      <td>group C</td>\n",
       "      <td>some college</td>\n",
       "      <td>standard</td>\n",
       "      <td>none</td>\n",
       "      <td>36</td>\n",
       "      <td>29</td>\n",
       "      <td>27</td>\n",
       "    </tr>\n",
       "    <tr>\n",
       "      <th>30639</th>\n",
       "      <td>998</td>\n",
       "      <td>male</td>\n",
       "      <td>group A</td>\n",
       "      <td>some high school</td>\n",
       "      <td>free/reduced</td>\n",
       "      <td>completed</td>\n",
       "      <td>43</td>\n",
       "      <td>34</td>\n",
       "      <td>39</td>\n",
       "    </tr>\n",
       "    <tr>\n",
       "      <th>30640</th>\n",
       "      <td>999</td>\n",
       "      <td>female</td>\n",
       "      <td>group D</td>\n",
       "      <td>associate's degree</td>\n",
       "      <td>standard</td>\n",
       "      <td>none</td>\n",
       "      <td>52</td>\n",
       "      <td>68</td>\n",
       "      <td>66</td>\n",
       "    </tr>\n",
       "  </tbody>\n",
       "</table>\n",
       "</div>"
      ],
      "text/plain": [
       "       Unnamed: 0  Gender EthnicGroup          ParentEduc     LunchType   \n",
       "30636         995    male     group C    some high school      standard  \\\n",
       "30637         996    male     group E  associate's degree  free/reduced   \n",
       "30638         997    male     group C        some college      standard   \n",
       "30639         998    male     group A    some high school  free/reduced   \n",
       "30640         999  female     group D  associate's degree      standard   \n",
       "\n",
       "        TestPrep  MathScore  ReadingScore  WritingScore  \n",
       "30636       none         56            47            51  \n",
       "30637       none         74            75            72  \n",
       "30638       none         36            29            27  \n",
       "30639  completed         43            34            39  \n",
       "30640       none         52            68            66  "
      ]
     },
     "execution_count": 120,
     "metadata": {},
     "output_type": "execute_result"
    }
   ],
   "source": [
    "df.tail()"
   ]
  },
  {
   "cell_type": "code",
   "execution_count": 121,
   "metadata": {},
   "outputs": [
    {
     "data": {
      "text/plain": [
       "array(['none', 'completed'], dtype=object)"
      ]
     },
     "execution_count": 121,
     "metadata": {},
     "output_type": "execute_result"
    }
   ],
   "source": [
    "df.TestPrep.unique()"
   ]
  },
  {
   "cell_type": "code",
   "execution_count": 122,
   "metadata": {},
   "outputs": [],
   "source": [
    "df.drop('ParentEduc', axis='columns', inplace=True)"
   ]
  },
  {
   "cell_type": "code",
   "execution_count": 123,
   "metadata": {},
   "outputs": [],
   "source": [
    "df.drop('Unnamed: 0', axis='columns', inplace=True)"
   ]
  },
  {
   "cell_type": "code",
   "execution_count": 124,
   "metadata": {},
   "outputs": [],
   "source": [
    "df.Gender = df.Gender.map({'male': 0, 'female': 1})\n",
    "df.EthnicGroup = df.EthnicGroup.map({'group A': 0, 'group B': 1, 'group C': 2, 'group D': 3, 'group E': 4})\n",
    "df.LunchType = df.LunchType.map({'standard': 0, 'free/reduced': 1})\n",
    "df.TestPrep = df.TestPrep.map({'none': 0, 'completed': 1})"
   ]
  },
  {
   "cell_type": "code",
   "execution_count": 125,
   "metadata": {},
   "outputs": [],
   "source": [
    "k_neighbors = neighbors.KNeighborsClassifier(3)"
   ]
  },
  {
   "cell_type": "code",
   "execution_count": 126,
   "metadata": {},
   "outputs": [
    {
     "data": {
      "text/html": [
       "<style type=\"text/css\">\n",
       "#T_9d6cb_row0_col0, #T_9d6cb_row1_col1, #T_9d6cb_row2_col2, #T_9d6cb_row3_col3, #T_9d6cb_row4_col4, #T_9d6cb_row5_col5, #T_9d6cb_row6_col6 {\n",
       "  background-color: #023858;\n",
       "  color: #f1f1f1;\n",
       "}\n",
       "#T_9d6cb_row0_col1, #T_9d6cb_row1_col3, #T_9d6cb_row2_col3, #T_9d6cb_row2_col4, #T_9d6cb_row2_col5, #T_9d6cb_row2_col6, #T_9d6cb_row3_col1, #T_9d6cb_row4_col0, #T_9d6cb_row4_col2 {\n",
       "  background-color: #fff7fb;\n",
       "  color: #000000;\n",
       "}\n",
       "#T_9d6cb_row0_col2 {\n",
       "  background-color: #cacee5;\n",
       "  color: #000000;\n",
       "}\n",
       "#T_9d6cb_row0_col3 {\n",
       "  background-color: #fef6fa;\n",
       "  color: #000000;\n",
       "}\n",
       "#T_9d6cb_row0_col4, #T_9d6cb_row3_col0, #T_9d6cb_row4_col3, #T_9d6cb_row5_col1 {\n",
       "  background-color: #e7e3f0;\n",
       "  color: #000000;\n",
       "}\n",
       "#T_9d6cb_row0_col5 {\n",
       "  background-color: #9ebad9;\n",
       "  color: #000000;\n",
       "}\n",
       "#T_9d6cb_row0_col6 {\n",
       "  background-color: #8bb2d4;\n",
       "  color: #000000;\n",
       "}\n",
       "#T_9d6cb_row1_col0, #T_9d6cb_row2_col0 {\n",
       "  background-color: #e9e5f1;\n",
       "  color: #000000;\n",
       "}\n",
       "#T_9d6cb_row1_col2, #T_9d6cb_row3_col2 {\n",
       "  background-color: #c9cee4;\n",
       "  color: #000000;\n",
       "}\n",
       "#T_9d6cb_row1_col4 {\n",
       "  background-color: #8eb3d5;\n",
       "  color: #000000;\n",
       "}\n",
       "#T_9d6cb_row1_col5 {\n",
       "  background-color: #b8c6e0;\n",
       "  color: #000000;\n",
       "}\n",
       "#T_9d6cb_row1_col6 {\n",
       "  background-color: #b1c2de;\n",
       "  color: #000000;\n",
       "}\n",
       "#T_9d6cb_row2_col1 {\n",
       "  background-color: #fef6fb;\n",
       "  color: #000000;\n",
       "}\n",
       "#T_9d6cb_row3_col4, #T_9d6cb_row3_col5 {\n",
       "  background-color: #a5bddb;\n",
       "  color: #000000;\n",
       "}\n",
       "#T_9d6cb_row3_col6 {\n",
       "  background-color: #88b1d4;\n",
       "  color: #000000;\n",
       "}\n",
       "#T_9d6cb_row4_col1 {\n",
       "  background-color: #d5d5e8;\n",
       "  color: #000000;\n",
       "}\n",
       "#T_9d6cb_row4_col5 {\n",
       "  background-color: #045e93;\n",
       "  color: #f1f1f1;\n",
       "}\n",
       "#T_9d6cb_row4_col6 {\n",
       "  background-color: #045f95;\n",
       "  color: #f1f1f1;\n",
       "}\n",
       "#T_9d6cb_row5_col0 {\n",
       "  background-color: #b0c2de;\n",
       "  color: #000000;\n",
       "}\n",
       "#T_9d6cb_row5_col2 {\n",
       "  background-color: #f3edf5;\n",
       "  color: #000000;\n",
       "}\n",
       "#T_9d6cb_row5_col3 {\n",
       "  background-color: #d8d7e9;\n",
       "  color: #000000;\n",
       "}\n",
       "#T_9d6cb_row5_col4 {\n",
       "  background-color: #045b8f;\n",
       "  color: #f1f1f1;\n",
       "}\n",
       "#T_9d6cb_row5_col6, #T_9d6cb_row6_col5 {\n",
       "  background-color: #034267;\n",
       "  color: #f1f1f1;\n",
       "}\n",
       "#T_9d6cb_row6_col0 {\n",
       "  background-color: #9fbad9;\n",
       "  color: #000000;\n",
       "}\n",
       "#T_9d6cb_row6_col1 {\n",
       "  background-color: #e4e1ef;\n",
       "  color: #000000;\n",
       "}\n",
       "#T_9d6cb_row6_col2 {\n",
       "  background-color: #f5eef6;\n",
       "  color: #000000;\n",
       "}\n",
       "#T_9d6cb_row6_col3 {\n",
       "  background-color: #c0c9e2;\n",
       "  color: #000000;\n",
       "}\n",
       "#T_9d6cb_row6_col4 {\n",
       "  background-color: #045d92;\n",
       "  color: #f1f1f1;\n",
       "}\n",
       "</style>\n",
       "<table id=\"T_9d6cb\">\n",
       "  <thead>\n",
       "    <tr>\n",
       "      <th class=\"blank level0\" >&nbsp;</th>\n",
       "      <th id=\"T_9d6cb_level0_col0\" class=\"col_heading level0 col0\" >Gender</th>\n",
       "      <th id=\"T_9d6cb_level0_col1\" class=\"col_heading level0 col1\" >EthnicGroup</th>\n",
       "      <th id=\"T_9d6cb_level0_col2\" class=\"col_heading level0 col2\" >LunchType</th>\n",
       "      <th id=\"T_9d6cb_level0_col3\" class=\"col_heading level0 col3\" >TestPrep</th>\n",
       "      <th id=\"T_9d6cb_level0_col4\" class=\"col_heading level0 col4\" >MathScore</th>\n",
       "      <th id=\"T_9d6cb_level0_col5\" class=\"col_heading level0 col5\" >ReadingScore</th>\n",
       "      <th id=\"T_9d6cb_level0_col6\" class=\"col_heading level0 col6\" >WritingScore</th>\n",
       "    </tr>\n",
       "  </thead>\n",
       "  <tbody>\n",
       "    <tr>\n",
       "      <th id=\"T_9d6cb_level0_row0\" class=\"row_heading level0 row0\" >Gender</th>\n",
       "      <td id=\"T_9d6cb_row0_col0\" class=\"data row0 col0\" >1.000000</td>\n",
       "      <td id=\"T_9d6cb_row0_col1\" class=\"data row0 col1\" >-0.002986</td>\n",
       "      <td id=\"T_9d6cb_row0_col2\" class=\"data row0 col2\" >-0.002499</td>\n",
       "      <td id=\"T_9d6cb_row0_col3\" class=\"data row0 col3\" >0.005600</td>\n",
       "      <td id=\"T_9d6cb_row0_col4\" class=\"data row0 col4\" >-0.164629</td>\n",
       "      <td id=\"T_9d6cb_row0_col5\" class=\"data row0 col5\" >0.238039</td>\n",
       "      <td id=\"T_9d6cb_row0_col6\" class=\"data row0 col6\" >0.291319</td>\n",
       "    </tr>\n",
       "    <tr>\n",
       "      <th id=\"T_9d6cb_level0_row1\" class=\"row_heading level0 row1\" >EthnicGroup</th>\n",
       "      <td id=\"T_9d6cb_row1_col0\" class=\"data row1 col0\" >-0.002986</td>\n",
       "      <td id=\"T_9d6cb_row1_col1\" class=\"data row1 col1\" >1.000000</td>\n",
       "      <td id=\"T_9d6cb_row1_col2\" class=\"data row1 col2\" >0.001181</td>\n",
       "      <td id=\"T_9d6cb_row1_col3\" class=\"data row1 col3\" >-0.002971</td>\n",
       "      <td id=\"T_9d6cb_row1_col4\" class=\"data row1 col4\" >0.225199</td>\n",
       "      <td id=\"T_9d6cb_row1_col5\" class=\"data row1 col5\" >0.145606</td>\n",
       "      <td id=\"T_9d6cb_row1_col6\" class=\"data row1 col6\" >0.161272</td>\n",
       "    </tr>\n",
       "    <tr>\n",
       "      <th id=\"T_9d6cb_level0_row2\" class=\"row_heading level0 row2\" >LunchType</th>\n",
       "      <td id=\"T_9d6cb_row2_col0\" class=\"data row2 col0\" >-0.002499</td>\n",
       "      <td id=\"T_9d6cb_row2_col1\" class=\"data row2 col1\" >0.001181</td>\n",
       "      <td id=\"T_9d6cb_row2_col2\" class=\"data row2 col2\" >1.000000</td>\n",
       "      <td id=\"T_9d6cb_row2_col3\" class=\"data row2 col3\" >0.000206</td>\n",
       "      <td id=\"T_9d6cb_row2_col4\" class=\"data row2 col4\" >-0.371486</td>\n",
       "      <td id=\"T_9d6cb_row2_col5\" class=\"data row2 col5\" >-0.259599</td>\n",
       "      <td id=\"T_9d6cb_row2_col6\" class=\"data row2 col6\" >-0.277017</td>\n",
       "    </tr>\n",
       "    <tr>\n",
       "      <th id=\"T_9d6cb_level0_row3\" class=\"row_heading level0 row3\" >TestPrep</th>\n",
       "      <td id=\"T_9d6cb_row3_col0\" class=\"data row3 col0\" >0.005600</td>\n",
       "      <td id=\"T_9d6cb_row3_col1\" class=\"data row3 col1\" >-0.002971</td>\n",
       "      <td id=\"T_9d6cb_row3_col2\" class=\"data row3 col2\" >0.000206</td>\n",
       "      <td id=\"T_9d6cb_row3_col3\" class=\"data row3 col3\" >1.000000</td>\n",
       "      <td id=\"T_9d6cb_row3_col4\" class=\"data row3 col4\" >0.143783</td>\n",
       "      <td id=\"T_9d6cb_row3_col5\" class=\"data row3 col5\" >0.214780</td>\n",
       "      <td id=\"T_9d6cb_row3_col6\" class=\"data row3 col6\" >0.297164</td>\n",
       "    </tr>\n",
       "    <tr>\n",
       "      <th id=\"T_9d6cb_level0_row4\" class=\"row_heading level0 row4\" >MathScore</th>\n",
       "      <td id=\"T_9d6cb_row4_col0\" class=\"data row4 col0\" >-0.164629</td>\n",
       "      <td id=\"T_9d6cb_row4_col1\" class=\"data row4 col1\" >0.225199</td>\n",
       "      <td id=\"T_9d6cb_row4_col2\" class=\"data row4 col2\" >-0.371486</td>\n",
       "      <td id=\"T_9d6cb_row4_col3\" class=\"data row4 col3\" >0.143783</td>\n",
       "      <td id=\"T_9d6cb_row4_col4\" class=\"data row4 col4\" >1.000000</td>\n",
       "      <td id=\"T_9d6cb_row4_col5\" class=\"data row4 col5\" >0.817395</td>\n",
       "      <td id=\"T_9d6cb_row4_col6\" class=\"data row4 col6\" >0.805354</td>\n",
       "    </tr>\n",
       "    <tr>\n",
       "      <th id=\"T_9d6cb_level0_row5\" class=\"row_heading level0 row5\" >ReadingScore</th>\n",
       "      <td id=\"T_9d6cb_row5_col0\" class=\"data row5 col0\" >0.238039</td>\n",
       "      <td id=\"T_9d6cb_row5_col1\" class=\"data row5 col1\" >0.145606</td>\n",
       "      <td id=\"T_9d6cb_row5_col2\" class=\"data row5 col2\" >-0.259599</td>\n",
       "      <td id=\"T_9d6cb_row5_col3\" class=\"data row5 col3\" >0.214780</td>\n",
       "      <td id=\"T_9d6cb_row5_col4\" class=\"data row5 col4\" >0.817395</td>\n",
       "      <td id=\"T_9d6cb_row5_col5\" class=\"data row5 col5\" >1.000000</td>\n",
       "      <td id=\"T_9d6cb_row5_col6\" class=\"data row5 col6\" >0.953095</td>\n",
       "    </tr>\n",
       "    <tr>\n",
       "      <th id=\"T_9d6cb_level0_row6\" class=\"row_heading level0 row6\" >WritingScore</th>\n",
       "      <td id=\"T_9d6cb_row6_col0\" class=\"data row6 col0\" >0.291319</td>\n",
       "      <td id=\"T_9d6cb_row6_col1\" class=\"data row6 col1\" >0.161272</td>\n",
       "      <td id=\"T_9d6cb_row6_col2\" class=\"data row6 col2\" >-0.277017</td>\n",
       "      <td id=\"T_9d6cb_row6_col3\" class=\"data row6 col3\" >0.297164</td>\n",
       "      <td id=\"T_9d6cb_row6_col4\" class=\"data row6 col4\" >0.805354</td>\n",
       "      <td id=\"T_9d6cb_row6_col5\" class=\"data row6 col5\" >0.953095</td>\n",
       "      <td id=\"T_9d6cb_row6_col6\" class=\"data row6 col6\" >1.000000</td>\n",
       "    </tr>\n",
       "  </tbody>\n",
       "</table>\n"
      ],
      "text/plain": [
       "<pandas.io.formats.style.Styler at 0x1aa09da8690>"
      ]
     },
     "execution_count": 126,
     "metadata": {},
     "output_type": "execute_result"
    }
   ],
   "source": [
    "corr = df.corr()\n",
    "corr.style.background_gradient()"
   ]
  },
  {
   "cell_type": "code",
   "execution_count": 127,
   "metadata": {},
   "outputs": [],
   "source": [
    "data_x = df.drop('Gender', axis=1)\n",
    "data_y = df.Gender\n",
    "train_x, test_x, train_y, test_y = train_test_split(data_x, data_y, train_size=0.9)"
   ]
  },
  {
   "cell_type": "code",
   "execution_count": 136,
   "metadata": {},
   "outputs": [
    {
     "data": {
      "text/plain": [
       "0        1\n",
       "1        1\n",
       "2        1\n",
       "3        0\n",
       "4        0\n",
       "        ..\n",
       "30636    0\n",
       "30637    0\n",
       "30638    0\n",
       "30639    0\n",
       "30640    1\n",
       "Name: Gender, Length: 30641, dtype: int64"
      ]
     },
     "execution_count": 136,
     "metadata": {},
     "output_type": "execute_result"
    }
   ],
   "source": [
    "data_y"
   ]
  },
  {
   "cell_type": "code",
   "execution_count": 129,
   "metadata": {},
   "outputs": [
    {
     "data": {
      "text/html": [
       "<style>#sk-container-id-4 {color: black;background-color: white;}#sk-container-id-4 pre{padding: 0;}#sk-container-id-4 div.sk-toggleable {background-color: white;}#sk-container-id-4 label.sk-toggleable__label {cursor: pointer;display: block;width: 100%;margin-bottom: 0;padding: 0.3em;box-sizing: border-box;text-align: center;}#sk-container-id-4 label.sk-toggleable__label-arrow:before {content: \"▸\";float: left;margin-right: 0.25em;color: #696969;}#sk-container-id-4 label.sk-toggleable__label-arrow:hover:before {color: black;}#sk-container-id-4 div.sk-estimator:hover label.sk-toggleable__label-arrow:before {color: black;}#sk-container-id-4 div.sk-toggleable__content {max-height: 0;max-width: 0;overflow: hidden;text-align: left;background-color: #f0f8ff;}#sk-container-id-4 div.sk-toggleable__content pre {margin: 0.2em;color: black;border-radius: 0.25em;background-color: #f0f8ff;}#sk-container-id-4 input.sk-toggleable__control:checked~div.sk-toggleable__content {max-height: 200px;max-width: 100%;overflow: auto;}#sk-container-id-4 input.sk-toggleable__control:checked~label.sk-toggleable__label-arrow:before {content: \"▾\";}#sk-container-id-4 div.sk-estimator input.sk-toggleable__control:checked~label.sk-toggleable__label {background-color: #d4ebff;}#sk-container-id-4 div.sk-label input.sk-toggleable__control:checked~label.sk-toggleable__label {background-color: #d4ebff;}#sk-container-id-4 input.sk-hidden--visually {border: 0;clip: rect(1px 1px 1px 1px);clip: rect(1px, 1px, 1px, 1px);height: 1px;margin: -1px;overflow: hidden;padding: 0;position: absolute;width: 1px;}#sk-container-id-4 div.sk-estimator {font-family: monospace;background-color: #f0f8ff;border: 1px dotted black;border-radius: 0.25em;box-sizing: border-box;margin-bottom: 0.5em;}#sk-container-id-4 div.sk-estimator:hover {background-color: #d4ebff;}#sk-container-id-4 div.sk-parallel-item::after {content: \"\";width: 100%;border-bottom: 1px solid gray;flex-grow: 1;}#sk-container-id-4 div.sk-label:hover label.sk-toggleable__label {background-color: #d4ebff;}#sk-container-id-4 div.sk-serial::before {content: \"\";position: absolute;border-left: 1px solid gray;box-sizing: border-box;top: 0;bottom: 0;left: 50%;z-index: 0;}#sk-container-id-4 div.sk-serial {display: flex;flex-direction: column;align-items: center;background-color: white;padding-right: 0.2em;padding-left: 0.2em;position: relative;}#sk-container-id-4 div.sk-item {position: relative;z-index: 1;}#sk-container-id-4 div.sk-parallel {display: flex;align-items: stretch;justify-content: center;background-color: white;position: relative;}#sk-container-id-4 div.sk-item::before, #sk-container-id-4 div.sk-parallel-item::before {content: \"\";position: absolute;border-left: 1px solid gray;box-sizing: border-box;top: 0;bottom: 0;left: 50%;z-index: -1;}#sk-container-id-4 div.sk-parallel-item {display: flex;flex-direction: column;z-index: 1;position: relative;background-color: white;}#sk-container-id-4 div.sk-parallel-item:first-child::after {align-self: flex-end;width: 50%;}#sk-container-id-4 div.sk-parallel-item:last-child::after {align-self: flex-start;width: 50%;}#sk-container-id-4 div.sk-parallel-item:only-child::after {width: 0;}#sk-container-id-4 div.sk-dashed-wrapped {border: 1px dashed gray;margin: 0 0.4em 0.5em 0.4em;box-sizing: border-box;padding-bottom: 0.4em;background-color: white;}#sk-container-id-4 div.sk-label label {font-family: monospace;font-weight: bold;display: inline-block;line-height: 1.2em;}#sk-container-id-4 div.sk-label-container {text-align: center;}#sk-container-id-4 div.sk-container {/* jupyter's `normalize.less` sets `[hidden] { display: none; }` but bootstrap.min.css set `[hidden] { display: none !important; }` so we also need the `!important` here to be able to override the default hidden behavior on the sphinx rendered scikit-learn.org. See: https://github.com/scikit-learn/scikit-learn/issues/21755 */display: inline-block !important;position: relative;}#sk-container-id-4 div.sk-text-repr-fallback {display: none;}</style><div id=\"sk-container-id-4\" class=\"sk-top-container\"><div class=\"sk-text-repr-fallback\"><pre>KNeighborsClassifier(n_neighbors=3)</pre><b>In a Jupyter environment, please rerun this cell to show the HTML representation or trust the notebook. <br />On GitHub, the HTML representation is unable to render, please try loading this page with nbviewer.org.</b></div><div class=\"sk-container\" hidden><div class=\"sk-item\"><div class=\"sk-estimator sk-toggleable\"><input class=\"sk-toggleable__control sk-hidden--visually\" id=\"sk-estimator-id-4\" type=\"checkbox\" checked><label for=\"sk-estimator-id-4\" class=\"sk-toggleable__label sk-toggleable__label-arrow\">KNeighborsClassifier</label><div class=\"sk-toggleable__content\"><pre>KNeighborsClassifier(n_neighbors=3)</pre></div></div></div></div></div>"
      ],
      "text/plain": [
       "KNeighborsClassifier(n_neighbors=3)"
      ]
     },
     "execution_count": 129,
     "metadata": {},
     "output_type": "execute_result"
    }
   ],
   "source": [
    "k_neighbors.fit(train_x, train_y)"
   ]
  },
  {
   "cell_type": "code",
   "execution_count": 130,
   "metadata": {},
   "outputs": [
    {
     "name": "stdout",
     "output_type": "stream",
     "text": [
      "Score: 85.11999999999999%\n"
     ]
    }
   ],
   "source": [
    "print(f'Score: {round(k_neighbors.score(test_x, test_y), 4) * 100}%')"
   ]
  },
  {
   "cell_type": "code",
   "execution_count": 143,
   "metadata": {},
   "outputs": [],
   "source": [
    "gender_labels = {0: 'male', 1: 'female'}\n",
    "ethnic_labels = {0: 'group A', 1: 'group B', 2: 'group C', 3: 'group D', 4: 'group E'}\n",
    "lunch_labels = {0: 'standard', 1: 'free/reduced'}\n",
    "preparation_labels = {0: 'none', 1: 'completed'}\n",
    "ethnic = 3\n",
    "lunch = 0\n",
    "prep = 0\n",
    "math = 56\n",
    "read = 47\n",
    "write = 51"
   ]
  },
  {
   "cell_type": "code",
   "execution_count": 144,
   "metadata": {},
   "outputs": [
    {
     "name": "stdout",
     "output_type": "stream",
     "text": [
      "Una persona que pertenece al grupo étnico group D, tiene un tipo de alimentación standard, tiene un nivel de preparación none, tiene un 56/100 en matemáticas, 47/100 en lectura y 51/100 en escritura, pertenece al sexo male\n"
     ]
    },
    {
     "name": "stderr",
     "output_type": "stream",
     "text": [
      "c:\\Users\\Julian\\Desktop\\Algoritmica Avanzada\\clasificadores\\clasificador_env\\Lib\\site-packages\\sklearn\\base.py:439: UserWarning: X does not have valid feature names, but KNeighborsClassifier was fitted with feature names\n",
      "  warnings.warn(\n"
     ]
    }
   ],
   "source": [
    "pre = k_neighbors.predict([[ethnic, lunch, prep, math, read, write]])\n",
    "print(f'Una persona que pertenece al grupo étnico {ethnic_labels[ethnic]}, tiene un tipo de alimentación {lunch_labels[lunch]}, tiene un nivel de preparación {preparation_labels[prep]}, tiene un {math}/100 en matemáticas, {read}/100 en lectura y {write}/100 en escritura, pertenece al sexo {gender_labels[pre[0]]}')"
   ]
  }
 ],
 "metadata": {
  "kernelspec": {
   "display_name": "clasificador_env",
   "language": "python",
   "name": "python3"
  },
  "language_info": {
   "codemirror_mode": {
    "name": "ipython",
    "version": 3
   },
   "file_extension": ".py",
   "mimetype": "text/x-python",
   "name": "python",
   "nbconvert_exporter": "python",
   "pygments_lexer": "ipython3",
   "version": "3.11.2"
  },
  "orig_nbformat": 4
 },
 "nbformat": 4,
 "nbformat_minor": 2
}
