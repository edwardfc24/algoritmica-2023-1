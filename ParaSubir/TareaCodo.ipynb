{
 "cells": [
  {
   "cell_type": "code",
   "execution_count": 94,
   "metadata": {},
   "outputs": [],
   "source": [
    "from sklearn.cluster import KMeans\n",
    "\n",
    "import pandas as pd\n",
    "import numpy as np\n",
    "import matplotlib.pyplot as plt"
   ]
  },
  {
   "cell_type": "code",
   "execution_count": 95,
   "metadata": {},
   "outputs": [],
   "source": [
    "df = pd.read_csv('desastresNaturales.csv')"
   ]
  },
  {
   "cell_type": "code",
   "execution_count": 96,
   "metadata": {},
   "outputs": [
    {
     "data": {
      "text/html": [
       "<div>\n",
       "<style scoped>\n",
       "    .dataframe tbody tr th:only-of-type {\n",
       "        vertical-align: middle;\n",
       "    }\n",
       "\n",
       "    .dataframe tbody tr th {\n",
       "        vertical-align: top;\n",
       "    }\n",
       "\n",
       "    .dataframe thead th {\n",
       "        text-align: right;\n",
       "    }\n",
       "</style>\n",
       "<table border=\"1\" class=\"dataframe\">\n",
       "  <thead>\n",
       "    <tr style=\"text-align: right;\">\n",
       "      <th></th>\n",
       "      <th>Year</th>\n",
       "      <th>Seq</th>\n",
       "      <th>Aid Contribution</th>\n",
       "      <th>Dis Mag Value</th>\n",
       "      <th>Start Year</th>\n",
       "      <th>Start Month</th>\n",
       "      <th>Start Day</th>\n",
       "      <th>End Year</th>\n",
       "      <th>End Month</th>\n",
       "      <th>End Day</th>\n",
       "      <th>Total Deaths</th>\n",
       "      <th>No Injured</th>\n",
       "      <th>No Affected</th>\n",
       "      <th>No Homeless</th>\n",
       "      <th>Total Affected</th>\n",
       "      <th>Reconstruction Costs ('000 US$)</th>\n",
       "      <th>Insured Damages ('000 US$)</th>\n",
       "      <th>Total Damages ('000 US$)</th>\n",
       "      <th>CPI</th>\n",
       "    </tr>\n",
       "  </thead>\n",
       "  <tbody>\n",
       "    <tr>\n",
       "      <th>count</th>\n",
       "      <td>14644.000000</td>\n",
       "      <td>14644.000000</td>\n",
       "      <td>6.770000e+02</td>\n",
       "      <td>4.569000e+03</td>\n",
       "      <td>14644.000000</td>\n",
       "      <td>14376.000000</td>\n",
       "      <td>11577.000000</td>\n",
       "      <td>14644.000000</td>\n",
       "      <td>14095.000000</td>\n",
       "      <td>11650.000000</td>\n",
       "      <td>10199.000000</td>\n",
       "      <td>3.651000e+03</td>\n",
       "      <td>8.846000e+03</td>\n",
       "      <td>2.249000e+03</td>\n",
       "      <td>1.104100e+04</td>\n",
       "      <td>3.100000e+01</td>\n",
       "      <td>1.094000e+03</td>\n",
       "      <td>4.863000e+03</td>\n",
       "      <td>14329.000000</td>\n",
       "    </tr>\n",
       "    <tr>\n",
       "      <th>mean</th>\n",
       "      <td>2001.596422</td>\n",
       "      <td>731.604958</td>\n",
       "      <td>1.254136e+05</td>\n",
       "      <td>5.093532e+04</td>\n",
       "      <td>2001.606323</td>\n",
       "      <td>6.411241</td>\n",
       "      <td>15.207912</td>\n",
       "      <td>2001.655763</td>\n",
       "      <td>6.549273</td>\n",
       "      <td>15.792618</td>\n",
       "      <td>361.813119</td>\n",
       "      <td>2.486686e+03</td>\n",
       "      <td>8.889099e+05</td>\n",
       "      <td>7.229559e+04</td>\n",
       "      <td>7.277392e+05</td>\n",
       "      <td>2.392251e+06</td>\n",
       "      <td>7.999424e+05</td>\n",
       "      <td>7.746866e+05</td>\n",
       "      <td>68.762532</td>\n",
       "    </tr>\n",
       "    <tr>\n",
       "      <th>std</th>\n",
       "      <td>12.538572</td>\n",
       "      <td>1912.021531</td>\n",
       "      <td>2.997875e+06</td>\n",
       "      <td>3.211007e+05</td>\n",
       "      <td>12.535872</td>\n",
       "      <td>3.393997</td>\n",
       "      <td>8.964592</td>\n",
       "      <td>12.537387</td>\n",
       "      <td>3.351351</td>\n",
       "      <td>8.872079</td>\n",
       "      <td>6495.045853</td>\n",
       "      <td>3.402404e+04</td>\n",
       "      <td>8.680288e+06</td>\n",
       "      <td>5.271422e+05</td>\n",
       "      <td>7.851210e+06</td>\n",
       "      <td>5.229397e+06</td>\n",
       "      <td>3.060283e+06</td>\n",
       "      <td>4.901266e+06</td>\n",
       "      <td>21.429182</td>\n",
       "    </tr>\n",
       "    <tr>\n",
       "      <th>min</th>\n",
       "      <td>1970.000000</td>\n",
       "      <td>1.000000</td>\n",
       "      <td>1.000000e+00</td>\n",
       "      <td>-5.700000e+01</td>\n",
       "      <td>1970.000000</td>\n",
       "      <td>1.000000</td>\n",
       "      <td>1.000000</td>\n",
       "      <td>1970.000000</td>\n",
       "      <td>1.000000</td>\n",
       "      <td>1.000000</td>\n",
       "      <td>1.000000</td>\n",
       "      <td>1.000000e+00</td>\n",
       "      <td>1.000000e+00</td>\n",
       "      <td>3.000000e+00</td>\n",
       "      <td>1.000000e+00</td>\n",
       "      <td>8.400000e+01</td>\n",
       "      <td>3.400000e+01</td>\n",
       "      <td>2.000000e+00</td>\n",
       "      <td>15.001282</td>\n",
       "    </tr>\n",
       "    <tr>\n",
       "      <th>25%</th>\n",
       "      <td>1993.000000</td>\n",
       "      <td>130.000000</td>\n",
       "      <td>1.750000e+02</td>\n",
       "      <td>7.000000e+00</td>\n",
       "      <td>1993.000000</td>\n",
       "      <td>4.000000</td>\n",
       "      <td>7.000000</td>\n",
       "      <td>1993.000000</td>\n",
       "      <td>4.000000</td>\n",
       "      <td>8.000000</td>\n",
       "      <td>5.000000</td>\n",
       "      <td>1.200000e+01</td>\n",
       "      <td>1.200000e+03</td>\n",
       "      <td>5.140000e+02</td>\n",
       "      <td>6.320000e+02</td>\n",
       "      <td>1.200000e+04</td>\n",
       "      <td>5.000000e+04</td>\n",
       "      <td>1.000000e+04</td>\n",
       "      <td>55.816107</td>\n",
       "    </tr>\n",
       "    <tr>\n",
       "      <th>50%</th>\n",
       "      <td>2003.000000</td>\n",
       "      <td>304.000000</td>\n",
       "      <td>7.210000e+02</td>\n",
       "      <td>1.800000e+02</td>\n",
       "      <td>2003.000000</td>\n",
       "      <td>7.000000</td>\n",
       "      <td>15.000000</td>\n",
       "      <td>2003.000000</td>\n",
       "      <td>7.000000</td>\n",
       "      <td>16.000000</td>\n",
       "      <td>16.000000</td>\n",
       "      <td>5.000000e+01</td>\n",
       "      <td>1.000000e+04</td>\n",
       "      <td>3.000000e+03</td>\n",
       "      <td>5.736000e+03</td>\n",
       "      <td>1.940000e+05</td>\n",
       "      <td>1.725000e+05</td>\n",
       "      <td>7.100000e+04</td>\n",
       "      <td>69.500473</td>\n",
       "    </tr>\n",
       "    <tr>\n",
       "      <th>75%</th>\n",
       "      <td>2012.000000</td>\n",
       "      <td>503.000000</td>\n",
       "      <td>3.511000e+03</td>\n",
       "      <td>1.515000e+04</td>\n",
       "      <td>2012.000000</td>\n",
       "      <td>9.000000</td>\n",
       "      <td>23.000000</td>\n",
       "      <td>2012.000000</td>\n",
       "      <td>9.000000</td>\n",
       "      <td>24.000000</td>\n",
       "      <td>50.000000</td>\n",
       "      <td>2.000000e+02</td>\n",
       "      <td>8.855250e+04</td>\n",
       "      <td>1.600000e+04</td>\n",
       "      <td>5.600000e+04</td>\n",
       "      <td>1.520376e+06</td>\n",
       "      <td>5.000000e+05</td>\n",
       "      <td>3.500000e+05</td>\n",
       "      <td>86.912465</td>\n",
       "    </tr>\n",
       "    <tr>\n",
       "      <th>max</th>\n",
       "      <td>2021.000000</td>\n",
       "      <td>9881.000000</td>\n",
       "      <td>7.800000e+07</td>\n",
       "      <td>1.302587e+07</td>\n",
       "      <td>2021.000000</td>\n",
       "      <td>12.000000</td>\n",
       "      <td>31.000000</td>\n",
       "      <td>2021.000000</td>\n",
       "      <td>12.000000</td>\n",
       "      <td>31.000000</td>\n",
       "      <td>300000.000000</td>\n",
       "      <td>1.800000e+06</td>\n",
       "      <td>3.300000e+08</td>\n",
       "      <td>1.585000e+07</td>\n",
       "      <td>3.300000e+08</td>\n",
       "      <td>2.500000e+07</td>\n",
       "      <td>6.000000e+07</td>\n",
       "      <td>2.100000e+08</td>\n",
       "      <td>100.000000</td>\n",
       "    </tr>\n",
       "  </tbody>\n",
       "</table>\n",
       "</div>"
      ],
      "text/plain": [
       "               Year           Seq  Aid Contribution  Dis Mag Value  \\\n",
       "count  14644.000000  14644.000000      6.770000e+02   4.569000e+03   \n",
       "mean    2001.596422    731.604958      1.254136e+05   5.093532e+04   \n",
       "std       12.538572   1912.021531      2.997875e+06   3.211007e+05   \n",
       "min     1970.000000      1.000000      1.000000e+00  -5.700000e+01   \n",
       "25%     1993.000000    130.000000      1.750000e+02   7.000000e+00   \n",
       "50%     2003.000000    304.000000      7.210000e+02   1.800000e+02   \n",
       "75%     2012.000000    503.000000      3.511000e+03   1.515000e+04   \n",
       "max     2021.000000   9881.000000      7.800000e+07   1.302587e+07   \n",
       "\n",
       "         Start Year   Start Month     Start Day      End Year     End Month  \\\n",
       "count  14644.000000  14376.000000  11577.000000  14644.000000  14095.000000   \n",
       "mean    2001.606323      6.411241     15.207912   2001.655763      6.549273   \n",
       "std       12.535872      3.393997      8.964592     12.537387      3.351351   \n",
       "min     1970.000000      1.000000      1.000000   1970.000000      1.000000   \n",
       "25%     1993.000000      4.000000      7.000000   1993.000000      4.000000   \n",
       "50%     2003.000000      7.000000     15.000000   2003.000000      7.000000   \n",
       "75%     2012.000000      9.000000     23.000000   2012.000000      9.000000   \n",
       "max     2021.000000     12.000000     31.000000   2021.000000     12.000000   \n",
       "\n",
       "            End Day   Total Deaths    No Injured   No Affected   No Homeless  \\\n",
       "count  11650.000000   10199.000000  3.651000e+03  8.846000e+03  2.249000e+03   \n",
       "mean      15.792618     361.813119  2.486686e+03  8.889099e+05  7.229559e+04   \n",
       "std        8.872079    6495.045853  3.402404e+04  8.680288e+06  5.271422e+05   \n",
       "min        1.000000       1.000000  1.000000e+00  1.000000e+00  3.000000e+00   \n",
       "25%        8.000000       5.000000  1.200000e+01  1.200000e+03  5.140000e+02   \n",
       "50%       16.000000      16.000000  5.000000e+01  1.000000e+04  3.000000e+03   \n",
       "75%       24.000000      50.000000  2.000000e+02  8.855250e+04  1.600000e+04   \n",
       "max       31.000000  300000.000000  1.800000e+06  3.300000e+08  1.585000e+07   \n",
       "\n",
       "       Total Affected  Reconstruction Costs ('000 US$)  \\\n",
       "count    1.104100e+04                     3.100000e+01   \n",
       "mean     7.277392e+05                     2.392251e+06   \n",
       "std      7.851210e+06                     5.229397e+06   \n",
       "min      1.000000e+00                     8.400000e+01   \n",
       "25%      6.320000e+02                     1.200000e+04   \n",
       "50%      5.736000e+03                     1.940000e+05   \n",
       "75%      5.600000e+04                     1.520376e+06   \n",
       "max      3.300000e+08                     2.500000e+07   \n",
       "\n",
       "       Insured Damages ('000 US$)  Total Damages ('000 US$)           CPI  \n",
       "count                1.094000e+03              4.863000e+03  14329.000000  \n",
       "mean                 7.999424e+05              7.746866e+05     68.762532  \n",
       "std                  3.060283e+06              4.901266e+06     21.429182  \n",
       "min                  3.400000e+01              2.000000e+00     15.001282  \n",
       "25%                  5.000000e+04              1.000000e+04     55.816107  \n",
       "50%                  1.725000e+05              7.100000e+04     69.500473  \n",
       "75%                  5.000000e+05              3.500000e+05     86.912465  \n",
       "max                  6.000000e+07              2.100000e+08    100.000000  "
      ]
     },
     "execution_count": 96,
     "metadata": {},
     "output_type": "execute_result"
    }
   ],
   "source": [
    "df.describe()"
   ]
  },
  {
   "cell_type": "code",
   "execution_count": 97,
   "metadata": {},
   "outputs": [
    {
     "data": {
      "text/plain": [
       "Dis No                              object\n",
       "Year                                 int64\n",
       "Seq                                  int64\n",
       "Glide                               object\n",
       "Disaster Group                      object\n",
       "Disaster Subgroup                   object\n",
       "Disaster Type                       object\n",
       "Disaster Subtype                    object\n",
       "Disaster Subsubtype                 object\n",
       "Event Name                          object\n",
       "Country                             object\n",
       "ISO                                 object\n",
       "Region                              object\n",
       "Continent                           object\n",
       "Location                            object\n",
       "Origin                              object\n",
       "Associated Dis                      object\n",
       "Associated Dis2                     object\n",
       "OFDA Response                       object\n",
       "Appeal                              object\n",
       "Declaration                         object\n",
       "Aid Contribution                   float64\n",
       "Dis Mag Value                      float64\n",
       "Dis Mag Scale                       object\n",
       "Latitude                            object\n",
       "Longitude                           object\n",
       "Local Time                          object\n",
       "River Basin                         object\n",
       "Start Year                           int64\n",
       "Start Month                        float64\n",
       "Start Day                          float64\n",
       "End Year                             int64\n",
       "End Month                          float64\n",
       "End Day                            float64\n",
       "Total Deaths                       float64\n",
       "No Injured                         float64\n",
       "No Affected                        float64\n",
       "No Homeless                        float64\n",
       "Total Affected                     float64\n",
       "Reconstruction Costs ('000 US$)    float64\n",
       "Insured Damages ('000 US$)         float64\n",
       "Total Damages ('000 US$)           float64\n",
       "CPI                                float64\n",
       "Adm Level                           object\n",
       "Admin1 Code                         object\n",
       "Admin2 Code                         object\n",
       "Geo Locations                       object\n",
       "dtype: object"
      ]
     },
     "execution_count": 97,
     "metadata": {},
     "output_type": "execute_result"
    }
   ],
   "source": [
    "df.dtypes"
   ]
  },
  {
   "cell_type": "code",
   "execution_count": 98,
   "metadata": {},
   "outputs": [],
   "source": [
    "df = df.drop(['No Homeless','Associated Dis','Associated Dis2','Appeal','Declaration','Aid Contribution','River Basin','Local Time'], axis=1)"
   ]
  },
  {
   "cell_type": "code",
   "execution_count": 99,
   "metadata": {},
   "outputs": [],
   "source": [
    "df = df.drop(['Dis No','Glide','ISO','Event Name'], axis=1)"
   ]
  },
  {
   "cell_type": "code",
   "execution_count": 100,
   "metadata": {},
   "outputs": [],
   "source": [
    "df = df.drop(['CPI', 'Adm Level','Admin1 Code','Admin2 Code'], axis=1)"
   ]
  },
  {
   "cell_type": "code",
   "execution_count": 101,
   "metadata": {},
   "outputs": [
    {
     "data": {
      "text/plain": [
       "array(['Natural'], dtype=object)"
      ]
     },
     "execution_count": 101,
     "metadata": {},
     "output_type": "execute_result"
    }
   ],
   "source": [
    "gruop = df['Disaster Group'].unique()\n",
    "gruop"
   ]
  },
  {
   "cell_type": "code",
   "execution_count": 102,
   "metadata": {},
   "outputs": [],
   "source": [
    "df['Disaster Group'].fillna(0, inplace=True)"
   ]
  },
  {
   "cell_type": "code",
   "execution_count": 103,
   "metadata": {},
   "outputs": [],
   "source": [
    "df['Disaster Group'] = df['Disaster Group'].map({'Natural': 1})"
   ]
  },
  {
   "cell_type": "code",
   "execution_count": 104,
   "metadata": {},
   "outputs": [
    {
     "data": {
      "text/plain": [
       "array(['Hydrological', 'Meteorological', 'Climatological', 'Geophysical',\n",
       "       'Biological', 'Extra-terrestrial'], dtype=object)"
      ]
     },
     "execution_count": 104,
     "metadata": {},
     "output_type": "execute_result"
    }
   ],
   "source": [
    "Subgroup = df['Disaster Subgroup'].unique()\n",
    "Subgroup"
   ]
  },
  {
   "cell_type": "code",
   "execution_count": 105,
   "metadata": {},
   "outputs": [],
   "source": [
    "df['Disaster Subgroup'] = df['Disaster Subgroup'].map({'Hydrological': 1,'Meteological':2,'Climatological':3,'Geophysical':4,\n",
    "       'Biological':5, 'Extra-terrestrial': 6})"
   ]
  },
  {
   "cell_type": "code",
   "execution_count": 106,
   "metadata": {},
   "outputs": [
    {
     "data": {
      "text/plain": [
       "array(['Argentina', 'Australia', 'Benin', 'Bangladesh', 'Brazil',\n",
       "       'Barbados', 'Botswana', 'Canada', 'Switzerland', 'China',\n",
       "       'Côte d’Ivoire', 'Colombia', 'Costa Rica', 'Cuba', 'Cyprus',\n",
       "       'Dominica', 'Ecuador', 'Ethiopia', 'France', 'Guadeloupe',\n",
       "       'Hong Kong', 'Hungary', 'Indonesia', 'India', 'Chile',\n",
       "       'Afghanistan', 'Belgium', 'Cameroon', 'Spain', 'Ghana', 'Guyana',\n",
       "       'Honduras', 'Germany Fed Rep', 'Fiji',\n",
       "       'United Kingdom of Great Britain and Northern Ireland (the)',\n",
       "       'Haiti', 'Central African Republic', 'Algeria', 'Gambia (the)',\n",
       "       'Guatemala', 'Belize', 'Bolivia (Plurinational State of)',\n",
       "       'Czechoslovakia', 'Austria', 'Egypt', 'Grenada', 'Burkina Faso',\n",
       "       'Denmark', 'Guam', 'Bulgaria', 'Comoros (the)', 'Djibouti',\n",
       "       'Greece', 'Burundi', 'Bahrain', 'Peru', 'Papua New Guinea',\n",
       "       'Iran (Islamic Republic of)', 'Israel', 'Italy',\n",
       "       'Korea (the Republic of)', 'Morocco', 'Madagascar', 'Mexico',\n",
       "       'Myanmar', 'Martinique', 'Malaysia', 'Niger (the)', 'Nepal',\n",
       "       'Panama', 'Philippines (the)', 'Puerto Rico', 'Romania', 'Turkey',\n",
       "       'United States of America (the)', 'Japan', 'Kenya',\n",
       "       \"Lao People's Democratic Republic (the)\", 'Mozambique',\n",
       "       'Nicaragua', 'Paraguay', 'Solomon Islands', 'Chad', 'Togo',\n",
       "       'Kiribati', 'Mauritius', 'New Caledonia', 'Netherlands (the)',\n",
       "       'Pakistan', 'Tuvalu', 'Somalia', 'Iceland', 'Jamaica', 'Portugal',\n",
       "       'Tonga', 'Tunisia', 'Sri Lanka', 'Lesotho', 'Rwanda',\n",
       "       'Soviet Union', 'Syrian Arab Republic', 'Trinidad and Tobago',\n",
       "       'Tanzania, United Republic of', 'Sudan (the)', 'Sierra Leone',\n",
       "       'Thailand', 'Mali', 'Mauritania', 'New Zealand', 'Senegal',\n",
       "       'Sweden', 'Oman', 'Poland', 'Réunion',\n",
       "       'Taiwan (Province of China)', 'Maldives', 'Nigeria', 'Viet Nam',\n",
       "       'Saint Vincent and the Grenadines',\n",
       "       'Venezuela (Bolivarian Republic of)', 'Vanuatu', 'Yemen P Dem Rep',\n",
       "       'Yugoslavia', 'Yemen Arab Rep', 'South Africa', 'Zimbabwe',\n",
       "       'Congo (the Democratic Republic of the)', 'Zambia',\n",
       "       'Dominican Republic (the)', 'Guinea-Bissau', 'Anguilla', 'Albania',\n",
       "       'Azores Islands', 'Cabo Verde', 'Guinea', 'Angola',\n",
       "       'Cook Islands (the)', 'Congo (the)', 'Antigua and Barbuda',\n",
       "       'Germany Dem Rep', 'Bermuda', 'Bhutan',\n",
       "       'Micronesia (Federated States of)', 'Bahamas (the)', 'Gabon',\n",
       "       'Iraq', 'Malawi', 'Liberia', 'Saint Lucia', 'Jordan', 'Namibia',\n",
       "       'Mongolia', 'Saudi Arabia', 'Ireland', 'Lebanon', 'Luxembourg',\n",
       "       'Palestine, State of', 'French Polynesia', 'Saint Kitts and Nevis',\n",
       "       'Cambodia', \"Korea (the Democratic People's Republic of)\",\n",
       "       'Uganda', 'Swaziland', 'El Salvador', 'Sao Tome and Principe',\n",
       "       'Samoa', 'Turks and Caicos Islands (the)', 'Uruguay',\n",
       "       'Wallis and Futuna', 'Tokelau', 'Netherlands Antilles',\n",
       "       'American Samoa', 'Germany', 'Belarus', 'Montserrat', 'Finland',\n",
       "       'Niue', 'Norway', 'Georgia', 'Marshall Islands (the)',\n",
       "       'Kyrgyzstan', 'Lithuania', 'Russian Federation (the)', 'Eritrea',\n",
       "       'Macedonia (the former Yugoslav Republic of)', 'Kazakhstan',\n",
       "       'Macao', 'Virgin Island (U.S.)', 'Tajikistan', 'Yemen',\n",
       "       'Uzbekistan', 'Serbia Montenegro', 'Ukraine', 'Turkmenistan',\n",
       "       'Azerbaijan', 'Armenia', 'Brunei Darussalam',\n",
       "       'Moldova (the Republic of)', 'Libya', 'Czech Republic (the)',\n",
       "       'French Guiana', 'Croatia', 'Kuwait', 'Virgin Island (British)',\n",
       "       'Slovakia', 'Seychelles', 'Slovenia', 'Bosnia and Herzegovina',\n",
       "       'Latvia', 'Singapore', 'Canary Is', 'Cayman Islands (the)',\n",
       "       'Saint Helena, Ascension and Tristan da Cunha', 'Timor-Leste',\n",
       "       'Northern Mariana Islands (the)', 'Equatorial Guinea', 'Estonia',\n",
       "       'Suriname', 'Montenegro', 'Serbia', 'South Sudan', 'Palau',\n",
       "       'United Arab Emirates (the)', 'Qatar', 'Saint Barthélemy',\n",
       "       'Saint Martin (French Part)', 'Sint Maarten (Dutch part)',\n",
       "       'Isle of Man'], dtype=object)"
      ]
     },
     "execution_count": 106,
     "metadata": {},
     "output_type": "execute_result"
    }
   ],
   "source": [
    "type = df['Country'].unique()\n",
    "type"
   ]
  },
  {
   "cell_type": "code",
   "execution_count": 107,
   "metadata": {},
   "outputs": [
    {
     "data": {
      "text/plain": [
       "array([nan, 'Typhoon ', 'Heavy rains', 'Landslide', 'Heavy rain',\n",
       "       'Earthquake and landslide', 'Famine', 'El Nino',\n",
       "       'Extra-tropical cyclone', 'Brief torrential rain',\n",
       "       'Heavy rains and thunderstorms', 'Monsoonal rain',\n",
       "       'Monssonal rain', 'Heavy rains, tremor', 'Brief torrential rains',\n",
       "       'Monsoon rain', 'Tropical cyclone', 'Drought period',\n",
       "       'Prolonged drought', 'Monsoon rains',\n",
       "       'Volcanic activity, tropical rainstorms and ash from the eruptions',\n",
       "       'monsoonal rain', 'Heavy rain and Snowmelt',\n",
       "       'Snowmelt and Heavy rains', 'Rain, snowmelt', 'Earthquake',\n",
       "       'Snowmelt', 'Hevay rain', 'Typhoon Gali', 'Mosoonal rain',\n",
       "       'Heavy rain and brief torrential rain',\n",
       "       'Breakdown water supply, poor hygiene practices and increase of number of displaced perdons',\n",
       "       'Flood', 'Heavy rains, melting snow', 'Continous rainfall',\n",
       "       'Snow storm and heavy winds', 'Rain and snowmelt', 'Lack rainfall',\n",
       "       'Food consumed', 'El Nino phenomenom',\n",
       "       'butchering of cattle which died of sudden illness and consumption of meat and other tissues',\n",
       "       'poor sanitation, lack of safe water and socio-cultural factors',\n",
       "       'Torrential rain', 'Torrential rains',\n",
       "       'unprecedented increase in the rat population',\n",
       "       'Heavy rains, Snowmlet', 'Snow melt', 'Lack of rainfall',\n",
       "       'Heavy rains which caused floods and poor sanitary conditions',\n",
       "       'Ici jam',\n",
       "       'coincided with the return of over 9000 Congolese citizen from Angola',\n",
       "       'The Rio Sirinhaem', 'Lack of rain', 'Lack of rain, El Nino',\n",
       "       'Dam/levy, break or release', 'Exposure to pigs', 'Rain storms',\n",
       "       'Heavy rain and snow melt', 'Moosonal rain',\n",
       "       'flower show in the north',\n",
       "       'Piga imported from outbreaks areas in Malaysia',\n",
       "       'Lack of rain, extreme temperature',\n",
       "       'water from river Kigombe used for domestic purposes and drinking',\n",
       "       'Breif torrential rain',\n",
       "       'Dam/Levy, break or release and heavy rains',\n",
       "       'Rain triggered by Typhoon Kai-Tak', 'Dry and hot weather',\n",
       "       'inadequate suppky of safe drinking water and use of polluted local water sources',\n",
       "       'Cyclone Beni, heavy rains', 'High temperature, high winds',\n",
       "       'Heavy Rains', 'El Nino, heavy rains', 'Ice jams',\n",
       "       'Heavy rains, hail and winds', 'ice jam/break-up',\n",
       "       'Hurricane Michelle', 'HEavy rain', 'floods', 'Insufficient rains',\n",
       "       'Insufficient and erratic monsoon rain',\n",
       "       'Dam/Levy, break or release',\n",
       "       'Heavy snow, low temperatures, heavy rains', 'Hevay rains',\n",
       "       'Torrential rains, heavy winter storms',\n",
       "       'Tropical depression/cyclone Delfina',\n",
       "       'Tropical depression/Cyclone Delfina',\n",
       "       'Poor agro-climaic conditions', 'Ice jam/break',\n",
       "       'Mountain glacier disloged', 'Heavy snowfalls, heavy rains',\n",
       "       'Melting snow', 'Lack safe water', 'Snowmelt, heavy rain',\n",
       "       'Heavy rains and snowmelt', 'High temperature, violent winds',\n",
       "       'Torrential rainstorms', 'Torrential rains, electric storms,',\n",
       "       'Constant rains', 'Lack of precipation, heat wave',\n",
       "       'Mousson rain, tidal surge', 'Heavy rains, high winds',\n",
       "       'Heavy rain, deforestation', 'Raining season', 'Monsoon rain ',\n",
       "       'Irregular and insufficient rainfall in 2001 and 2002',\n",
       "       'Heavy rains, snow melt', 'Drought',\n",
       "       'Lightening, heat wave, drought, pyromane',\n",
       "       'Crop failure, lack pasture, poor/erratic long rains',\n",
       "       'Drought, man', 'Cold front', 'Heat wave', 'Mousson rains',\n",
       "       'Poor rainfall', 'Heavy rain, snowmelt', 'Early monsoonal rain',\n",
       "       'Rainstorms', 'Heavy rains ', 'Break/release of dam/levy',\n",
       "       'Lack of clean water', 'Human, high temperature, drought and wind',\n",
       "       'Heavy rainfall', 'Incessant rains', 'Water source',\n",
       "       'Heavy snowfall', 'Heavy rains and melting snow', 'Snowstorms',\n",
       "       'Dam/levy break or release',\n",
       "       'Sudden unseasonal rains, monsoonal rain',\n",
       "       'Heavy rains, deforestation', 'Rain and snow',\n",
       "       'Tropical depressions', 'Continuous rains',\n",
       "       'Heat wave, drought, high winds, low humidity',\n",
       "       'Contaminated water',\n",
       "       'Lack of fresh water supplies, use of contaminated lagoon',\n",
       "       'Major piped water source contaminated',\n",
       "       'Tropical monsoon rain, cold depression', 'Unsafe drinking water',\n",
       "       'Moonson rain', 'Continuous rain from tropical depression Ambo',\n",
       "       'Heavy rains and movements of population along NIger river',\n",
       "       'Tropical waves, heavy rains', 'Unseasonable summer storms',\n",
       "       'Intense rainfall', 'Monsoon',\n",
       "       'Water provision failure, poor hygiene practices, unthreated water',\n",
       "       'High population migration and shortage of clean water',\n",
       "       'Torrental rains',\n",
       "       'Heavy rains, overcrowed slums, infected traders', 'Rainstorm',\n",
       "       'Melting sow, heavy rain',\n",
       "       \"Town's cesspools, dirty waters, lack of proper hygiene\",\n",
       "       'Heavy rains and snow', 'Heavy rain, heavy snow',\n",
       "       'Heavy rains and ice', 'Snowstorm', 'Heavy raisn and melting snow',\n",
       "       'Heavy rains, snowmelt', 'Heavy and melting snow',\n",
       "       'Brief torrential rain and snowmelt',\n",
       "       'Melting snow and continuous rain',\n",
       "       'Lack of rain, prolonged dry season', 'Thunderstorm',\n",
       "       'Violent thunderstorms', 'Monsonal rains',\n",
       "       'Successive failed rainy seasons',\n",
       "       'Two consecutive failed rainy seasons', 'Mosoon rains',\n",
       "       'Dry wetaher and heat wave', 'Thunderstorms',\n",
       "       'Barbecue and high winds',\n",
       "       'Large amount of snow during winter and late onset of spring thaw',\n",
       "       'Monsoonal rains', 'Mosnoon rain', 'Continuous rain',\n",
       "       'Mosnoonal rain', 'Monsoonal rai', 'Rains and sonwmelt',\n",
       "       'Rains and snowmelt', 'Raisn and snowmelt',\n",
       "       'Dam/levy break of release, rains and snowmelt',\n",
       "       'Melting snow, sesonal rains', 'Heavy rains, snow',\n",
       "       'Torrentail rain', 'Human', 'Heavy Rain',\n",
       "       'Snowmlet and hevay rain',\n",
       "       'Bad weather associated with tropical storm Chris',\n",
       "       'Snowmelt and strong rains',\n",
       "       'Monsoonal rain and Cyclonic storm Ogni',\n",
       "       'Heavy rains and hailstorms', 'Heavy rains, melting ice',\n",
       "       'Heavy rain and snowmelt', 'Heavy rain due to El Nino',\n",
       "       'Torrential rain, El Nino blamed', 'After flooding', 'Dam break',\n",
       "       'Late monsoon rains', 'Storm',\n",
       "       'Locust infestation, repeated floods, pest infestation',\n",
       "       'Poor rainfall and indequater supplies of fertlizer',\n",
       "       'Drought and locusts infestation', 'Poor and erratic rainfall',\n",
       "       'Mosoonal rains',\n",
       "       'Seasonal warming of temperatures and rapid melting of snow',\n",
       "       'Lack of rains', 'Heavy rains and storms', 'Polluted river',\n",
       "       'Heavy snowfall during winter and unprecedented high temperatures',\n",
       "       'Heavy rainsfalls', 'Poor sanitation',\n",
       "       'Inter-Monsoonal rain and storms', 'Snowmelt and hevay rains',\n",
       "       'Heavy rain, thunderstoms', 'Torrentital rain',\n",
       "       'Rain and snowmelt, excessive dumping of water',\n",
       "       'Torrential rains, electrical storms, thunderstorms',\n",
       "       'Heavy rains and lightening', 'Scarcity of rain',\n",
       "       'Contamination of water',\n",
       "       'Floods and disruption of water and sanitation facilities',\n",
       "       'Tropical Depression Agaton', 'Continuous monsoon rain',\n",
       "       'Use of untreated water', 'Heavy rain and unseasonable snow',\n",
       "       'Severe storms', 'Heavy rains and cyclones', 'Excessive rains',\n",
       "       'Heavy snow fall', 'Storms and heavy rains', 'continuous rain',\n",
       "       'Seasonal torrential rain', 'Monsoonal rain and tropical cyclone',\n",
       "       'Sub-marine volcano', 'Heavy rain, La Nina',\n",
       "       'Heavy rain, thunderstorms', 'Heavy rains, violent storms',\n",
       "       'After flood', 'Melting snow and heavy rains',\n",
       "       'High temperatures and dry conditions',\n",
       "       'High temperatures, heavy winds, dry conditions',\n",
       "       'Lack of rain from last six months', 'La Nina, heavy rain',\n",
       "       'Poor sanitation and hygiene conditions', 'Unknown',\n",
       "       'Human, high winds and drought',\n",
       "       'Hot and dry weather, strong winds',\n",
       "       'Tropical depression in Bay of Bengal',\n",
       "       'Heavy rains, concentration of humidity, over saturation of soil',\n",
       "       'Heavy drought, weak reany season, loss of animals, food shortages and increase of prices',\n",
       "       'Moonsonal rain', 'Storm and heavy rains',\n",
       "       'Indirect influence of tropical storms', 'Tropical Depression 16',\n",
       "       'Heavy rains, combination of cold front and low pressure system',\n",
       "       'Tropical depression 16 (Paloma), low depression and swell',\n",
       "       'River Kosi in Nepal discharged huge levels of water, monsoonal rains',\n",
       "       'Delayed and below-normal rains',\n",
       "       'Poor hygiene habits, lack of sanitation facilities, heavy rains, contaminated sources of drinking water',\n",
       "       'Hevay tropical rains', 'Tropical depression 16',\n",
       "       'El Nino, dry ecosystem, high temperatures and lon period withoit rainfall',\n",
       "       'Heavy rainstorms', 'Torrential rains (cold front winter season)',\n",
       "       'Heavy seasonal rains',\n",
       "       'Basic infrastructure inefficient, water quality and sanitation poor',\n",
       "       'Tropical cyclone Nisha', 'Heavy monsoonal rain',\n",
       "       'Flood, poor clean water supply and sanitation systems',\n",
       "       'Havy rains', 'Ice Jam/break-up', 'Tropical storm Lando',\n",
       "       'heavy rain', 'Tropical cyclone Cuba',\n",
       "       'High temperature and low rainfall',\n",
       "       'Drought, cyclone et inondations', 'Typhoon Nari', 'High tides',\n",
       "       'Heavy rain, Hurricane Felix', 'Heat waves',\n",
       "       'Tropical storm Peipah',\n",
       "       'Tradition of burning crop fields, drought and lack of rain',\n",
       "       'Snowmelt, Ice jam/break-up', 'Hravy rain',\n",
       "       'low latrine coverage, contamination water, poor hygiene practices in IDP camps',\n",
       "       'Lack of precipitation', 'Tropical storm', 'Typhoon Peipah',\n",
       "       'Early monsoon, dam break', 'Cold front meeting warm, moist air',\n",
       "       'Tropical Storm Kammuri', 'Heavy rains, El Nina and El Nino',\n",
       "       'Storm and heavy vrain',\n",
       "       'Lack of rains and increase of food prices',\n",
       "       'Severe winter storm, locust infestation, increase in food and fuel cost',\n",
       "       'Tropical storm (level 3)', 'Poor November rain', 'Dirty water',\n",
       "       'Unhygienic conditions, water', 'Torrential rain, Monsoon',\n",
       "       'Heavy monsoon rains', 'Low pressure system',\n",
       "       'Heavy rain (Tail-end of a cold front)',\n",
       "       'Tropical Depression Julian', 'Low depression',\n",
       "       'Prolonged dry spelle and hig temperatures',\n",
       "       'Drought, high winds, heat waves, human factors',\n",
       "       'Combined effect of the rainy season and limited access to potable water and poor sanitation facilities',\n",
       "       'Lightening, drought, wind', 'Poor sanitation and hygiene',\n",
       "       'High temperatures', 'Snowmelt, hevay rain',\n",
       "       'Record temperatures and strong winds',\n",
       "       'Intense monsoonal activity', 'Heavy rain and melting snow',\n",
       "       'Heavy rain and storms', 'Drought situation', 'Low precipitations',\n",
       "       'Failed rains', 'La Nina', 'Tropical cyclone Laurence',\n",
       "       'Hevay rains and two cylones Ellie and Charlotte',\n",
       "       'Continuous rainfall and opening of Nagbéto dam in Togo',\n",
       "       'Poor rainy season, El NIno', 'Heavy rains and Dam Release',\n",
       "       'Heavy torrential rains', 'Heavy monsoonal rains',\n",
       "       'Heavy rains, system of low pressure in combination with Tropical Storm Tomas',\n",
       "       'Severe dry conditions', 'Cyclone Tasha, La Nina',\n",
       "       'Rainfall deficit in October December 2010',\n",
       "       'El Nino, Heavy rains', 'Extremely dry conditipns', 'Heavy snow',\n",
       "       'Heavy rains, La Nina', 'Dry conditions', 'Torrentail rains',\n",
       "       'Torrential rainfall',\n",
       "       'Heavy rains and opening of the gates of dikes',\n",
       "       'Heavy rains, convergence of two low-pressure systems',\n",
       "       'Heavy rains and human work', 'Torrential rain, La Nina',\n",
       "       'Fonte des neiges et pluies',\n",
       "       'Continuous torrential rain combined with monsoonal depression',\n",
       "       'Mosnoonal rains', 'El Nino, exceptional heavy rains',\n",
       "       'Irregular rain',\n",
       "       'Poor, irregular, dispersed and eraly cessation of rainfall',\n",
       "       'Heavy rain, cold front', 'Heavy rain, flooding',\n",
       "       'Continuous rainfall', 'La Nina and El Nino, deforestation',\n",
       "       'Heavy rains, Long Rains Season (March-June)',\n",
       "       'Heavy rains associated with Tropical Depression 11E',\n",
       "       'Heavy rain and snow',\n",
       "       'Low pressure system interacting with Tropical Storm Tomas',\n",
       "       'Continuous rains due to tail-end of a cold front',\n",
       "       'Heavy rain, Snowmelt and rise of temperature',\n",
       "       'Heat wave and drought',\n",
       "       'Seasonal rain above the average in 2010 and 2011',\n",
       "       'Failure of Gu and Deyr rain y seasons in 2009',\n",
       "       'Poor sanitation and contamination of wells, floods situation',\n",
       "       'Intermittent rain, tropical depression Agatha',\n",
       "       'Increase in temperatures and scarcity of safe drinking water',\n",
       "       'Moderate and heavy rain', 'Continuous heavy rains',\n",
       "       'Sharp increase in temperatures triggering melting snow',\n",
       "       'Tropical Depression', 'Heavy rains, Moonson rain',\n",
       "       'Heavy rains associated with Tropical depression 14',\n",
       "       'Tropical storm Nock-Ten, Monsoonal rains',\n",
       "       'Monsoonal rains, tropical storms', 'Lightning',\n",
       "       'Abundant snowmelt and heavy rains', 'Tropical storm Haima',\n",
       "       'Contamination of the Biver river and its tributaries',\n",
       "       'Drought, high temperatures and strong winds',\n",
       "       'Bad distibution of rain, conflict and bad recolt',\n",
       "       'Heavy and constant rain', 'Heavy rains, Rapid snow melting',\n",
       "       'Rainfall', 'Tropical Depression 12-E',\n",
       "       'Heavy rains, Tropical Depression 12-E',\n",
       "       'Limited snowfall and rainfall',\n",
       "       'Consecutive seasons of poor rainfall, rapid population growth, sustained high food prices, endemic poverty',\n",
       "       'Dry conditions, strong winds',\n",
       "       'High temperatures, vrable winds, human beings',\n",
       "       'Monsoonal rains, dam releases', 'Snow, heavy rains and hail',\n",
       "       'Late, erratic and unevenly distributed rainbfall during 2011/2012',\n",
       "       'Low pressure systeù', 'Heavy rains, TRopical depression',\n",
       "       'Torrential rain, continuous precipittaion and melting of huge accumulation of snow',\n",
       "       'Redoux after heavy snow', 'Snowmelt and heavy rains',\n",
       "       'Typhoon Bolaven',\n",
       "       'Series of heavy rains, floods and landslides disrupting production and distribution of safe water',\n",
       "       'Heavy rains, tropical depression TD17F-2012',\n",
       "       'Heavy rains, hurricane Nadine', 'On emonth worth-of-rainfall',\n",
       "       'Strong rains', 'Heat wave, dry conditions and gusty winds',\n",
       "       'High temperature and violent winds', 'Prolonged heavy rainfall',\n",
       "       'Excessive rainfall',\n",
       "       'Sweeping cold front with heavy snowfall and rains',\n",
       "       'Persitent rain', 'Moonsonal rains',\n",
       "       'Heavy rains enhanced by Tropical cyclone Rusty',\n",
       "       'Maybe linked to an earthquake',\n",
       "       'Extreme heat, dry conditions and gusty winds', 'Violent weather',\n",
       "       'Torrenial rain', 'Tropical storm 2',\n",
       "       'Polonged periods of drought follwoed by excessive rains',\n",
       "       'Insufficient rainfall',\n",
       "       'Dry spells and pests, bad harvests 2010/2011',\n",
       "       'Poor rainy season', 'Heavy raisn and storms',\n",
       "       'Heavy rains, tropical storm', 'Storms',\n",
       "       'Low Pressure Area and Tail End of the Cold FRont',\n",
       "       'Contaminated water supply',\n",
       "       'Lenthly dry spells overt past 3 years, current high food prices and recent devaluation of the currency',\n",
       "       'Environmenatl effectes associated with la Nina lead to disruption of rain patterns',\n",
       "       'Insufficent rains', 'Quick snow melting and heavy rains',\n",
       "       'Combined impact of poor rainfall and extremely high temperatures',\n",
       "       'Tail-end of a cold front', 'Effects of low pressure area',\n",
       "       'Monsoonal rain enhnaced by Typhoon Haikui and Saola',\n",
       "       'Temperature, melting snow and spring rains',\n",
       "       'Heavy rains, low level troug system',\n",
       "       'Monsoonal rain (HABAGAT), enhanced by Tropical Storm Maring (Trami)',\n",
       "       'Limited rainfall',\n",
       "       'Continuous showers and thuderstorms, Effect of Continuous Rain and Thunderstorms Due to Intertropical Convergence Zone',\n",
       "       'Cyclone Cleopatra', 'Monsoonal rains and Typhoon Usagi',\n",
       "       'Persitent rains', ' Tropical Depression 18', 'Monsoon rainfall',\n",
       "       'Prolonged dry weather', 'Persistent rainfall',\n",
       "       'Rainfall shortages', 'Rains, thunderstorms', 'Dry Hamatan wind',\n",
       "       'Gu rains', 'Heavy snowmelt and rains',\n",
       "       'Drought conditions and strong winds',\n",
       "       'Monsoonla rains exacerbated by 3 tropical storms',\n",
       "       'Severe lack of rainand extreme temperature',\n",
       "       'Heavy rains, low-levl troug system', 'Slow moving storm system',\n",
       "       'Torrentiak rain',\n",
       "       'Hot temperatures, gusty winds, dry forest conditions',\n",
       "       'Mosoonal rain and typhoon Usagi', 'Tropical depression Podul',\n",
       "       'Dry and warm winds, high temperature', 'Torrential monsoon rains',\n",
       "       \"Depression 'Gonzalo'\", 'Severe thunderstorm and heavy rainfall',\n",
       "       'Lack of rain 2012 and 2013, high temperatures',\n",
       "       'Days of rains and hails', 'Monsoonal rains and thunderstorms',\n",
       "       'Severe rain', 'Haevy rainfall', 'Rainy season',\n",
       "       'Landslide blocked river', 'Heavy rains and snow melt',\n",
       "       'Hevay snowfall', 'Heavy rains and strong winds',\n",
       "       'Lack of rain, heat wave', 'Hot, dry and windy conditions',\n",
       "       'High temperatures and wind', 'Heavy seasonal Mei-Yu rains',\n",
       "       'Mei-Yu rains', 'Seasonal rains',\n",
       "       'El Nino; long uninterrupted drought combined with heavy unseasonable rains',\n",
       "       'El NIno', 'Heavy rains, Storms Eva ad Franck', 'Torrential arins',\n",
       "       'Torrential rains, El Nino', 'Extreme rainfall', 'Lighthning',\n",
       "       'Monsoon season, torrential rains', 'Short and poorrainy season',\n",
       "       'Remnant low pressure system of cyclone Hudhud',\n",
       "       'Heavy rains, overflowing rivers after dam opening in Nepal',\n",
       "       'Torrential monsoonal rains; Typhoon Kalmaegi',\n",
       "       'Incessant heavy rains',\n",
       "       'Prolonged heavy rainfall associated with a tropical depression',\n",
       "       \"Violents orages et impressionnantes crues d'oueds\",\n",
       "       'Rainfall deficit', 'Heavy and unseasonal rain',\n",
       "       'Torrential monsoonal rain', 'Dam burst, snowmelt',\n",
       "       'Heavy snow falls', 'Intense rains', 'Heay rain',\n",
       "       'Monsoon rains, exacerbated by tail end of Cyclone Komen',\n",
       "       'Torrential monsoonal rains', 'Heavy rains, tropical storm Etau',\n",
       "       'Heavy rains, severe monsoon floods exacerbated by tail and of cyclone Komen',\n",
       "       \"Enhanced southwest monsoon by two tropical storm 'Egay' and Falcon'\",\n",
       "       'Effects of inter-tropical convergence zone',\n",
       "       'Inter-tropical convergence zone', 'El nino',\n",
       "       'Late and erratic start to the rainy season, El Nino',\n",
       "       'Low rainfall', 'Climatic conditions and refugees',\n",
       "       'Seosnal monsoon', 'Erratic rainfall', 'Hearvy rain',\n",
       "       \"Tropical depression 'Rovan'\", 'Severe thunderstorms',\n",
       "       'Sudden rise of temperature, snow melt', 'Raini season',\n",
       "       'Heavy rains, Tropical Cyclones Nathan and Pam ',\n",
       "       'Heavy rains, El Nino',\n",
       "       'extremely dry weather, high air temperatures and heavy wind',\n",
       "       'Seasonal Gu rains', 'Polar air mass flow', 'Pre-monsoon rains',\n",
       "       'Heavy rains, Cyclone Roanu', 'Lack of rains, El NIno',\n",
       "       'Combination of well above normal tempertaure and lack of rainfall',\n",
       "       'Combination of well above normal temperature and lack of rainfall',\n",
       "       'Heavy rains, remmants of Typhoon Lionrock',\n",
       "       'Snwomelt, Ice jams and rising temperatures',\n",
       "       'Slow onset of rainy season followed by severe flooding and then long dry spell, El Nino',\n",
       "       'Heavy rains, strong storm system', 'Heavy and extented rainfall',\n",
       "       'Heavy rrains', 'Massive rainfalls',\n",
       "       'Heavy rains and small earthquake',\n",
       "       'Excessive heat, drougth and winds', 'High temperature, Ligthning',\n",
       "       'Pouring rainfall', 'Heav rains', 'Torrentila rains',\n",
       "       'High tempertaures, gusty winds, dry soil, vast swathes of dried vegetation and brush',\n",
       "       'Drought conditions, gusty winds, warm temperatures, lightening',\n",
       "       'Lack of rainfall, El NIno',\n",
       "       'Pacific storm systems fueled by El Nino',\n",
       "       'High temperature and reduced rainfall', 'Tornado',\n",
       "       'Excessive rains and thunderstorms', 'Torrential rrains',\n",
       "       'Reammnants of cyclone Fantala',\n",
       "       'Combination of heat, extented drought and gusty winds',\n",
       "       'Heavy hailstorm and rains', 'Heay rains', 'Mei-Yu rain',\n",
       "       'Heavy Rainfall', 'Heavy seasonal rains (Mei-yu)',\n",
       "       \"Low pressure 'Kolle'\", 'Weather', 'Heavy Rain and storm ',\n",
       "       'Snowmelt and Heavy Rain ', 'Mei-Yu',\n",
       "       'Lack of rain, dry conditions. ', 'Severe Weather',\n",
       "       'Low pressure Alfred', 'Wind, drought', 'Heavy rains, elting snow',\n",
       "       'Torrential Rain', 'Lack of rainfall and anomalous warmth',\n",
       "       'Intense rain', 'Heavy Rain and Snowmelt',\n",
       "       'Typhoon Prapiroon, Typhoon Maria', 'Tropical Storm Beryl',\n",
       "       'Torrenntial rains', 'Heavy raining, melting of snow and glacier',\n",
       "       'Heavy rain and thunderstorms, El Nino',\n",
       "       'Incresaing temperatures and heavy rains',\n",
       "       'Heat wave and lighthening', 'Hevy rainfall',\n",
       "       'Gate of hydro-electrical dawn opened',\n",
       "       'El NIno, low precipitation',\n",
       "       'Poor performance in the long-rain time period',\n",
       "       'DRought and high winds', 'Continous rains',\n",
       "       'Monsooonal rains (Hagabat)', 'Precursor of Damrey',\n",
       "       'Dry conditions, high temperatures (40°C), lightning',\n",
       "       'Tropical Storm Nanmadol', 'Hevy rains, El Nino', 'Rain',\n",
       "       'Heavy rains + Tropical Storm Selma', 'Long-term rainfall',\n",
       "       'Snowmelt, Rain', 'heavy rains', 'West African Monsoon',\n",
       "       'Continuous rains and snowfalls', 'Tropical Storm Praipiroon',\n",
       "       'Tropial storm Son Tinh', 'Heat and wind', 'Por rainfall',\n",
       "       'Irregular seasonal rainfall in 2017', 'Storm Beryl',\n",
       "       'Two consecutive poor rainy seasons',\n",
       "       'El Nino and the decrease in the amount of rainfall during monsoon season',\n",
       "       'Prolonged dry spells, with erratic high temperatures and floods,',\n",
       "       'Torrential rains; Meiyu front (Baiu font)', 'Monsoon floods',\n",
       "       \"Torrential rains, Tropical Storm 'Idai'\", 'Drought, El Nino',\n",
       "       'Residual effects of Tropial storm Dianmu', 'Mnsoonal rain',\n",
       "       'Flood #2016-0327', 'Mei-Yu rain band', 'Tropical Depression 23W',\n",
       "       'Lack if rainfall',\n",
       "       'Erratic rainfall and prolonged drought conditions exacerbated by El Niño disrupted the 2015/2016',\n",
       "       'Droght, winds', 'Tropical depression',\n",
       "       'Combination of low-pressure system and tropical depression',\n",
       "       'Lack of rain, El NIno', 'Lack of rain, La Nina',\n",
       "       'Tropical Storm Gordon', 'Tropical Cyclone Wipha', 'Fast snowmelt',\n",
       "       'Heavy and non-stop rains', 'Heavu rains',\n",
       "       'Torrential seasonal rains', 'Seasonal rain',\n",
       "       'Rising temperatures and subsequent ice jamming',\n",
       "       'Torrential rainfall caused by a slow-moving area of low pressure – named “Bernd”',\n",
       "       'Low rain- and snowfall, La nina', \"Tropical cyclone 'Cempaka'\",\n",
       "       'Poor rainfall, El Nino', 'Torrantial rains, TYphon 21',\n",
       "       \"Tropical Storm PODUL and Tropical Depression KAJIKI's\",\n",
       "       'Tropical Storm Podul and Tropical Depression Kajiki',\n",
       "       'Lack of rain—compounded by strong winds and the use of slash-and-burn agricultural techniques',\n",
       "       'Heavy rains caused by tropical storm',\n",
       "       'Heavy rain due to the influence of Hurricane ETA',\n",
       "       'Tropical Storm HIGOS ', 'Heavy rain, monsoon',\n",
       "       'Prolonged dry spells and negative economic impacts of COVID-19',\n",
       "       'Insufficient rainfall ', 'Heavy rains and high winds',\n",
       "       'Heavy ran', 'Heat wave, winds', 'High winds',\n",
       "       'Formed by the remnants of tropical cyclone GULAB',\n",
       "       'Heavy rains, Tropical storm Dianmu', 'Seismic acitivities',\n",
       "       'Tail-end of a frontal system', '\"Long Rains\" season ',\n",
       "       'Arctic blast associated with the Polar Vortex',\n",
       "       'Poor precipitation', 'Hurricane Iota',\n",
       "       'Heavy rains, cyclone Nisarga', 'Heavy rain and thunderstorm',\n",
       "       'Seismic activities', 'Active monsoonal rainfall ', 'Polar Vortex',\n",
       "       'Heat, drought and winds',\n",
       "       'Heavy rains, remnants of tropical storm Fred'], dtype=object)"
      ]
     },
     "execution_count": 107,
     "metadata": {},
     "output_type": "execute_result"
    }
   ],
   "source": [
    "type = df['Origin'].unique()\n",
    "type"
   ]
  },
  {
   "cell_type": "code",
   "execution_count": 108,
   "metadata": {},
   "outputs": [],
   "source": [
    "df['Disaster Type'] = df['Disaster Type'].map({'Flood':1, 'Storm':2, 'Drought':3, 'Landslide':4, 'Earthquake':5, 'Epidemic':6,\n",
    "       'Wildfire':7, 'Mass movement (dry)':8, 'Extreme temperature':9,\n",
    "       'Volcanic activity':10, 'Insect infestation':11, 'Impact':12,\n",
    "       'Animal accident':13, 'Glacial lake outburst':14})"
   ]
  },
  {
   "cell_type": "code",
   "execution_count": 109,
   "metadata": {},
   "outputs": [],
   "source": [
    "df = df.drop(['Geo Locations'], axis=1)"
   ]
  },
  {
   "cell_type": "code",
   "execution_count": 110,
   "metadata": {},
   "outputs": [
    {
     "data": {
      "text/plain": [
       "array(['South America', 'Australia and New Zealand', 'Western Africa',\n",
       "       'Southern Asia', 'Caribbean', 'Southern Africa',\n",
       "       'Northern America', 'Western Europe', 'Eastern Asia',\n",
       "       'Central America', 'Western Asia', 'Eastern Africa',\n",
       "       'Eastern Europe', 'South-Eastern Asia', 'Middle Africa',\n",
       "       'Southern Europe', 'Melanesia', 'Northern Europe',\n",
       "       'Northern Africa', 'Micronesia', 'Polynesia', 'Russian Federation',\n",
       "       'Central Asia'], dtype=object)"
      ]
     },
     "execution_count": 110,
     "metadata": {},
     "output_type": "execute_result"
    }
   ],
   "source": [
    "type = df['Region'].unique()\n",
    "type"
   ]
  },
  {
   "cell_type": "code",
   "execution_count": 111,
   "metadata": {},
   "outputs": [
    {
     "data": {
      "text/plain": [
       "array(['Americas', 'Oceania', 'Africa', 'Asia', 'Europe'], dtype=object)"
      ]
     },
     "execution_count": 111,
     "metadata": {},
     "output_type": "execute_result"
    }
   ],
   "source": [
    "type = df['Continent'].unique()\n",
    "type"
   ]
  },
  {
   "cell_type": "code",
   "execution_count": 112,
   "metadata": {},
   "outputs": [],
   "source": [
    "df['Continent'] = df['Continent'].map({'Americas':1, 'Oceania':2, 'Africa':3, 'Asia':4, 'Europe':5})"
   ]
  },
  {
   "cell_type": "code",
   "execution_count": 113,
   "metadata": {},
   "outputs": [
    {
     "data": {
      "text/plain": [
       "array([nan, 'Yes'], dtype=object)"
      ]
     },
     "execution_count": 113,
     "metadata": {},
     "output_type": "execute_result"
    }
   ],
   "source": [
    "type = df['OFDA Response'].unique()\n",
    "type"
   ]
  },
  {
   "cell_type": "code",
   "execution_count": 114,
   "metadata": {},
   "outputs": [
    {
     "data": {
      "text/plain": [
       "Year                                 int64\n",
       "Seq                                  int64\n",
       "Disaster Group                       int64\n",
       "Disaster Subgroup                  float64\n",
       "Disaster Type                      float64\n",
       "Disaster Subtype                    object\n",
       "Disaster Subsubtype                 object\n",
       "Country                             object\n",
       "Region                              object\n",
       "Continent                            int64\n",
       "Location                            object\n",
       "Origin                              object\n",
       "OFDA Response                       object\n",
       "Dis Mag Value                      float64\n",
       "Dis Mag Scale                       object\n",
       "Latitude                            object\n",
       "Longitude                           object\n",
       "Start Year                           int64\n",
       "Start Month                        float64\n",
       "Start Day                          float64\n",
       "End Year                             int64\n",
       "End Month                          float64\n",
       "End Day                            float64\n",
       "Total Deaths                       float64\n",
       "No Injured                         float64\n",
       "No Affected                        float64\n",
       "Total Affected                     float64\n",
       "Reconstruction Costs ('000 US$)    float64\n",
       "Insured Damages ('000 US$)         float64\n",
       "Total Damages ('000 US$)           float64\n",
       "dtype: object"
      ]
     },
     "execution_count": 114,
     "metadata": {},
     "output_type": "execute_result"
    }
   ],
   "source": [
    "df.dtypes"
   ]
  },
  {
   "cell_type": "code",
   "execution_count": 115,
   "metadata": {},
   "outputs": [],
   "source": [
    "df['OFDA Response'] = df['OFDA Response'].map({ 'Yes':1})\n",
    "df['OFDA Response'].fillna(0, inplace=True)"
   ]
  },
  {
   "cell_type": "code",
   "execution_count": 116,
   "metadata": {},
   "outputs": [
    {
     "data": {
      "text/plain": [
       "array(['Km2', 'Kph', nan, 'Richter', 'Vaccinated', '°C'], dtype=object)"
      ]
     },
     "execution_count": 116,
     "metadata": {},
     "output_type": "execute_result"
    }
   ],
   "source": [
    "type = df['Dis Mag Scale'].unique()\n",
    "type"
   ]
  },
  {
   "cell_type": "code",
   "execution_count": 117,
   "metadata": {},
   "outputs": [],
   "source": [
    "df['Dis Mag Scale'] = df['Dis Mag Scale'].map({'Km2':1, 'Kph':2, 'Richter':3, 'Vaccinated':4, '°C':5})\n",
    "df['Dis Mag Scale'].fillna(0, inplace=True)"
   ]
  },
  {
   "cell_type": "code",
   "execution_count": 118,
   "metadata": {},
   "outputs": [],
   "source": [
    "df = df.drop(['Longitude','Latitude'], axis=1)"
   ]
  },
  {
   "cell_type": "code",
   "execution_count": 119,
   "metadata": {},
   "outputs": [],
   "source": [
    "df = df.drop(['Disaster Group'], axis=1)"
   ]
  },
  {
   "cell_type": "code",
   "execution_count": 120,
   "metadata": {},
   "outputs": [
    {
     "data": {
      "text/plain": [
       "Year                                 int64\n",
       "Seq                                  int64\n",
       "Disaster Subgroup                  float64\n",
       "Disaster Type                      float64\n",
       "Disaster Subtype                    object\n",
       "Disaster Subsubtype                 object\n",
       "Country                             object\n",
       "Region                              object\n",
       "Continent                            int64\n",
       "Location                            object\n",
       "Origin                              object\n",
       "OFDA Response                      float64\n",
       "Dis Mag Value                      float64\n",
       "Dis Mag Scale                      float64\n",
       "Start Year                           int64\n",
       "Start Month                        float64\n",
       "Start Day                          float64\n",
       "End Year                             int64\n",
       "End Month                          float64\n",
       "End Day                            float64\n",
       "Total Deaths                       float64\n",
       "No Injured                         float64\n",
       "No Affected                        float64\n",
       "Total Affected                     float64\n",
       "Reconstruction Costs ('000 US$)    float64\n",
       "Insured Damages ('000 US$)         float64\n",
       "Total Damages ('000 US$)           float64\n",
       "dtype: object"
      ]
     },
     "execution_count": 120,
     "metadata": {},
     "output_type": "execute_result"
    }
   ],
   "source": [
    "df.dtypes"
   ]
  },
  {
   "cell_type": "code",
   "execution_count": 137,
   "metadata": {},
   "outputs": [
    {
     "data": {
      "text/html": [
       "<div>\n",
       "<style scoped>\n",
       "    .dataframe tbody tr th:only-of-type {\n",
       "        vertical-align: middle;\n",
       "    }\n",
       "\n",
       "    .dataframe tbody tr th {\n",
       "        vertical-align: top;\n",
       "    }\n",
       "\n",
       "    .dataframe thead th {\n",
       "        text-align: right;\n",
       "    }\n",
       "</style>\n",
       "<table border=\"1\" class=\"dataframe\">\n",
       "  <thead>\n",
       "    <tr style=\"text-align: right;\">\n",
       "      <th></th>\n",
       "      <th>Year</th>\n",
       "      <th>Seq</th>\n",
       "      <th>Disaster Subgroup</th>\n",
       "      <th>Disaster Type</th>\n",
       "      <th>Continent</th>\n",
       "      <th>OFDA Response</th>\n",
       "      <th>Dis Mag Value</th>\n",
       "      <th>Dis Mag Scale</th>\n",
       "      <th>Total Deaths</th>\n",
       "    </tr>\n",
       "  </thead>\n",
       "  <tbody>\n",
       "    <tr>\n",
       "      <th>count</th>\n",
       "      <td>6.000000</td>\n",
       "      <td>6.000000</td>\n",
       "      <td>6.000000</td>\n",
       "      <td>6.00000</td>\n",
       "      <td>6.000000</td>\n",
       "      <td>6.000000</td>\n",
       "      <td>6.000000</td>\n",
       "      <td>6.000000</td>\n",
       "      <td>6.00000</td>\n",
       "    </tr>\n",
       "    <tr>\n",
       "      <th>mean</th>\n",
       "      <td>2010.000000</td>\n",
       "      <td>199.166667</td>\n",
       "      <td>2.833333</td>\n",
       "      <td>4.00000</td>\n",
       "      <td>2.833333</td>\n",
       "      <td>0.666667</td>\n",
       "      <td>17367.666667</td>\n",
       "      <td>2.000000</td>\n",
       "      <td>40104.50000</td>\n",
       "    </tr>\n",
       "    <tr>\n",
       "      <th>std</th>\n",
       "      <td>6.480741</td>\n",
       "      <td>192.249231</td>\n",
       "      <td>1.471960</td>\n",
       "      <td>2.44949</td>\n",
       "      <td>2.041241</td>\n",
       "      <td>0.516398</td>\n",
       "      <td>42147.522806</td>\n",
       "      <td>1.095445</td>\n",
       "      <td>89644.84797</td>\n",
       "    </tr>\n",
       "    <tr>\n",
       "      <th>min</th>\n",
       "      <td>1999.000000</td>\n",
       "      <td>17.000000</td>\n",
       "      <td>1.000000</td>\n",
       "      <td>1.00000</td>\n",
       "      <td>1.000000</td>\n",
       "      <td>0.000000</td>\n",
       "      <td>7.000000</td>\n",
       "      <td>1.000000</td>\n",
       "      <td>43.00000</td>\n",
       "    </tr>\n",
       "    <tr>\n",
       "      <th>25%</th>\n",
       "      <td>2008.500000</td>\n",
       "      <td>80.250000</td>\n",
       "      <td>1.500000</td>\n",
       "      <td>2.00000</td>\n",
       "      <td>1.000000</td>\n",
       "      <td>0.250000</td>\n",
       "      <td>8.000000</td>\n",
       "      <td>1.000000</td>\n",
       "      <td>85.75000</td>\n",
       "    </tr>\n",
       "    <tr>\n",
       "      <th>50%</th>\n",
       "      <td>2010.000000</td>\n",
       "      <td>146.500000</td>\n",
       "      <td>3.500000</td>\n",
       "      <td>5.00000</td>\n",
       "      <td>2.500000</td>\n",
       "      <td>1.000000</td>\n",
       "      <td>154.000000</td>\n",
       "      <td>2.000000</td>\n",
       "      <td>411.50000</td>\n",
       "    </tr>\n",
       "    <tr>\n",
       "      <th>75%</th>\n",
       "      <td>2014.500000</td>\n",
       "      <td>245.000000</td>\n",
       "      <td>4.000000</td>\n",
       "      <td>5.00000</td>\n",
       "      <td>4.750000</td>\n",
       "      <td>1.000000</td>\n",
       "      <td>437.250000</td>\n",
       "      <td>3.000000</td>\n",
       "      <td>13013.25000</td>\n",
       "    </tr>\n",
       "    <tr>\n",
       "      <th>max</th>\n",
       "      <td>2017.000000</td>\n",
       "      <td>549.000000</td>\n",
       "      <td>4.000000</td>\n",
       "      <td>7.00000</td>\n",
       "      <td>5.000000</td>\n",
       "      <td>1.000000</td>\n",
       "      <td>103400.000000</td>\n",
       "      <td>3.000000</td>\n",
       "      <td>222570.00000</td>\n",
       "    </tr>\n",
       "  </tbody>\n",
       "</table>\n",
       "</div>"
      ],
      "text/plain": [
       "              Year         Seq  Disaster Subgroup  Disaster Type  Continent  \\\n",
       "count     6.000000    6.000000           6.000000        6.00000   6.000000   \n",
       "mean   2010.000000  199.166667           2.833333        4.00000   2.833333   \n",
       "std       6.480741  192.249231           1.471960        2.44949   2.041241   \n",
       "min    1999.000000   17.000000           1.000000        1.00000   1.000000   \n",
       "25%    2008.500000   80.250000           1.500000        2.00000   1.000000   \n",
       "50%    2010.000000  146.500000           3.500000        5.00000   2.500000   \n",
       "75%    2014.500000  245.000000           4.000000        5.00000   4.750000   \n",
       "max    2017.000000  549.000000           4.000000        7.00000   5.000000   \n",
       "\n",
       "       OFDA Response  Dis Mag Value  Dis Mag Scale  Total Deaths  \n",
       "count       6.000000       6.000000       6.000000       6.00000  \n",
       "mean        0.666667   17367.666667       2.000000   40104.50000  \n",
       "std         0.516398   42147.522806       1.095445   89644.84797  \n",
       "min         0.000000       7.000000       1.000000      43.00000  \n",
       "25%         0.250000       8.000000       1.000000      85.75000  \n",
       "50%         1.000000     154.000000       2.000000     411.50000  \n",
       "75%         1.000000     437.250000       3.000000   13013.25000  \n",
       "max         1.000000  103400.000000       3.000000  222570.00000  "
      ]
     },
     "execution_count": 137,
     "metadata": {},
     "output_type": "execute_result"
    }
   ],
   "source": [
    "df.describe()"
   ]
  },
  {
   "cell_type": "code",
   "execution_count": 122,
   "metadata": {},
   "outputs": [],
   "source": [
    "df = df.drop(['Disaster Subtype','Disaster Subsubtype','Country','Region','Location','Origin'], axis=1)"
   ]
  },
  {
   "cell_type": "code",
   "execution_count": 123,
   "metadata": {},
   "outputs": [],
   "source": [
    "df = df.dropna()"
   ]
  },
  {
   "cell_type": "code",
   "execution_count": 124,
   "metadata": {},
   "outputs": [
    {
     "data": {
      "text/plain": [
       "Dis Mag Value    float64\n",
       "Dis Mag Scale    float64\n",
       "Total Deaths     float64\n",
       "dtype: object"
      ]
     },
     "execution_count": 124,
     "metadata": {},
     "output_type": "execute_result"
    }
   ],
   "source": [
    "df_to_use.dtypes"
   ]
  },
  {
   "cell_type": "code",
   "execution_count": 125,
   "metadata": {},
   "outputs": [],
   "source": [
    "df = df.drop([\"Reconstruction Costs ('000 US$)\",\"Insured Damages ('000 US$)\",\"Total Damages ('000 US$)\"\n",
    ",'Total Affected','No Injured','No Affected'], axis=1)"
   ]
  },
  {
   "cell_type": "code",
   "execution_count": 126,
   "metadata": {},
   "outputs": [],
   "source": [
    "df = df.drop([\"Start Year\",\"Start Month\",\"Start Day\"\n",
    ",'End Year','End Month','End Day'], axis=1)"
   ]
  },
  {
   "cell_type": "code",
   "execution_count": 147,
   "metadata": {},
   "outputs": [],
   "source": [
    "df_to_use = df.drop([\"Year\",\"Seq\",'Disaster Subgroup','Disaster Type','Continent','OFDA Response'], axis=1)"
   ]
  },
  {
   "cell_type": "code",
   "execution_count": 148,
   "metadata": {},
   "outputs": [],
   "source": [
    "centers = range(1, 6)"
   ]
  },
  {
   "cell_type": "code",
   "execution_count": 149,
   "metadata": {},
   "outputs": [],
   "source": [
    "clusters = [KMeans(n_clusters=center) for center in centers]"
   ]
  },
  {
   "cell_type": "code",
   "execution_count": 150,
   "metadata": {},
   "outputs": [
    {
     "name": "stderr",
     "output_type": "stream",
     "text": [
      "c:\\Users\\Pedro\\Desktop\\$ Semestres uni\\1-2023\\algoritmica\\PracticoCodo\\venv\\lib\\site-packages\\sklearn\\cluster\\_kmeans.py:870: FutureWarning: The default value of `n_init` will change from 10 to 'auto' in 1.4. Set the value of `n_init` explicitly to suppress the warning\n",
      "  warnings.warn(\n",
      "c:\\Users\\Pedro\\Desktop\\$ Semestres uni\\1-2023\\algoritmica\\PracticoCodo\\venv\\lib\\site-packages\\sklearn\\cluster\\_kmeans.py:870: FutureWarning: The default value of `n_init` will change from 10 to 'auto' in 1.4. Set the value of `n_init` explicitly to suppress the warning\n",
      "  warnings.warn(\n",
      "c:\\Users\\Pedro\\Desktop\\$ Semestres uni\\1-2023\\algoritmica\\PracticoCodo\\venv\\lib\\site-packages\\sklearn\\cluster\\_kmeans.py:870: FutureWarning: The default value of `n_init` will change from 10 to 'auto' in 1.4. Set the value of `n_init` explicitly to suppress the warning\n",
      "  warnings.warn(\n",
      "c:\\Users\\Pedro\\Desktop\\$ Semestres uni\\1-2023\\algoritmica\\PracticoCodo\\venv\\lib\\site-packages\\sklearn\\cluster\\_kmeans.py:870: FutureWarning: The default value of `n_init` will change from 10 to 'auto' in 1.4. Set the value of `n_init` explicitly to suppress the warning\n",
      "  warnings.warn(\n",
      "c:\\Users\\Pedro\\Desktop\\$ Semestres uni\\1-2023\\algoritmica\\PracticoCodo\\venv\\lib\\site-packages\\sklearn\\cluster\\_kmeans.py:870: FutureWarning: The default value of `n_init` will change from 10 to 'auto' in 1.4. Set the value of `n_init` explicitly to suppress the warning\n",
      "  warnings.warn(\n"
     ]
    }
   ],
   "source": [
    "scores = [model.fit(df_to_use).score(df_to_use) for model in clusters]"
   ]
  },
  {
   "cell_type": "code",
   "execution_count": 151,
   "metadata": {},
   "outputs": [
    {
     "data": {
      "image/png": "[encoded data removed]",
      "text/plain": [
       "<Figure size 640x480 with 1 Axes>"
      ]
     },
     "metadata": {},
     "output_type": "display_data"
    }
   ],
   "source": [
    "# Aplicamos la curva de Elbow\n",
    "plt.plot(centers, scores)\n",
    "plt.xlabel('Grupo/Centroides')\n",
    "plt.ylabel('Score')\n",
    "plt.show()"
   ]
  },
  {
   "cell_type": "code",
   "execution_count": 152,
   "metadata": {},
   "outputs": [],
   "source": [
    "k_means = KMeans(n_clusters=6)"
   ]
  },
  {
   "cell_type": "code",
   "execution_count": 153,
   "metadata": {},
   "outputs": [
    {
     "name": "stderr",
     "output_type": "stream",
     "text": [
      "c:\\Users\\Pedro\\Desktop\\$ Semestres uni\\1-2023\\algoritmica\\PracticoCodo\\venv\\lib\\site-packages\\sklearn\\cluster\\_kmeans.py:870: FutureWarning: The default value of `n_init` will change from 10 to 'auto' in 1.4. Set the value of `n_init` explicitly to suppress the warning\n",
      "  warnings.warn(\n"
     ]
    },
    {
     "data": {
      "text/html": [
       "<style>#sk-container-id-3 {color: black;background-color: white;}#sk-container-id-3 pre{padding: 0;}#sk-container-id-3 div.sk-toggleable {background-color: white;}#sk-container-id-3 label.sk-toggleable__label {cursor: pointer;display: block;width: 100%;margin-bottom: 0;padding: 0.3em;box-sizing: border-box;text-align: center;}#sk-container-id-3 label.sk-toggleable__label-arrow:before {content: \"▸\";float: left;margin-right: 0.25em;color: #696969;}#sk-container-id-3 label.sk-toggleable__label-arrow:hover:before {color: black;}#sk-container-id-3 div.sk-estimator:hover label.sk-toggleable__label-arrow:before {color: black;}#sk-container-id-3 div.sk-toggleable__content {max-height: 0;max-width: 0;overflow: hidden;text-align: left;background-color: #f0f8ff;}#sk-container-id-3 div.sk-toggleable__content pre {margin: 0.2em;color: black;border-radius: 0.25em;background-color: #f0f8ff;}#sk-container-id-3 input.sk-toggleable__control:checked~div.sk-toggleable__content {max-height: 200px;max-width: 100%;overflow: auto;}#sk-container-id-3 input.sk-toggleable__control:checked~label.sk-toggleable__label-arrow:before {content: \"▾\";}#sk-container-id-3 div.sk-estimator input.sk-toggleable__control:checked~label.sk-toggleable__label {background-color: #d4ebff;}#sk-container-id-3 div.sk-label input.sk-toggleable__control:checked~label.sk-toggleable__label {background-color: #d4ebff;}#sk-container-id-3 input.sk-hidden--visually {border: 0;clip: rect(1px 1px 1px 1px);clip: rect(1px, 1px, 1px, 1px);height: 1px;margin: -1px;overflow: hidden;padding: 0;position: absolute;width: 1px;}#sk-container-id-3 div.sk-estimator {font-family: monospace;background-color: #f0f8ff;border: 1px dotted black;border-radius: 0.25em;box-sizing: border-box;margin-bottom: 0.5em;}#sk-container-id-3 div.sk-estimator:hover {background-color: #d4ebff;}#sk-container-id-3 div.sk-parallel-item::after {content: \"\";width: 100%;border-bottom: 1px solid gray;flex-grow: 1;}#sk-container-id-3 div.sk-label:hover label.sk-toggleable__label {background-color: #d4ebff;}#sk-container-id-3 div.sk-serial::before {content: \"\";position: absolute;border-left: 1px solid gray;box-sizing: border-box;top: 0;bottom: 0;left: 50%;z-index: 0;}#sk-container-id-3 div.sk-serial {display: flex;flex-direction: column;align-items: center;background-color: white;padding-right: 0.2em;padding-left: 0.2em;position: relative;}#sk-container-id-3 div.sk-item {position: relative;z-index: 1;}#sk-container-id-3 div.sk-parallel {display: flex;align-items: stretch;justify-content: center;background-color: white;position: relative;}#sk-container-id-3 div.sk-item::before, #sk-container-id-3 div.sk-parallel-item::before {content: \"\";position: absolute;border-left: 1px solid gray;box-sizing: border-box;top: 0;bottom: 0;left: 50%;z-index: -1;}#sk-container-id-3 div.sk-parallel-item {display: flex;flex-direction: column;z-index: 1;position: relative;background-color: white;}#sk-container-id-3 div.sk-parallel-item:first-child::after {align-self: flex-end;width: 50%;}#sk-container-id-3 div.sk-parallel-item:last-child::after {align-self: flex-start;width: 50%;}#sk-container-id-3 div.sk-parallel-item:only-child::after {width: 0;}#sk-container-id-3 div.sk-dashed-wrapped {border: 1px dashed gray;margin: 0 0.4em 0.5em 0.4em;box-sizing: border-box;padding-bottom: 0.4em;background-color: white;}#sk-container-id-3 div.sk-label label {font-family: monospace;font-weight: bold;display: inline-block;line-height: 1.2em;}#sk-container-id-3 div.sk-label-container {text-align: center;}#sk-container-id-3 div.sk-container {/* jupyter's `normalize.less` sets `[hidden] { display: none; }` but bootstrap.min.css set `[hidden] { display: none !important; }` so we also need the `!important` here to be able to override the default hidden behavior on the sphinx rendered scikit-learn.org. See: https://github.com/scikit-learn/scikit-learn/issues/21755 */display: inline-block !important;position: relative;}#sk-container-id-3 div.sk-text-repr-fallback {display: none;}</style><div id=\"sk-container-id-3\" class=\"sk-top-container\"><div class=\"sk-text-repr-fallback\"><pre>KMeans(n_clusters=6)</pre><b>In a Jupyter environment, please rerun this cell to show the HTML representation or trust the notebook. <br />On GitHub, the HTML representation is unable to render, please try loading this page with nbviewer.org.</b></div><div class=\"sk-container\" hidden><div class=\"sk-item\"><div class=\"sk-estimator sk-toggleable\"><input class=\"sk-toggleable__control sk-hidden--visually\" id=\"sk-estimator-id-3\" type=\"checkbox\" checked><label for=\"sk-estimator-id-3\" class=\"sk-toggleable__label sk-toggleable__label-arrow\">KMeans</label><div class=\"sk-toggleable__content\"><pre>KMeans(n_clusters=6)</pre></div></div></div></div></div>"
      ],
      "text/plain": [
       "KMeans(n_clusters=6)"
      ]
     },
     "execution_count": 153,
     "metadata": {},
     "output_type": "execute_result"
    }
   ],
   "source": [
    "k_means.fit(df_to_use)"
   ]
  },
  {
   "cell_type": "code",
   "execution_count": 154,
   "metadata": {},
   "outputs": [
    {
     "data": {
      "text/plain": [
       "array([[8.0000e+00, 3.0000e+00, 6.7200e+02],\n",
       "       [7.0000e+00, 3.0000e+00, 2.2257e+05],\n",
       "       [1.0340e+05, 1.0000e+00, 1.5100e+02],\n",
       "       [8.0000e+00, 3.0000e+00, 1.7127e+04],\n",
       "       [3.0000e+02, 1.0000e+00, 6.4000e+01],\n",
       "       [4.8300e+02, 1.0000e+00, 4.3000e+01]])"
      ]
     },
     "execution_count": 154,
     "metadata": {},
     "output_type": "execute_result"
    }
   ],
   "source": [
    "k_means.cluster_centers_"
   ]
  },
  {
   "cell_type": "code",
   "execution_count": 155,
   "metadata": {},
   "outputs": [
    {
     "data": {
      "image/png": "[encoded data removed]",
      "text/plain": [
       "<Figure size 640x480 with 1 Axes>"
      ]
     },
     "metadata": {},
     "output_type": "display_data"
    }
   ],
   "source": [
    "# Visualizaremos los datos de manera tridimensional\n",
    "# Este grafico es opcional no sera pedido en absolutamente nada\n",
    "df_array = df_to_use.to_numpy()\n",
    "figure = plt.figure()\n",
    "axis = figure.add_subplot(111, projection='3d')\n",
    "chart = axis.scatter(df_array[:, 0], df_array[:, 1], df_array[:, 2], c=df_array[:, 2])\n",
    "centroids = axis.scatter(k_means.cluster_centers_[:, 0], k_means.cluster_centers_[:, 1], k_means.cluster_centers_[:, 2])\n",
    "axis.set_xlabel(\"Dis Mag Value\")\n",
    "axis.set_ylabel(\"Dis Mag Scale\")\n",
    "axis.set_zlabel(\"Total Deaths\")\n",
    "plt.show()"
   ]
  },
  {
   "cell_type": "code",
   "execution_count": 156,
   "metadata": {},
   "outputs": [
    {
     "data": {
      "text/html": [
       "<div>\n",
       "<style scoped>\n",
       "    .dataframe tbody tr th:only-of-type {\n",
       "        vertical-align: middle;\n",
       "    }\n",
       "\n",
       "    .dataframe tbody tr th {\n",
       "        vertical-align: top;\n",
       "    }\n",
       "\n",
       "    .dataframe thead th {\n",
       "        text-align: right;\n",
       "    }\n",
       "</style>\n",
       "<table border=\"1\" class=\"dataframe\">\n",
       "  <thead>\n",
       "    <tr style=\"text-align: right;\">\n",
       "      <th></th>\n",
       "      <th>Dis Mag Value</th>\n",
       "      <th>Dis Mag Scale</th>\n",
       "      <th>Total Deaths</th>\n",
       "    </tr>\n",
       "  </thead>\n",
       "  <tbody>\n",
       "    <tr>\n",
       "      <th>5990</th>\n",
       "      <td>8.0</td>\n",
       "      <td>3.0</td>\n",
       "      <td>17127.0</td>\n",
       "    </tr>\n",
       "    <tr>\n",
       "      <th>9174</th>\n",
       "      <td>103400.0</td>\n",
       "      <td>1.0</td>\n",
       "      <td>151.0</td>\n",
       "    </tr>\n",
       "    <tr>\n",
       "      <th>10173</th>\n",
       "      <td>7.0</td>\n",
       "      <td>3.0</td>\n",
       "      <td>222570.0</td>\n",
       "    </tr>\n",
       "    <tr>\n",
       "      <th>10422</th>\n",
       "      <td>483.0</td>\n",
       "      <td>1.0</td>\n",
       "      <td>43.0</td>\n",
       "    </tr>\n",
       "    <tr>\n",
       "      <th>11959</th>\n",
       "      <td>8.0</td>\n",
       "      <td>3.0</td>\n",
       "      <td>672.0</td>\n",
       "    </tr>\n",
       "    <tr>\n",
       "      <th>13029</th>\n",
       "      <td>300.0</td>\n",
       "      <td>1.0</td>\n",
       "      <td>64.0</td>\n",
       "    </tr>\n",
       "  </tbody>\n",
       "</table>\n",
       "</div>"
      ],
      "text/plain": [
       "       Dis Mag Value  Dis Mag Scale  Total Deaths\n",
       "5990             8.0            3.0       17127.0\n",
       "9174        103400.0            1.0         151.0\n",
       "10173            7.0            3.0      222570.0\n",
       "10422          483.0            1.0          43.0\n",
       "11959            8.0            3.0         672.0\n",
       "13029          300.0            1.0          64.0"
      ]
     },
     "execution_count": 156,
     "metadata": {},
     "output_type": "execute_result"
    }
   ],
   "source": [
    "df_to_use"
   ]
  },
  {
   "cell_type": "code",
   "execution_count": 157,
   "metadata": {},
   "outputs": [
    {
     "data": {
      "text/plain": [
       "array([3, 2, 1, 5, 0, 4])"
      ]
     },
     "execution_count": 157,
     "metadata": {},
     "output_type": "execute_result"
    }
   ],
   "source": [
    "k_means.labels_"
   ]
  },
  {
   "cell_type": "code",
   "execution_count": 166,
   "metadata": {},
   "outputs": [],
   "source": [
    "# Esta es la parte dificil del practico supuestamente\n",
    "customer_groups = [\n",
    "    'un poco mas de lo esperado',\n",
    "    'lo esperado',\n",
    "    'no tanta suerte',\n",
    "    'catastrofico',\n",
    "    'suerte',\n",
    "    'desastroso'\n",
    "]"
   ]
  },
  {
   "cell_type": "code",
   "execution_count": 160,
   "metadata": {},
   "outputs": [
    {
     "data": {
      "text/html": [
       "<div>\n",
       "<style scoped>\n",
       "    .dataframe tbody tr th:only-of-type {\n",
       "        vertical-align: middle;\n",
       "    }\n",
       "\n",
       "    .dataframe tbody tr th {\n",
       "        vertical-align: top;\n",
       "    }\n",
       "\n",
       "    .dataframe thead th {\n",
       "        text-align: right;\n",
       "    }\n",
       "</style>\n",
       "<table border=\"1\" class=\"dataframe\">\n",
       "  <thead>\n",
       "    <tr style=\"text-align: right;\">\n",
       "      <th></th>\n",
       "      <th>Dis Mag Value</th>\n",
       "      <th>Dis Mag Scale</th>\n",
       "      <th>Total Deaths</th>\n",
       "    </tr>\n",
       "  </thead>\n",
       "  <tbody>\n",
       "    <tr>\n",
       "      <th>5990</th>\n",
       "      <td>8.0</td>\n",
       "      <td>3.0</td>\n",
       "      <td>17127.0</td>\n",
       "    </tr>\n",
       "    <tr>\n",
       "      <th>9174</th>\n",
       "      <td>103400.0</td>\n",
       "      <td>1.0</td>\n",
       "      <td>151.0</td>\n",
       "    </tr>\n",
       "    <tr>\n",
       "      <th>10173</th>\n",
       "      <td>7.0</td>\n",
       "      <td>3.0</td>\n",
       "      <td>222570.0</td>\n",
       "    </tr>\n",
       "    <tr>\n",
       "      <th>10422</th>\n",
       "      <td>483.0</td>\n",
       "      <td>1.0</td>\n",
       "      <td>43.0</td>\n",
       "    </tr>\n",
       "    <tr>\n",
       "      <th>11959</th>\n",
       "      <td>8.0</td>\n",
       "      <td>3.0</td>\n",
       "      <td>672.0</td>\n",
       "    </tr>\n",
       "    <tr>\n",
       "      <th>13029</th>\n",
       "      <td>300.0</td>\n",
       "      <td>1.0</td>\n",
       "      <td>64.0</td>\n",
       "    </tr>\n",
       "  </tbody>\n",
       "</table>\n",
       "</div>"
      ],
      "text/plain": [
       "       Dis Mag Value  Dis Mag Scale  Total Deaths\n",
       "5990             8.0            3.0       17127.0\n",
       "9174        103400.0            1.0         151.0\n",
       "10173            7.0            3.0      222570.0\n",
       "10422          483.0            1.0          43.0\n",
       "11959            8.0            3.0         672.0\n",
       "13029          300.0            1.0          64.0"
      ]
     },
     "execution_count": 160,
     "metadata": {},
     "output_type": "execute_result"
    }
   ],
   "source": [
    "df_to_use"
   ]
  },
  {
   "cell_type": "code",
   "execution_count": 167,
   "metadata": {},
   "outputs": [
    {
     "name": "stdout",
     "output_type": "stream",
     "text": [
      "Hubo un accidente de 8 con la escala Richter y murieron un total 26834, fue un accidente catastrofico\n"
     ]
    },
    {
     "name": "stderr",
     "output_type": "stream",
     "text": [
      "c:\\Users\\Pedro\\Desktop\\$ Semestres uni\\1-2023\\algoritmica\\PracticoCodo\\venv\\lib\\site-packages\\sklearn\\base.py:439: UserWarning: X does not have valid feature names, but KMeans was fitted with feature names\n",
      "  warnings.warn(\n"
     ]
    }
   ],
   "source": [
    "valor = 8\n",
    "escala=['Km2', 'Kph', 'Richter', 'Vaccinated', '°C']\n",
    "escalar = 2\n",
    "muertes = 26834\n",
    "predicted = k_means.predict([[valor, escalar, muertes]])\n",
    "print(f'Hubo un accidente de {valor} con la escala {escala[escalar]} y murieron un total {muertes}, fue un accidente {customer_groups[predicted[0]]}')"
   ]
  }
 ],
 "metadata": {
  "kernelspec": {
   "display_name": "venv",
   "language": "python",
   "name": "python3"
  },
  "language_info": {
   "codemirror_mode": {
    "name": "ipython",
    "version": 3
   },
   "file_extension": ".py",
   "mimetype": "text/x-python",
   "name": "python",
   "nbconvert_exporter": "python",
   "pygments_lexer": "ipython3",
   "version": "3.9.6"
  },
  "orig_nbformat": 4
 },
 "nbformat": 4,
 "nbformat_minor": 2
}
