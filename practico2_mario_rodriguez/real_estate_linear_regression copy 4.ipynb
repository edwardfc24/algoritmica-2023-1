{
 "cells": [
  {
   "cell_type": "code",
   "execution_count": 1925,
   "metadata": {},
   "outputs": [],
   "source": [
    "# Importamos las librerías necesarias\n",
    "from sklearn.model_selection import train_test_split\n",
    "from sklearn import linear_model\n",
    "\n",
    "import pandas as pd\n",
    "import numpy as np\n",
    "import matplotlib.pyplot as plt"
   ]
  },
  {
   "cell_type": "code",
   "execution_count": 1926,
   "metadata": {},
   "outputs": [],
   "source": [
    "# Importamos el dataset para manejarlo como un DataFrame\n",
    "df = pd.read_csv('realtor-data.csv')"
   ]
  },
  {
   "cell_type": "code",
   "execution_count": 1927,
   "metadata": {},
   "outputs": [
    {
     "data": {
      "text/html": [
       "<div>\n",
       "<style scoped>\n",
       "    .dataframe tbody tr th:only-of-type {\n",
       "        vertical-align: middle;\n",
       "    }\n",
       "\n",
       "    .dataframe tbody tr th {\n",
       "        vertical-align: top;\n",
       "    }\n",
       "\n",
       "    .dataframe thead th {\n",
       "        text-align: right;\n",
       "    }\n",
       "</style>\n",
       "<table border=\"1\" class=\"dataframe\">\n",
       "  <thead>\n",
       "    <tr style=\"text-align: right;\">\n",
       "      <th></th>\n",
       "      <th>bed</th>\n",
       "      <th>bath</th>\n",
       "      <th>acre_lot</th>\n",
       "      <th>zip_code</th>\n",
       "      <th>house_size</th>\n",
       "      <th>price</th>\n",
       "    </tr>\n",
       "  </thead>\n",
       "  <tbody>\n",
       "    <tr>\n",
       "      <th>count</th>\n",
       "      <td>75050.000000</td>\n",
       "      <td>75112.000000</td>\n",
       "      <td>85987.000000</td>\n",
       "      <td>99805.000000</td>\n",
       "      <td>7.508200e+04</td>\n",
       "      <td>1.000000e+05</td>\n",
       "    </tr>\n",
       "    <tr>\n",
       "      <th>mean</th>\n",
       "      <td>3.701013</td>\n",
       "      <td>2.494595</td>\n",
       "      <td>13.613473</td>\n",
       "      <td>2132.003467</td>\n",
       "      <td>2.180082e+03</td>\n",
       "      <td>4.383656e+05</td>\n",
       "    </tr>\n",
       "    <tr>\n",
       "      <th>std</th>\n",
       "      <td>2.091372</td>\n",
       "      <td>1.573324</td>\n",
       "      <td>840.143878</td>\n",
       "      <td>2455.654774</td>\n",
       "      <td>5.625349e+03</td>\n",
       "      <td>1.015773e+06</td>\n",
       "    </tr>\n",
       "    <tr>\n",
       "      <th>min</th>\n",
       "      <td>1.000000</td>\n",
       "      <td>1.000000</td>\n",
       "      <td>0.000000</td>\n",
       "      <td>601.000000</td>\n",
       "      <td>1.000000e+02</td>\n",
       "      <td>4.450000e+02</td>\n",
       "    </tr>\n",
       "    <tr>\n",
       "      <th>25%</th>\n",
       "      <td>3.000000</td>\n",
       "      <td>2.000000</td>\n",
       "      <td>0.190000</td>\n",
       "      <td>971.000000</td>\n",
       "      <td>1.200000e+03</td>\n",
       "      <td>1.250000e+05</td>\n",
       "    </tr>\n",
       "    <tr>\n",
       "      <th>50%</th>\n",
       "      <td>3.000000</td>\n",
       "      <td>2.000000</td>\n",
       "      <td>0.510000</td>\n",
       "      <td>1225.000000</td>\n",
       "      <td>1.728000e+03</td>\n",
       "      <td>2.650000e+05</td>\n",
       "    </tr>\n",
       "    <tr>\n",
       "      <th>75%</th>\n",
       "      <td>4.000000</td>\n",
       "      <td>3.000000</td>\n",
       "      <td>2.000000</td>\n",
       "      <td>1611.000000</td>\n",
       "      <td>2.582000e+03</td>\n",
       "      <td>4.749000e+05</td>\n",
       "    </tr>\n",
       "    <tr>\n",
       "      <th>max</th>\n",
       "      <td>86.000000</td>\n",
       "      <td>56.000000</td>\n",
       "      <td>100000.000000</td>\n",
       "      <td>99999.000000</td>\n",
       "      <td>1.450112e+06</td>\n",
       "      <td>6.000000e+07</td>\n",
       "    </tr>\n",
       "  </tbody>\n",
       "</table>\n",
       "</div>"
      ],
      "text/plain": [
       "                bed          bath       acre_lot      zip_code    house_size   \n",
       "count  75050.000000  75112.000000   85987.000000  99805.000000  7.508200e+04  \\\n",
       "mean       3.701013      2.494595      13.613473   2132.003467  2.180082e+03   \n",
       "std        2.091372      1.573324     840.143878   2455.654774  5.625349e+03   \n",
       "min        1.000000      1.000000       0.000000    601.000000  1.000000e+02   \n",
       "25%        3.000000      2.000000       0.190000    971.000000  1.200000e+03   \n",
       "50%        3.000000      2.000000       0.510000   1225.000000  1.728000e+03   \n",
       "75%        4.000000      3.000000       2.000000   1611.000000  2.582000e+03   \n",
       "max       86.000000     56.000000  100000.000000  99999.000000  1.450112e+06   \n",
       "\n",
       "              price  \n",
       "count  1.000000e+05  \n",
       "mean   4.383656e+05  \n",
       "std    1.015773e+06  \n",
       "min    4.450000e+02  \n",
       "25%    1.250000e+05  \n",
       "50%    2.650000e+05  \n",
       "75%    4.749000e+05  \n",
       "max    6.000000e+07  "
      ]
     },
     "execution_count": 1927,
     "metadata": {},
     "output_type": "execute_result"
    }
   ],
   "source": [
    "df.describe()"
   ]
  },
  {
   "cell_type": "code",
   "execution_count": 1928,
   "metadata": {},
   "outputs": [
    {
     "data": {
      "text/plain": [
       "status             object\n",
       "bed               float64\n",
       "bath              float64\n",
       "acre_lot          float64\n",
       "city               object\n",
       "state              object\n",
       "zip_code          float64\n",
       "house_size        float64\n",
       "prev_sold_date     object\n",
       "price             float64\n",
       "dtype: object"
      ]
     },
     "execution_count": 1928,
     "metadata": {},
     "output_type": "execute_result"
    }
   ],
   "source": [
    "df.dtypes"
   ]
  },
  {
   "cell_type": "code",
   "execution_count": 1929,
   "metadata": {},
   "outputs": [
    {
     "name": "stdout",
     "output_type": "stream",
     "text": [
      "         status  bed  bath  acre_lot        city          state  zip_code   \n",
      "0      for_sale  3.0   2.0      0.12    Adjuntas    Puerto Rico     601.0  \\\n",
      "1      for_sale  4.0   2.0      0.08    Adjuntas    Puerto Rico     601.0   \n",
      "2      for_sale  2.0   1.0      0.15  Juana Diaz    Puerto Rico     795.0   \n",
      "3      for_sale  4.0   2.0      0.10       Ponce    Puerto Rico     731.0   \n",
      "4      for_sale  6.0   2.0      0.05    Mayaguez    Puerto Rico     680.0   \n",
      "...         ...  ...   ...       ...         ...            ...       ...   \n",
      "99995  for_sale  3.0   3.0       NaN      Hudson  Massachusetts    1749.0   \n",
      "99996  for_sale  2.0   1.0      0.34      Auburn  Massachusetts    1501.0   \n",
      "99997  for_sale  3.0   2.0      1.01  Shrewsbury  Massachusetts    1545.0   \n",
      "99998  for_sale  3.0   2.0      0.12   Worcester  Massachusetts    1604.0   \n",
      "99999  for_sale  3.0   3.0     21.67     Grafton  Massachusetts    1536.0   \n",
      "\n",
      "       house_size prev_sold_date     price  \n",
      "0           920.0            NaN  105000.0  \n",
      "1          1527.0            NaN   80000.0  \n",
      "2           748.0            NaN   67000.0  \n",
      "3          1800.0            NaN  145000.0  \n",
      "4             NaN            NaN   65000.0  \n",
      "...           ...            ...       ...  \n",
      "99995      2864.0            NaN  749900.0  \n",
      "99996      1075.0     1999-06-07  349900.0  \n",
      "99997      1632.0     1995-09-27  549000.0  \n",
      "99998      1332.0     2000-09-11  299000.0  \n",
      "99999      1846.0     2020-10-06  535000.0  \n",
      "\n",
      "[100000 rows x 10 columns]\n"
     ]
    }
   ],
   "source": [
    "print(df)"
   ]
  },
  {
   "cell_type": "code",
   "execution_count": 1930,
   "metadata": {},
   "outputs": [
    {
     "data": {
      "text/plain": [
       "status             object\n",
       "bed               float64\n",
       "bath              float64\n",
       "acre_lot          float64\n",
       "city               object\n",
       "state              object\n",
       "zip_code          float64\n",
       "house_size        float64\n",
       "prev_sold_date     object\n",
       "price             float64\n",
       "dtype: object"
      ]
     },
     "execution_count": 1930,
     "metadata": {},
     "output_type": "execute_result"
    }
   ],
   "source": [
    "df.dtypes   "
   ]
  },
  {
   "cell_type": "code",
   "execution_count": 1931,
   "metadata": {},
   "outputs": [],
   "source": [
    "#Dropear filas nulas\n",
    "df=df.dropna()"
   ]
  },
  {
   "cell_type": "code",
   "execution_count": 1932,
   "metadata": {},
   "outputs": [
    {
     "name": "stdout",
     "output_type": "stream",
     "text": [
      "['for_sale']\n"
     ]
    }
   ],
   "source": [
    "estado = df[\"status\"].unique()\n",
    "print(estado)"
   ]
  },
  {
   "cell_type": "code",
   "execution_count": 1933,
   "metadata": {},
   "outputs": [],
   "source": [
    "# Mapear los valores de la columna \"status\" \n",
    "df['status'] = df['status'].map({'for_sale': 0})\n",
    "\n"
   ]
  },
  {
   "cell_type": "code",
   "execution_count": 1934,
   "metadata": {},
   "outputs": [],
   "source": [
    "#Dropear city\n",
    "df=df.drop(['city'], axis=1)"
   ]
  },
  {
   "cell_type": "code",
   "execution_count": 1935,
   "metadata": {},
   "outputs": [],
   "source": [
    "#Dropear status\n",
    "df=df.drop(['status'], axis=1)"
   ]
  },
  {
   "cell_type": "code",
   "execution_count": 1936,
   "metadata": {},
   "outputs": [],
   "source": [
    "#Mapear los valores de la columna \"state\"  \n",
    "df['state'] = df['state'].map({'Puerto Rico':0,'Virgin Islands':1,'Massachusetts':2,'Connecticut':3,'New Hampshire':4,'Vermont':5,'New Jersey':6,'New York':7,'South Carolina':8,'Tennessee':9,'Rhode Island':10,'Virginia':11})\n"
   ]
  },
  {
   "cell_type": "code",
   "execution_count": 1937,
   "metadata": {},
   "outputs": [],
   "source": [
    "#Dropear columna prev_sold_date\n",
    "df=df.drop(['prev_sold_date'], axis=1)"
   ]
  },
  {
   "cell_type": "code",
   "execution_count": 1938,
   "metadata": {},
   "outputs": [
    {
     "data": {
      "text/html": [
       "<style type=\"text/css\">\n",
       "#T_32194_row0_col0, #T_32194_row1_col1, #T_32194_row2_col2, #T_32194_row3_col3, #T_32194_row4_col4, #T_32194_row5_col5, #T_32194_row6_col6 {\n",
       "  background-color: #023858;\n",
       "  color: #f1f1f1;\n",
       "}\n",
       "#T_32194_row0_col1 {\n",
       "  background-color: #3790c0;\n",
       "  color: #f1f1f1;\n",
       "}\n",
       "#T_32194_row0_col2, #T_32194_row4_col2 {\n",
       "  background-color: #f8f1f8;\n",
       "  color: #000000;\n",
       "}\n",
       "#T_32194_row0_col3, #T_32194_row5_col3 {\n",
       "  background-color: #fef6fb;\n",
       "  color: #000000;\n",
       "}\n",
       "#T_32194_row0_col4, #T_32194_row1_col3, #T_32194_row3_col1, #T_32194_row3_col2, #T_32194_row3_col6, #T_32194_row4_col0, #T_32194_row4_col5, #T_32194_row5_col4 {\n",
       "  background-color: #fff7fb;\n",
       "  color: #000000;\n",
       "}\n",
       "#T_32194_row0_col5, #T_32194_row5_col0 {\n",
       "  background-color: #2987bc;\n",
       "  color: #f1f1f1;\n",
       "}\n",
       "#T_32194_row0_col6 {\n",
       "  background-color: #dbdaeb;\n",
       "  color: #000000;\n",
       "}\n",
       "#T_32194_row1_col0 {\n",
       "  background-color: #328dbf;\n",
       "  color: #f1f1f1;\n",
       "}\n",
       "#T_32194_row1_col2 {\n",
       "  background-color: #e3e0ee;\n",
       "  color: #000000;\n",
       "}\n",
       "#T_32194_row1_col4 {\n",
       "  background-color: #f5eff6;\n",
       "  color: #000000;\n",
       "}\n",
       "#T_32194_row1_col5 {\n",
       "  background-color: #04649e;\n",
       "  color: #f1f1f1;\n",
       "}\n",
       "#T_32194_row1_col6 {\n",
       "  background-color: #acc0dd;\n",
       "  color: #000000;\n",
       "}\n",
       "#T_32194_row2_col0 {\n",
       "  background-color: #ece7f2;\n",
       "  color: #000000;\n",
       "}\n",
       "#T_32194_row2_col1 {\n",
       "  background-color: #d9d8ea;\n",
       "  color: #000000;\n",
       "}\n",
       "#T_32194_row2_col3 {\n",
       "  background-color: #f7f0f7;\n",
       "  color: #000000;\n",
       "}\n",
       "#T_32194_row2_col4 {\n",
       "  background-color: #ede7f2;\n",
       "  color: #000000;\n",
       "}\n",
       "#T_32194_row2_col5 {\n",
       "  background-color: #c1cae2;\n",
       "  color: #000000;\n",
       "}\n",
       "#T_32194_row2_col6 {\n",
       "  background-color: #2685bb;\n",
       "  color: #f1f1f1;\n",
       "}\n",
       "#T_32194_row3_col0, #T_32194_row3_col5 {\n",
       "  background-color: #faf3f9;\n",
       "  color: #000000;\n",
       "}\n",
       "#T_32194_row3_col4 {\n",
       "  background-color: #91b5d6;\n",
       "  color: #000000;\n",
       "}\n",
       "#T_32194_row4_col1 {\n",
       "  background-color: #faf2f8;\n",
       "  color: #000000;\n",
       "}\n",
       "#T_32194_row4_col3 {\n",
       "  background-color: #97b7d7;\n",
       "  color: #000000;\n",
       "}\n",
       "#T_32194_row4_col6 {\n",
       "  background-color: #fdf5fa;\n",
       "  color: #000000;\n",
       "}\n",
       "#T_32194_row5_col1 {\n",
       "  background-color: #0566a0;\n",
       "  color: #f1f1f1;\n",
       "}\n",
       "#T_32194_row5_col2 {\n",
       "  background-color: #d3d4e7;\n",
       "  color: #000000;\n",
       "}\n",
       "#T_32194_row5_col6 {\n",
       "  background-color: #81aed2;\n",
       "  color: #f1f1f1;\n",
       "}\n",
       "#T_32194_row6_col0 {\n",
       "  background-color: #d2d2e7;\n",
       "  color: #000000;\n",
       "}\n",
       "#T_32194_row6_col1 {\n",
       "  background-color: #a7bddb;\n",
       "  color: #000000;\n",
       "}\n",
       "#T_32194_row6_col2 {\n",
       "  background-color: #2a88bc;\n",
       "  color: #f1f1f1;\n",
       "}\n",
       "#T_32194_row6_col3 {\n",
       "  background-color: #fbf4f9;\n",
       "  color: #000000;\n",
       "}\n",
       "#T_32194_row6_col4 {\n",
       "  background-color: #f5eef6;\n",
       "  color: #000000;\n",
       "}\n",
       "#T_32194_row6_col5 {\n",
       "  background-color: #76aad0;\n",
       "  color: #f1f1f1;\n",
       "}\n",
       "</style>\n",
       "<table id=\"T_32194\">\n",
       "  <thead>\n",
       "    <tr>\n",
       "      <th class=\"blank level0\" >&nbsp;</th>\n",
       "      <th id=\"T_32194_level0_col0\" class=\"col_heading level0 col0\" >bed</th>\n",
       "      <th id=\"T_32194_level0_col1\" class=\"col_heading level0 col1\" >bath</th>\n",
       "      <th id=\"T_32194_level0_col2\" class=\"col_heading level0 col2\" >acre_lot</th>\n",
       "      <th id=\"T_32194_level0_col3\" class=\"col_heading level0 col3\" >state</th>\n",
       "      <th id=\"T_32194_level0_col4\" class=\"col_heading level0 col4\" >zip_code</th>\n",
       "      <th id=\"T_32194_level0_col5\" class=\"col_heading level0 col5\" >house_size</th>\n",
       "      <th id=\"T_32194_level0_col6\" class=\"col_heading level0 col6\" >price</th>\n",
       "    </tr>\n",
       "  </thead>\n",
       "  <tbody>\n",
       "    <tr>\n",
       "      <th id=\"T_32194_level0_row0\" class=\"row_heading level0 row0\" >bed</th>\n",
       "      <td id=\"T_32194_row0_col0\" class=\"data row0 col0\" >1.000000</td>\n",
       "      <td id=\"T_32194_row0_col1\" class=\"data row0 col1\" >0.612543</td>\n",
       "      <td id=\"T_32194_row0_col2\" class=\"data row0 col2\" >0.075532</td>\n",
       "      <td id=\"T_32194_row0_col3\" class=\"data row0 col3\" >-0.021698</td>\n",
       "      <td id=\"T_32194_row0_col4\" class=\"data row0 col4\" >-0.056593</td>\n",
       "      <td id=\"T_32194_row0_col5\" class=\"data row0 col5\" >0.638532</td>\n",
       "      <td id=\"T_32194_row0_col6\" class=\"data row0 col6\" >0.201126</td>\n",
       "    </tr>\n",
       "    <tr>\n",
       "      <th id=\"T_32194_level0_row1\" class=\"row_heading level0 row1\" >bath</th>\n",
       "      <td id=\"T_32194_row1_col0\" class=\"data row1 col0\" >0.612543</td>\n",
       "      <td id=\"T_32194_row1_col1\" class=\"data row1 col1\" >1.000000</td>\n",
       "      <td id=\"T_32194_row1_col2\" class=\"data row1 col2\" >0.186694</td>\n",
       "      <td id=\"T_32194_row1_col3\" class=\"data row1 col3\" >-0.026662</td>\n",
       "      <td id=\"T_32194_row1_col4\" class=\"data row1 col4\" >0.012448</td>\n",
       "      <td id=\"T_32194_row1_col5\" class=\"data row1 col5\" >0.803161</td>\n",
       "      <td id=\"T_32194_row1_col6\" class=\"data row1 col6\" >0.355760</td>\n",
       "    </tr>\n",
       "    <tr>\n",
       "      <th id=\"T_32194_level0_row2\" class=\"row_heading level0 row2\" >acre_lot</th>\n",
       "      <td id=\"T_32194_row2_col0\" class=\"data row2 col0\" >0.075532</td>\n",
       "      <td id=\"T_32194_row2_col1\" class=\"data row2 col1\" >0.186694</td>\n",
       "      <td id=\"T_32194_row2_col2\" class=\"data row2 col2\" >1.000000</td>\n",
       "      <td id=\"T_32194_row2_col3\" class=\"data row2 col3\" >0.026690</td>\n",
       "      <td id=\"T_32194_row2_col4\" class=\"data row2 col4\" >0.074991</td>\n",
       "      <td id=\"T_32194_row2_col5\" class=\"data row2 col5\" >0.256968</td>\n",
       "      <td id=\"T_32194_row2_col6\" class=\"data row2 col6\" >0.665053</td>\n",
       "    </tr>\n",
       "    <tr>\n",
       "      <th id=\"T_32194_level0_row3\" class=\"row_heading level0 row3\" >state</th>\n",
       "      <td id=\"T_32194_row3_col0\" class=\"data row3 col0\" >-0.021698</td>\n",
       "      <td id=\"T_32194_row3_col1\" class=\"data row3 col1\" >-0.026662</td>\n",
       "      <td id=\"T_32194_row3_col2\" class=\"data row3 col2\" >0.026690</td>\n",
       "      <td id=\"T_32194_row3_col3\" class=\"data row3 col3\" >1.000000</td>\n",
       "      <td id=\"T_32194_row3_col4\" class=\"data row3 col4\" >0.395566</td>\n",
       "      <td id=\"T_32194_row3_col5\" class=\"data row3 col5\" >-0.021359</td>\n",
       "      <td id=\"T_32194_row3_col6\" class=\"data row3 col6\" >-0.001382</td>\n",
       "    </tr>\n",
       "    <tr>\n",
       "      <th id=\"T_32194_level0_row4\" class=\"row_heading level0 row4\" >zip_code</th>\n",
       "      <td id=\"T_32194_row4_col0\" class=\"data row4 col0\" >-0.056593</td>\n",
       "      <td id=\"T_32194_row4_col1\" class=\"data row4 col1\" >0.012448</td>\n",
       "      <td id=\"T_32194_row4_col2\" class=\"data row4 col2\" >0.074991</td>\n",
       "      <td id=\"T_32194_row4_col3\" class=\"data row4 col3\" >0.395566</td>\n",
       "      <td id=\"T_32194_row4_col4\" class=\"data row4 col4\" >1.000000</td>\n",
       "      <td id=\"T_32194_row4_col5\" class=\"data row4 col5\" >-0.054750</td>\n",
       "      <td id=\"T_32194_row4_col6\" class=\"data row4 col6\" >0.015642</td>\n",
       "    </tr>\n",
       "    <tr>\n",
       "      <th id=\"T_32194_level0_row5\" class=\"row_heading level0 row5\" >house_size</th>\n",
       "      <td id=\"T_32194_row5_col0\" class=\"data row5 col0\" >0.638532</td>\n",
       "      <td id=\"T_32194_row5_col1\" class=\"data row5 col1\" >0.803161</td>\n",
       "      <td id=\"T_32194_row5_col2\" class=\"data row5 col2\" >0.256968</td>\n",
       "      <td id=\"T_32194_row5_col3\" class=\"data row5 col3\" >-0.021359</td>\n",
       "      <td id=\"T_32194_row5_col4\" class=\"data row5 col4\" >-0.054750</td>\n",
       "      <td id=\"T_32194_row5_col5\" class=\"data row5 col5\" >1.000000</td>\n",
       "      <td id=\"T_32194_row5_col6\" class=\"data row5 col6\" >0.467572</td>\n",
       "    </tr>\n",
       "    <tr>\n",
       "      <th id=\"T_32194_level0_row6\" class=\"row_heading level0 row6\" >price</th>\n",
       "      <td id=\"T_32194_row6_col0\" class=\"data row6 col0\" >0.201126</td>\n",
       "      <td id=\"T_32194_row6_col1\" class=\"data row6 col1\" >0.355760</td>\n",
       "      <td id=\"T_32194_row6_col2\" class=\"data row6 col2\" >0.665053</td>\n",
       "      <td id=\"T_32194_row6_col3\" class=\"data row6 col3\" >-0.001382</td>\n",
       "      <td id=\"T_32194_row6_col4\" class=\"data row6 col4\" >0.015642</td>\n",
       "      <td id=\"T_32194_row6_col5\" class=\"data row6 col5\" >0.467572</td>\n",
       "      <td id=\"T_32194_row6_col6\" class=\"data row6 col6\" >1.000000</td>\n",
       "    </tr>\n",
       "  </tbody>\n",
       "</table>\n"
      ],
      "text/plain": [
       "<pandas.io.formats.style.Styler at 0x1b5e254dff0>"
      ]
     },
     "execution_count": 1938,
     "metadata": {},
     "output_type": "execute_result"
    }
   ],
   "source": [
    "# Análisis de correlación\n",
    "corr = df.corr()\n",
    "corr.style.background_gradient()"
   ]
  },
  {
   "attachments": {},
   "cell_type": "markdown",
   "metadata": {},
   "source": [
    "## LINEAR REGRESSION"
   ]
  },
  {
   "cell_type": "code",
   "execution_count": 1939,
   "metadata": {},
   "outputs": [],
   "source": [
    "# Inicializamos el Modelo\n",
    "linear = linear_model.LinearRegression()"
   ]
  },
  {
   "cell_type": "code",
   "execution_count": 1940,
   "metadata": {},
   "outputs": [],
   "source": [
    "# Preparamos la data\n",
    "data_x = df.drop(['house_size','acre_lot', 'state', 'zip_code','price'], axis=1)\n",
    "data_y = df.house_size"
   ]
  },
  {
   "cell_type": "code",
   "execution_count": 1941,
   "metadata": {},
   "outputs": [],
   "source": [
    "train_x, test_x, train_y, test_y = train_test_split(data_x, data_y, test_size=0.1)"
   ]
  },
  {
   "cell_type": "code",
   "execution_count": 1942,
   "metadata": {},
   "outputs": [
    {
     "data": {
      "text/html": [
       "<style>#sk-container-id-149 {color: black;background-color: white;}#sk-container-id-149 pre{padding: 0;}#sk-container-id-149 div.sk-toggleable {background-color: white;}#sk-container-id-149 label.sk-toggleable__label {cursor: pointer;display: block;width: 100%;margin-bottom: 0;padding: 0.3em;box-sizing: border-box;text-align: center;}#sk-container-id-149 label.sk-toggleable__label-arrow:before {content: \"▸\";float: left;margin-right: 0.25em;color: #696969;}#sk-container-id-149 label.sk-toggleable__label-arrow:hover:before {color: black;}#sk-container-id-149 div.sk-estimator:hover label.sk-toggleable__label-arrow:before {color: black;}#sk-container-id-149 div.sk-toggleable__content {max-height: 0;max-width: 0;overflow: hidden;text-align: left;background-color: #f0f8ff;}#sk-container-id-149 div.sk-toggleable__content pre {margin: 0.2em;color: black;border-radius: 0.25em;background-color: #f0f8ff;}#sk-container-id-149 input.sk-toggleable__control:checked~div.sk-toggleable__content {max-height: 200px;max-width: 100%;overflow: auto;}#sk-container-id-149 input.sk-toggleable__control:checked~label.sk-toggleable__label-arrow:before {content: \"▾\";}#sk-container-id-149 div.sk-estimator input.sk-toggleable__control:checked~label.sk-toggleable__label {background-color: #d4ebff;}#sk-container-id-149 div.sk-label input.sk-toggleable__control:checked~label.sk-toggleable__label {background-color: #d4ebff;}#sk-container-id-149 input.sk-hidden--visually {border: 0;clip: rect(1px 1px 1px 1px);clip: rect(1px, 1px, 1px, 1px);height: 1px;margin: -1px;overflow: hidden;padding: 0;position: absolute;width: 1px;}#sk-container-id-149 div.sk-estimator {font-family: monospace;background-color: #f0f8ff;border: 1px dotted black;border-radius: 0.25em;box-sizing: border-box;margin-bottom: 0.5em;}#sk-container-id-149 div.sk-estimator:hover {background-color: #d4ebff;}#sk-container-id-149 div.sk-parallel-item::after {content: \"\";width: 100%;border-bottom: 1px solid gray;flex-grow: 1;}#sk-container-id-149 div.sk-label:hover label.sk-toggleable__label {background-color: #d4ebff;}#sk-container-id-149 div.sk-serial::before {content: \"\";position: absolute;border-left: 1px solid gray;box-sizing: border-box;top: 0;bottom: 0;left: 50%;z-index: 0;}#sk-container-id-149 div.sk-serial {display: flex;flex-direction: column;align-items: center;background-color: white;padding-right: 0.2em;padding-left: 0.2em;position: relative;}#sk-container-id-149 div.sk-item {position: relative;z-index: 1;}#sk-container-id-149 div.sk-parallel {display: flex;align-items: stretch;justify-content: center;background-color: white;position: relative;}#sk-container-id-149 div.sk-item::before, #sk-container-id-149 div.sk-parallel-item::before {content: \"\";position: absolute;border-left: 1px solid gray;box-sizing: border-box;top: 0;bottom: 0;left: 50%;z-index: -1;}#sk-container-id-149 div.sk-parallel-item {display: flex;flex-direction: column;z-index: 1;position: relative;background-color: white;}#sk-container-id-149 div.sk-parallel-item:first-child::after {align-self: flex-end;width: 50%;}#sk-container-id-149 div.sk-parallel-item:last-child::after {align-self: flex-start;width: 50%;}#sk-container-id-149 div.sk-parallel-item:only-child::after {width: 0;}#sk-container-id-149 div.sk-dashed-wrapped {border: 1px dashed gray;margin: 0 0.4em 0.5em 0.4em;box-sizing: border-box;padding-bottom: 0.4em;background-color: white;}#sk-container-id-149 div.sk-label label {font-family: monospace;font-weight: bold;display: inline-block;line-height: 1.2em;}#sk-container-id-149 div.sk-label-container {text-align: center;}#sk-container-id-149 div.sk-container {/* jupyter's `normalize.less` sets `[hidden] { display: none; }` but bootstrap.min.css set `[hidden] { display: none !important; }` so we also need the `!important` here to be able to override the default hidden behavior on the sphinx rendered scikit-learn.org. See: https://github.com/scikit-learn/scikit-learn/issues/21755 */display: inline-block !important;position: relative;}#sk-container-id-149 div.sk-text-repr-fallback {display: none;}</style><div id=\"sk-container-id-149\" class=\"sk-top-container\"><div class=\"sk-text-repr-fallback\"><pre>LinearRegression()</pre><b>In a Jupyter environment, please rerun this cell to show the HTML representation or trust the notebook. <br />On GitHub, the HTML representation is unable to render, please try loading this page with nbviewer.org.</b></div><div class=\"sk-container\" hidden><div class=\"sk-item\"><div class=\"sk-estimator sk-toggleable\"><input class=\"sk-toggleable__control sk-hidden--visually\" id=\"sk-estimator-id-149\" type=\"checkbox\" checked><label for=\"sk-estimator-id-149\" class=\"sk-toggleable__label sk-toggleable__label-arrow\">LinearRegression</label><div class=\"sk-toggleable__content\"><pre>LinearRegression()</pre></div></div></div></div></div>"
      ],
      "text/plain": [
       "LinearRegression()"
      ]
     },
     "execution_count": 1942,
     "metadata": {},
     "output_type": "execute_result"
    }
   ],
   "source": [
    "# Entrenamos el modelo\n",
    "linear.fit(train_x, train_y)"
   ]
  },
  {
   "cell_type": "code",
   "execution_count": 1943,
   "metadata": {},
   "outputs": [
    {
     "name": "stdout",
     "output_type": "stream",
     "text": [
      "y = 202.01x + -276.04\n"
     ]
    }
   ],
   "source": [
    "print(f'y = {round( linear.coef_[0], 2)}x + {round(linear.intercept_, 2)}')"
   ]
  },
  {
   "cell_type": "code",
   "execution_count": 1944,
   "metadata": {},
   "outputs": [
    {
     "name": "stdout",
     "output_type": "stream",
     "text": [
      "Score: 74.46000000000001%\n"
     ]
    }
   ],
   "source": [
    "# Veamos la calificación\n",
    "print(f'Score: {round(linear.score(test_x, test_y), 4) * 100}%')"
   ]
  },
  {
   "cell_type": "code",
   "execution_count": 1970,
   "metadata": {},
   "outputs": [
    {
     "name": "stderr",
     "output_type": "stream",
     "text": [
      "c:\\Semestre 1 2023\\carpeta\\venv\\lib\\site-packages\\sklearn\\base.py:439: UserWarning: X does not have valid feature names, but LinearRegression was fitted with feature names\n",
      "  warnings.warn(\n"
     ]
    }
   ],
   "source": [
    "# Vamos a predecir [[edad, esFumador]]\n",
    "bed = 5\n",
    "bath = 3\n",
    "predicted = linear.predict([[bed, bath]])"
   ]
  },
  {
   "cell_type": "code",
   "execution_count": 1971,
   "metadata": {},
   "outputs": [
    {
     "name": "stdout",
     "output_type": "stream",
     "text": [
      "La casa de baños 3 y camas 5 tendrá un tamaño apróximado de 2847.1 pies cuadrados\n"
     ]
    }
   ],
   "source": [
    "print(f'La casa de baños {bath} y camas {bed} tendrá un tamaño apróximado de {round(predicted[0], 2)} pies cuadrados')"
   ]
  },
  {
   "attachments": {},
   "cell_type": "markdown",
   "metadata": {},
   "source": [
    "## RIDGE"
   ]
  },
  {
   "cell_type": "code",
   "execution_count": 1951,
   "metadata": {},
   "outputs": [],
   "source": [
    "# Inicializamos el Modelo\n",
    "ridge = linear_model.Ridge()"
   ]
  },
  {
   "cell_type": "code",
   "execution_count": 1965,
   "metadata": {},
   "outputs": [],
   "source": [
    "# Preparamos la data\n",
    "data_x = df.drop(['house_size','acre_lot', 'state', 'zip_code','price'], axis=1)\n",
    "data_y = df.house_size"
   ]
  },
  {
   "cell_type": "code",
   "execution_count": 1966,
   "metadata": {},
   "outputs": [],
   "source": [
    "train_x, test_x, train_y, test_y = train_test_split(data_x, data_y, test_size=0.2)"
   ]
  },
  {
   "cell_type": "code",
   "execution_count": 1973,
   "metadata": {},
   "outputs": [
    {
     "data": {
      "text/html": [
       "<style>#sk-container-id-155 {color: black;background-color: white;}#sk-container-id-155 pre{padding: 0;}#sk-container-id-155 div.sk-toggleable {background-color: white;}#sk-container-id-155 label.sk-toggleable__label {cursor: pointer;display: block;width: 100%;margin-bottom: 0;padding: 0.3em;box-sizing: border-box;text-align: center;}#sk-container-id-155 label.sk-toggleable__label-arrow:before {content: \"▸\";float: left;margin-right: 0.25em;color: #696969;}#sk-container-id-155 label.sk-toggleable__label-arrow:hover:before {color: black;}#sk-container-id-155 div.sk-estimator:hover label.sk-toggleable__label-arrow:before {color: black;}#sk-container-id-155 div.sk-toggleable__content {max-height: 0;max-width: 0;overflow: hidden;text-align: left;background-color: #f0f8ff;}#sk-container-id-155 div.sk-toggleable__content pre {margin: 0.2em;color: black;border-radius: 0.25em;background-color: #f0f8ff;}#sk-container-id-155 input.sk-toggleable__control:checked~div.sk-toggleable__content {max-height: 200px;max-width: 100%;overflow: auto;}#sk-container-id-155 input.sk-toggleable__control:checked~label.sk-toggleable__label-arrow:before {content: \"▾\";}#sk-container-id-155 div.sk-estimator input.sk-toggleable__control:checked~label.sk-toggleable__label {background-color: #d4ebff;}#sk-container-id-155 div.sk-label input.sk-toggleable__control:checked~label.sk-toggleable__label {background-color: #d4ebff;}#sk-container-id-155 input.sk-hidden--visually {border: 0;clip: rect(1px 1px 1px 1px);clip: rect(1px, 1px, 1px, 1px);height: 1px;margin: -1px;overflow: hidden;padding: 0;position: absolute;width: 1px;}#sk-container-id-155 div.sk-estimator {font-family: monospace;background-color: #f0f8ff;border: 1px dotted black;border-radius: 0.25em;box-sizing: border-box;margin-bottom: 0.5em;}#sk-container-id-155 div.sk-estimator:hover {background-color: #d4ebff;}#sk-container-id-155 div.sk-parallel-item::after {content: \"\";width: 100%;border-bottom: 1px solid gray;flex-grow: 1;}#sk-container-id-155 div.sk-label:hover label.sk-toggleable__label {background-color: #d4ebff;}#sk-container-id-155 div.sk-serial::before {content: \"\";position: absolute;border-left: 1px solid gray;box-sizing: border-box;top: 0;bottom: 0;left: 50%;z-index: 0;}#sk-container-id-155 div.sk-serial {display: flex;flex-direction: column;align-items: center;background-color: white;padding-right: 0.2em;padding-left: 0.2em;position: relative;}#sk-container-id-155 div.sk-item {position: relative;z-index: 1;}#sk-container-id-155 div.sk-parallel {display: flex;align-items: stretch;justify-content: center;background-color: white;position: relative;}#sk-container-id-155 div.sk-item::before, #sk-container-id-155 div.sk-parallel-item::before {content: \"\";position: absolute;border-left: 1px solid gray;box-sizing: border-box;top: 0;bottom: 0;left: 50%;z-index: -1;}#sk-container-id-155 div.sk-parallel-item {display: flex;flex-direction: column;z-index: 1;position: relative;background-color: white;}#sk-container-id-155 div.sk-parallel-item:first-child::after {align-self: flex-end;width: 50%;}#sk-container-id-155 div.sk-parallel-item:last-child::after {align-self: flex-start;width: 50%;}#sk-container-id-155 div.sk-parallel-item:only-child::after {width: 0;}#sk-container-id-155 div.sk-dashed-wrapped {border: 1px dashed gray;margin: 0 0.4em 0.5em 0.4em;box-sizing: border-box;padding-bottom: 0.4em;background-color: white;}#sk-container-id-155 div.sk-label label {font-family: monospace;font-weight: bold;display: inline-block;line-height: 1.2em;}#sk-container-id-155 div.sk-label-container {text-align: center;}#sk-container-id-155 div.sk-container {/* jupyter's `normalize.less` sets `[hidden] { display: none; }` but bootstrap.min.css set `[hidden] { display: none !important; }` so we also need the `!important` here to be able to override the default hidden behavior on the sphinx rendered scikit-learn.org. See: https://github.com/scikit-learn/scikit-learn/issues/21755 */display: inline-block !important;position: relative;}#sk-container-id-155 div.sk-text-repr-fallback {display: none;}</style><div id=\"sk-container-id-155\" class=\"sk-top-container\"><div class=\"sk-text-repr-fallback\"><pre>Ridge()</pre><b>In a Jupyter environment, please rerun this cell to show the HTML representation or trust the notebook. <br />On GitHub, the HTML representation is unable to render, please try loading this page with nbviewer.org.</b></div><div class=\"sk-container\" hidden><div class=\"sk-item\"><div class=\"sk-estimator sk-toggleable\"><input class=\"sk-toggleable__control sk-hidden--visually\" id=\"sk-estimator-id-155\" type=\"checkbox\" checked><label for=\"sk-estimator-id-155\" class=\"sk-toggleable__label sk-toggleable__label-arrow\">Ridge</label><div class=\"sk-toggleable__content\"><pre>Ridge()</pre></div></div></div></div></div>"
      ],
      "text/plain": [
       "Ridge()"
      ]
     },
     "execution_count": 1973,
     "metadata": {},
     "output_type": "execute_result"
    }
   ],
   "source": [
    "# Entrenamos el modelo\n",
    "ridge.fit(train_x, train_y)"
   ]
  },
  {
   "cell_type": "code",
   "execution_count": 1974,
   "metadata": {},
   "outputs": [
    {
     "name": "stdout",
     "output_type": "stream",
     "text": [
      "y = 205.27x + -275.99\n"
     ]
    }
   ],
   "source": [
    "print(f'y = {round( ridge.coef_[0], 2)}x + {round(ridge.intercept_, 2)}')"
   ]
  },
  {
   "cell_type": "code",
   "execution_count": 1975,
   "metadata": {},
   "outputs": [
    {
     "name": "stdout",
     "output_type": "stream",
     "text": [
      "Score: 70.47%\n"
     ]
    }
   ],
   "source": [
    "# Veamos la calificación\n",
    "print(f'Score: {round(ridge.score(test_x, test_y), 4) * 100}%')"
   ]
  },
  {
   "cell_type": "code",
   "execution_count": 1976,
   "metadata": {},
   "outputs": [
    {
     "name": "stderr",
     "output_type": "stream",
     "text": [
      "c:\\Semestre 1 2023\\carpeta\\venv\\lib\\site-packages\\sklearn\\base.py:439: UserWarning: X does not have valid feature names, but LinearRegression was fitted with feature names\n",
      "  warnings.warn(\n"
     ]
    }
   ],
   "source": [
    "# Vamos a predecir [[edad, esFumador]]\n",
    "bed = 5\n",
    "bath = 3\n",
    "predicted = linear.predict([[bed, bath]])"
   ]
  },
  {
   "cell_type": "code",
   "execution_count": 1977,
   "metadata": {},
   "outputs": [
    {
     "name": "stdout",
     "output_type": "stream",
     "text": [
      "La casa de baños 3 y camas 5 tendrá un tamaño apróximado de 2847.1 pies cuadrados\n"
     ]
    }
   ],
   "source": [
    "print(f'La casa de baños {bath} y camas {bed} tendrá un tamaño apróximado de {round(predicted[0], 2)} pies cuadrados')"
   ]
  },
  {
   "attachments": {},
   "cell_type": "markdown",
   "metadata": {},
   "source": [
    "## LARS"
   ]
  },
  {
   "cell_type": "code",
   "execution_count": 1980,
   "metadata": {},
   "outputs": [],
   "source": [
    "# Inicializamos el modelo\n",
    "lars = linear_model.Lars()"
   ]
  },
  {
   "cell_type": "code",
   "execution_count": 1981,
   "metadata": {},
   "outputs": [
    {
     "name": "stdout",
     "output_type": "stream",
     "text": [
      "y = 201.9x + -274.56\n",
      "Score: 68.25%\n"
     ]
    }
   ],
   "source": [
    "# Preparamos los datos\n",
    "data_x = df.drop(['house_size', 'acre_lot', 'state', 'zip_code', 'price'], axis=1)\n",
    "data_y = df.house_size\n",
    "train_x, test_x, train_y, test_y = train_test_split(data_x, data_y, test_size=0.2)\n",
    "# Entrenamos el modelo\n",
    "lars.fit(train_x, train_y)\n",
    "print(f'y = {round(lars.coef_[0], 2)}x + {round(lars.intercept_, 2)}')\n",
    "print(f'Score: {round(lars.score(test_x, test_y), 4) * 100}%')"
   ]
  },
  {
   "cell_type": "code",
   "execution_count": 1982,
   "metadata": {},
   "outputs": [
    {
     "name": "stderr",
     "output_type": "stream",
     "text": [
      "c:\\Semestre 1 2023\\carpeta\\venv\\lib\\site-packages\\sklearn\\base.py:439: UserWarning: X does not have valid feature names, but LinearRegression was fitted with feature names\n",
      "  warnings.warn(\n"
     ]
    }
   ],
   "source": [
    "# Vamos a predecir [[edad, esFumador]]\n",
    "bed = 5\n",
    "bath = 3\n",
    "predicted = linear.predict([[bed, bath]])"
   ]
  },
  {
   "cell_type": "code",
   "execution_count": 1983,
   "metadata": {},
   "outputs": [
    {
     "name": "stdout",
     "output_type": "stream",
     "text": [
      "La casa de baños 3 y camas 5 tendrá un tamaño apróximado de 2847.1 pies cuadrados\n"
     ]
    }
   ],
   "source": [
    "print(f'La casa de baños {bath} y camas {bed} tendrá un tamaño apróximado de {round(predicted[0], 2)} pies cuadrados')"
   ]
  }
 ],
 "metadata": {
  "kernelspec": {
   "display_name": "venv",
   "language": "python",
   "name": "python3"
  },
  "language_info": {
   "codemirror_mode": {
    "name": "ipython",
    "version": 3
   },
   "file_extension": ".py",
   "mimetype": "text/x-python",
   "name": "python",
   "nbconvert_exporter": "python",
   "pygments_lexer": "ipython3",
   "version": "3.10.6"
  },
  "orig_nbformat": 4
 },
 "nbformat": 4,
 "nbformat_minor": 2
}
