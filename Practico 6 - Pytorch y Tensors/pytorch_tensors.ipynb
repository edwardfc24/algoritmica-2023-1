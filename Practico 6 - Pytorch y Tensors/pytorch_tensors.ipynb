{
 "cells": [
  {
   "cell_type": "code",
   "execution_count": 108,
   "metadata": {},
   "outputs": [],
   "source": [
    "import pandas as pd\n",
    "import torch\n",
    "import torch.nn as nn\n",
    "import torch.optim as optim\n",
    "from sklearn.preprocessing import StandardScaler"
   ]
  },
  {
   "cell_type": "code",
   "execution_count": 109,
   "metadata": {},
   "outputs": [],
   "source": [
    "# Cargar los datos del archivo CSV\n",
    "df = pd.read_csv('hosp.csv', delimiter=';')"
   ]
  },
  {
   "cell_type": "code",
   "execution_count": 110,
   "metadata": {},
   "outputs": [],
   "source": [
    "# Seleccionar columnas relevantes\n",
    "df = df[['year', 'productive_hours', 'productive_hours_per_adjusted_patient_day']] \n",
    "\n",
    "df.fillna(0, inplace=True) "
   ]
  },
  {
   "cell_type": "code",
   "execution_count": 111,
   "metadata": {},
   "outputs": [],
   "source": [
    "# Convertir a cadena y reemplazar ',' por '.' para los decimales\n",
    "df['productive_hours_per_adjusted_patient_day'] = df['productive_hours_per_adjusted_patient_day'].astype(str).str.replace(',', '.') "
   ]
  },
  {
   "cell_type": "code",
   "execution_count": 112,
   "metadata": {},
   "outputs": [],
   "source": [
    "# Convertir los datos a tensores de PyTorch\n",
    "x_data = df[['year', 'productive_hours']].values.astype(float)\n",
    "y_data = df['productive_hours_per_adjusted_patient_day'].values.astype(float)"
   ]
  },
  {
   "cell_type": "code",
   "execution_count": 113,
   "metadata": {},
   "outputs": [],
   "source": [
    "# Estandarizar los datos\n",
    "scaler = StandardScaler()\n",
    "x_data = scaler.fit_transform(x_data)"
   ]
  },
  {
   "cell_type": "code",
   "execution_count": 114,
   "metadata": {},
   "outputs": [],
   "source": [
    "x_tensor = torch.tensor(x_data, dtype=torch.float32)\n",
    "y_tensor = torch.tensor(y_data, dtype=torch.float32).unsqueeze(1)"
   ]
  },
  {
   "cell_type": "code",
   "execution_count": 115,
   "metadata": {},
   "outputs": [],
   "source": [
    "# Definir la arquitectura de la red neuronal\n",
    "class NeuralNetwork(nn.Module):\n",
    "    def __init__(self):\n",
    "        super(NeuralNetwork, self).__init__()\n",
    "        self.fc1 = nn.Linear(2, 10)  \n",
    "        self.fc2 = nn.Linear(10, 1)  \n",
    "\n",
    "    # Metodo para pasar los datos a través de la red y obtener las salidas.\n",
    "    def forward(self, x):\n",
    "        x = torch.relu(self.fc1(x))  \n",
    "        x = self.fc2(x)  \n",
    "        return x"
   ]
  },
  {
   "cell_type": "code",
   "execution_count": 116,
   "metadata": {},
   "outputs": [],
   "source": [
    "# Crear una instancia de la red neuronal\n",
    "model = NeuralNetwork()"
   ]
  },
  {
   "cell_type": "code",
   "execution_count": 117,
   "metadata": {},
   "outputs": [],
   "source": [
    "# Definir la función de pérdida y el optimizador\n",
    "criterion = nn.MSELoss()  \n",
    "optimizador = optim.SGD(model.parameters(), lr=0.01)  "
   ]
  },
  {
   "cell_type": "code",
   "execution_count": 118,
   "metadata": {},
   "outputs": [
    {
     "name": "stdout",
     "output_type": "stream",
     "text": [
      "Epoca: 100, Perdida: 18.725507736206055\n",
      "Epoca: 200, Perdida: 18.583005905151367\n",
      "Epoca: 300, Perdida: 18.487436294555664\n",
      "Epoca: 400, Perdida: 18.374235153198242\n",
      "Epoca: 500, Perdida: 18.232173919677734\n",
      "Epoca: 600, Perdida: 18.049243927001953\n",
      "Epoca: 700, Perdida: 17.808874130249023\n",
      "Epoca: 800, Perdida: 17.490285873413086\n",
      "Epoca: 900, Perdida: 17.05821418762207\n",
      "Epoca: 1000, Perdida: 16.527883529663086\n"
     ]
    }
   ],
   "source": [
    "# Entrenamiento de la red neuronal\n",
    "for epoca in range(1000):\n",
    "    optimizador.zero_grad()  \n",
    "    outputs = model(x_tensor)  \n",
    "    perdida = criterion(outputs, y_tensor) \n",
    "    perdida.backward() \n",
    "    optimizador.step()  \n",
    "    if (epoca+1) % 100 == 0:\n",
    "        print(f'Epoca: {epoca+1}, Perdida: {perdida.item()}')"
   ]
  },
  {
   "cell_type": "code",
   "execution_count": 119,
   "metadata": {},
   "outputs": [
    {
     "name": "stdout",
     "output_type": "stream",
     "text": [
      "Predicted: tensor([[2.8545],\n",
      "        [2.9872],\n",
      "        [3.0088],\n",
      "        ...,\n",
      "        [7.4306],\n",
      "        [7.1532],\n",
      "        [7.2904]], grad_fn=<AddmmBackward0>)\n"
     ]
    }
   ],
   "source": [
    "predicted = model(x_tensor)\n",
    "print('Predicted:', predicted)\n"
   ]
  }
 ],
 "metadata": {
  "kernelspec": {
   "display_name": "proyectofinal_env",
   "language": "python",
   "name": "python3"
  },
  "language_info": {
   "codemirror_mode": {
    "name": "ipython",
    "version": 3
   },
   "file_extension": ".py",
   "mimetype": "text/x-python",
   "name": "python",
   "nbconvert_exporter": "python",
   "pygments_lexer": "ipython3",
   "version": "3.11.2"
  },
  "orig_nbformat": 4
 },
 "nbformat": 4,
 "nbformat_minor": 2
}
