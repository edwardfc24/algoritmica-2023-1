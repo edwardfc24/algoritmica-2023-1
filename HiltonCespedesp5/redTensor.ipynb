{
 "cells": [
  {
   "cell_type": "code",
   "execution_count": 3,
   "metadata": {},
   "outputs": [],
   "source": [
    "import numpy as np \n",
    "import pandas as pd"
   ]
  },
  {
   "cell_type": "code",
   "execution_count": 4,
   "metadata": {},
   "outputs": [],
   "source": [
    "import pandas as pd\n",
    "covid_19_clean_complete = pd.read_csv(\"covid_19_clean_complete.csv\")"
   ]
  },
  {
   "cell_type": "code",
   "execution_count": 5,
   "metadata": {},
   "outputs": [],
   "source": [
    "countries = covid_19_clean_complete['Country/Region'].unique()"
   ]
  },
  {
   "cell_type": "code",
   "execution_count": 6,
   "metadata": {},
   "outputs": [
    {
     "data": {
      "text/plain": [
       "array(['Afghanistan', 'Albania', 'Algeria', 'Andorra', 'Angola',\n",
       "       'Antigua and Barbuda', 'Argentina', 'Armenia', 'Australia',\n",
       "       'Austria', 'Azerbaijan', 'Bahamas', 'Bahrain', 'Bangladesh',\n",
       "       'Barbados', 'Belarus', 'Belgium', 'Benin', 'Bhutan', 'Bolivia',\n",
       "       'Bosnia and Herzegovina', 'Brazil', 'Brunei', 'Bulgaria',\n",
       "       'Burkina Faso', 'Cabo Verde', 'Cambodia', 'Cameroon', 'Canada',\n",
       "       'Central African Republic', 'Chad', 'Chile', 'China', 'Colombia',\n",
       "       'Congo (Brazzaville)', 'Congo (Kinshasa)', 'Costa Rica',\n",
       "       \"Cote d'Ivoire\", 'Croatia', 'Cuba', 'Cyprus', 'Czechia', 'Denmark',\n",
       "       'Greenland', 'Djibouti', 'Dominican Republic', 'Ecuador', 'Egypt',\n",
       "       'El Salvador', 'Equatorial Guinea', 'Eritrea', 'Estonia',\n",
       "       'Eswatini', 'Ethiopia', 'Fiji', 'Finland', 'France', 'Gabon',\n",
       "       'Gambia', 'Georgia', 'Germany', 'Ghana', 'Greece', 'Guatemala',\n",
       "       'Guinea', 'Guyana', 'Haiti', 'Holy See', 'Honduras', 'Hungary',\n",
       "       'Iceland', 'India', 'Indonesia', 'Iran', 'Iraq', 'Ireland',\n",
       "       'Israel', 'Italy', 'Jamaica', 'Japan', 'Jordan', 'Kazakhstan',\n",
       "       'Kenya', 'South Korea', 'Kuwait', 'Kyrgyzstan', 'Latvia',\n",
       "       'Lebanon', 'Liberia', 'Liechtenstein', 'Lithuania', 'Luxembourg',\n",
       "       'Madagascar', 'Malaysia', 'Maldives', 'Malta', 'Mauritania',\n",
       "       'Mauritius', 'Mexico', 'Moldova', 'Monaco', 'Mongolia',\n",
       "       'Montenegro', 'Morocco', 'Namibia', 'Nepal', 'Netherlands',\n",
       "       'New Zealand', 'Nicaragua', 'Niger', 'Nigeria', 'North Macedonia',\n",
       "       'Norway', 'Oman', 'Pakistan', 'Panama', 'Papua New Guinea',\n",
       "       'Paraguay', 'Peru', 'Philippines', 'Poland', 'Portugal', 'Qatar',\n",
       "       'Romania', 'Russia', 'Rwanda', 'Saint Lucia',\n",
       "       'Saint Vincent and the Grenadines', 'San Marino', 'Saudi Arabia',\n",
       "       'Senegal', 'Serbia', 'Seychelles', 'Singapore', 'Slovakia',\n",
       "       'Slovenia', 'Somalia', 'South Africa', 'Spain', 'Sri Lanka',\n",
       "       'Sudan', 'Suriname', 'Sweden', 'Switzerland', 'Taiwan*',\n",
       "       'Tanzania', 'Thailand', 'Togo', 'Trinidad and Tobago', 'Tunisia',\n",
       "       'Turkey', 'Uganda', 'Ukraine', 'United Arab Emirates',\n",
       "       'United Kingdom', 'Uruguay', 'US', 'Uzbekistan', 'Venezuela',\n",
       "       'Vietnam', 'Zambia', 'Zimbabwe', 'Dominica', 'Grenada',\n",
       "       'Mozambique', 'Syria', 'Timor-Leste', 'Belize', 'Laos', 'Libya',\n",
       "       'West Bank and Gaza', 'Guinea-Bissau', 'Mali',\n",
       "       'Saint Kitts and Nevis', 'Kosovo', 'Burma', 'Botswana', 'Burundi',\n",
       "       'Sierra Leone', 'Malawi', 'South Sudan', 'Western Sahara',\n",
       "       'Sao Tome and Principe', 'Yemen', 'Comoros', 'Tajikistan',\n",
       "       'Lesotho'], dtype=object)"
      ]
     },
     "execution_count": 6,
     "metadata": {},
     "output_type": "execute_result"
    }
   ],
   "source": [
    "countries"
   ]
  },
  {
   "cell_type": "code",
   "execution_count": 7,
   "metadata": {},
   "outputs": [],
   "source": [
    "country_series = {c:covid_19_clean_complete[covid_19_clean_complete['Country/Region'] == c].groupby('Date').agg('sum').drop(['Lat', 'Long'], axis=1) for c in countries}"
   ]
  },
  {
   "cell_type": "code",
   "execution_count": 8,
   "metadata": {},
   "outputs": [],
   "source": [
    "c_confirmed = {c:(country_series[c]['Confirmed'] + 1).pct_change(fill_method='bfill').fillna(0) for c in countries}\n",
    "c_deaths = {c:(country_series[c]['Deaths'] + 1).pct_change(fill_method='bfill').fillna(0) for c in countries}"
   ]
  },
  {
   "cell_type": "code",
   "execution_count": 9,
   "metadata": {},
   "outputs": [],
   "source": [
    "import tensorflow as tf\n"
   ]
  },
  {
   "cell_type": "code",
   "execution_count": 10,
   "metadata": {},
   "outputs": [],
   "source": [
    "import tensorflow_probability as tfp\n",
    "import tensorflow.keras as tfk\n",
    "import tensorflow.keras.layers as tfkl\n",
    "tfpl = tfp.layers"
   ]
  },
  {
   "cell_type": "code",
   "execution_count": 11,
   "metadata": {},
   "outputs": [],
   "source": [
    "class SpreadModel(tfk.Model):\n",
    "    \n",
    "    def __init__(self,\n",
    "                 n_outputs,\n",
    "                 **kwargs):\n",
    "        \n",
    "        super(SpreadModel, self).__init__(**kwargs)\n",
    "        self.input_layer = tfkl.Dense(n_outputs)\n",
    "        self.lstms = [tfkl.LSTM(256, return_sequences=True, return_state=True) for i in range(4)]\n",
    "        event_shape = [n_outputs]\n",
    "        num_components = 20\n",
    "        params_size = tfpl.MixtureSameFamily.params_size(\n",
    "            num_components,\n",
    "            component_params_size=tfpl.IndependentNormal.params_size(event_shape))\n",
    "        self.output_dense = tfkl.Dense(params_size, activation=None)\n",
    "        self.output_layer = tfpl.MixtureSameFamily(num_components, tfpl.IndependentNormal(event_shape))\n",
    "        \n",
    "        \n",
    "    def call(self, inputs, hidden_states=None, training=None):\n",
    "        \n",
    "        x = self.input_layer(inputs, training=training)\n",
    "        \n",
    "        next_hidden_states = []\n",
    "        if hidden_states is not None:\n",
    "            \n",
    "            for rnn, hs in zip(self.lstms, hidden_states):\n",
    "                x, fms, fcs = rnn(x, training=training, initial_state=hs)\n",
    "                next_hidden_states.append((fms, fcs))\n",
    "        else:\n",
    "            for rnn in self.lstms:\n",
    "                x, fms, fcs = rnn(x, training=training)\n",
    "                next_hidden_states.append((fms, fcs))\n",
    "        dist_params = self.output_dense(x)\n",
    "        return self.output_layer(dist_params, training=training), next_hidden_states"
   ]
  },
  {
   "cell_type": "code",
   "execution_count": 12,
   "metadata": {},
   "outputs": [],
   "source": [
    "spreadModel = SpreadModel(1)"
   ]
  },
  {
   "cell_type": "code",
   "execution_count": 13,
   "metadata": {},
   "outputs": [],
   "source": [
    "import numpy as np\n",
    "\n",
    "\n",
    "\n",
    "\n",
    "filter_countries = set([\n",
    "    'China',\n",
    "    'Japan',\n",
    "    'Hong Kong',\n",
    "    'Singapore',\n",
    "    'Italy',\n",
    "    'France',\n",
    "    'UK',\n",
    "    'Iceland',\n",
    "    'Japan',\n",
    "    'Switzerland',\n",
    "    'South Korea',\n",
    "    'Taiwan',\n",
    "    'Spain',\n",
    "    'Australia',\n",
    "    'Finland',\n",
    "    'Sweden',\n",
    "    'Norway',\n",
    "    'Germany',\n",
    "    'Canada',\n",
    "])"
   ]
  },
  {
   "cell_type": "code",
   "execution_count": 14,
   "metadata": {},
   "outputs": [],
   "source": [
    "data_filtered = {k:v for k,v in c_confirmed.items() if k in filter_countries}"
   ]
  },
  {
   "cell_type": "code",
   "execution_count": 15,
   "metadata": {},
   "outputs": [
    {
     "data": {
      "text/plain": [
       "dict_keys(['Afghanistan', 'Albania', 'Algeria', 'Andorra', 'Angola', 'Antigua and Barbuda', 'Argentina', 'Armenia', 'Australia', 'Austria', 'Azerbaijan', 'Bahamas', 'Bahrain', 'Bangladesh', 'Barbados', 'Belarus', 'Belgium', 'Benin', 'Bhutan', 'Bolivia', 'Bosnia and Herzegovina', 'Brazil', 'Brunei', 'Bulgaria', 'Burkina Faso', 'Cabo Verde', 'Cambodia', 'Cameroon', 'Canada', 'Central African Republic', 'Chad', 'Chile', 'China', 'Colombia', 'Congo (Brazzaville)', 'Congo (Kinshasa)', 'Costa Rica', \"Cote d'Ivoire\", 'Croatia', 'Cuba', 'Cyprus', 'Czechia', 'Denmark', 'Greenland', 'Djibouti', 'Dominican Republic', 'Ecuador', 'Egypt', 'El Salvador', 'Equatorial Guinea', 'Eritrea', 'Estonia', 'Eswatini', 'Ethiopia', 'Fiji', 'Finland', 'France', 'Gabon', 'Gambia', 'Georgia', 'Germany', 'Ghana', 'Greece', 'Guatemala', 'Guinea', 'Guyana', 'Haiti', 'Holy See', 'Honduras', 'Hungary', 'Iceland', 'India', 'Indonesia', 'Iran', 'Iraq', 'Ireland', 'Israel', 'Italy', 'Jamaica', 'Japan', 'Jordan', 'Kazakhstan', 'Kenya', 'South Korea', 'Kuwait', 'Kyrgyzstan', 'Latvia', 'Lebanon', 'Liberia', 'Liechtenstein', 'Lithuania', 'Luxembourg', 'Madagascar', 'Malaysia', 'Maldives', 'Malta', 'Mauritania', 'Mauritius', 'Mexico', 'Moldova', 'Monaco', 'Mongolia', 'Montenegro', 'Morocco', 'Namibia', 'Nepal', 'Netherlands', 'New Zealand', 'Nicaragua', 'Niger', 'Nigeria', 'North Macedonia', 'Norway', 'Oman', 'Pakistan', 'Panama', 'Papua New Guinea', 'Paraguay', 'Peru', 'Philippines', 'Poland', 'Portugal', 'Qatar', 'Romania', 'Russia', 'Rwanda', 'Saint Lucia', 'Saint Vincent and the Grenadines', 'San Marino', 'Saudi Arabia', 'Senegal', 'Serbia', 'Seychelles', 'Singapore', 'Slovakia', 'Slovenia', 'Somalia', 'South Africa', 'Spain', 'Sri Lanka', 'Sudan', 'Suriname', 'Sweden', 'Switzerland', 'Taiwan*', 'Tanzania', 'Thailand', 'Togo', 'Trinidad and Tobago', 'Tunisia', 'Turkey', 'Uganda', 'Ukraine', 'United Arab Emirates', 'United Kingdom', 'Uruguay', 'US', 'Uzbekistan', 'Venezuela', 'Vietnam', 'Zambia', 'Zimbabwe', 'Dominica', 'Grenada', 'Mozambique', 'Syria', 'Timor-Leste', 'Belize', 'Laos', 'Libya', 'West Bank and Gaza', 'Guinea-Bissau', 'Mali', 'Saint Kitts and Nevis', 'Kosovo', 'Burma', 'Botswana', 'Burundi', 'Sierra Leone', 'Malawi', 'South Sudan', 'Western Sahara', 'Sao Tome and Principe', 'Yemen', 'Comoros', 'Tajikistan', 'Lesotho'])"
      ]
     },
     "execution_count": 15,
     "metadata": {},
     "output_type": "execute_result"
    }
   ],
   "source": [
    "c_confirmed.keys()"
   ]
  },
  {
   "cell_type": "code",
   "execution_count": 16,
   "metadata": {},
   "outputs": [],
   "source": [
    "data = np.clip(np.expand_dims(np.asarray([vs.values for vs in data_filtered.values()]), axis=-1).astype(np.float32), 0., 1.)"
   ]
  },
  {
   "cell_type": "code",
   "execution_count": 17,
   "metadata": {},
   "outputs": [],
   "source": [
    "data_x = data[:,:-1,:]\n",
    "data_y = data[:,1:,:]"
   ]
  },
  {
   "cell_type": "code",
   "execution_count": 18,
   "metadata": {},
   "outputs": [],
   "source": [
    "ds = tf.data.Dataset.from_tensor_slices((data_x, data_y))\n",
    "ds = ds.batch(64)"
   ]
  },
  {
   "cell_type": "code",
   "execution_count": 19,
   "metadata": {},
   "outputs": [],
   "source": [
    "opt = tfk.optimizers.Adam(1e-6)"
   ]
  },
  {
   "cell_type": "code",
   "execution_count": 20,
   "metadata": {},
   "outputs": [],
   "source": [
    "@tf.function\n",
    "def train_step(data):\n",
    "    \n",
    "    with tf.GradientTape() as g:\n",
    "        \n",
    "        inputs, targets = data\n",
    "        \n",
    "        pred_dist, _ = spreadModel(inputs, training=True)\n",
    "        \n",
    "        loss = tf.reduce_mean(-pred_dist.log_prob(targets))\n",
    "        \n",
    "    grads = g.gradient(loss, spreadModel.trainable_variables)\n",
    "    grads, _ = tf.clip_by_global_norm(grads, 1.0)\n",
    "    opt.apply_gradients(zip(grads, spreadModel.trainable_variables))\n",
    "    \n",
    "    return loss"
   ]
  },
  {
   "cell_type": "code",
   "execution_count": 21,
   "metadata": {},
   "outputs": [
    {
     "name": "stdout",
     "output_type": "stream",
     "text": [
      "0.5806764\n"
     ]
    }
   ],
   "source": [
    "for epoch in range(20):\n",
    "    it = iter(ds)\n",
    "    for i, data in enumerate(it):\n",
    "        #print(data)\n",
    "        loss = train_step(data).numpy()\n",
    "        if loss < 0.0001:\n",
    "            break\n",
    "    if epoch % 100 == 0:\n",
    "        print(loss)\n",
    "    if loss < 0.0001:\n",
    "        break"
   ]
  },
  {
   "cell_type": "code",
   "execution_count": 22,
   "metadata": {},
   "outputs": [],
   "source": [
    "def predict_next_month(country):\n",
    "    dist, states = spreadModel(np.expand_dims(np.expand_dims(c_confirmed[country].values, axis=0), axis=-1), training=False)\n",
    "    smpls = dist.sample()\n",
    "    #print(smpls)\n",
    "    #raise Exception()\n",
    "    #am = tf.argmax(dist.log_prob(smpls)[...,-1])[0].numpy()\n",
    "    #good_sample = smpls[am, 0, -1]\n",
    "    nxt_sample = tf.expand_dims(tf.expand_dims(tf.expand_dims(smpls[0,-1,0], axis=-1),axis=0),axis=0)\n",
    "    nxt_sample\n",
    "    steps = [nxt_sample]\n",
    "    \n",
    "    for i in range(29):\n",
    "        dist, states = spreadModel(nxt_sample, training=False, hidden_states=states)\n",
    "        smpls = dist.sample()\n",
    "        #raise Exception()\n",
    "        #good_sample = smpls[am, 0, -1]\n",
    "        #nxt_sample = tf.expand_dims(tf.expand_dims(good_sample, axis=0),axis=-1)\n",
    "        steps.append(smpls)\n",
    "        \n",
    "    return country_series[country]['Confirmed'][-1] * np.cumprod(1 + np.clip(tf.squeeze(tf.concat(steps, axis=1)).numpy().astype(np.float128), 0., 10.))"
   ]
  },
  {
   "cell_type": "code",
   "execution_count": 52,
   "metadata": {},
   "outputs": [],
   "source": [
    "def sample_multi_next_month(country, samples=20):\n",
    "    smpls = []\n",
    "    for i in range(samples):\n",
    "        r = predict_next_month(country)\n",
    "        smpls.append(r)\n",
    "    return smpls"
   ]
  },
  {
   "cell_type": "code",
   "execution_count": 56,
   "metadata": {},
   "outputs": [],
   "source": [
    "futures = sample_multi_next_month('US')\n",
    "future_means = np.stack(futures, axis=0).mean(axis=0).astype(np.int32).tolist()"
   ]
  },
  {
   "cell_type": "code",
   "execution_count": 61,
   "metadata": {},
   "outputs": [
    {
     "ename": "TypeError",
     "evalue": "can only concatenate str (not \"Timedelta\") to str",
     "output_type": "error",
     "traceback": [
      "\u001b[1;31m---------------------------------------------------------------------------\u001b[0m",
      "\u001b[1;31mTypeError\u001b[0m                                 Traceback (most recent call last)",
      "Cell \u001b[1;32mIn[61], line 1\u001b[0m\n\u001b[1;32m----> 1\u001b[0m \u001b[39mprint\u001b[39m(\u001b[39m'\u001b[39m\u001b[39mUSA confirmed coming month:\u001b[39m\u001b[39m\\n\u001b[39;00m\u001b[39m'\u001b[39m, pd\u001b[39m.\u001b[39mSeries(data\u001b[39m=\u001b[39mfuture_means, index\u001b[39m=\u001b[39mpd\u001b[39m.\u001b[39mdate_range(c_confirmed[\u001b[39m'\u001b[39;49m\u001b[39mSweden\u001b[39;49m\u001b[39m'\u001b[39;49m]\u001b[39m.\u001b[39;49mreset_index()[\u001b[39m'\u001b[39;49m\u001b[39mDate\u001b[39;49m\u001b[39m'\u001b[39;49m]\u001b[39m.\u001b[39;49mtolist()[\u001b[39m-\u001b[39;49m\u001b[39m1\u001b[39;49m] \u001b[39m+\u001b[39;49m pd\u001b[39m.\u001b[39;49mTimedelta(\u001b[39m'\u001b[39;49m\u001b[39m1 day\u001b[39;49m\u001b[39m'\u001b[39;49m), periods\u001b[39m=\u001b[39m\u001b[39m30\u001b[39m, freq\u001b[39m=\u001b[39m\u001b[39m'\u001b[39m\u001b[39mD\u001b[39m\u001b[39m'\u001b[39m)))\n",
      "\u001b[1;31mTypeError\u001b[0m: can only concatenate str (not \"Timedelta\") to str"
     ]
    }
   ],
   "source": [
    "print('USA confirmed coming month:\\n', pd.Series(data=future_means, index=pd.date_range(c_confirmed['Sweden'].reset_index()['Date'].tolist()[-1] + pd.Timedelta('1 day'), periods=30, freq='D')))"
   ]
  },
  {
   "cell_type": "code",
   "execution_count": 62,
   "metadata": {},
   "outputs": [
    {
     "ename": "AttributeError",
     "evalue": "module 'numpy' has no attribute 'float128'",
     "output_type": "error",
     "traceback": [
      "\u001b[1;31m---------------------------------------------------------------------------\u001b[0m",
      "\u001b[1;31mAttributeError\u001b[0m                            Traceback (most recent call last)",
      "Cell \u001b[1;32mIn[62], line 1\u001b[0m\n\u001b[1;32m----> 1\u001b[0m futures \u001b[39m=\u001b[39m sample_multi_next_month(\u001b[39m'\u001b[39;49m\u001b[39mSweden\u001b[39;49m\u001b[39m'\u001b[39;49m)\n\u001b[0;32m      2\u001b[0m future_means \u001b[39m=\u001b[39m np\u001b[39m.\u001b[39mstack(futures, axis\u001b[39m=\u001b[39m\u001b[39m0\u001b[39m)\u001b[39m.\u001b[39mmean(axis\u001b[39m=\u001b[39m\u001b[39m0\u001b[39m)\u001b[39m.\u001b[39mastype(np\u001b[39m.\u001b[39mint32)\u001b[39m.\u001b[39mtolist()\n",
      "Cell \u001b[1;32mIn[52], line 4\u001b[0m, in \u001b[0;36msample_multi_next_month\u001b[1;34m(country, samples)\u001b[0m\n\u001b[0;32m      2\u001b[0m smpls \u001b[39m=\u001b[39m []\n\u001b[0;32m      3\u001b[0m \u001b[39mfor\u001b[39;00m i \u001b[39min\u001b[39;00m \u001b[39mrange\u001b[39m(samples):\n\u001b[1;32m----> 4\u001b[0m     r \u001b[39m=\u001b[39m predict_next_month(country)\n\u001b[0;32m      5\u001b[0m     smpls\u001b[39m.\u001b[39mappend(r)\n\u001b[0;32m      6\u001b[0m \u001b[39mreturn\u001b[39;00m smpls\n",
      "Cell \u001b[1;32mIn[22], line 20\u001b[0m, in \u001b[0;36mpredict_next_month\u001b[1;34m(country)\u001b[0m\n\u001b[0;32m     15\u001b[0m     \u001b[39m#raise Exception()\u001b[39;00m\n\u001b[0;32m     16\u001b[0m     \u001b[39m#good_sample = smpls[am, 0, -1]\u001b[39;00m\n\u001b[0;32m     17\u001b[0m     \u001b[39m#nxt_sample = tf.expand_dims(tf.expand_dims(good_sample, axis=0),axis=-1)\u001b[39;00m\n\u001b[0;32m     18\u001b[0m     steps\u001b[39m.\u001b[39mappend(smpls)\n\u001b[1;32m---> 20\u001b[0m \u001b[39mreturn\u001b[39;00m country_series[country][\u001b[39m'\u001b[39m\u001b[39mConfirmed\u001b[39m\u001b[39m'\u001b[39m][\u001b[39m-\u001b[39m\u001b[39m1\u001b[39m] \u001b[39m*\u001b[39m np\u001b[39m.\u001b[39mcumprod(\u001b[39m1\u001b[39m \u001b[39m+\u001b[39m np\u001b[39m.\u001b[39mclip(tf\u001b[39m.\u001b[39msqueeze(tf\u001b[39m.\u001b[39mconcat(steps, axis\u001b[39m=\u001b[39m\u001b[39m1\u001b[39m))\u001b[39m.\u001b[39mnumpy()\u001b[39m.\u001b[39mastype(np\u001b[39m.\u001b[39;49mfloat128), \u001b[39m0.\u001b[39m, \u001b[39m10.\u001b[39m))\n",
      "File \u001b[1;32mc:\\Users\\hilto\\AppData\\Local\\Programs\\Python\\Python310\\lib\\site-packages\\numpy\\__init__.py:322\u001b[0m, in \u001b[0;36m__getattr__\u001b[1;34m(attr)\u001b[0m\n\u001b[0;32m    319\u001b[0m     \u001b[39m\"\u001b[39m\u001b[39mRemoved in NumPy 1.25.0\u001b[39m\u001b[39m\"\u001b[39m\n\u001b[0;32m    320\u001b[0m     \u001b[39mraise\u001b[39;00m \u001b[39mRuntimeError\u001b[39;00m(\u001b[39m\"\u001b[39m\u001b[39mTester was removed in NumPy 1.25.\u001b[39m\u001b[39m\"\u001b[39m)\n\u001b[1;32m--> 322\u001b[0m \u001b[39mraise\u001b[39;00m \u001b[39mAttributeError\u001b[39;00m(\u001b[39m\"\u001b[39m\u001b[39mmodule \u001b[39m\u001b[39m{!r}\u001b[39;00m\u001b[39m has no attribute \u001b[39m\u001b[39m\"\u001b[39m\n\u001b[0;32m    323\u001b[0m                      \u001b[39m\"\u001b[39m\u001b[39m{!r}\u001b[39;00m\u001b[39m\"\u001b[39m\u001b[39m.\u001b[39mformat(\u001b[39m__name__\u001b[39m, attr))\n",
      "\u001b[1;31mAttributeError\u001b[0m: module 'numpy' has no attribute 'float128'"
     ]
    }
   ],
   "source": [
    "futures = sample_multi_next_month('Sweden')\n",
    "future_means = np.stack(futures, axis=0).mean(axis=0).astype(np.int32).tolist()"
   ]
  },
  {
   "cell_type": "code",
   "execution_count": 63,
   "metadata": {},
   "outputs": [
    {
     "ename": "TypeError",
     "evalue": "can only concatenate str (not \"Timedelta\") to str",
     "output_type": "error",
     "traceback": [
      "\u001b[1;31m---------------------------------------------------------------------------\u001b[0m",
      "\u001b[1;31mTypeError\u001b[0m                                 Traceback (most recent call last)",
      "Cell \u001b[1;32mIn[63], line 1\u001b[0m\n\u001b[1;32m----> 1\u001b[0m \u001b[39mprint\u001b[39m(\u001b[39m'\u001b[39m\u001b[39mSweden confirmed coming month:\u001b[39m\u001b[39m\\n\u001b[39;00m\u001b[39m'\u001b[39m, pd\u001b[39m.\u001b[39mSeries(data\u001b[39m=\u001b[39mfuture_means, index\u001b[39m=\u001b[39mpd\u001b[39m.\u001b[39mdate_range(c_confirmed[\u001b[39m'\u001b[39;49m\u001b[39mSweden\u001b[39;49m\u001b[39m'\u001b[39;49m]\u001b[39m.\u001b[39;49mreset_index()[\u001b[39m'\u001b[39;49m\u001b[39mDate\u001b[39;49m\u001b[39m'\u001b[39;49m]\u001b[39m.\u001b[39;49mtolist()[\u001b[39m-\u001b[39;49m\u001b[39m1\u001b[39;49m] \u001b[39m+\u001b[39;49m pd\u001b[39m.\u001b[39;49mTimedelta(\u001b[39m'\u001b[39;49m\u001b[39m1 day\u001b[39;49m\u001b[39m'\u001b[39;49m), periods\u001b[39m=\u001b[39m\u001b[39m30\u001b[39m, freq\u001b[39m=\u001b[39m\u001b[39m'\u001b[39m\u001b[39mD\u001b[39m\u001b[39m'\u001b[39m)))\n",
      "\u001b[1;31mTypeError\u001b[0m: can only concatenate str (not \"Timedelta\") to str"
     ]
    }
   ],
   "source": [
    "print('Sweden confirmed coming month:\\n', pd.Series(data=future_means, index=pd.date_range(c_confirmed['Sweden'].reset_index()['Date'].tolist()[-1] + pd.Timedelta('1 day'), periods=30, freq='D')))"
   ]
  }
 ],
 "metadata": {
  "kernelspec": {
   "display_name": "BancoPrediccion",
   "language": "python",
   "name": "python3"
  },
  "language_info": {
   "codemirror_mode": {
    "name": "ipython",
    "version": 3
   },
   "file_extension": ".py",
   "mimetype": "text/x-python",
   "name": "python",
   "nbconvert_exporter": "python",
   "pygments_lexer": "ipython3",
   "version": "3.10.6"
  },
  "orig_nbformat": 4
 },
 "nbformat": 4,
 "nbformat_minor": 2
}
