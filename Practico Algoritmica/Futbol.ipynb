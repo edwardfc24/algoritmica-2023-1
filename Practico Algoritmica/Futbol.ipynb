{
 "cells": [
  {
   "cell_type": "code",
   "execution_count": 26,
   "metadata": {},
   "outputs": [],
   "source": [
    "from sklearn.cluster import KMeans\n",
    "from sklearn.datasets import make_blobs\n",
    "import numpy as np\n",
    "\n",
    "import pandas as pd\n",
    "import matplotlib.pyplot as plt"
   ]
  },
  {
   "cell_type": "code",
   "execution_count": 33,
   "metadata": {},
   "outputs": [],
   "source": [
    "df = pd.read_csv('goals.csv')"
   ]
  },
  {
   "cell_type": "code",
   "execution_count": 29,
   "metadata": {},
   "outputs": [],
   "source": [
    "x, y = make_blobs(n_samples=400, random_state=0)"
   ]
  },
  {
   "cell_type": "code",
   "execution_count": 31,
   "metadata": {},
   "outputs": [],
   "source": [
    "df = pd.DataFrame(x)"
   ]
  },
  {
   "cell_type": "code",
   "execution_count": 34,
   "metadata": {},
   "outputs": [
    {
     "data": {
      "text/html": [
       "<div>\n",
       "<style scoped>\n",
       "    .dataframe tbody tr th:only-of-type {\n",
       "        vertical-align: middle;\n",
       "    }\n",
       "\n",
       "    .dataframe tbody tr th {\n",
       "        vertical-align: top;\n",
       "    }\n",
       "\n",
       "    .dataframe thead th {\n",
       "        text-align: right;\n",
       "    }\n",
       "</style>\n",
       "<table border=\"1\" class=\"dataframe\">\n",
       "  <thead>\n",
       "    <tr style=\"text-align: right;\">\n",
       "      <th></th>\n",
       "      <th>serial</th>\n",
       "      <th>goals</th>\n",
       "      <th>right_foot</th>\n",
       "      <th>left_foot</th>\n",
       "      <th>headers</th>\n",
       "      <th>others</th>\n",
       "      <th>inside_area</th>\n",
       "      <th>outside_areas</th>\n",
       "      <th>penalties</th>\n",
       "      <th>match_played</th>\n",
       "    </tr>\n",
       "  </thead>\n",
       "  <tbody>\n",
       "    <tr>\n",
       "      <th>count</th>\n",
       "      <td>183.000000</td>\n",
       "      <td>183.000000</td>\n",
       "      <td>183.000000</td>\n",
       "      <td>183.000000</td>\n",
       "      <td>183.000000</td>\n",
       "      <td>183.000000</td>\n",
       "      <td>183.000000</td>\n",
       "      <td>183.000000</td>\n",
       "      <td>183.000000</td>\n",
       "      <td>183.000000</td>\n",
       "    </tr>\n",
       "    <tr>\n",
       "      <th>mean</th>\n",
       "      <td>55.016393</td>\n",
       "      <td>2.021858</td>\n",
       "      <td>0.972678</td>\n",
       "      <td>0.693989</td>\n",
       "      <td>0.327869</td>\n",
       "      <td>0.021858</td>\n",
       "      <td>1.814208</td>\n",
       "      <td>0.207650</td>\n",
       "      <td>0.196721</td>\n",
       "      <td>6.841530</td>\n",
       "    </tr>\n",
       "    <tr>\n",
       "      <th>std</th>\n",
       "      <td>24.173929</td>\n",
       "      <td>2.005367</td>\n",
       "      <td>1.400281</td>\n",
       "      <td>1.140810</td>\n",
       "      <td>0.612722</td>\n",
       "      <td>0.146621</td>\n",
       "      <td>1.923943</td>\n",
       "      <td>0.514137</td>\n",
       "      <td>0.549315</td>\n",
       "      <td>2.568196</td>\n",
       "    </tr>\n",
       "    <tr>\n",
       "      <th>min</th>\n",
       "      <td>1.000000</td>\n",
       "      <td>1.000000</td>\n",
       "      <td>0.000000</td>\n",
       "      <td>0.000000</td>\n",
       "      <td>0.000000</td>\n",
       "      <td>0.000000</td>\n",
       "      <td>0.000000</td>\n",
       "      <td>0.000000</td>\n",
       "      <td>0.000000</td>\n",
       "      <td>1.000000</td>\n",
       "    </tr>\n",
       "    <tr>\n",
       "      <th>25%</th>\n",
       "      <td>43.000000</td>\n",
       "      <td>1.000000</td>\n",
       "      <td>0.000000</td>\n",
       "      <td>0.000000</td>\n",
       "      <td>0.000000</td>\n",
       "      <td>0.000000</td>\n",
       "      <td>1.000000</td>\n",
       "      <td>0.000000</td>\n",
       "      <td>0.000000</td>\n",
       "      <td>5.000000</td>\n",
       "    </tr>\n",
       "    <tr>\n",
       "      <th>50%</th>\n",
       "      <td>73.000000</td>\n",
       "      <td>1.000000</td>\n",
       "      <td>1.000000</td>\n",
       "      <td>0.000000</td>\n",
       "      <td>0.000000</td>\n",
       "      <td>0.000000</td>\n",
       "      <td>1.000000</td>\n",
       "      <td>0.000000</td>\n",
       "      <td>0.000000</td>\n",
       "      <td>6.000000</td>\n",
       "    </tr>\n",
       "    <tr>\n",
       "      <th>75%</th>\n",
       "      <td>73.000000</td>\n",
       "      <td>2.000000</td>\n",
       "      <td>1.000000</td>\n",
       "      <td>1.000000</td>\n",
       "      <td>1.000000</td>\n",
       "      <td>0.000000</td>\n",
       "      <td>2.000000</td>\n",
       "      <td>0.000000</td>\n",
       "      <td>0.000000</td>\n",
       "      <td>8.000000</td>\n",
       "    </tr>\n",
       "    <tr>\n",
       "      <th>max</th>\n",
       "      <td>73.000000</td>\n",
       "      <td>15.000000</td>\n",
       "      <td>11.000000</td>\n",
       "      <td>8.000000</td>\n",
       "      <td>3.000000</td>\n",
       "      <td>1.000000</td>\n",
       "      <td>13.000000</td>\n",
       "      <td>3.000000</td>\n",
       "      <td>3.000000</td>\n",
       "      <td>13.000000</td>\n",
       "    </tr>\n",
       "  </tbody>\n",
       "</table>\n",
       "</div>"
      ],
      "text/plain": [
       "           serial       goals  right_foot   left_foot     headers      others   \n",
       "count  183.000000  183.000000  183.000000  183.000000  183.000000  183.000000  \\\n",
       "mean    55.016393    2.021858    0.972678    0.693989    0.327869    0.021858   \n",
       "std     24.173929    2.005367    1.400281    1.140810    0.612722    0.146621   \n",
       "min      1.000000    1.000000    0.000000    0.000000    0.000000    0.000000   \n",
       "25%     43.000000    1.000000    0.000000    0.000000    0.000000    0.000000   \n",
       "50%     73.000000    1.000000    1.000000    0.000000    0.000000    0.000000   \n",
       "75%     73.000000    2.000000    1.000000    1.000000    1.000000    0.000000   \n",
       "max     73.000000   15.000000   11.000000    8.000000    3.000000    1.000000   \n",
       "\n",
       "       inside_area  outside_areas   penalties  match_played  \n",
       "count   183.000000     183.000000  183.000000    183.000000  \n",
       "mean      1.814208       0.207650    0.196721      6.841530  \n",
       "std       1.923943       0.514137    0.549315      2.568196  \n",
       "min       0.000000       0.000000    0.000000      1.000000  \n",
       "25%       1.000000       0.000000    0.000000      5.000000  \n",
       "50%       1.000000       0.000000    0.000000      6.000000  \n",
       "75%       2.000000       0.000000    0.000000      8.000000  \n",
       "max      13.000000       3.000000    3.000000     13.000000  "
      ]
     },
     "execution_count": 34,
     "metadata": {},
     "output_type": "execute_result"
    }
   ],
   "source": [
    "df.describe()"
   ]
  },
  {
   "cell_type": "code",
   "execution_count": 35,
   "metadata": {},
   "outputs": [
    {
     "data": {
      "text/html": [
       "<div>\n",
       "<style scoped>\n",
       "    .dataframe tbody tr th:only-of-type {\n",
       "        vertical-align: middle;\n",
       "    }\n",
       "\n",
       "    .dataframe tbody tr th {\n",
       "        vertical-align: top;\n",
       "    }\n",
       "\n",
       "    .dataframe thead th {\n",
       "        text-align: right;\n",
       "    }\n",
       "</style>\n",
       "<table border=\"1\" class=\"dataframe\">\n",
       "  <thead>\n",
       "    <tr style=\"text-align: right;\">\n",
       "      <th></th>\n",
       "      <th>serial</th>\n",
       "      <th>player_name</th>\n",
       "      <th>club</th>\n",
       "      <th>position</th>\n",
       "      <th>goals</th>\n",
       "      <th>right_foot</th>\n",
       "      <th>left_foot</th>\n",
       "      <th>headers</th>\n",
       "      <th>others</th>\n",
       "      <th>inside_area</th>\n",
       "      <th>outside_areas</th>\n",
       "      <th>penalties</th>\n",
       "      <th>match_played</th>\n",
       "    </tr>\n",
       "  </thead>\n",
       "  <tbody>\n",
       "    <tr>\n",
       "      <th>0</th>\n",
       "      <td>1</td>\n",
       "      <td>Benzema</td>\n",
       "      <td>Real Madrid</td>\n",
       "      <td>Forward</td>\n",
       "      <td>15</td>\n",
       "      <td>11</td>\n",
       "      <td>1</td>\n",
       "      <td>3</td>\n",
       "      <td>0</td>\n",
       "      <td>13</td>\n",
       "      <td>2</td>\n",
       "      <td>3</td>\n",
       "      <td>12</td>\n",
       "    </tr>\n",
       "    <tr>\n",
       "      <th>1</th>\n",
       "      <td>2</td>\n",
       "      <td>Lewandowski</td>\n",
       "      <td>Bayern</td>\n",
       "      <td>Forward</td>\n",
       "      <td>13</td>\n",
       "      <td>8</td>\n",
       "      <td>3</td>\n",
       "      <td>1</td>\n",
       "      <td>1</td>\n",
       "      <td>13</td>\n",
       "      <td>0</td>\n",
       "      <td>3</td>\n",
       "      <td>10</td>\n",
       "    </tr>\n",
       "    <tr>\n",
       "      <th>2</th>\n",
       "      <td>3</td>\n",
       "      <td>Haller</td>\n",
       "      <td>Ajax</td>\n",
       "      <td>Forward</td>\n",
       "      <td>11</td>\n",
       "      <td>3</td>\n",
       "      <td>4</td>\n",
       "      <td>3</td>\n",
       "      <td>1</td>\n",
       "      <td>11</td>\n",
       "      <td>0</td>\n",
       "      <td>1</td>\n",
       "      <td>8</td>\n",
       "    </tr>\n",
       "    <tr>\n",
       "      <th>3</th>\n",
       "      <td>4</td>\n",
       "      <td>Salah</td>\n",
       "      <td>Liverpool</td>\n",
       "      <td>Forward</td>\n",
       "      <td>8</td>\n",
       "      <td>0</td>\n",
       "      <td>8</td>\n",
       "      <td>0</td>\n",
       "      <td>0</td>\n",
       "      <td>7</td>\n",
       "      <td>1</td>\n",
       "      <td>1</td>\n",
       "      <td>13</td>\n",
       "    </tr>\n",
       "    <tr>\n",
       "      <th>4</th>\n",
       "      <td>5</td>\n",
       "      <td>Nkunku</td>\n",
       "      <td>Leipzig</td>\n",
       "      <td>Midfielder</td>\n",
       "      <td>7</td>\n",
       "      <td>3</td>\n",
       "      <td>1</td>\n",
       "      <td>3</td>\n",
       "      <td>0</td>\n",
       "      <td>7</td>\n",
       "      <td>0</td>\n",
       "      <td>0</td>\n",
       "      <td>6</td>\n",
       "    </tr>\n",
       "  </tbody>\n",
       "</table>\n",
       "</div>"
      ],
      "text/plain": [
       "   serial  player_name         club    position  goals  right_foot  left_foot   \n",
       "0       1      Benzema  Real Madrid     Forward     15          11          1  \\\n",
       "1       2  Lewandowski       Bayern     Forward     13           8          3   \n",
       "2       3       Haller         Ajax     Forward     11           3          4   \n",
       "3       4        Salah    Liverpool     Forward      8           0          8   \n",
       "4       5       Nkunku      Leipzig  Midfielder      7           3          1   \n",
       "\n",
       "   headers  others  inside_area  outside_areas  penalties  match_played  \n",
       "0        3       0           13              2          3            12  \n",
       "1        1       1           13              0          3            10  \n",
       "2        3       1           11              0          1             8  \n",
       "3        0       0            7              1          1            13  \n",
       "4        3       0            7              0          0             6  "
      ]
     },
     "execution_count": 35,
     "metadata": {},
     "output_type": "execute_result"
    }
   ],
   "source": [
    "df.head()"
   ]
  },
  {
   "cell_type": "code",
   "execution_count": 36,
   "metadata": {},
   "outputs": [],
   "source": [
    "df.drop('serial', axis=1, inplace=True)\n",
    "df.drop('player_name', axis=1, inplace=True)\n",
    "df.drop('club', axis=1, inplace=True)\n",
    "df.drop('position', axis=1, inplace=True)\n"
   ]
  },
  {
   "cell_type": "code",
   "execution_count": 37,
   "metadata": {},
   "outputs": [],
   "source": [
    "k_means_model = KMeans()"
   ]
  },
  {
   "cell_type": "code",
   "execution_count": 38,
   "metadata": {},
   "outputs": [
    {
     "name": "stderr",
     "output_type": "stream",
     "text": [
      "c:\\Users\\EdgarRojas\\AppData\\Local\\Programs\\Python\\Python311\\Lib\\site-packages\\sklearn\\cluster\\_kmeans.py:870: FutureWarning: The default value of `n_init` will change from 10 to 'auto' in 1.4. Set the value of `n_init` explicitly to suppress the warning\n",
      "  warnings.warn(\n"
     ]
    },
    {
     "data": {
      "text/html": [
       "<style>#sk-container-id-2 {color: black;background-color: white;}#sk-container-id-2 pre{padding: 0;}#sk-container-id-2 div.sk-toggleable {background-color: white;}#sk-container-id-2 label.sk-toggleable__label {cursor: pointer;display: block;width: 100%;margin-bottom: 0;padding: 0.3em;box-sizing: border-box;text-align: center;}#sk-container-id-2 label.sk-toggleable__label-arrow:before {content: \"▸\";float: left;margin-right: 0.25em;color: #696969;}#sk-container-id-2 label.sk-toggleable__label-arrow:hover:before {color: black;}#sk-container-id-2 div.sk-estimator:hover label.sk-toggleable__label-arrow:before {color: black;}#sk-container-id-2 div.sk-toggleable__content {max-height: 0;max-width: 0;overflow: hidden;text-align: left;background-color: #f0f8ff;}#sk-container-id-2 div.sk-toggleable__content pre {margin: 0.2em;color: black;border-radius: 0.25em;background-color: #f0f8ff;}#sk-container-id-2 input.sk-toggleable__control:checked~div.sk-toggleable__content {max-height: 200px;max-width: 100%;overflow: auto;}#sk-container-id-2 input.sk-toggleable__control:checked~label.sk-toggleable__label-arrow:before {content: \"▾\";}#sk-container-id-2 div.sk-estimator input.sk-toggleable__control:checked~label.sk-toggleable__label {background-color: #d4ebff;}#sk-container-id-2 div.sk-label input.sk-toggleable__control:checked~label.sk-toggleable__label {background-color: #d4ebff;}#sk-container-id-2 input.sk-hidden--visually {border: 0;clip: rect(1px 1px 1px 1px);clip: rect(1px, 1px, 1px, 1px);height: 1px;margin: -1px;overflow: hidden;padding: 0;position: absolute;width: 1px;}#sk-container-id-2 div.sk-estimator {font-family: monospace;background-color: #f0f8ff;border: 1px dotted black;border-radius: 0.25em;box-sizing: border-box;margin-bottom: 0.5em;}#sk-container-id-2 div.sk-estimator:hover {background-color: #d4ebff;}#sk-container-id-2 div.sk-parallel-item::after {content: \"\";width: 100%;border-bottom: 1px solid gray;flex-grow: 1;}#sk-container-id-2 div.sk-label:hover label.sk-toggleable__label {background-color: #d4ebff;}#sk-container-id-2 div.sk-serial::before {content: \"\";position: absolute;border-left: 1px solid gray;box-sizing: border-box;top: 0;bottom: 0;left: 50%;z-index: 0;}#sk-container-id-2 div.sk-serial {display: flex;flex-direction: column;align-items: center;background-color: white;padding-right: 0.2em;padding-left: 0.2em;position: relative;}#sk-container-id-2 div.sk-item {position: relative;z-index: 1;}#sk-container-id-2 div.sk-parallel {display: flex;align-items: stretch;justify-content: center;background-color: white;position: relative;}#sk-container-id-2 div.sk-item::before, #sk-container-id-2 div.sk-parallel-item::before {content: \"\";position: absolute;border-left: 1px solid gray;box-sizing: border-box;top: 0;bottom: 0;left: 50%;z-index: -1;}#sk-container-id-2 div.sk-parallel-item {display: flex;flex-direction: column;z-index: 1;position: relative;background-color: white;}#sk-container-id-2 div.sk-parallel-item:first-child::after {align-self: flex-end;width: 50%;}#sk-container-id-2 div.sk-parallel-item:last-child::after {align-self: flex-start;width: 50%;}#sk-container-id-2 div.sk-parallel-item:only-child::after {width: 0;}#sk-container-id-2 div.sk-dashed-wrapped {border: 1px dashed gray;margin: 0 0.4em 0.5em 0.4em;box-sizing: border-box;padding-bottom: 0.4em;background-color: white;}#sk-container-id-2 div.sk-label label {font-family: monospace;font-weight: bold;display: inline-block;line-height: 1.2em;}#sk-container-id-2 div.sk-label-container {text-align: center;}#sk-container-id-2 div.sk-container {/* jupyter's `normalize.less` sets `[hidden] { display: none; }` but bootstrap.min.css set `[hidden] { display: none !important; }` so we also need the `!important` here to be able to override the default hidden behavior on the sphinx rendered scikit-learn.org. See: https://github.com/scikit-learn/scikit-learn/issues/21755 */display: inline-block !important;position: relative;}#sk-container-id-2 div.sk-text-repr-fallback {display: none;}</style><div id=\"sk-container-id-2\" class=\"sk-top-container\"><div class=\"sk-text-repr-fallback\"><pre>KMeans()</pre><b>In a Jupyter environment, please rerun this cell to show the HTML representation or trust the notebook. <br />On GitHub, the HTML representation is unable to render, please try loading this page with nbviewer.org.</b></div><div class=\"sk-container\" hidden><div class=\"sk-item\"><div class=\"sk-estimator sk-toggleable\"><input class=\"sk-toggleable__control sk-hidden--visually\" id=\"sk-estimator-id-2\" type=\"checkbox\" checked><label for=\"sk-estimator-id-2\" class=\"sk-toggleable__label sk-toggleable__label-arrow\">KMeans</label><div class=\"sk-toggleable__content\"><pre>KMeans()</pre></div></div></div></div></div>"
      ],
      "text/plain": [
       "KMeans()"
      ]
     },
     "execution_count": 38,
     "metadata": {},
     "output_type": "execute_result"
    }
   ],
   "source": [
    "k_means_model.fit(df)"
   ]
  },
  {
   "cell_type": "code",
   "execution_count": 39,
   "metadata": {},
   "outputs": [
    {
     "data": {
      "text/plain": [
       "array([2, 2, 2, 5, 6, 5, 6, 6, 6, 5, 5, 6, 5, 5, 7, 6, 6, 6, 4, 4, 7, 7,\n",
       "       0, 0, 0, 0, 0, 4, 4, 0, 0, 7, 0, 0, 7, 7, 7, 7, 7, 7, 7, 1, 0, 0,\n",
       "       0, 0, 0, 0, 3, 3, 1, 4, 7, 0, 0, 0, 4, 4, 0, 0, 0, 7, 7, 1, 1, 3,\n",
       "       3, 3, 1, 3, 3, 3, 3, 3, 4, 4, 4, 3, 3, 3, 3, 3, 3, 3, 3, 3, 3, 3,\n",
       "       3, 3, 3, 3, 3, 3, 3, 3, 3, 3, 3, 3, 3, 3, 3, 3, 3, 3, 3, 3, 1, 1,\n",
       "       1, 1, 1, 1, 1, 1, 1, 1, 1, 1, 1, 1, 4, 4, 3, 3, 3, 1, 1, 3, 3, 1,\n",
       "       4, 3, 3, 3, 3, 3, 3, 1, 1, 1, 1, 1, 1, 1, 1, 1, 1, 1, 1, 1, 4, 3,\n",
       "       3, 3, 3, 1, 1, 1, 4, 4, 3, 3, 3, 3, 3, 3, 3, 3, 3, 3, 3, 1, 1, 1,\n",
       "       1, 1, 1, 1, 1, 1, 3])"
      ]
     },
     "execution_count": 39,
     "metadata": {},
     "output_type": "execute_result"
    }
   ],
   "source": [
    "# Veamos como funcional el atributo labels\n",
    "k_means_model.labels_"
   ]
  },
  {
   "cell_type": "code",
   "execution_count": 40,
   "metadata": {},
   "outputs": [
    {
     "data": {
      "text/plain": [
       "array([[ 2.42857143e+00,  1.76190476e+00,  3.80952381e-01,\n",
       "         2.38095238e-01, -1.04083409e-17,  2.33333333e+00,\n",
       "         9.52380952e-02,  3.80952381e-01,  6.23809524e+00],\n",
       "       [ 1.12765957e+00,  3.61702128e-01,  5.10638298e-01,\n",
       "         2.55319149e-01, -1.38777878e-17,  1.02127660e+00,\n",
       "         1.06382979e-01,  4.25531915e-02,  3.91489362e+00],\n",
       "       [ 1.30000000e+01,  7.33333333e+00,  2.66666667e+00,\n",
       "         2.33333333e+00,  6.66666667e-01,  1.23333333e+01,\n",
       "         6.66666667e-01,  2.33333333e+00,  1.00000000e+01],\n",
       "       [ 1.11764706e+00,  5.73529412e-01,  2.50000000e-01,\n",
       "         2.64705882e-01,  2.94117647e-02,  9.70588235e-01,\n",
       "         1.47058824e-01,  8.82352941e-02,  7.05882353e+00],\n",
       "       [ 1.81250000e+00,  1.06250000e+00,  4.37500000e-01,\n",
       "         3.12500000e-01, -6.93889390e-18,  1.43750000e+00,\n",
       "         3.75000000e-01, -5.55111512e-17,  1.15625000e+01],\n",
       "       [ 6.16666667e+00,  1.50000000e+00,  4.16666667e+00,\n",
       "         5.00000000e-01,  0.00000000e+00,  5.50000000e+00,\n",
       "         6.66666667e-01,  6.66666667e-01,  1.15000000e+01],\n",
       "       [ 5.25000000e+00,  4.25000000e+00,  2.50000000e-01,\n",
       "         7.50000000e-01,  0.00000000e+00,  4.75000000e+00,\n",
       "         5.00000000e-01,  2.50000000e-01,  6.87500000e+00],\n",
       "       [ 3.07142857e+00,  2.14285714e-01,  2.57142857e+00,\n",
       "         2.85714286e-01, -3.46944695e-18,  2.71428571e+00,\n",
       "         3.57142857e-01,  5.00000000e-01,  8.42857143e+00]])"
      ]
     },
     "execution_count": 40,
     "metadata": {},
     "output_type": "execute_result"
    }
   ],
   "source": [
    "k_means_model.cluster_centers_"
   ]
  },
  {
   "cell_type": "code",
   "execution_count": 44,
   "metadata": {},
   "outputs": [
    {
     "ename": "NameError",
     "evalue": "name 'np' is not defined",
     "output_type": "error",
     "traceback": [
      "\u001b[1;31m---------------------------------------------------------------------------\u001b[0m",
      "\u001b[1;31mNameError\u001b[0m                                 Traceback (most recent call last)",
      "Cell \u001b[1;32mIn[44], line 2\u001b[0m\n\u001b[0;32m      1\u001b[0m \u001b[39m# Obtener los índices que ordenan los puntos según su primera columna (coordenada x)\u001b[39;00m\n\u001b[1;32m----> 2\u001b[0m sorted_indices \u001b[39m=\u001b[39m np\u001b[39m.\u001b[39margsort(df\u001b[39m.\u001b[39mto_numpy()[:, \u001b[39m0\u001b[39m])\n\u001b[0;32m      4\u001b[0m \u001b[39m# Ordenar los puntos y los centroides según los índices\u001b[39;00m\n\u001b[0;32m      5\u001b[0m sorted_points \u001b[39m=\u001b[39m df\u001b[39m.\u001b[39mto_numpy()[sorted_indices]\n",
      "\u001b[1;31mNameError\u001b[0m: name 'np' is not defined"
     ]
    }
   ],
   "source": [
    "# Obtener los índices que ordenan los puntos según su primera columna (coordenada x)\n",
    "sorted_indices = np.argsort(df.to_numpy()[:, 0])\n",
    "\n",
    "# Ordenar los puntos y los centroides según los índices\n",
    "sorted_points = df.to_numpy()[sorted_indices]\n",
    "\n",
    "plt.scatter(sorted_points[:, 0], sorted_points[:, 1], marker='.')\n",
    "plt.scatter(k_means_model.cluster_centers_[:, 0], k_means_model.cluster_centers_[:, 1], marker='v', c='r', s=50)\n",
    "plt.show()"
   ]
  }
 ],
 "metadata": {
  "kernelspec": {
   "display_name": "Python 3",
   "language": "python",
   "name": "python3"
  },
  "language_info": {
   "codemirror_mode": {
    "name": "ipython",
    "version": 3
   },
   "file_extension": ".py",
   "mimetype": "text/x-python",
   "name": "python",
   "nbconvert_exporter": "python",
   "pygments_lexer": "ipython3",
   "version": "3.11.3"
  },
  "orig_nbformat": 4
 },
 "nbformat": 4,
 "nbformat_minor": 2
}
