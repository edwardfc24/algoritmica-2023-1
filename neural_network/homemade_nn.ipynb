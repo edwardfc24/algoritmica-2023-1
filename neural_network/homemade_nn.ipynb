{
 "cells": [
  {
   "cell_type": "code",
   "execution_count": 1,
   "metadata": {},
   "outputs": [],
   "source": [
    "from sklearn.datasets import make_circles\n",
    "\n",
    "import matplotlib.pyplot as plt\n",
    "import numpy as np"
   ]
  },
  {
   "cell_type": "code",
   "execution_count": 2,
   "metadata": {},
   "outputs": [],
   "source": [
    "x, y = make_circles(n_samples=500, factor=0.5, noise=0.1)"
   ]
  },
  {
   "cell_type": "code",
   "execution_count": 3,
   "metadata": {},
   "outputs": [
    {
     "data": {
      "text/plain": [
       "array([0, 1, 1, 1, 0, 1, 1, 0, 1, 0, 1, 1, 0, 1, 1, 0, 0, 1, 1, 1, 0, 0,\n",
       "       1, 1, 1, 0, 0, 1, 1, 0, 0, 0, 1, 0, 1, 1, 0, 0, 0, 1, 0, 1, 1, 0,\n",
       "       0, 0, 1, 1, 0, 0, 0, 0, 0, 1, 0, 1, 1, 1, 1, 1, 1, 1, 1, 1, 0, 0,\n",
       "       0, 1, 0, 0, 1, 0, 1, 0, 0, 1, 1, 1, 0, 1, 0, 1, 1, 0, 0, 1, 1, 0,\n",
       "       1, 1, 1, 1, 0, 1, 0, 0, 1, 0, 0, 1, 0, 0, 1, 0, 1, 0, 1, 0, 1, 0,\n",
       "       0, 0, 0, 1, 0, 1, 0, 0, 1, 1, 0, 1, 1, 0, 0, 1, 1, 1, 1, 1, 0, 0,\n",
       "       0, 1, 1, 0, 0, 0, 0, 1, 0, 0, 0, 0, 1, 1, 1, 1, 0, 0, 0, 0, 1, 0,\n",
       "       0, 0, 0, 0, 0, 0, 0, 1, 0, 1, 0, 1, 1, 1, 0, 0, 0, 1, 0, 1, 0, 1,\n",
       "       1, 1, 1, 1, 0, 1, 1, 1, 1, 0, 0, 1, 1, 0, 1, 1, 0, 0, 1, 1, 1, 0,\n",
       "       1, 0, 0, 1, 0, 1, 0, 0, 0, 1, 0, 1, 1, 0, 0, 1, 0, 1, 1, 1, 1, 1,\n",
       "       0, 0, 0, 1, 0, 0, 0, 1, 1, 1, 0, 0, 1, 0, 1, 1, 1, 0, 1, 0, 1, 1,\n",
       "       0, 1, 1, 0, 1, 0, 1, 0, 1, 0, 0, 1, 0, 0, 0, 0, 0, 1, 1, 0, 1, 0,\n",
       "       0, 0, 0, 1, 0, 1, 0, 0, 1, 0, 1, 1, 1, 0, 1, 0, 1, 1, 0, 0, 0, 0,\n",
       "       0, 0, 1, 0, 1, 0, 1, 0, 1, 0, 1, 1, 0, 0, 1, 0, 0, 0, 0, 1, 0, 1,\n",
       "       1, 0, 1, 1, 0, 1, 0, 1, 0, 0, 0, 1, 0, 1, 0, 1, 1, 0, 1, 0, 0, 0,\n",
       "       0, 1, 0, 0, 0, 1, 0, 1, 0, 1, 1, 1, 0, 1, 0, 1, 0, 0, 0, 0, 1, 0,\n",
       "       1, 0, 0, 0, 1, 1, 1, 0, 1, 0, 0, 0, 1, 0, 1, 1, 1, 1, 0, 0, 1, 1,\n",
       "       0, 0, 0, 1, 1, 1, 0, 0, 1, 1, 1, 1, 0, 1, 0, 1, 0, 1, 1, 0, 1, 0,\n",
       "       1, 1, 0, 1, 0, 1, 1, 0, 1, 0, 1, 1, 1, 0, 1, 0, 0, 1, 0, 1, 1, 0,\n",
       "       1, 1, 1, 0, 0, 1, 1, 0, 1, 0, 1, 0, 0, 1, 0, 0, 1, 0, 0, 0, 1, 1,\n",
       "       0, 0, 0, 1, 0, 1, 1, 1, 1, 1, 0, 0, 0, 0, 0, 0, 1, 1, 0, 0, 1, 1,\n",
       "       1, 0, 0, 0, 1, 1, 1, 1, 0, 1, 0, 1, 1, 1, 0, 1, 1, 0, 1, 1, 0, 0,\n",
       "       1, 1, 0, 1, 1, 0, 0, 0, 0, 1, 1, 1, 1, 1, 0, 1], dtype=int64)"
      ]
     },
     "execution_count": 3,
     "metadata": {},
     "output_type": "execute_result"
    }
   ],
   "source": [
    "y"
   ]
  },
  {
   "cell_type": "code",
   "execution_count": 4,
   "metadata": {},
   "outputs": [
    {
     "data": {
      "image/png": "[encoded data removed]",
      "text/plain": [
       "<Figure size 432x288 with 1 Axes>"
      ]
     },
     "metadata": {
      "needs_background": "light"
     },
     "output_type": "display_data"
    }
   ],
   "source": [
    "plt.scatter(x[:, 0], x [:, 1])\n",
    "plt.show()"
   ]
  },
  {
   "attachments": {},
   "cell_type": "markdown",
   "metadata": {},
   "source": [
    "### Ahora creamos los objetos (clases) de nuestra red neuronal y los métodos que contendrá"
   ]
  },
  {
   "cell_type": "code",
   "execution_count": 7,
   "metadata": {},
   "outputs": [],
   "source": [
    "class NeuralLayer:\n",
    "    def __init__(self, n_perceptrons, edges, activation_functions):\n",
    "        self.n_perceptrons = n_perceptrons\n",
    "        self.edges = edges\n",
    "        self.activation_functions = activation_functions\n",
    "        # Para facilitar la inicialización de la capa, generaremos aleatoriamente los valores de peso y pendiente\n",
    "        self.weights = np.random.rand(edges, n_perceptrons) * 2 - 1\n",
    "        self.slopes = np.random.rand(1, n_perceptrons) * 2 - 1\n",
    "        np.random.rand\n",
    "\n",
    "    def set_slopes(self, slopes):\n",
    "        self.slopes = slopes\n",
    "\n",
    "    def get_slopes(self):\n",
    "        return self.slopes\n"
   ]
  },
  {
   "attachments": {},
   "cell_type": "markdown",
   "metadata": {},
   "source": [
    "### Ahora definimos la función de activación"
   ]
  },
  {
   "cell_type": "code",
   "execution_count": 6,
   "metadata": {},
   "outputs": [],
   "source": [
    "# Para este cometido utilizaremos la función Sigmoidea --> (1 / 1 + e ^ -x)\n",
    "# Función anónima --> lambda parameter_1, parameter_n: parameter_1 + parameter_n\n",
    "sigmoide =(\n",
    "    lambda x: 1.0 / (1.0 + np.e ** (-x)), # Se usará en el FastForward/ForwardPass\n",
    "    lambda x: x * (1.0 - x)               # Se usará en el Backpropagation\n",
    ")"
   ]
  },
  {
   "attachments": {},
   "cell_type": "markdown",
   "metadata": {},
   "source": [
    "### Definir la Topología de nuestra red"
   ]
  },
  {
   "cell_type": "code",
   "execution_count": 27,
   "metadata": {},
   "outputs": [],
   "source": [
    "parameters = 2\n",
    "output =  1\n",
    "topology = [parameters, 3, 4, 2, output]"
   ]
  },
  {
   "attachments": {},
   "cell_type": "markdown",
   "metadata": {},
   "source": [
    "### Inicializamos la red neuronal"
   ]
  },
  {
   "cell_type": "code",
   "execution_count": 33,
   "metadata": {},
   "outputs": [],
   "source": [
    "def get_neural_network(topology, activation_functions):\n",
    "    neural_network = []\n",
    "    for index, layer in enumerate(topology[:-1]):\n",
    "        neural_network.append(NeuralLayer(\n",
    "            edges=topology[index + 1],\n",
    "            n_perceptrons=topology[index],\n",
    "            activation_functions=activation_functions\n",
    "        ))\n",
    "    return neural_network"
   ]
  },
  {
   "attachments": {},
   "cell_type": "markdown",
   "metadata": {},
   "source": [
    "### Definir la función de pérdida"
   ]
  },
  {
   "cell_type": "code",
   "execution_count": 34,
   "metadata": {},
   "outputs": [],
   "source": [
    "sqr_mean_error = (\n",
    "    lambda predicted_y, real_y: np.mean((predicted_y - real_y) ** 2), # ForwardPass\n",
    "    lambda predicted_y, real_y: predicted_y - real_y                  # Backpropagation\n",
    ")"
   ]
  },
  {
   "attachments": {},
   "cell_type": "markdown",
   "metadata": {},
   "source": [
    "### Ahora toca entonces entrenar nuestra red"
   ]
  },
  {
   "cell_type": "code",
   "execution_count": 38,
   "metadata": {},
   "outputs": [],
   "source": [
    "def fit(x, y, neural_network, loss_function, learning_rate=0.5):\n",
    "    # Definir una estructura que almacene los valores de salida\n",
    "    #           0    1\n",
    "    output = [(None, x)]\n",
    "    for index, layer in enumerate(neural_network):\n",
    "        # Definimos el forward pass\n",
    "        # Realizamos lo que se denomina la unión sumadora (multiplicación matricial)\n",
    "        # (n, m) (m, o) --> (500, 2) x (2, 15)\n",
    "        print(neural_network[index])\n",
    "        weigth_sum = output[-1][1] @ neural_network[index].weights + neural_network[index].slopes\n",
    "        # Pasamos los valores calculados a la función de activación\n",
    "        # sigmoide[0](weigth_sum)\n",
    "        activated = np.vectorize(neural_network[index].activation_functions[0])(weigth_sum)\n",
    "        output.append((weigth_sum, activated))\n",
    "    # Definimos el Backpropagation\n",
    "    deltas = []\n",
    "    for position in reversed(range(0, len(neural_network))):\n",
    "        activated = output[position + 1][1]\n",
    "        if position == len(neural_network) - 1:\n",
    "            deltas.insert(0, loss_function[1](activated, y) * neural_network[position].activation_functions[1](activated))\n",
    "        else:\n",
    "            deltas.insert(0, deltas[0] @ weight_temp.T * neural_network[position].activation_functions[1](activated))\n",
    "        weight_temp = neural_network[position].weights\n",
    "        # Ahora aplcicamos la técnica de la gradiente de descenso, para transmitir el error a los pesos\n",
    "        neural_network[position].weights = neural_network[position].weights - output[position][1].T @ deltas[0] * learning_rate\n",
    "        neural_network[position].slopes = neural_network[position].slopes - np.mean(deltas[0], axis=0, keepdims=True) * learning_rate\n",
    "    return output[-1][1]"
   ]
  },
  {
   "cell_type": "code",
   "execution_count": 39,
   "metadata": {},
   "outputs": [],
   "source": [
    "net = get_neural_network(topology, sigmoide)"
   ]
  },
  {
   "cell_type": "code",
   "execution_count": 40,
   "metadata": {},
   "outputs": [
    {
     "name": "stdout",
     "output_type": "stream",
     "text": [
      "[[[[[[[0]]]]]]]\n"
     ]
    },
    {
     "ename": "AttributeError",
     "evalue": "'numpy.ndarray' object has no attribute 'weights'",
     "output_type": "error",
     "traceback": [
      "\u001b[1;31m---------------------------------------------------------------------------\u001b[0m",
      "\u001b[1;31mAttributeError\u001b[0m                            Traceback (most recent call last)",
      "\u001b[1;32m<ipython-input-40-16d3a5629222>\u001b[0m in \u001b[0;36m<module>\u001b[1;34m\u001b[0m\n\u001b[0;32m      5\u001b[0m \u001b[0my_predicted\u001b[0m \u001b[1;33m=\u001b[0m \u001b[1;32mNone\u001b[0m\u001b[1;33m\u001b[0m\u001b[1;33m\u001b[0m\u001b[0m\n\u001b[0;32m      6\u001b[0m \u001b[1;32mfor\u001b[0m \u001b[0mindex\u001b[0m \u001b[1;32min\u001b[0m \u001b[0mrange\u001b[0m\u001b[1;33m(\u001b[0m\u001b[1;36m1500\u001b[0m\u001b[1;33m)\u001b[0m\u001b[1;33m:\u001b[0m\u001b[1;33m\u001b[0m\u001b[1;33m\u001b[0m\u001b[0m\n\u001b[1;32m----> 7\u001b[1;33m     \u001b[0my_predicted\u001b[0m \u001b[1;33m=\u001b[0m \u001b[0mfit\u001b[0m\u001b[1;33m(\u001b[0m\u001b[0mnet\u001b[0m\u001b[1;33m,\u001b[0m \u001b[0mx\u001b[0m\u001b[1;33m,\u001b[0m \u001b[0my\u001b[0m\u001b[1;33m,\u001b[0m \u001b[0msqr_mean_error\u001b[0m\u001b[1;33m,\u001b[0m \u001b[0mlearning_rate\u001b[0m\u001b[1;33m=\u001b[0m\u001b[1;36m0.15\u001b[0m\u001b[1;33m)\u001b[0m\u001b[1;33m\u001b[0m\u001b[1;33m\u001b[0m\u001b[0m\n\u001b[0m\u001b[0;32m      8\u001b[0m     \u001b[1;32mif\u001b[0m \u001b[0mindex\u001b[0m \u001b[1;33m%\u001b[0m \u001b[1;36m25\u001b[0m \u001b[1;33m==\u001b[0m \u001b[1;36m0\u001b[0m\u001b[1;33m:\u001b[0m\u001b[1;33m\u001b[0m\u001b[1;33m\u001b[0m\u001b[0m\n\u001b[0;32m      9\u001b[0m         \u001b[0mloss\u001b[0m\u001b[1;33m.\u001b[0m\u001b[0mappend\u001b[0m\u001b[1;33m(\u001b[0m\u001b[0msqr_mean_error\u001b[0m\u001b[1;33m[\u001b[0m\u001b[1;36m0\u001b[0m\u001b[1;33m]\u001b[0m\u001b[1;33m(\u001b[0m\u001b[0my_predicted\u001b[0m\u001b[1;33m,\u001b[0m \u001b[0my\u001b[0m\u001b[1;33m)\u001b[0m\u001b[1;33m)\u001b[0m\u001b[1;33m\u001b[0m\u001b[1;33m\u001b[0m\u001b[0m\n",
      "\u001b[1;32m<ipython-input-38-5cf9ea38c660>\u001b[0m in \u001b[0;36mfit\u001b[1;34m(x, y, neural_network, loss_function, learning_rate)\u001b[0m\n\u001b[0;32m      8\u001b[0m         \u001b[1;31m# (n, m) (m, o) --> (500, 2) x (2, 15)\u001b[0m\u001b[1;33m\u001b[0m\u001b[1;33m\u001b[0m\u001b[1;33m\u001b[0m\u001b[0m\n\u001b[0;32m      9\u001b[0m         \u001b[0mprint\u001b[0m\u001b[1;33m(\u001b[0m\u001b[0mneural_network\u001b[0m\u001b[1;33m[\u001b[0m\u001b[0mindex\u001b[0m\u001b[1;33m]\u001b[0m\u001b[1;33m)\u001b[0m\u001b[1;33m\u001b[0m\u001b[1;33m\u001b[0m\u001b[0m\n\u001b[1;32m---> 10\u001b[1;33m         \u001b[0mweigth_sum\u001b[0m \u001b[1;33m=\u001b[0m \u001b[0moutput\u001b[0m\u001b[1;33m[\u001b[0m\u001b[1;33m-\u001b[0m\u001b[1;36m1\u001b[0m\u001b[1;33m]\u001b[0m\u001b[1;33m[\u001b[0m\u001b[1;36m1\u001b[0m\u001b[1;33m]\u001b[0m \u001b[1;33m@\u001b[0m \u001b[0mneural_network\u001b[0m\u001b[1;33m[\u001b[0m\u001b[0mindex\u001b[0m\u001b[1;33m]\u001b[0m\u001b[1;33m.\u001b[0m\u001b[0mweights\u001b[0m \u001b[1;33m+\u001b[0m \u001b[0mneural_network\u001b[0m\u001b[1;33m[\u001b[0m\u001b[0mindex\u001b[0m\u001b[1;33m]\u001b[0m\u001b[1;33m.\u001b[0m\u001b[0mslopes\u001b[0m\u001b[1;33m\u001b[0m\u001b[1;33m\u001b[0m\u001b[0m\n\u001b[0m\u001b[0;32m     11\u001b[0m         \u001b[1;31m# Pasamos los valores calculados a la función de activación\u001b[0m\u001b[1;33m\u001b[0m\u001b[1;33m\u001b[0m\u001b[1;33m\u001b[0m\u001b[0m\n\u001b[0;32m     12\u001b[0m         \u001b[1;31m# sigmoide[0](weigth_sum)\u001b[0m\u001b[1;33m\u001b[0m\u001b[1;33m\u001b[0m\u001b[1;33m\u001b[0m\u001b[0m\n",
      "\u001b[1;31mAttributeError\u001b[0m: 'numpy.ndarray' object has no attribute 'weights'"
     ]
    }
   ],
   "source": [
    "import time\n",
    "from IPython.display import clear_output\n",
    "loss = []\n",
    "y =  y[:, np.newaxis]\n",
    "y_predicted = None\n",
    "for index in range(1500):\n",
    "    y_predicted = fit(net, x, y, sqr_mean_error, learning_rate=0.15)\n",
    "    if index % 25 == 0:\n",
    "        loss.append(sqr_mean_error[0](y_predicted, y))\n",
    "        res = 50\n",
    "        _x0 = np.linspace(-1.5, 1.5, res)\n",
    "        _x1 = np.linspace(-1.5, 1.5, res)\n",
    "        _Y = np.zeros((res, res))\n",
    "        for i0, x0 in enumerate(_x0):\n",
    "            for i1, x1 in enumerate(_x1):\n",
    "                _Y[i0, i1] = fit(net, np.array([[x0, x1]]), y, sqr_mean_error, use_train=False)[0][0]\n",
    "        plt.pcolormesh(_x0, _x1, _Y, cmap=\"coolwarm\")\n",
    "        plt.axis(\"equal\")\n",
    "\n",
    "        plt.scatter(x[y[:, 0] == 0, 0], x[y[:,0] == 0, 1], c=\"skyblue\")\n",
    "        plt.scatter(x[y[:, 0] == 1, 0], x[y[:,0] == 1, 1], c=\"salmon\")\n",
    "\n",
    "        clear_output(wait=True)\n",
    "        plt.show()\n",
    "        plt.plot(range(len(loss)), loss)\n",
    "        plt.show()\n",
    "        time.sleep(0.5)\n",
    "print(y_predicted)"
   ]
  }
 ],
 "metadata": {
  "kernelspec": {
   "display_name": "Python 3",
   "language": "python",
   "name": "python3"
  },
  "language_info": {
   "codemirror_mode": {
    "name": "ipython",
    "version": 3
   },
   "file_extension": ".py",
   "mimetype": "text/x-python",
   "name": "python",
   "nbconvert_exporter": "python",
   "pygments_lexer": "ipython3",
   "version": "3.8.5"
  },
  "orig_nbformat": 4
 },
 "nbformat": 4,
 "nbformat_minor": 2
}
