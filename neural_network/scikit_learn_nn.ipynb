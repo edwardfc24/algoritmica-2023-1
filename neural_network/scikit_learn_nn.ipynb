{
 "cells": [
  {
   "cell_type": "code",
   "execution_count": 1,
   "metadata": {},
   "outputs": [],
   "source": [
    "from sklearn.datasets import make_circles\n",
    "from sklearn.neural_network import MLPClassifier\n",
    "\n",
    "import pandas as pd\n",
    "import numpy as np"
   ]
  },
  {
   "cell_type": "code",
   "execution_count": 2,
   "metadata": {},
   "outputs": [],
   "source": [
    "x, y = make_circles(n_samples=500, factor=0.5, noise=0.1)"
   ]
  },
  {
   "attachments": {},
   "cell_type": "markdown",
   "metadata": {},
   "source": [
    "## Redes Neuronales en Scikit Learn"
   ]
  },
  {
   "attachments": {},
   "cell_type": "markdown",
   "metadata": {},
   "source": [
    "**hidden_layers_sizes:** Es una tupla cuya forma define la topología de la red neuronal. El primer valor de la tupla establece el número de perceptrones y el segundo establece el número de capas.\n",
    "\n",
    "**activation:** Es la función que estandariza la salida de la red neuronal para arrojar únicamente ceros y unos.\n",
    "- 'identity': Esta función está basada en la matriz identidad, esto genera cuellos de botella.\n",
    "- 'logistic': Esta es la representación de la función sigmoide.\n",
    "- 'tanh': Esta función es la representación de la tangente hiperbólica, produce un resultado similar a la función sigmoide.\n",
    "- 'relu': Esta función es la que implementa la fórmula de máximos y mínimos, estos valores están dados entre 0 y 1.\n",
    "\n",
    "**solver:** Es el encargado de ajustar los pesos según el error transmitido.\n",
    "- 'sgd': Ajusta los pesos en base a la gradiente de descenso.\n",
    "- 'adam': Ajusta los pesos en base a una gradiente de descenso optimizada.\n",
    "\n",
    "**learning_rate:**  Como vimos en nuestra red neuronal casera, ajusta la velocidad con la que aprende la red.\n",
    "- 'constant': Mantiene la tasa de aprendizaje en base al valor establecido en el __learning_rate_init__.\n",
    "- 'adaptive': Realiza una división (ajuste), cada vez que se encuentra con una meseta.\n",
    "- 'invscaling': Realiza una resta (ajuste), cada vez que se encuentra con una meseta.\n",
    "\n",
    "**learning_rate_init:** Es un número comprendido entre 0 y 1, que representaría el valor que nosotros fijamos en la red neuronal. Este parámetro es requerido sí y solo si, el learning_rate se fija en constante."
   ]
  },
  {
   "cell_type": "code",
   "execution_count": 28,
   "metadata": {},
   "outputs": [],
   "source": [
    "#nn_classifier = MLPClassifier(hidden_layer_sizes=(3, 3), activation='logistic', solver='sgd', learning_rate='constant', learning_rate_init=0.15)\n",
    "nn_classifier = MLPClassifier(hidden_layer_sizes=(100, 110), activation='tanh', solver='adam', learning_rate='adaptive', max_iter=1500, n_iter_no_change=50)"
   ]
  },
  {
   "cell_type": "code",
   "execution_count": 29,
   "metadata": {},
   "outputs": [
    {
     "data": {
      "text/plain": [
       "MLPClassifier(activation='tanh', hidden_layer_sizes=(100, 110),\n",
       "              learning_rate='adaptive', max_iter=1500, n_iter_no_change=50)"
      ]
     },
     "execution_count": 29,
     "metadata": {},
     "output_type": "execute_result"
    }
   ],
   "source": [
    "nn_classifier.fit(x, y)"
   ]
  },
  {
   "attachments": {},
   "cell_type": "markdown",
   "metadata": {},
   "source": [
    "### Nos familiarizamos con los datos arrojados por la red"
   ]
  },
  {
   "cell_type": "code",
   "execution_count": 30,
   "metadata": {},
   "outputs": [
    {
     "name": "stdout",
     "output_type": "stream",
     "text": [
      "Etiquetas: [0 1]\n"
     ]
    }
   ],
   "source": [
    "# Obtenemos las etiquetas que produce la clasificación\n",
    "print(f'Etiquetas: {nn_classifier.classes_}' )"
   ]
  },
  {
   "cell_type": "code",
   "execution_count": 35,
   "metadata": {},
   "outputs": [
    {
     "name": "stdout",
     "output_type": "stream",
     "text": [
      "Tasa de pérdida: 0.008\n"
     ]
    }
   ],
   "source": [
    "# Podemos también, ver la tasa de pérdida\n",
    "print(f'Tasa de pérdida: {round(nn_classifier.loss_, 4)}')"
   ]
  },
  {
   "cell_type": "code",
   "execution_count": 32,
   "metadata": {},
   "outputs": [
    {
     "name": "stdout",
     "output_type": "stream",
     "text": [
      "Score: 1.0\n"
     ]
    }
   ],
   "source": [
    "# También se puede observar la precisión de la red\n",
    "print(f'Score: {round(nn_classifier.score(x, y), 2)}')"
   ]
  },
  {
   "cell_type": "code",
   "execution_count": 33,
   "metadata": {},
   "outputs": [
    {
     "name": "stdout",
     "output_type": "stream",
     "text": [
      "Épocas: 635\n"
     ]
    }
   ],
   "source": [
    "# Podemos apreciar las épocas que le tomó a la red entrenarse\n",
    "print(f'Épocas: {nn_classifier.n_iter_}')"
   ]
  },
  {
   "attachments": {},
   "cell_type": "markdown",
   "metadata": {},
   "source": [
    "## El objetivo de la red es clasificar los valores que se le entregan para generar una etiqueta"
   ]
  },
  {
   "cell_type": "code",
   "execution_count": 34,
   "metadata": {},
   "outputs": [
    {
     "name": "stdout",
     "output_type": "stream",
     "text": [
      "El soldado ubicado en los puntos: [[0.8775, 0.6341]], pertenece al Ejército de Snow\n"
     ]
    }
   ],
   "source": [
    "points = [[0.8775, 0.6341]]\n",
    "predicted = nn_classifier.predict(points)\n",
    "armies = ['Ejército de Snow', 'Ejército de Bolton']\n",
    "print(f'El soldado ubicado en los puntos: {points}, pertenece al {armies[predicted[0]]}')"
   ]
  },
  {
   "cell_type": "code",
   "execution_count": null,
   "metadata": {},
   "outputs": [],
   "source": []
  }
 ],
 "metadata": {
  "kernelspec": {
   "display_name": "Python 3",
   "language": "python",
   "name": "python3"
  },
  "language_info": {
   "codemirror_mode": {
    "name": "ipython",
    "version": 3
   },
   "file_extension": ".py",
   "mimetype": "text/x-python",
   "name": "python",
   "nbconvert_exporter": "python",
   "pygments_lexer": "ipython3",
   "version": "3.8.5"
  },
  "orig_nbformat": 4
 },
 "nbformat": 4,
 "nbformat_minor": 2
}
