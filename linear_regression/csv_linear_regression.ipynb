{
 "cells": [
  {
   "cell_type": "code",
   "execution_count": 1,
   "metadata": {},
   "outputs": [],
   "source": [
    "# Importamos las librerías necesarias\n",
    "from sklearn.model_selection import train_test_split\n",
    "from sklearn import linear_model\n",
    "\n",
    "import pandas as pd\n",
    "import numpy as np\n",
    "import matplotlib.pyplot as plt"
   ]
  },
  {
   "cell_type": "code",
   "execution_count": 2,
   "metadata": {},
   "outputs": [],
   "source": [
    "# Importamos el dataset para manejarlo como un DataFrame\n",
    "df = pd.read_csv('insurance.csv')"
   ]
  },
  {
   "cell_type": "code",
   "execution_count": 8,
   "metadata": {},
   "outputs": [],
   "source": [
    "#Familiarizarse con el dataframe, luego hacer la limpieza\n",
    "df.sex = df['sex'].map({'male': 0, 'female': 1})\n",
    "df['smoker'] = df.smoker.map({'no': 0, 'yes': 1})"
   ]
  },
  {
   "cell_type": "code",
   "execution_count": 10,
   "metadata": {},
   "outputs": [],
   "source": [
    "df.region = df.region.map({'southwest': 0, 'southeast': 1, 'northwest': 2, 'northeast': 3})"
   ]
  },
  {
   "cell_type": "code",
   "execution_count": 11,
   "metadata": {},
   "outputs": [
    {
     "data": {
      "text/html": [
       "<div>\n",
       "<style scoped>\n",
       "    .dataframe tbody tr th:only-of-type {\n",
       "        vertical-align: middle;\n",
       "    }\n",
       "\n",
       "    .dataframe tbody tr th {\n",
       "        vertical-align: top;\n",
       "    }\n",
       "\n",
       "    .dataframe thead th {\n",
       "        text-align: right;\n",
       "    }\n",
       "</style>\n",
       "<table border=\"1\" class=\"dataframe\">\n",
       "  <thead>\n",
       "    <tr style=\"text-align: right;\">\n",
       "      <th></th>\n",
       "      <th>age</th>\n",
       "      <th>sex</th>\n",
       "      <th>bmi</th>\n",
       "      <th>children</th>\n",
       "      <th>smoker</th>\n",
       "      <th>region</th>\n",
       "      <th>charges</th>\n",
       "    </tr>\n",
       "  </thead>\n",
       "  <tbody>\n",
       "    <tr>\n",
       "      <th>count</th>\n",
       "      <td>1338.000000</td>\n",
       "      <td>1338.000000</td>\n",
       "      <td>1338.000000</td>\n",
       "      <td>1338.000000</td>\n",
       "      <td>1338.000000</td>\n",
       "      <td>1338.000000</td>\n",
       "      <td>1338.000000</td>\n",
       "    </tr>\n",
       "    <tr>\n",
       "      <th>mean</th>\n",
       "      <td>39.207025</td>\n",
       "      <td>0.494768</td>\n",
       "      <td>30.663397</td>\n",
       "      <td>1.094918</td>\n",
       "      <td>0.204783</td>\n",
       "      <td>1.484305</td>\n",
       "      <td>13270.422265</td>\n",
       "    </tr>\n",
       "    <tr>\n",
       "      <th>std</th>\n",
       "      <td>14.049960</td>\n",
       "      <td>0.500160</td>\n",
       "      <td>6.098187</td>\n",
       "      <td>1.205493</td>\n",
       "      <td>0.403694</td>\n",
       "      <td>1.104885</td>\n",
       "      <td>12110.011237</td>\n",
       "    </tr>\n",
       "    <tr>\n",
       "      <th>min</th>\n",
       "      <td>18.000000</td>\n",
       "      <td>0.000000</td>\n",
       "      <td>15.960000</td>\n",
       "      <td>0.000000</td>\n",
       "      <td>0.000000</td>\n",
       "      <td>0.000000</td>\n",
       "      <td>1121.873900</td>\n",
       "    </tr>\n",
       "    <tr>\n",
       "      <th>25%</th>\n",
       "      <td>27.000000</td>\n",
       "      <td>0.000000</td>\n",
       "      <td>26.296250</td>\n",
       "      <td>0.000000</td>\n",
       "      <td>0.000000</td>\n",
       "      <td>1.000000</td>\n",
       "      <td>4740.287150</td>\n",
       "    </tr>\n",
       "    <tr>\n",
       "      <th>50%</th>\n",
       "      <td>39.000000</td>\n",
       "      <td>0.000000</td>\n",
       "      <td>30.400000</td>\n",
       "      <td>1.000000</td>\n",
       "      <td>0.000000</td>\n",
       "      <td>1.000000</td>\n",
       "      <td>9382.033000</td>\n",
       "    </tr>\n",
       "    <tr>\n",
       "      <th>75%</th>\n",
       "      <td>51.000000</td>\n",
       "      <td>1.000000</td>\n",
       "      <td>34.693750</td>\n",
       "      <td>2.000000</td>\n",
       "      <td>0.000000</td>\n",
       "      <td>2.000000</td>\n",
       "      <td>16639.912515</td>\n",
       "    </tr>\n",
       "    <tr>\n",
       "      <th>max</th>\n",
       "      <td>64.000000</td>\n",
       "      <td>1.000000</td>\n",
       "      <td>53.130000</td>\n",
       "      <td>5.000000</td>\n",
       "      <td>1.000000</td>\n",
       "      <td>3.000000</td>\n",
       "      <td>63770.428010</td>\n",
       "    </tr>\n",
       "  </tbody>\n",
       "</table>\n",
       "</div>"
      ],
      "text/plain": [
       "               age          sex          bmi     children       smoker  \\\n",
       "count  1338.000000  1338.000000  1338.000000  1338.000000  1338.000000   \n",
       "mean     39.207025     0.494768    30.663397     1.094918     0.204783   \n",
       "std      14.049960     0.500160     6.098187     1.205493     0.403694   \n",
       "min      18.000000     0.000000    15.960000     0.000000     0.000000   \n",
       "25%      27.000000     0.000000    26.296250     0.000000     0.000000   \n",
       "50%      39.000000     0.000000    30.400000     1.000000     0.000000   \n",
       "75%      51.000000     1.000000    34.693750     2.000000     0.000000   \n",
       "max      64.000000     1.000000    53.130000     5.000000     1.000000   \n",
       "\n",
       "            region       charges  \n",
       "count  1338.000000   1338.000000  \n",
       "mean      1.484305  13270.422265  \n",
       "std       1.104885  12110.011237  \n",
       "min       0.000000   1121.873900  \n",
       "25%       1.000000   4740.287150  \n",
       "50%       1.000000   9382.033000  \n",
       "75%       2.000000  16639.912515  \n",
       "max       3.000000  63770.428010  "
      ]
     },
     "execution_count": 11,
     "metadata": {},
     "output_type": "execute_result"
    }
   ],
   "source": [
    "# Aplicamos el describe para validar los datos\n",
    "df.describe()"
   ]
  },
  {
   "cell_type": "code",
   "execution_count": 13,
   "metadata": {},
   "outputs": [
    {
     "data": {
      "text/html": [
       "<style  type=\"text/css\" >\n",
       "#T_e70be204_eba7_11ed_82af_8cc681f6ccbdrow0_col0,#T_e70be204_eba7_11ed_82af_8cc681f6ccbdrow1_col1,#T_e70be204_eba7_11ed_82af_8cc681f6ccbdrow2_col2,#T_e70be204_eba7_11ed_82af_8cc681f6ccbdrow3_col3,#T_e70be204_eba7_11ed_82af_8cc681f6ccbdrow4_col4,#T_e70be204_eba7_11ed_82af_8cc681f6ccbdrow5_col5,#T_e70be204_eba7_11ed_82af_8cc681f6ccbdrow6_col6{\n",
       "            background-color:  #023858;\n",
       "            color:  #f1f1f1;\n",
       "        }#T_e70be204_eba7_11ed_82af_8cc681f6ccbdrow0_col1{\n",
       "            background-color:  #f1ebf5;\n",
       "            color:  #000000;\n",
       "        }#T_e70be204_eba7_11ed_82af_8cc681f6ccbdrow0_col2{\n",
       "            background-color:  #d4d4e8;\n",
       "            color:  #000000;\n",
       "        }#T_e70be204_eba7_11ed_82af_8cc681f6ccbdrow0_col3,#T_e70be204_eba7_11ed_82af_8cc681f6ccbdrow5_col6{\n",
       "            background-color:  #f6eff7;\n",
       "            color:  #000000;\n",
       "        }#T_e70be204_eba7_11ed_82af_8cc681f6ccbdrow0_col4,#T_e70be204_eba7_11ed_82af_8cc681f6ccbdrow1_col0{\n",
       "            background-color:  #f8f1f8;\n",
       "            color:  #000000;\n",
       "        }#T_e70be204_eba7_11ed_82af_8cc681f6ccbdrow0_col5{\n",
       "            background-color:  #eae6f1;\n",
       "            color:  #000000;\n",
       "        }#T_e70be204_eba7_11ed_82af_8cc681f6ccbdrow0_col6{\n",
       "            background-color:  #b3c3de;\n",
       "            color:  #000000;\n",
       "        }#T_e70be204_eba7_11ed_82af_8cc681f6ccbdrow1_col2{\n",
       "            background-color:  #f1ebf4;\n",
       "            color:  #000000;\n",
       "        }#T_e70be204_eba7_11ed_82af_8cc681f6ccbdrow1_col3,#T_e70be204_eba7_11ed_82af_8cc681f6ccbdrow1_col4,#T_e70be204_eba7_11ed_82af_8cc681f6ccbdrow1_col6,#T_e70be204_eba7_11ed_82af_8cc681f6ccbdrow2_col5,#T_e70be204_eba7_11ed_82af_8cc681f6ccbdrow4_col0,#T_e70be204_eba7_11ed_82af_8cc681f6ccbdrow4_col1,#T_e70be204_eba7_11ed_82af_8cc681f6ccbdrow5_col2,#T_e70be204_eba7_11ed_82af_8cc681f6ccbdrow5_col3{\n",
       "            background-color:  #fff7fb;\n",
       "            color:  #000000;\n",
       "        }#T_e70be204_eba7_11ed_82af_8cc681f6ccbdrow1_col5,#T_e70be204_eba7_11ed_82af_8cc681f6ccbdrow4_col2,#T_e70be204_eba7_11ed_82af_8cc681f6ccbdrow4_col5{\n",
       "            background-color:  #e9e5f1;\n",
       "            color:  #000000;\n",
       "        }#T_e70be204_eba7_11ed_82af_8cc681f6ccbdrow2_col0{\n",
       "            background-color:  #ebe6f2;\n",
       "            color:  #000000;\n",
       "        }#T_e70be204_eba7_11ed_82af_8cc681f6ccbdrow2_col1,#T_e70be204_eba7_11ed_82af_8cc681f6ccbdrow2_col3{\n",
       "            background-color:  #fbf3f9;\n",
       "            color:  #000000;\n",
       "        }#T_e70be204_eba7_11ed_82af_8cc681f6ccbdrow2_col4,#T_e70be204_eba7_11ed_82af_8cc681f6ccbdrow3_col4,#T_e70be204_eba7_11ed_82af_8cc681f6ccbdrow5_col1{\n",
       "            background-color:  #f4edf6;\n",
       "            color:  #000000;\n",
       "        }#T_e70be204_eba7_11ed_82af_8cc681f6ccbdrow2_col6{\n",
       "            background-color:  #d2d3e7;\n",
       "            color:  #000000;\n",
       "        }#T_e70be204_eba7_11ed_82af_8cc681f6ccbdrow3_col0{\n",
       "            background-color:  #f5eff6;\n",
       "            color:  #000000;\n",
       "        }#T_e70be204_eba7_11ed_82af_8cc681f6ccbdrow3_col1{\n",
       "            background-color:  #f7f0f7;\n",
       "            color:  #000000;\n",
       "        }#T_e70be204_eba7_11ed_82af_8cc681f6ccbdrow3_col2{\n",
       "            background-color:  #e7e3f0;\n",
       "            color:  #000000;\n",
       "        }#T_e70be204_eba7_11ed_82af_8cc681f6ccbdrow3_col5{\n",
       "            background-color:  #ede7f2;\n",
       "            color:  #000000;\n",
       "        }#T_e70be204_eba7_11ed_82af_8cc681f6ccbdrow3_col6{\n",
       "            background-color:  #ede8f3;\n",
       "            color:  #000000;\n",
       "        }#T_e70be204_eba7_11ed_82af_8cc681f6ccbdrow4_col3{\n",
       "            background-color:  #fbf4f9;\n",
       "            color:  #000000;\n",
       "        }#T_e70be204_eba7_11ed_82af_8cc681f6ccbdrow4_col6{\n",
       "            background-color:  #0567a2;\n",
       "            color:  #f1f1f1;\n",
       "        }#T_e70be204_eba7_11ed_82af_8cc681f6ccbdrow5_col0{\n",
       "            background-color:  #fcf4fa;\n",
       "            color:  #000000;\n",
       "        }#T_e70be204_eba7_11ed_82af_8cc681f6ccbdrow5_col4{\n",
       "            background-color:  #f4eef6;\n",
       "            color:  #000000;\n",
       "        }#T_e70be204_eba7_11ed_82af_8cc681f6ccbdrow6_col0{\n",
       "            background-color:  #bbc7e0;\n",
       "            color:  #000000;\n",
       "        }#T_e70be204_eba7_11ed_82af_8cc681f6ccbdrow6_col1{\n",
       "            background-color:  #fdf5fa;\n",
       "            color:  #000000;\n",
       "        }#T_e70be204_eba7_11ed_82af_8cc681f6ccbdrow6_col2{\n",
       "            background-color:  #bdc8e1;\n",
       "            color:  #000000;\n",
       "        }#T_e70be204_eba7_11ed_82af_8cc681f6ccbdrow6_col3{\n",
       "            background-color:  #f2ecf5;\n",
       "            color:  #000000;\n",
       "        }#T_e70be204_eba7_11ed_82af_8cc681f6ccbdrow6_col4{\n",
       "            background-color:  #0567a1;\n",
       "            color:  #f1f1f1;\n",
       "        }#T_e70be204_eba7_11ed_82af_8cc681f6ccbdrow6_col5{\n",
       "            background-color:  #e8e4f0;\n",
       "            color:  #000000;\n",
       "        }</style><table id=\"T_e70be204_eba7_11ed_82af_8cc681f6ccbd\" ><thead>    <tr>        <th class=\"blank level0\" ></th>        <th class=\"col_heading level0 col0\" >age</th>        <th class=\"col_heading level0 col1\" >sex</th>        <th class=\"col_heading level0 col2\" >bmi</th>        <th class=\"col_heading level0 col3\" >children</th>        <th class=\"col_heading level0 col4\" >smoker</th>        <th class=\"col_heading level0 col5\" >region</th>        <th class=\"col_heading level0 col6\" >charges</th>    </tr></thead><tbody>\n",
       "                <tr>\n",
       "                        <th id=\"T_e70be204_eba7_11ed_82af_8cc681f6ccbdlevel0_row0\" class=\"row_heading level0 row0\" >age</th>\n",
       "                        <td id=\"T_e70be204_eba7_11ed_82af_8cc681f6ccbdrow0_col0\" class=\"data row0 col0\" >1.000000</td>\n",
       "                        <td id=\"T_e70be204_eba7_11ed_82af_8cc681f6ccbdrow0_col1\" class=\"data row0 col1\" >0.020856</td>\n",
       "                        <td id=\"T_e70be204_eba7_11ed_82af_8cc681f6ccbdrow0_col2\" class=\"data row0 col2\" >0.109272</td>\n",
       "                        <td id=\"T_e70be204_eba7_11ed_82af_8cc681f6ccbdrow0_col3\" class=\"data row0 col3\" >0.042469</td>\n",
       "                        <td id=\"T_e70be204_eba7_11ed_82af_8cc681f6ccbdrow0_col4\" class=\"data row0 col4\" >-0.025019</td>\n",
       "                        <td id=\"T_e70be204_eba7_11ed_82af_8cc681f6ccbdrow0_col5\" class=\"data row0 col5\" >-0.002127</td>\n",
       "                        <td id=\"T_e70be204_eba7_11ed_82af_8cc681f6ccbdrow0_col6\" class=\"data row0 col6\" >0.299008</td>\n",
       "            </tr>\n",
       "            <tr>\n",
       "                        <th id=\"T_e70be204_eba7_11ed_82af_8cc681f6ccbdlevel0_row1\" class=\"row_heading level0 row1\" >sex</th>\n",
       "                        <td id=\"T_e70be204_eba7_11ed_82af_8cc681f6ccbdrow1_col0\" class=\"data row1 col0\" >0.020856</td>\n",
       "                        <td id=\"T_e70be204_eba7_11ed_82af_8cc681f6ccbdrow1_col1\" class=\"data row1 col1\" >1.000000</td>\n",
       "                        <td id=\"T_e70be204_eba7_11ed_82af_8cc681f6ccbdrow1_col2\" class=\"data row1 col2\" >-0.046371</td>\n",
       "                        <td id=\"T_e70be204_eba7_11ed_82af_8cc681f6ccbdrow1_col3\" class=\"data row1 col3\" >-0.017163</td>\n",
       "                        <td id=\"T_e70be204_eba7_11ed_82af_8cc681f6ccbdrow1_col4\" class=\"data row1 col4\" >-0.076185</td>\n",
       "                        <td id=\"T_e70be204_eba7_11ed_82af_8cc681f6ccbdrow1_col5\" class=\"data row1 col5\" >0.004588</td>\n",
       "                        <td id=\"T_e70be204_eba7_11ed_82af_8cc681f6ccbdrow1_col6\" class=\"data row1 col6\" >-0.057292</td>\n",
       "            </tr>\n",
       "            <tr>\n",
       "                        <th id=\"T_e70be204_eba7_11ed_82af_8cc681f6ccbdlevel0_row2\" class=\"row_heading level0 row2\" >bmi</th>\n",
       "                        <td id=\"T_e70be204_eba7_11ed_82af_8cc681f6ccbdrow2_col0\" class=\"data row2 col0\" >0.109272</td>\n",
       "                        <td id=\"T_e70be204_eba7_11ed_82af_8cc681f6ccbdrow2_col1\" class=\"data row2 col1\" >-0.046371</td>\n",
       "                        <td id=\"T_e70be204_eba7_11ed_82af_8cc681f6ccbdrow2_col2\" class=\"data row2 col2\" >1.000000</td>\n",
       "                        <td id=\"T_e70be204_eba7_11ed_82af_8cc681f6ccbdrow2_col3\" class=\"data row2 col3\" >0.012759</td>\n",
       "                        <td id=\"T_e70be204_eba7_11ed_82af_8cc681f6ccbdrow2_col4\" class=\"data row2 col4\" >0.003750</td>\n",
       "                        <td id=\"T_e70be204_eba7_11ed_82af_8cc681f6ccbdrow2_col5\" class=\"data row2 col5\" >-0.157566</td>\n",
       "                        <td id=\"T_e70be204_eba7_11ed_82af_8cc681f6ccbdrow2_col6\" class=\"data row2 col6\" >0.198341</td>\n",
       "            </tr>\n",
       "            <tr>\n",
       "                        <th id=\"T_e70be204_eba7_11ed_82af_8cc681f6ccbdlevel0_row3\" class=\"row_heading level0 row3\" >children</th>\n",
       "                        <td id=\"T_e70be204_eba7_11ed_82af_8cc681f6ccbdrow3_col0\" class=\"data row3 col0\" >0.042469</td>\n",
       "                        <td id=\"T_e70be204_eba7_11ed_82af_8cc681f6ccbdrow3_col1\" class=\"data row3 col1\" >-0.017163</td>\n",
       "                        <td id=\"T_e70be204_eba7_11ed_82af_8cc681f6ccbdrow3_col2\" class=\"data row3 col2\" >0.012759</td>\n",
       "                        <td id=\"T_e70be204_eba7_11ed_82af_8cc681f6ccbdrow3_col3\" class=\"data row3 col3\" >1.000000</td>\n",
       "                        <td id=\"T_e70be204_eba7_11ed_82af_8cc681f6ccbdrow3_col4\" class=\"data row3 col4\" >0.007673</td>\n",
       "                        <td id=\"T_e70be204_eba7_11ed_82af_8cc681f6ccbdrow3_col5\" class=\"data row3 col5\" >-0.016569</td>\n",
       "                        <td id=\"T_e70be204_eba7_11ed_82af_8cc681f6ccbdrow3_col6\" class=\"data row3 col6\" >0.067998</td>\n",
       "            </tr>\n",
       "            <tr>\n",
       "                        <th id=\"T_e70be204_eba7_11ed_82af_8cc681f6ccbdlevel0_row4\" class=\"row_heading level0 row4\" >smoker</th>\n",
       "                        <td id=\"T_e70be204_eba7_11ed_82af_8cc681f6ccbdrow4_col0\" class=\"data row4 col0\" >-0.025019</td>\n",
       "                        <td id=\"T_e70be204_eba7_11ed_82af_8cc681f6ccbdrow4_col1\" class=\"data row4 col1\" >-0.076185</td>\n",
       "                        <td id=\"T_e70be204_eba7_11ed_82af_8cc681f6ccbdrow4_col2\" class=\"data row4 col2\" >0.003750</td>\n",
       "                        <td id=\"T_e70be204_eba7_11ed_82af_8cc681f6ccbdrow4_col3\" class=\"data row4 col3\" >0.007673</td>\n",
       "                        <td id=\"T_e70be204_eba7_11ed_82af_8cc681f6ccbdrow4_col4\" class=\"data row4 col4\" >1.000000</td>\n",
       "                        <td id=\"T_e70be204_eba7_11ed_82af_8cc681f6ccbdrow4_col5\" class=\"data row4 col5\" >0.002181</td>\n",
       "                        <td id=\"T_e70be204_eba7_11ed_82af_8cc681f6ccbdrow4_col6\" class=\"data row4 col6\" >0.787251</td>\n",
       "            </tr>\n",
       "            <tr>\n",
       "                        <th id=\"T_e70be204_eba7_11ed_82af_8cc681f6ccbdlevel0_row5\" class=\"row_heading level0 row5\" >region</th>\n",
       "                        <td id=\"T_e70be204_eba7_11ed_82af_8cc681f6ccbdrow5_col0\" class=\"data row5 col0\" >-0.002127</td>\n",
       "                        <td id=\"T_e70be204_eba7_11ed_82af_8cc681f6ccbdrow5_col1\" class=\"data row5 col1\" >0.004588</td>\n",
       "                        <td id=\"T_e70be204_eba7_11ed_82af_8cc681f6ccbdrow5_col2\" class=\"data row5 col2\" >-0.157566</td>\n",
       "                        <td id=\"T_e70be204_eba7_11ed_82af_8cc681f6ccbdrow5_col3\" class=\"data row5 col3\" >-0.016569</td>\n",
       "                        <td id=\"T_e70be204_eba7_11ed_82af_8cc681f6ccbdrow5_col4\" class=\"data row5 col4\" >0.002181</td>\n",
       "                        <td id=\"T_e70be204_eba7_11ed_82af_8cc681f6ccbdrow5_col5\" class=\"data row5 col5\" >1.000000</td>\n",
       "                        <td id=\"T_e70be204_eba7_11ed_82af_8cc681f6ccbdrow5_col6\" class=\"data row5 col6\" >0.006208</td>\n",
       "            </tr>\n",
       "            <tr>\n",
       "                        <th id=\"T_e70be204_eba7_11ed_82af_8cc681f6ccbdlevel0_row6\" class=\"row_heading level0 row6\" >charges</th>\n",
       "                        <td id=\"T_e70be204_eba7_11ed_82af_8cc681f6ccbdrow6_col0\" class=\"data row6 col0\" >0.299008</td>\n",
       "                        <td id=\"T_e70be204_eba7_11ed_82af_8cc681f6ccbdrow6_col1\" class=\"data row6 col1\" >-0.057292</td>\n",
       "                        <td id=\"T_e70be204_eba7_11ed_82af_8cc681f6ccbdrow6_col2\" class=\"data row6 col2\" >0.198341</td>\n",
       "                        <td id=\"T_e70be204_eba7_11ed_82af_8cc681f6ccbdrow6_col3\" class=\"data row6 col3\" >0.067998</td>\n",
       "                        <td id=\"T_e70be204_eba7_11ed_82af_8cc681f6ccbdrow6_col4\" class=\"data row6 col4\" >0.787251</td>\n",
       "                        <td id=\"T_e70be204_eba7_11ed_82af_8cc681f6ccbdrow6_col5\" class=\"data row6 col5\" >0.006208</td>\n",
       "                        <td id=\"T_e70be204_eba7_11ed_82af_8cc681f6ccbdrow6_col6\" class=\"data row6 col6\" >1.000000</td>\n",
       "            </tr>\n",
       "    </tbody></table>"
      ],
      "text/plain": [
       "<pandas.io.formats.style.Styler at 0x241ec0e2fd0>"
      ]
     },
     "execution_count": 13,
     "metadata": {},
     "output_type": "execute_result"
    }
   ],
   "source": [
    "# Análisis de correlación\n",
    "corr = df.corr()\n",
    "corr.style.background_gradient()"
   ]
  },
  {
   "cell_type": "code",
   "execution_count": 14,
   "metadata": {},
   "outputs": [],
   "source": [
    "# Inicializamos el Modelo\n",
    "linear = linear_model.LinearRegression()"
   ]
  },
  {
   "cell_type": "code",
   "execution_count": 28,
   "metadata": {},
   "outputs": [],
   "source": [
    "# Preparamos la data\n",
    "data_x = df.drop(['sex', 'children', 'bmi', 'region', 'charges'], axis=1)\n",
    "data_y = df.charges"
   ]
  },
  {
   "cell_type": "code",
   "execution_count": 29,
   "metadata": {},
   "outputs": [],
   "source": [
    "train_x, test_x, train_y, test_y = train_test_split(data_x, data_y, test_size=0.1)"
   ]
  },
  {
   "cell_type": "code",
   "execution_count": 30,
   "metadata": {},
   "outputs": [
    {
     "data": {
      "text/plain": [
       "LinearRegression()"
      ]
     },
     "execution_count": 30,
     "metadata": {},
     "output_type": "execute_result"
    }
   ],
   "source": [
    "# Entrenamos el modelo\n",
    "linear.fit(train_x, train_y)"
   ]
  },
  {
   "cell_type": "code",
   "execution_count": 31,
   "metadata": {},
   "outputs": [
    {
     "name": "stdout",
     "output_type": "stream",
     "text": [
      "y = 270.39x + -2136.53\n"
     ]
    }
   ],
   "source": [
    "print(f'y = {round( linear.coef_[0], 2)}x + {round(linear.intercept_, 2)}')"
   ]
  },
  {
   "cell_type": "code",
   "execution_count": 32,
   "metadata": {},
   "outputs": [
    {
     "name": "stdout",
     "output_type": "stream",
     "text": [
      "Score: 79.51%\n"
     ]
    }
   ],
   "source": [
    "# Veamos la calificación\n",
    "print(f'Score: {round(linear.score(test_x, test_y), 4) * 100}%')"
   ]
  },
  {
   "cell_type": "code",
   "execution_count": 48,
   "metadata": {},
   "outputs": [],
   "source": [
    "# Vamos a predecir [[edad, esFumador]]\n",
    "age = 50\n",
    "is_smoker = 0 \n",
    "predicted = linear.predict([[age, is_smoker]])\n",
    "labels = {0:'no fuma', 1: 'si fuma'}"
   ]
  },
  {
   "cell_type": "code",
   "execution_count": 49,
   "metadata": {},
   "outputs": [
    {
     "name": "stdout",
     "output_type": "stream",
     "text": [
      "La persona de edad 50 y que no fuma tendrá un cargo apróximado de 11382.96 Libras\n"
     ]
    }
   ],
   "source": [
    "print(f'La persona de edad {age} y que {labels[is_smoker]} tendrá un cargo apróximado de {round(predicted[0], 2)} Libras')"
   ]
  }
 ],
 "metadata": {
  "kernelspec": {
   "display_name": "Python 3",
   "language": "python",
   "name": "python3"
  },
  "language_info": {
   "codemirror_mode": {
    "name": "ipython",
    "version": 3
   },
   "file_extension": ".py",
   "mimetype": "text/x-python",
   "name": "python",
   "nbconvert_exporter": "python",
   "pygments_lexer": "ipython3",
   "version": "3.8.5"
  },
  "orig_nbformat": 4
 },
 "nbformat": 4,
 "nbformat_minor": 2
}
