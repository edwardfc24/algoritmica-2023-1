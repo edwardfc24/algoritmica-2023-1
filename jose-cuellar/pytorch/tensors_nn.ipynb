{
 "cells": [
  {
   "cell_type": "code",
   "execution_count": 1,
   "metadata": {},
   "outputs": [],
   "source": [
    "import torch\n",
    "import torch.nn as nn\n",
    "import torch.nn.functional as F\n",
    "from sklearn.preprocessing import StandardScaler\n",
    "from sklearn.model_selection import train_test_split\n",
    "\n",
    "import numpy as np\n",
    "import pandas as pd\n",
    "import matplotlib.pyplot as plt"
   ]
  },
  {
   "cell_type": "markdown",
   "metadata": {},
   "source": [
    "https://www.kaggle.com/datasets/alexteboul/diabetes-health-indicators-dataset"
   ]
  },
  {
   "cell_type": "code",
   "execution_count": 2,
   "metadata": {},
   "outputs": [],
   "source": [
    "df = pd.read_csv('diabetes_012_health_indicators_BRFSS2015.csv')"
   ]
  },
  {
   "cell_type": "code",
   "execution_count": 3,
   "metadata": {},
   "outputs": [
    {
     "data": {
      "text/html": [
       "<div>\n",
       "<style scoped>\n",
       "    .dataframe tbody tr th:only-of-type {\n",
       "        vertical-align: middle;\n",
       "    }\n",
       "\n",
       "    .dataframe tbody tr th {\n",
       "        vertical-align: top;\n",
       "    }\n",
       "\n",
       "    .dataframe thead th {\n",
       "        text-align: right;\n",
       "    }\n",
       "</style>\n",
       "<table border=\"1\" class=\"dataframe\">\n",
       "  <thead>\n",
       "    <tr style=\"text-align: right;\">\n",
       "      <th></th>\n",
       "      <th>Diabetes_012</th>\n",
       "      <th>HighBP</th>\n",
       "      <th>HighChol</th>\n",
       "      <th>CholCheck</th>\n",
       "      <th>BMI</th>\n",
       "      <th>Smoker</th>\n",
       "      <th>Stroke</th>\n",
       "      <th>HeartDiseaseorAttack</th>\n",
       "      <th>PhysActivity</th>\n",
       "      <th>Fruits</th>\n",
       "      <th>...</th>\n",
       "      <th>AnyHealthcare</th>\n",
       "      <th>NoDocbcCost</th>\n",
       "      <th>GenHlth</th>\n",
       "      <th>MentHlth</th>\n",
       "      <th>PhysHlth</th>\n",
       "      <th>DiffWalk</th>\n",
       "      <th>Sex</th>\n",
       "      <th>Age</th>\n",
       "      <th>Education</th>\n",
       "      <th>Income</th>\n",
       "    </tr>\n",
       "  </thead>\n",
       "  <tbody>\n",
       "    <tr>\n",
       "      <th>0</th>\n",
       "      <td>0.0</td>\n",
       "      <td>1.0</td>\n",
       "      <td>1.0</td>\n",
       "      <td>1.0</td>\n",
       "      <td>40.0</td>\n",
       "      <td>1.0</td>\n",
       "      <td>0.0</td>\n",
       "      <td>0.0</td>\n",
       "      <td>0.0</td>\n",
       "      <td>0.0</td>\n",
       "      <td>...</td>\n",
       "      <td>1.0</td>\n",
       "      <td>0.0</td>\n",
       "      <td>5.0</td>\n",
       "      <td>18.0</td>\n",
       "      <td>15.0</td>\n",
       "      <td>1.0</td>\n",
       "      <td>0.0</td>\n",
       "      <td>9.0</td>\n",
       "      <td>4.0</td>\n",
       "      <td>3.0</td>\n",
       "    </tr>\n",
       "    <tr>\n",
       "      <th>1</th>\n",
       "      <td>0.0</td>\n",
       "      <td>0.0</td>\n",
       "      <td>0.0</td>\n",
       "      <td>0.0</td>\n",
       "      <td>25.0</td>\n",
       "      <td>1.0</td>\n",
       "      <td>0.0</td>\n",
       "      <td>0.0</td>\n",
       "      <td>1.0</td>\n",
       "      <td>0.0</td>\n",
       "      <td>...</td>\n",
       "      <td>0.0</td>\n",
       "      <td>1.0</td>\n",
       "      <td>3.0</td>\n",
       "      <td>0.0</td>\n",
       "      <td>0.0</td>\n",
       "      <td>0.0</td>\n",
       "      <td>0.0</td>\n",
       "      <td>7.0</td>\n",
       "      <td>6.0</td>\n",
       "      <td>1.0</td>\n",
       "    </tr>\n",
       "    <tr>\n",
       "      <th>2</th>\n",
       "      <td>0.0</td>\n",
       "      <td>1.0</td>\n",
       "      <td>1.0</td>\n",
       "      <td>1.0</td>\n",
       "      <td>28.0</td>\n",
       "      <td>0.0</td>\n",
       "      <td>0.0</td>\n",
       "      <td>0.0</td>\n",
       "      <td>0.0</td>\n",
       "      <td>1.0</td>\n",
       "      <td>...</td>\n",
       "      <td>1.0</td>\n",
       "      <td>1.0</td>\n",
       "      <td>5.0</td>\n",
       "      <td>30.0</td>\n",
       "      <td>30.0</td>\n",
       "      <td>1.0</td>\n",
       "      <td>0.0</td>\n",
       "      <td>9.0</td>\n",
       "      <td>4.0</td>\n",
       "      <td>8.0</td>\n",
       "    </tr>\n",
       "    <tr>\n",
       "      <th>3</th>\n",
       "      <td>0.0</td>\n",
       "      <td>1.0</td>\n",
       "      <td>0.0</td>\n",
       "      <td>1.0</td>\n",
       "      <td>27.0</td>\n",
       "      <td>0.0</td>\n",
       "      <td>0.0</td>\n",
       "      <td>0.0</td>\n",
       "      <td>1.0</td>\n",
       "      <td>1.0</td>\n",
       "      <td>...</td>\n",
       "      <td>1.0</td>\n",
       "      <td>0.0</td>\n",
       "      <td>2.0</td>\n",
       "      <td>0.0</td>\n",
       "      <td>0.0</td>\n",
       "      <td>0.0</td>\n",
       "      <td>0.0</td>\n",
       "      <td>11.0</td>\n",
       "      <td>3.0</td>\n",
       "      <td>6.0</td>\n",
       "    </tr>\n",
       "    <tr>\n",
       "      <th>4</th>\n",
       "      <td>0.0</td>\n",
       "      <td>1.0</td>\n",
       "      <td>1.0</td>\n",
       "      <td>1.0</td>\n",
       "      <td>24.0</td>\n",
       "      <td>0.0</td>\n",
       "      <td>0.0</td>\n",
       "      <td>0.0</td>\n",
       "      <td>1.0</td>\n",
       "      <td>1.0</td>\n",
       "      <td>...</td>\n",
       "      <td>1.0</td>\n",
       "      <td>0.0</td>\n",
       "      <td>2.0</td>\n",
       "      <td>3.0</td>\n",
       "      <td>0.0</td>\n",
       "      <td>0.0</td>\n",
       "      <td>0.0</td>\n",
       "      <td>11.0</td>\n",
       "      <td>5.0</td>\n",
       "      <td>4.0</td>\n",
       "    </tr>\n",
       "  </tbody>\n",
       "</table>\n",
       "<p>5 rows × 22 columns</p>\n",
       "</div>"
      ],
      "text/plain": [
       "   Diabetes_012  HighBP  HighChol  CholCheck   BMI  Smoker  Stroke  \\\n",
       "0           0.0     1.0       1.0        1.0  40.0     1.0     0.0   \n",
       "1           0.0     0.0       0.0        0.0  25.0     1.0     0.0   \n",
       "2           0.0     1.0       1.0        1.0  28.0     0.0     0.0   \n",
       "3           0.0     1.0       0.0        1.0  27.0     0.0     0.0   \n",
       "4           0.0     1.0       1.0        1.0  24.0     0.0     0.0   \n",
       "\n",
       "   HeartDiseaseorAttack  PhysActivity  Fruits  ...  AnyHealthcare  \\\n",
       "0                   0.0           0.0     0.0  ...            1.0   \n",
       "1                   0.0           1.0     0.0  ...            0.0   \n",
       "2                   0.0           0.0     1.0  ...            1.0   \n",
       "3                   0.0           1.0     1.0  ...            1.0   \n",
       "4                   0.0           1.0     1.0  ...            1.0   \n",
       "\n",
       "   NoDocbcCost  GenHlth  MentHlth  PhysHlth  DiffWalk  Sex   Age  Education  \\\n",
       "0          0.0      5.0      18.0      15.0       1.0  0.0   9.0        4.0   \n",
       "1          1.0      3.0       0.0       0.0       0.0  0.0   7.0        6.0   \n",
       "2          1.0      5.0      30.0      30.0       1.0  0.0   9.0        4.0   \n",
       "3          0.0      2.0       0.0       0.0       0.0  0.0  11.0        3.0   \n",
       "4          0.0      2.0       3.0       0.0       0.0  0.0  11.0        5.0   \n",
       "\n",
       "   Income  \n",
       "0     3.0  \n",
       "1     1.0  \n",
       "2     8.0  \n",
       "3     6.0  \n",
       "4     4.0  \n",
       "\n",
       "[5 rows x 22 columns]"
      ]
     },
     "execution_count": 3,
     "metadata": {},
     "output_type": "execute_result"
    }
   ],
   "source": [
    "df.head()"
   ]
  },
  {
   "cell_type": "code",
   "execution_count": 4,
   "metadata": {},
   "outputs": [],
   "source": [
    "data_x = df.drop(['Diabetes_012', 'Stroke', 'HeartDiseaseorAttack', 'AnyHealthcare', 'MentHlth', 'DiffWalk', 'NoDocbcCost', 'CholCheck', 'Smoker', 'PhysHlth', 'Education', 'Income'], axis=1)\n",
    "data_y = df['Diabetes_012']"
   ]
  },
  {
   "cell_type": "code",
   "execution_count": 5,
   "metadata": {},
   "outputs": [],
   "source": [
    "train_x, test_x, train_y, test_y = train_test_split(data_x, data_y, test_size=0.25)"
   ]
  },
  {
   "cell_type": "code",
   "execution_count": 6,
   "metadata": {},
   "outputs": [],
   "source": [
    "# Se convierten los datos a tensores\n",
    "train_x = torch.from_numpy(train_x.values).float().to('cpu')\n",
    "test_x = torch.from_numpy(test_x.values).float().to('cpu')\n",
    "train_y = torch.from_numpy(train_y.values).long().to('cpu')\n",
    "test_y = torch.from_numpy(test_y.values).long().to('cpu')\n",
    "\n",
    "train_y = train_y.view(-1, 1)\n",
    "test_y = test_y.view(-1, 1)"
   ]
  },
  {
   "cell_type": "code",
   "execution_count": 7,
   "metadata": {},
   "outputs": [],
   "source": [
    "class NeuralNetwork(nn.Module):\n",
    "    def __init__(self, topology):\n",
    "        super(NeuralNetwork, self).__init__()\n",
    "        self.topology = topology\n",
    "        self.layers = nn.ModuleList()\n",
    "        for i in range(len(topology) - 1):\n",
    "            self.layers.append(nn.Linear(topology[i], topology[i + 1]))\n",
    "\n",
    "    def forward(self, inputs):\n",
    "        predicted = inputs\n",
    "        for i in range(len(self.topology) - 1):\n",
    "            predicted = torch.sigmoid(input=self.layers[i](predicted))\n",
    "        return predicted"
   ]
  },
  {
   "cell_type": "markdown",
   "metadata": {},
   "source": [
    "### Definimos la topología de la red neuronal"
   ]
  },
  {
   "cell_type": "code",
   "execution_count": 8,
   "metadata": {},
   "outputs": [],
   "source": [
    "parameters = data_x.shape[1]\n",
    "output = 3\n",
    "topology = [parameters, 4, 7, 5, output]"
   ]
  },
  {
   "cell_type": "markdown",
   "metadata": {},
   "source": [
    "### Inicializamos la red neuronal"
   ]
  },
  {
   "cell_type": "code",
   "execution_count": 9,
   "metadata": {},
   "outputs": [
    {
     "name": "stdout",
     "output_type": "stream",
     "text": [
      "Epoch: 100, Loss: 0.9662\n",
      "Epoch: 100, Accuracy: 84.15326395458845%\n",
      "Epoch: 200, Loss: 0.8699\n",
      "Epoch: 200, Accuracy: 84.15326395458845%\n",
      "Epoch: 300, Loss: 0.8031\n",
      "Epoch: 300, Accuracy: 84.15326395458845%\n",
      "Epoch: 400, Loss: 0.7661\n",
      "Epoch: 400, Accuracy: 84.15326395458845%\n",
      "Epoch: 500, Loss: 0.7488\n",
      "Epoch: 500, Accuracy: 84.15326395458845%\n",
      "Epoch: 600, Loss: 0.7389\n",
      "Epoch: 600, Accuracy: 84.15326395458845%\n",
      "Epoch: 700, Loss: 0.7325\n",
      "Epoch: 700, Accuracy: 84.15326395458845%\n",
      "Epoch: 800, Loss: 0.7281\n",
      "Epoch: 800, Accuracy: 84.15326395458845%\n",
      "Epoch: 900, Loss: 0.7248\n",
      "Epoch: 900, Accuracy: 84.15326395458845%\n",
      "Epoch: 1000, Loss: 0.7224\n",
      "Epoch: 1000, Accuracy: 84.15326395458845%\n",
      "Epoch: 1100, Loss: 0.7205\n",
      "Epoch: 1100, Accuracy: 84.15326395458845%\n",
      "Epoch: 1200, Loss: 0.7189\n",
      "Epoch: 1200, Accuracy: 84.15326395458845%\n",
      "Epoch: 1300, Loss: 0.7177\n",
      "Epoch: 1300, Accuracy: 84.15326395458845%\n",
      "Epoch: 1400, Loss: 0.7166\n",
      "Epoch: 1400, Accuracy: 84.15326395458845%\n",
      "Epoch: 1500, Loss: 0.7158\n",
      "Epoch: 1500, Accuracy: 84.15326395458845%\n"
     ]
    }
   ],
   "source": [
    "lr = 0.001\n",
    "epochs = 1500\n",
    "status = 100\n",
    "\n",
    "net = NeuralNetwork(topology=topology)\n",
    "loss_fn = nn.CrossEntropyLoss()\n",
    "optimizer = torch.optim.Adam(params=net.parameters(), lr=lr)\n",
    "\n",
    "for epoch in range(1, epochs + 1):\n",
    "    y_predicted = net(train_x)\n",
    "    loss = loss_fn(y_predicted, train_y.squeeze())\n",
    "    loss.backward()\n",
    "    optimizer.step()\n",
    "    optimizer.zero_grad()\n",
    "\n",
    "    if epoch % status == 0:\n",
    "        print(f'Epoch: {epoch}, Loss: {round(loss.item(), 4)}')\n",
    "\n",
    "    with torch.no_grad():\n",
    "        y_predicted = net(test_x)\n",
    "        _, predicted_class = torch.max(y_predicted, dim=1)\n",
    "        correct = (predicted_class == test_y.squeeze()).sum().item()\n",
    "        accuracy = 100 * correct / len(test_y)\n",
    "        if epoch % status == 0:\n",
    "            print(f'Epoch: {epoch}, Accuracy: {accuracy}%')"
   ]
  },
  {
   "cell_type": "code",
   "execution_count": 10,
   "metadata": {},
   "outputs": [
    {
     "data": {
      "text/plain": [
       "Index(['HighBP', 'HighChol', 'BMI', 'PhysActivity', 'Fruits', 'Veggies',\n",
       "       'HvyAlcoholConsump', 'GenHlth', 'Sex', 'Age'],\n",
       "      dtype='object')"
      ]
     },
     "execution_count": 10,
     "metadata": {},
     "output_type": "execute_result"
    }
   ],
   "source": [
    "data_x.columns"
   ]
  },
  {
   "cell_type": "markdown",
   "metadata": {},
   "source": [
    "### Información de las columnas del dataset\n",
    "HighBP: Hipertensión alta,\n",
    "HighChol: Colesterol alto,\n",
    "BMI: Índice de masa corporal,\n",
    "PhysActivity: Actividad física,\n",
    "Fruits: Consumo de frutas,\n",
    "Veggies: Consumo de verduras,\n",
    "HvyAlcoholConsump: Consumo de alcohol,\n",
    "GenHlth: Salud general"
   ]
  },
  {
   "cell_type": "code",
   "execution_count": 11,
   "metadata": {},
   "outputs": [],
   "source": [
    "binary_labels = ['no', 'si']\n",
    "gen_hlth_labels = ['excelente', 'muy buena', 'buena', 'regular', 'mala']\n",
    "sex_labels = ['femenino', 'masculino']\n",
    "age_labels = ['18', '19', '20', '21', '22', '23', '24', 'entre 25 y 59', '60', '61', '62', '63', '80 o más']\n",
    "\n",
    "high_bp = 0\n",
    "high_chol = 1\n",
    "bmi = 42 # Debe ser un valor entre 12 y 98 preferiblemente\n",
    "phys_activity = 0\n",
    "fruits = 0\n",
    "veggies = 0\n",
    "hvy_alcohol_consump = 0\n",
    "gen_hlth = 4\n",
    "sex = 1\n",
    "age = 7\n",
    "\n",
    "labels = ['No diabetes', 'Prediabetes', 'Diabetes']\n",
    "data = torch.Tensor([high_bp, high_chol, bmi, phys_activity, fruits, veggies, hvy_alcohol_consump, gen_hlth, sex, age])\n",
    "prediction = net(data)"
   ]
  },
  {
   "cell_type": "code",
   "execution_count": 12,
   "metadata": {},
   "outputs": [
    {
     "name": "stdout",
     "output_type": "stream",
     "text": [
      "Una persona de sexo masculino de 24 años de edad, con un índice de masa corporal de 42, con una salud general regular, que no consume frutas, que no consume verduras, que realiza no actividad física y que no consume alcohol, pertece al grupo de: No diabetes\n"
     ]
    }
   ],
   "source": [
    "# Clasificación\n",
    "_, predicted_class = torch.max(prediction, dim=0)\n",
    "print(f'Una persona de sexo {sex_labels[sex]} de {age_labels[age - 1]} años de edad, con un índice de masa corporal de {bmi}, con una salud general {gen_hlth_labels[gen_hlth - 1]}, que {binary_labels[fruits]} consume frutas, que {binary_labels[veggies]} consume verduras, que {binary_labels[phys_activity]} realiza actividad física y que {binary_labels[hvy_alcohol_consump]} consume alcohol, pertece al grupo de: {labels[predicted_class]}')"
   ]
  }
 ],
 "metadata": {
  "kernelspec": {
   "display_name": "pytorch_env",
   "language": "python",
   "name": "python3"
  },
  "language_info": {
   "codemirror_mode": {
    "name": "ipython",
    "version": 3
   },
   "file_extension": ".py",
   "mimetype": "text/x-python",
   "name": "python",
   "nbconvert_exporter": "python",
   "pygments_lexer": "ipython3",
   "version": "3.11.3"
  },
  "orig_nbformat": 4
 },
 "nbformat": 4,
 "nbformat_minor": 2
}
